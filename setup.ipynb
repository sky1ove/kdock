{
 "cells": [
  {
   "cell_type": "code",
   "execution_count": 1,
   "id": "07043547-aeac-480e-bcca-82e6d0481e88",
   "metadata": {},
   "outputs": [
    {
     "name": "stdout",
     "output_type": "stream",
     "text": [
      "Obtaining file:///teamspace/studios/this_studio/kdock\n",
      "  Installing build dependencies ... \u001b[?25ldone\n",
      "\u001b[?25h  Checking if build backend supports build_editable ... \u001b[?25ldone\n",
      "\u001b[?25h  Getting requirements to build editable ... \u001b[?25ldone\n",
      "\u001b[?25h  Preparing editable metadata (pyproject.toml) ... \u001b[?25ldone\n",
      "\u001b[?25hBuilding wheels for collected packages: kdock\n",
      "  Building editable for kdock (pyproject.toml) ... \u001b[?25ldone\n",
      "\u001b[?25h  Created wheel for kdock: filename=kdock-0.0.1-0.editable-py3-none-any.whl size=7929 sha256=f9ba0c3f016d35006e2810e821139ca7de0282c22ce0a704a2c03decf8838cf1\n",
      "  Stored in directory: /tmp/pip-ephem-wheel-cache-evmi104g/wheels/4e/1b/dd/00ea24812903f690974be5d34a6440346823eb1fd314679ea1\n",
      "Successfully built kdock\n",
      "Installing collected packages: kdock\n",
      "Successfully installed kdock-0.0.1\n",
      "\n",
      "\u001b[1m[\u001b[0m\u001b[34;49mnotice\u001b[0m\u001b[1;39;49m]\u001b[0m\u001b[39;49m A new release of pip is available: \u001b[0m\u001b[31;49m24.1.2\u001b[0m\u001b[39;49m -> \u001b[0m\u001b[32;49m25.0.1\u001b[0m\n",
      "\u001b[1m[\u001b[0m\u001b[34;49mnotice\u001b[0m\u001b[1;39;49m]\u001b[0m\u001b[39;49m To update, run: \u001b[0m\u001b[32;49mpip install --upgrade pip\u001b[0m\n",
      "Note: you may need to restart the kernel to use updated packages.\n"
     ]
    }
   ],
   "source": [
    "pip install -e ."
   ]
  }
 ],
 "metadata": {
  "kernelspec": {
   "display_name": "Python 3",
   "language": "python",
   "name": "python3"
  },
  "language_info": {
   "codemirror_mode": {
    "name": "ipython",
    "version": 3
   },
   "file_extension": ".py",
   "mimetype": "text/x-python",
   "name": "python",
   "nbconvert_exporter": "python",
   "pygments_lexer": "ipython3",
   "version": "3.10.10"
  }
 },
 "nbformat": 4,
 "nbformat_minor": 5
}
