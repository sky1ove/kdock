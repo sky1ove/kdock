{
 "cells": [
  {
   "cell_type": "code",
   "execution_count": 1,
   "id": "07043547-aeac-480e-bcca-82e6d0481e88",
   "metadata": {},
   "outputs": [
    {
     "name": "stdout",
     "output_type": "stream",
     "text": [
      "\u001b[33mDEPRECATION: Loading egg at /system/conda/miniconda3/envs/cloudspace/lib/python3.11/site-packages/setuptools-79.0.0-py3.11.egg is deprecated. pip 25.1 will enforce this behaviour change. A possible replacement is to use pip for package installation. Discussion can be found at https://github.com/pypa/pip/issues/12330\u001b[0m\u001b[33m\n",
      "\u001b[0m\u001b[33mDEPRECATION: Loading egg at /system/conda/miniconda3/envs/cloudspace/lib/python3.11/site-packages/pxdock-0.0.1-py3.11-linux-x86_64.egg is deprecated. pip 25.1 will enforce this behaviour change. A possible replacement is to use pip for package installation. Discussion can be found at https://github.com/pypa/pip/issues/12330\u001b[0m\u001b[33m\n",
      "\u001b[0mObtaining file:///teamspace/studios/this_studio/kdock\n",
      "  Installing build dependencies ... \u001b[?25ldone\n",
      "\u001b[?25h  Checking if build backend supports build_editable ... \u001b[?25ldone\n",
      "\u001b[?25h  Getting requirements to build editable ... \u001b[?25ldone\n",
      "\u001b[?25h  Preparing editable metadata (pyproject.toml) ... \u001b[?25ldone\n",
      "\u001b[?25hRequirement already satisfied: fastcore in /home/zeus/miniconda3/envs/cloudspace/lib/python3.11/site-packages (from kdock==0.0.1) (1.8.1)\n",
      "Requirement already satisfied: pandas in /home/zeus/miniconda3/envs/cloudspace/lib/python3.11/site-packages (from kdock==0.0.1) (2.2.3)\n",
      "Requirement already satisfied: rdkit in /home/zeus/miniconda3/envs/cloudspace/lib/python3.11/site-packages (from kdock==0.0.1) (2023.9.5)\n",
      "Requirement already satisfied: seaborn in /home/zeus/miniconda3/envs/cloudspace/lib/python3.11/site-packages (from kdock==0.0.1) (0.13.2)\n",
      "Requirement already satisfied: scikit-learn in /home/zeus/miniconda3/envs/cloudspace/lib/python3.11/site-packages (from kdock==0.0.1) (1.6.1)\n",
      "Requirement already satisfied: umap-learn in /home/zeus/miniconda3/envs/cloudspace/lib/python3.11/site-packages (from kdock==0.0.1) (0.5.7)\n",
      "Requirement already satisfied: py3Dmol in /home/zeus/miniconda3/envs/cloudspace/lib/python3.11/site-packages (from kdock==0.0.1) (2.4.2)\n",
      "Requirement already satisfied: biopython in /home/zeus/miniconda3/envs/cloudspace/lib/python3.11/site-packages (from kdock==0.0.1) (1.85)\n",
      "Requirement already satisfied: tqdm in /home/zeus/miniconda3/envs/cloudspace/lib/python3.11/site-packages (from kdock==0.0.1) (4.66.4)\n",
      "Requirement already satisfied: nbdev in /home/zeus/miniconda3/envs/cloudspace/lib/python3.11/site-packages (from kdock==0.0.1) (2.4.2)\n",
      "Requirement already satisfied: numpy in /home/zeus/miniconda3/envs/cloudspace/lib/python3.11/site-packages (from biopython->kdock==0.0.1) (1.26.2)\n",
      "Requirement already satisfied: packaging in /home/zeus/miniconda3/envs/cloudspace/lib/python3.11/site-packages (from fastcore->kdock==0.0.1) (24.2)\n",
      "Requirement already satisfied: execnb>=0.1.12 in /home/zeus/miniconda3/envs/cloudspace/lib/python3.11/site-packages (from nbdev->kdock==0.0.1) (0.1.14)\n",
      "Requirement already satisfied: astunparse in /home/zeus/miniconda3/envs/cloudspace/lib/python3.11/site-packages (from nbdev->kdock==0.0.1) (1.6.3)\n",
      "Requirement already satisfied: ghapi>=1.0.3 in /home/zeus/miniconda3/envs/cloudspace/lib/python3.11/site-packages (from nbdev->kdock==0.0.1) (1.0.6)\n",
      "Requirement already satisfied: watchdog in /home/zeus/miniconda3/envs/cloudspace/lib/python3.11/site-packages (from nbdev->kdock==0.0.1) (6.0.0)\n",
      "Requirement already satisfied: asttokens in /home/zeus/miniconda3/envs/cloudspace/lib/python3.11/site-packages (from nbdev->kdock==0.0.1) (3.0.0)\n",
      "Requirement already satisfied: setuptools in /system/conda/miniconda3/envs/cloudspace/lib/python3.11/site-packages/setuptools-79.0.0-py3.11.egg (from nbdev->kdock==0.0.1) (79.0.0)\n",
      "Requirement already satisfied: PyYAML in /home/zeus/miniconda3/envs/cloudspace/lib/python3.11/site-packages (from nbdev->kdock==0.0.1) (6.0.2)\n",
      "Requirement already satisfied: python-dateutil>=2.8.2 in /home/zeus/miniconda3/envs/cloudspace/lib/python3.11/site-packages (from pandas->kdock==0.0.1) (2.9.0.post0)\n",
      "Requirement already satisfied: pytz>=2020.1 in /home/zeus/miniconda3/envs/cloudspace/lib/python3.11/site-packages (from pandas->kdock==0.0.1) (2025.2)\n",
      "Requirement already satisfied: tzdata>=2022.7 in /home/zeus/miniconda3/envs/cloudspace/lib/python3.11/site-packages (from pandas->kdock==0.0.1) (2025.2)\n",
      "Requirement already satisfied: Pillow in /home/zeus/miniconda3/envs/cloudspace/lib/python3.11/site-packages (from rdkit->kdock==0.0.1) (11.1.0)\n",
      "Requirement already satisfied: scipy>=1.6.0 in /home/zeus/miniconda3/envs/cloudspace/lib/python3.11/site-packages (from scikit-learn->kdock==0.0.1) (1.15.2)\n",
      "Requirement already satisfied: joblib>=1.2.0 in /home/zeus/miniconda3/envs/cloudspace/lib/python3.11/site-packages (from scikit-learn->kdock==0.0.1) (1.4.2)\n",
      "Requirement already satisfied: threadpoolctl>=3.1.0 in /home/zeus/miniconda3/envs/cloudspace/lib/python3.11/site-packages (from scikit-learn->kdock==0.0.1) (3.6.0)\n",
      "Requirement already satisfied: matplotlib!=3.6.1,>=3.4 in /home/zeus/miniconda3/envs/cloudspace/lib/python3.11/site-packages (from seaborn->kdock==0.0.1) (3.8.3)\n",
      "Requirement already satisfied: numba>=0.51.2 in /home/zeus/miniconda3/envs/cloudspace/lib/python3.11/site-packages (from umap-learn->kdock==0.0.1) (0.61.2)\n",
      "Requirement already satisfied: pynndescent>=0.5 in /home/zeus/miniconda3/envs/cloudspace/lib/python3.11/site-packages (from umap-learn->kdock==0.0.1) (0.5.13)\n",
      "Requirement already satisfied: ipython in /home/zeus/miniconda3/envs/cloudspace/lib/python3.11/site-packages (from execnb>=0.1.12->nbdev->kdock==0.0.1) (9.1.0)\n",
      "Requirement already satisfied: contourpy>=1.0.1 in /home/zeus/miniconda3/envs/cloudspace/lib/python3.11/site-packages (from matplotlib!=3.6.1,>=3.4->seaborn->kdock==0.0.1) (1.3.2)\n",
      "Requirement already satisfied: cycler>=0.10 in /home/zeus/miniconda3/envs/cloudspace/lib/python3.11/site-packages (from matplotlib!=3.6.1,>=3.4->seaborn->kdock==0.0.1) (0.12.1)\n",
      "Requirement already satisfied: fonttools>=4.22.0 in /home/zeus/miniconda3/envs/cloudspace/lib/python3.11/site-packages (from matplotlib!=3.6.1,>=3.4->seaborn->kdock==0.0.1) (4.57.0)\n",
      "Requirement already satisfied: kiwisolver>=1.3.1 in /home/zeus/miniconda3/envs/cloudspace/lib/python3.11/site-packages (from matplotlib!=3.6.1,>=3.4->seaborn->kdock==0.0.1) (1.4.7)\n",
      "Requirement already satisfied: pyparsing>=2.3.1 in /home/zeus/miniconda3/envs/cloudspace/lib/python3.11/site-packages (from matplotlib!=3.6.1,>=3.4->seaborn->kdock==0.0.1) (3.2.3)\n",
      "Requirement already satisfied: llvmlite<0.45,>=0.44.0dev0 in /home/zeus/miniconda3/envs/cloudspace/lib/python3.11/site-packages (from numba>=0.51.2->umap-learn->kdock==0.0.1) (0.44.0)\n",
      "Requirement already satisfied: six>=1.5 in /home/zeus/miniconda3/envs/cloudspace/lib/python3.11/site-packages (from python-dateutil>=2.8.2->pandas->kdock==0.0.1) (1.17.0)\n",
      "Requirement already satisfied: wheel<1.0,>=0.23.0 in /home/zeus/miniconda3/envs/cloudspace/lib/python3.11/site-packages (from astunparse->nbdev->kdock==0.0.1) (0.45.1)\n",
      "Requirement already satisfied: decorator in /home/zeus/miniconda3/envs/cloudspace/lib/python3.11/site-packages (from ipython->execnb>=0.1.12->nbdev->kdock==0.0.1) (5.1.1)\n",
      "Requirement already satisfied: ipython-pygments-lexers in /home/zeus/miniconda3/envs/cloudspace/lib/python3.11/site-packages (from ipython->execnb>=0.1.12->nbdev->kdock==0.0.1) (1.1.1)\n",
      "Requirement already satisfied: jedi>=0.16 in /home/zeus/miniconda3/envs/cloudspace/lib/python3.11/site-packages (from ipython->execnb>=0.1.12->nbdev->kdock==0.0.1) (0.19.2)\n",
      "Requirement already satisfied: matplotlib-inline in /home/zeus/miniconda3/envs/cloudspace/lib/python3.11/site-packages (from ipython->execnb>=0.1.12->nbdev->kdock==0.0.1) (0.1.6)\n",
      "Requirement already satisfied: pexpect>4.3 in /home/zeus/miniconda3/envs/cloudspace/lib/python3.11/site-packages (from ipython->execnb>=0.1.12->nbdev->kdock==0.0.1) (4.8.0)\n",
      "Requirement already satisfied: prompt_toolkit<3.1.0,>=3.0.41 in /home/zeus/miniconda3/envs/cloudspace/lib/python3.11/site-packages (from ipython->execnb>=0.1.12->nbdev->kdock==0.0.1) (3.0.43)\n",
      "Requirement already satisfied: pygments>=2.4.0 in /home/zeus/miniconda3/envs/cloudspace/lib/python3.11/site-packages (from ipython->execnb>=0.1.12->nbdev->kdock==0.0.1) (2.19.1)\n",
      "Requirement already satisfied: stack_data in /home/zeus/miniconda3/envs/cloudspace/lib/python3.11/site-packages (from ipython->execnb>=0.1.12->nbdev->kdock==0.0.1) (0.2.0)\n",
      "Requirement already satisfied: traitlets>=5.13.0 in /home/zeus/miniconda3/envs/cloudspace/lib/python3.11/site-packages (from ipython->execnb>=0.1.12->nbdev->kdock==0.0.1) (5.14.3)\n",
      "Requirement already satisfied: typing_extensions>=4.6 in /home/zeus/miniconda3/envs/cloudspace/lib/python3.11/site-packages (from ipython->execnb>=0.1.12->nbdev->kdock==0.0.1) (4.13.2)\n",
      "Requirement already satisfied: parso<0.9.0,>=0.8.4 in /home/zeus/miniconda3/envs/cloudspace/lib/python3.11/site-packages (from jedi>=0.16->ipython->execnb>=0.1.12->nbdev->kdock==0.0.1) (0.8.4)\n",
      "Requirement already satisfied: ptyprocess>=0.5 in /home/zeus/miniconda3/envs/cloudspace/lib/python3.11/site-packages (from pexpect>4.3->ipython->execnb>=0.1.12->nbdev->kdock==0.0.1) (0.7.0)\n",
      "Requirement already satisfied: wcwidth in /home/zeus/miniconda3/envs/cloudspace/lib/python3.11/site-packages (from prompt_toolkit<3.1.0,>=3.0.41->ipython->execnb>=0.1.12->nbdev->kdock==0.0.1) (0.2.5)\n",
      "Requirement already satisfied: executing in /home/zeus/miniconda3/envs/cloudspace/lib/python3.11/site-packages (from stack_data->ipython->execnb>=0.1.12->nbdev->kdock==0.0.1) (0.8.3)\n",
      "Requirement already satisfied: pure-eval in /home/zeus/miniconda3/envs/cloudspace/lib/python3.11/site-packages (from stack_data->ipython->execnb>=0.1.12->nbdev->kdock==0.0.1) (0.2.2)\n",
      "Building wheels for collected packages: kdock\n",
      "  Building editable for kdock (pyproject.toml) ... \u001b[?25ldone\n",
      "\u001b[?25h  Created wheel for kdock: filename=kdock-0.0.1-0.editable-py3-none-any.whl size=7750 sha256=a225ef5abd7e498b4e0c95c597d7771cfb60b6e4a6ac33051cd2e6cff80b1577\n",
      "  Stored in directory: /tmp/pip-ephem-wheel-cache-k05rs1nv/wheels/81/1f/bc/1721f45a4edfeb461b00b73c40cf4fe3580e2b9ae950faf91b\n",
      "Successfully built kdock\n",
      "Installing collected packages: kdock\n",
      "  Attempting uninstall: kdock\n",
      "    Found existing installation: kdock 0.0.1\n",
      "    Uninstalling kdock-0.0.1:\n",
      "      Successfully uninstalled kdock-0.0.1\n",
      "Successfully installed kdock-0.0.1\n",
      "Note: you may need to restart the kernel to use updated packages.\n"
     ]
    }
   ],
   "source": [
    " pip install -e \".[dev]\""
   ]
  },
  {
   "cell_type": "code",
   "execution_count": null,
   "id": "94c291e8-3785-4788-947b-8e3dfe6efc7a",
   "metadata": {},
   "outputs": [],
   "source": []
  }
 ],
 "metadata": {
  "kernelspec": {
   "display_name": "Python 3",
   "language": "python",
   "name": "python3"
  },
  "language_info": {
   "codemirror_mode": {
    "name": "ipython",
    "version": 3
   },
   "file_extension": ".py",
   "mimetype": "text/x-python",
   "name": "python",
   "nbconvert_exporter": "python",
   "pygments_lexer": "ipython3",
   "version": "3.11.12"
  }
 },
 "nbformat": 4,
 "nbformat_minor": 5
}
