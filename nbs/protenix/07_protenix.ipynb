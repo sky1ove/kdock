{
 "cells": [
  {
   "cell_type": "markdown",
   "id": "da487de1-0a8f-40af-bd63-1246d2525dc1",
   "metadata": {},
   "source": [
    "# Protenix"
   ]
  },
  {
   "cell_type": "markdown",
   "id": "a16b39c0-2ff9-4bed-8e42-6c6078a18148",
   "metadata": {},
   "source": [
    "This is for protein-ligand task using Protenix github repository."
   ]
  },
  {
   "cell_type": "markdown",
   "id": "0cbb9077-1036-4180-960f-f8e1a0a9edb7",
   "metadata": {},
   "source": [
    "## Install"
   ]
  },
  {
   "cell_type": "markdown",
   "id": "678e0c16-1519-487d-ba8f-4c292ab3b124",
   "metadata": {},
   "source": [
    "```bash\n",
    "git clone https://github.com/bytedance/Protenix.git\n",
    "cd Protenix\n",
    "pip install .\n",
    "```"
   ]
  },
  {
   "cell_type": "markdown",
   "id": "1e696832-6729-4d55-85e8-f62fa2f34d0d",
   "metadata": {},
   "source": [
    "## Setup"
   ]
  },
  {
   "cell_type": "code",
   "execution_count": null,
   "id": "45b10a9f-4e19-4a38-8ae8-0b85640c0d04",
   "metadata": {},
   "outputs": [],
   "source": [
    "#| default_exp px.core"
   ]
  },
  {
   "cell_type": "code",
   "execution_count": null,
   "id": "b64cf79f-8926-4928-81c0-45d90ffcf425",
   "metadata": {},
   "outputs": [],
   "source": [
    "#| export\n",
    "import json\n",
    "from pathlib import Path"
   ]
  },
  {
   "cell_type": "markdown",
   "id": "191f78bb-8e41-424a-9aa8-65fccc66be38",
   "metadata": {},
   "source": [
    "## Single job json"
   ]
  },
  {
   "cell_type": "markdown",
   "id": "f1f62a5a-bf60-41f6-9849-9f83e63ca931",
   "metadata": {},
   "source": [
    "Run the protein sequence on server to get msa folder that contains pairing.a3m and unpairing.a3m\n",
    "\n",
    "Use the folder as the `msa_dir`"
   ]
  },
  {
   "cell_type": "code",
   "execution_count": null,
   "id": "d883059f-1b5c-4abc-af97-f8be1f24e2c9",
   "metadata": {},
   "outputs": [],
   "source": [
    "#| export\n",
    "def get_single_job(job_name, protein_seq, msa_dir, SMILES=None,CCD=None):\n",
    "    \"Get protenix json format of protein and ligand.\"\n",
    "    \n",
    "    if SMILES and CCD:\n",
    "        raise ValueError(\"Please provide only one of SMILES or CCD, not both.\")\n",
    "    if not SMILES and not CCD:\n",
    "        raise ValueError(\"You must provide either SMILES or CCD.\")\n",
    "\n",
    "    ligand_value = SMILES if SMILES else f\"CCD_{CCD}\"\n",
    "    \n",
    "    return {\n",
    "        \"name\": job_name,\n",
    "        \"sequences\": [\n",
    "            {\n",
    "                \"proteinChain\": {\n",
    "                    \"count\": 1,\n",
    "                    \"sequence\": protein_seq,\n",
    "                    \"msa\": {\n",
    "                        \"precomputed_msa_dir\": msa_dir,\n",
    "                        \"pairing_db\": \"uniref100\"\n",
    "                    }\n",
    "                }\n",
    "            },\n",
    "            {\n",
    "                \"ligand\": {\n",
    "                    \"count\": 1,\n",
    "                    \"ligand\": ligand_value\n",
    "                }\n",
    "            }\n",
    "        ]\n",
    "    }"
   ]
  },
  {
   "cell_type": "code",
   "execution_count": null,
   "id": "b0165630-4502-4265-90fe-0bf24d6fac0c",
   "metadata": {},
   "outputs": [
    {
     "data": {
      "text/plain": [
       "{'name': 'job_name',\n",
       " 'sequences': [{'proteinChain': {'count': 1,\n",
       "    'sequence': 'AAA',\n",
       "    'msa': {'precomputed_msa_dir': './msa', 'pairing_db': 'uniref100'}}},\n",
       "  {'ligand': {'count': 1, 'ligand': 'CCC'}}]}"
      ]
     },
     "execution_count": null,
     "metadata": {},
     "output_type": "execute_result"
    }
   ],
   "source": [
    "get_single_job('job_name', 'AAA', './msa', SMILES='CCC',CCD=None)"
   ]
  },
  {
   "cell_type": "code",
   "execution_count": null,
   "id": "42c3b0ef-c991-401f-9c8c-a1e0dbf5ed2d",
   "metadata": {},
   "outputs": [],
   "source": [
    "#| export\n",
    "def get_single_protein_ligand_json(job_name, \n",
    "                                   protein_seq, \n",
    "                                   msa_dir, \n",
    "                                   SMILES=None, \n",
    "                                   CCD=None, \n",
    "                                   json_path=None):\n",
    "    \"Generate json input for one protein-ligand job.\"\n",
    "    data = [get_single_job(job_name, protein_seq, msa_dir, SMILES=SMILES, CCD=CCD)]\n",
    "\n",
    "    if json_path:\n",
    "        save_path = Path(json_path)\n",
    "        save_path.parent.mkdir(parents=True, exist_ok=True)\n",
    "        with save_path.open(\"w\") as f:\n",
    "            json.dump(data, f, indent=4)\n",
    "        print(f\"JSON saved to {save_path}\")\n",
    "\n",
    "    return data"
   ]
  },
  {
   "cell_type": "code",
   "execution_count": null,
   "id": "574fd453-bcce-4253-b413-1982270b641a",
   "metadata": {},
   "outputs": [],
   "source": [
    "# _ = get_single_protein_ligand_json('kras_g12d_mrtx',\n",
    "#                                  g12d,\n",
    "#                                  msa_dir='kras_g12d_msa',\n",
    "#                                  SMILES=\"C#CC1=C(C=CC2=CC(=CC(=C21)C3=NC=C4C(=C3F)N=C(N=C4N5CC6CCC(C5)N6)OC[C@@]78CCCN7C[C@@H](C8)F)O)F\",\n",
    "#                                  json_path='g12d_mrtx.json'\n",
    "#                                 )"
   ]
  },
  {
   "cell_type": "markdown",
   "id": "b806eb75-9a2d-43dd-b3c7-c185b4acce17",
   "metadata": {},
   "source": [
    "Use the json as input file for protenix"
   ]
  },
  {
   "cell_type": "markdown",
   "id": "c48b8454-a1b6-454f-8d6c-47e46bf6eba1",
   "metadata": {},
   "source": [
    "```bash\n",
    "protenix predict --input input.json --out_dir  ./output --seeds 101\n",
    "```"
   ]
  },
  {
   "cell_type": "markdown",
   "id": "b8cab083-4110-494f-a919-4cd2e4d3bc1c",
   "metadata": {},
   "source": [
    "## Different protein-ligand pairs in df"
   ]
  },
  {
   "cell_type": "code",
   "execution_count": null,
   "id": "129512dd-a788-4593-9986-1b1f2c27d4b8",
   "metadata": {},
   "outputs": [],
   "source": [
    "#| export\n",
    "def get_protein_ligand_df_json(df,\n",
    "                               id_col,\n",
    "                               seq_col, \n",
    "                               msa_col, \n",
    "                               smi_col=None, \n",
    "                               ccd_col=None, \n",
    "                               save_json=None):\n",
    "    \"Get json file of protein and ligand in a dataframe.\"\n",
    "    \n",
    "    if smi_col and ccd_col:\n",
    "        raise ValueError(\"Provide only one of smi_col or ccd_col, not both.\")\n",
    "    if not smi_col and not ccd_col:\n",
    "        raise ValueError(\"You must provide either smi_col or ccd_col.\")\n",
    "\n",
    "    use_smiles = smi_col is not None\n",
    "\n",
    "    def build_job(row):\n",
    "        job_name = row[id_col]\n",
    "        protein_seq = row[seq_col]\n",
    "        msa_dir = row[msa_col]\n",
    "        SMILES = row[smi_col] if use_smiles else None\n",
    "        CCD = None if use_smiles else row[ccd_col]\n",
    "        return get_single_job(job_name, protein_seq, msa_dir, SMILES=SMILES, CCD=CCD)\n",
    "\n",
    "    all_jobs = df.apply(build_job, axis=1).tolist()\n",
    "\n",
    "    if save_json:\n",
    "        save_path = Path(save_json)\n",
    "        save_path.parent.mkdir(parents=True, exist_ok=True)\n",
    "        with save_path.open(\"w\") as f:\n",
    "            json.dump(all_jobs, f, indent=4)\n",
    "        print(f\"JSON saved to {save_path}\")\n",
    "\n",
    "    return all_jobs\n"
   ]
  },
  {
   "cell_type": "code",
   "execution_count": null,
   "id": "8169280f-a396-49c4-a571-c6c507a343e8",
   "metadata": {},
   "outputs": [],
   "source": [
    "# _ = get_protein_ligand_df_json(df,\n",
    "                               # id_col='ID',\n",
    "                               # seq_col='sequence', \n",
    "                               # msa_col='msa_dir', \n",
    "                               # smi_col=\"SMILES\", \n",
    "                               # ccd_col=None, \n",
    "                               # save_json=\"input.json\")"
   ]
  },
  {
   "cell_type": "markdown",
   "id": "95f51b70-d2ed-41a3-aa95-6036be47d39e",
   "metadata": {},
   "source": [
    "## Virtual screening\n",
    "> single protein against multiple ligands"
   ]
  },
  {
   "cell_type": "code",
   "execution_count": null,
   "id": "b6ed9bf7-4a0b-4230-bb89-89fb30f4025e",
   "metadata": {},
   "outputs": [],
   "source": [
    "#| export\n",
    "def get_virtual_screening_json(df, \n",
    "                               protein_seq, \n",
    "                               msa_dir, \n",
    "                               id_col,\n",
    "                               smi_col=None, \n",
    "                               ccd_col=None, \n",
    "                               save_json=None):\n",
    "    \"Get json file of single protein against multiple SMILES in a dataframe.\"\n",
    "    if smi_col and ccd_col:\n",
    "        raise ValueError(\"Provide only one of smi_col or ccd_col, not both.\")\n",
    "    if not smi_col and not ccd_col:\n",
    "        raise ValueError(\"You must provide either smi_col or ccd_col.\")\n",
    "\n",
    "    use_smiles = smi_col is not None\n",
    "\n",
    "    def build_job(row):\n",
    "        job_name = row[id_col]\n",
    "        SMILES = row[smi_col] if use_smiles else None\n",
    "        CCD = None if use_smiles else row[ccd_col]\n",
    "        return get_single_job(job_name, protein_seq, msa_dir, SMILES=SMILES, CCD=CCD)\n",
    "\n",
    "    all_jobs = df.apply(build_job, axis=1).tolist()\n",
    "\n",
    "    if save_json:\n",
    "        save_path = Path(save_json)\n",
    "        save_path.parent.mkdir(parents=True, exist_ok=True)\n",
    "        with save_path.open(\"w\") as f:\n",
    "            json.dump(all_jobs, f, indent=4)\n",
    "        print(f\"JSON saved to {save_path}\")\n",
    "\n",
    "    return all_jobs"
   ]
  },
  {
   "cell_type": "code",
   "execution_count": null,
   "id": "053c66ff-5691-472c-a96b-bd0a319466ab",
   "metadata": {},
   "outputs": [],
   "source": [
    "# _ = get_virtual_screening_json(df,\n",
    "#                                g12d_seq,\n",
    "#                                'kras_g12d_msa',\n",
    "#                                id_col='ID',\n",
    "#                                smi_col='SMILES',\n",
    "#                                save_json='kras_g12d_input.json')"
   ]
  },
  {
   "cell_type": "markdown",
   "id": "238487df-2213-4fb0-b6fd-e2aa17a970d1",
   "metadata": {},
   "source": [
    "## End"
   ]
  },
  {
   "cell_type": "code",
   "execution_count": null,
   "id": "5fc275b4-4f8f-4fb2-adb3-b9cd59be4bdc",
   "metadata": {},
   "outputs": [],
   "source": [
    "#| hide\n",
    "import nbdev; nbdev.nbdev_export()"
   ]
  },
  {
   "cell_type": "code",
   "execution_count": null,
   "id": "a92d5358-d2b7-45bd-8f2f-eff3c9d603d0",
   "metadata": {},
   "outputs": [],
   "source": []
  }
 ],
 "metadata": {
  "kernelspec": {
   "display_name": "python3",
   "language": "python",
   "name": "python3"
  }
 },
 "nbformat": 4,
 "nbformat_minor": 5
}
