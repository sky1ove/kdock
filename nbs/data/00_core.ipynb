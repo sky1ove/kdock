{
 "cells": [
  {
   "cell_type": "markdown",
   "metadata": {},
   "source": [
    "# Core"
   ]
  },
  {
   "cell_type": "markdown",
   "metadata": {},
   "source": [
    "## Setup"
   ]
  },
  {
   "cell_type": "code",
   "execution_count": null,
   "metadata": {},
   "outputs": [],
   "source": [
    "#| default_exp data.core"
   ]
  },
  {
   "cell_type": "code",
   "execution_count": null,
   "metadata": {},
   "outputs": [],
   "source": [
    "#| export\n",
    "# basics\n",
    "import requests, subprocess,shutil,zipfile\n",
    "import pandas as pd, numpy as np\n",
    "from functools import lru_cache\n",
    "from pathlib import Path\n",
    "from fastcore.meta import delegates\n",
    "# from tqdm import tqdm\n",
    "# tqdm.pandas()\n",
    "from tqdm.contrib.concurrent import process_map\n",
    "pd.set_option('mode.chained_assignment', 'raise') # raise error when overwriting\n",
    "\n",
    "# rdkit\n",
    "from rdkit import Chem,DataStructs\n",
    "from rdkit.ML.Descriptors import MoleculeDescriptors\n",
    "from rdkit.Chem import Draw,Descriptors,Descriptors3D, AllChem,rdFingerprintGenerator\n",
    "\n",
    "from sklearn.preprocessing import StandardScaler\n",
    "from sklearn import set_config\n",
    "set_config(transform_output=\"pandas\")\n"
   ]
  },
  {
   "cell_type": "markdown",
   "metadata": {},
   "source": [
    "## Uniprot sequence"
   ]
  },
  {
   "cell_type": "code",
   "execution_count": null,
   "metadata": {},
   "outputs": [],
   "source": [
    "#| export\n",
    "@lru_cache()\n",
    "def get_uniprot_seq(uniprot_id):\n",
    "    \"Queries the UniProt database to retrieve the protein sequence for a given UniProt ID.\"\n",
    "    \n",
    "    url = f\"https://www.uniprot.org/uniprot/{uniprot_id}.fasta\"\n",
    "    response = requests.get(url)\n",
    "\n",
    "    # Check if the request was successful (status code 200)\n",
    "    if response.status_code == 200:\n",
    "        data = response.text\n",
    "        # The sequence starts after the first line, which is a description\n",
    "        sequence = ''.join(data.split('\\n')[1:]).strip()\n",
    "        return sequence\n",
    "    else:\n",
    "        return f\"Error: Unable to retrieve sequence for UniProt ID {uniprot_id}. Status code: {response.status_code}\""
   ]
  },
  {
   "cell_type": "code",
   "execution_count": null,
   "metadata": {},
   "outputs": [
    {
     "data": {
      "text/plain": [
       "'MELAALCRWGLLLALLPPGAASTQVCTGTDMKLRLPASPETHLDMLRHLYQGCQVVQGNLELTYLPTNASLSFLQDIQEVQGYVLIAHNQVRQVPLQRLRIVRGTQLFEDNYALAVLDNGDPLNNTTPVTGASPGGLRELQLRSLTEILKGGVLIQRNPQLCYQDTILWKDIFHKNNQLALTLIDTNRSRACHPCSPMCKGSRCWGESSEDCQSLTRTVCAGGCARCKGPLPTDCCHEQCAAGCTGPKHSDCLACLHFNHSGICELHCPALVTYNTDTFESMPNPEGRYTFGASCVTACPYNYLSTDVGSCTLVCPLHNQEVTAEDGTQRCEKCSKPCARVCYGLGMEHLREVRAVTSANIQEFAGCKKIFGSLAFLPESFDGDPASNTAPLQPEQLQVFETLEEITGYLYISAWPDSLPDLSVFQNLQVIRGRILHNGAYSLTLQGLGISWLGLRSLRELGSGLALIHHNTHLCFVHTVPWDQLFRNPHQALLHTANRPEDECVGEGLACHQLCARGHCWGPGPTQCVNCSQFLRGQECVEECRVLQGLPREYVNARHCLPCHPECQPQNGSVTCFGPEADQCVACAHYKDPPFCVARCPSGVKPDLSYMPIWKFPDEEGACQPCPINCTHSCVDLDDKGCPAEQRASPLTSIISAVVGILLVVVLGVVFGILIKRRQQKIRKYTMRRLLQETELVEPLTPSGAMPNQAQMRILKETELRKVKVLGSGAFGTVYKGIWIPDGENVKIPVAIKVLRENTSPKANKEILDEAYVMAGVGSPYVSRLLGICLTSTVQLVTQLMPYGCLLDHVRENRGRLGSQDLLNWCMQIAKGMSYLEDVRLVHRDLAARNVLVKSPNHVKITDFGLARLLDIDETEYHADGGKVPIKWMALESILRRRFTHQSDVWSYGVTVWELMTFGAKPYDGIPAREIPDLLEKGERLPQPPICTIDVYMIMVKCWMIDSECRPRFRELVSEFSRMARDPQRFVVIQNEDLGPASPLDSTFYRSLLEDDDMGDLVDAEEYLVPQQGFFCPDPAPGAGGMVHHRHRSSSTRSGGGDLTLGLEPSEEEAPRSPLAPSEGAGSDVFDGDLGMGAAKGLQSLPTHDPSPLQRYSEDPTVPLPSETDGYVAPLTCSPQPEYVNQPDVRPQPPSPREGPLPAARPAGATLERPKTLSPGKNGVVKDVFAFGGAVENPEYLTPQGGAAPQPHPPPAFSPAFDNLYYWDQDPPERGAPPSTFKGTPTAENPEYLGLDVPV'"
      ]
     },
     "execution_count": null,
     "metadata": {},
     "output_type": "execute_result"
    }
   ],
   "source": [
    "get_uniprot_seq('P04626')"
   ]
  },
  {
   "cell_type": "code",
   "execution_count": null,
   "metadata": {},
   "outputs": [],
   "source": [
    "#| export\n",
    "@lru_cache()\n",
    "def get_uniprot_features(uniprot_id):\n",
    "    \"Given uniprot_id, get specific region for uniprot features.\"\n",
    "    # uniprot REST API\n",
    "    url = f\"https://rest.uniprot.org/uniprotkb/{uniprot_id}.json\"\n",
    "    response = requests.get(url)\n",
    "\n",
    "    if response.status_code == 200:\n",
    "        data = response.json()\n",
    "        # Extract the \"features\" section which contains information\n",
    "        features = data.get('features', [])\n",
    "        return features\n",
    "    else:\n",
    "        raise ValueError(f\"Failed to retrieve UniProt features for {uniprot_id}\")"
   ]
  },
  {
   "cell_type": "code",
   "execution_count": null,
   "metadata": {},
   "outputs": [
    {
     "data": {
      "text/plain": [
       "[{'type': 'Signal',\n",
       "  'location': {'start': {'value': 1, 'modifier': 'EXACT'},\n",
       "   'end': {'value': 22, 'modifier': 'EXACT'}},\n",
       "  'description': '',\n",
       "  'evidences': [{'evidenceCode': 'ECO:0000255'}]},\n",
       " {'type': 'Chain',\n",
       "  'location': {'start': {'value': 23, 'modifier': 'EXACT'},\n",
       "   'end': {'value': 1255, 'modifier': 'EXACT'}},\n",
       "  'description': 'Receptor tyrosine-protein kinase erbB-2',\n",
       "  'featureId': 'PRO_0000016669'},\n",
       " {'type': 'Topological domain',\n",
       "  'location': {'start': {'value': 23, 'modifier': 'EXACT'},\n",
       "   'end': {'value': 652, 'modifier': 'EXACT'}},\n",
       "  'description': 'Extracellular',\n",
       "  'evidences': [{'evidenceCode': 'ECO:0000255'}]}]"
      ]
     },
     "execution_count": null,
     "metadata": {},
     "output_type": "execute_result"
    }
   ],
   "source": [
    "get_uniprot_features('P04626')[:3]"
   ]
  },
  {
   "cell_type": "code",
   "execution_count": null,
   "metadata": {},
   "outputs": [],
   "source": [
    "#| export\n",
    "def get_uniprot_kd(uniprot_id):\n",
    "    \"Get kinase domain sequences based on UniProt ID.\"\n",
    "    features = get_uniprot_features(uniprot_id)\n",
    "    out_regions = []\n",
    "    seq = get_uniprot_seq(uniprot_id)\n",
    "\n",
    "    for feature in features:\n",
    "        if feature.get(\"type\") == \"Domain\" and \"Protein kinase\" in feature.get(\"description\", \"\"):\n",
    "            start = feature['location']['start']['value']\n",
    "            end = feature['location']['end']['value']\n",
    "            region = {\n",
    "                'uniprot_id': uniprot_id,\n",
    "                'type': feature['type'],\n",
    "                'start': start,\n",
    "                'end': end,\n",
    "                'description': feature['description'],\n",
    "                'sequence': seq[start-1:end]\n",
    "            }\n",
    "            out_regions.append(region)\n",
    "\n",
    "    return out_regions"
   ]
  },
  {
   "cell_type": "code",
   "execution_count": null,
   "metadata": {},
   "outputs": [
    {
     "data": {
      "text/plain": [
       "[{'uniprot_id': 'P04626',\n",
       "  'type': 'Domain',\n",
       "  'start': 720,\n",
       "  'end': 987,\n",
       "  'description': 'Protein kinase',\n",
       "  'sequence': 'LRKVKVLGSGAFGTVYKGIWIPDGENVKIPVAIKVLRENTSPKANKEILDEAYVMAGVGSPYVSRLLGICLTSTVQLVTQLMPYGCLLDHVRENRGRLGSQDLLNWCMQIAKGMSYLEDVRLVHRDLAARNVLVKSPNHVKITDFGLARLLDIDETEYHADGGKVPIKWMALESILRRRFTHQSDVWSYGVTVWELMTFGAKPYDGIPAREIPDLLEKGERLPQPPICTIDVYMIMVKCWMIDSECRPRFRELVSEFSRMARDPQRFV'}]"
      ]
     },
     "execution_count": null,
     "metadata": {},
     "output_type": "execute_result"
    }
   ],
   "source": [
    "get_uniprot_kd('P04626')"
   ]
  },
  {
   "cell_type": "code",
   "execution_count": null,
   "metadata": {},
   "outputs": [],
   "source": [
    "#| export\n",
    "def get_uniprot_type(uniprot_id,type_='Signal'):\n",
    "    \"Get region sequences based on UniProt ID features.\"\n",
    "    features = get_uniprot_features(uniprot_id)\n",
    "    out_regions = []\n",
    "    seq = get_uniprot_seq(uniprot_id)\n",
    "\n",
    "    for feature in features:\n",
    "        if feature.get(\"type\") == type_:\n",
    "            start = feature['location']['start']['value']\n",
    "            end = feature['location']['end']['value']\n",
    "            region = {\n",
    "                'uniprot_id': uniprot_id,\n",
    "                'type': feature['type'],\n",
    "                'start': start,\n",
    "                'end': end,\n",
    "                'description': feature['description'],\n",
    "                'sequence': seq[start-1:end]\n",
    "            }\n",
    "            out_regions.append(region)\n",
    "\n",
    "    return out_regions"
   ]
  },
  {
   "cell_type": "code",
   "execution_count": null,
   "metadata": {},
   "outputs": [
    {
     "data": {
      "text/plain": [
       "[{'uniprot_id': 'P04626',\n",
       "  'type': 'Signal',\n",
       "  'start': 1,\n",
       "  'end': 22,\n",
       "  'description': '',\n",
       "  'sequence': 'MELAALCRWGLLLALLPPGAAS'}]"
      ]
     },
     "execution_count": null,
     "metadata": {},
     "output_type": "execute_result"
    }
   ],
   "source": [
    "get_uniprot_type('P04626','Signal') # signal peptide"
   ]
  },
  {
   "cell_type": "code",
   "execution_count": null,
   "metadata": {},
   "outputs": [
    {
     "data": {
      "text/plain": [
       "[{'uniprot_id': 'P04626',\n",
       "  'type': 'Transmembrane',\n",
       "  'start': 653,\n",
       "  'end': 675,\n",
       "  'description': 'Helical',\n",
       "  'sequence': 'SIISAVVGILLVVVLGVVFGILI'}]"
      ]
     },
     "execution_count": null,
     "metadata": {},
     "output_type": "execute_result"
    }
   ],
   "source": [
    "get_uniprot_type('P04626','Transmembrane') # tm domain"
   ]
  },
  {
   "cell_type": "markdown",
   "metadata": {},
   "source": [
    "## Mutate sequence"
   ]
  },
  {
   "cell_type": "code",
   "execution_count": null,
   "metadata": {},
   "outputs": [],
   "source": [
    "#| export\n",
    "def mutate(seq, # protein sequence\n",
    "           *mutations, # e.g., E709A\n",
    "           verbose=True,\n",
    "           ):\n",
    "    \"Apply mutations to a protein sequence.\"\n",
    "    seq_list = list(seq)  # convert to list for mutability\n",
    "    \n",
    "    for mut in mutations:\n",
    "        # check mutation format\n",
    "        if len(mut) < 3: raise ValueError(f\"Invalid mutation format: {mut}\")\n",
    "        \n",
    "        from_aa,pos,to_aa = mut[0],int(mut[1:-1])-1,mut[-1]\n",
    "\n",
    "        # make sure position is within the sequence length\n",
    "        if pos < 0 or pos >= len(seq_list): raise IndexError(f\"Position {pos + 1} out of range for sequence length {len(seq_list)}\")\n",
    "        # make sure aa from mutations matches the residue on the sequence\n",
    "        if seq_list[pos] != from_aa: raise ValueError(f\"Expected {from_aa} at position {pos + 1}, found {seq_list[pos]}\")\n",
    "        \n",
    "        seq_list[pos] = to_aa\n",
    "        if verbose: print('Converted:', mut)\n",
    "        \n",
    "    return ''.join(seq_list)"
   ]
  },
  {
   "cell_type": "code",
   "execution_count": null,
   "metadata": {},
   "outputs": [
    {
     "name": "stdout",
     "output_type": "stream",
     "text": [
      "Converted: M1A\n",
      "Converted: E2S\n"
     ]
    },
    {
     "data": {
      "text/plain": [
       "'ASLAALCRWGLLLALLPPGAASTQVCTGTDMKLRLPASPETHLDMLRHLYQGCQVVQGNLELTYLPTNASLSFLQDIQEVQGYVLIAHNQVRQVPLQRLRIVRGTQLFEDNYALAVLDNGDPLNNTTPVTGASPGGLRELQLRSLTEILKGGVLIQRNPQLCYQDTILWKDIFHKNNQLALTLIDTNRSRACHPCSPMCKGSRCWGESSEDCQSLTRTVCAGGCARCKGPLPTDCCHEQCAAGCTGPKHSDCLACLHFNHSGICELHCPALVTYNTDTFESMPNPEGRYTFGASCVTACPYNYLSTDVGSCTLVCPLHNQEVTAEDGTQRCEKCSKPCARVCYGLGMEHLREVRAVTSANIQEFAGCKKIFGSLAFLPESFDGDPASNTAPLQPEQLQVFETLEEITGYLYISAWPDSLPDLSVFQNLQVIRGRILHNGAYSLTLQGLGISWLGLRSLRELGSGLALIHHNTHLCFVHTVPWDQLFRNPHQALLHTANRPEDECVGEGLACHQLCARGHCWGPGPTQCVNCSQFLRGQECVEECRVLQGLPREYVNARHCLPCHPECQPQNGSVTCFGPEADQCVACAHYKDPPFCVARCPSGVKPDLSYMPIWKFPDEEGACQPCPINCTHSCVDLDDKGCPAEQRASPLTSIISAVVGILLVVVLGVVFGILIKRRQQKIRKYTMRRLLQETELVEPLTPSGAMPNQAQMRILKETELRKVKVLGSGAFGTVYKGIWIPDGENVKIPVAIKVLRENTSPKANKEILDEAYVMAGVGSPYVSRLLGICLTSTVQLVTQLMPYGCLLDHVRENRGRLGSQDLLNWCMQIAKGMSYLEDVRLVHRDLAARNVLVKSPNHVKITDFGLARLLDIDETEYHADGGKVPIKWMALESILRRRFTHQSDVWSYGVTVWELMTFGAKPYDGIPAREIPDLLEKGERLPQPPICTIDVYMIMVKCWMIDSECRPRFRELVSEFSRMARDPQRFVVIQNEDLGPASPLDSTFYRSLLEDDDMGDLVDAEEYLVPQQGFFCPDPAPGAGGMVHHRHRSSSTRSGGGDLTLGLEPSEEEAPRSPLAPSEGAGSDVFDGDLGMGAAKGLQSLPTHDPSPLQRYSEDPTVPLPSETDGYVAPLTCSPQPEYVNQPDVRPQPPSPREGPLPAARPAGATLERPKTLSPGKNGVVKDVFAFGGAVENPEYLTPQGGAAPQPHPPPAFSPAFDNLYYWDQDPPERGAPPSTFKGTPTAENPEYLGLDVPV'"
      ]
     },
     "execution_count": null,
     "metadata": {},
     "output_type": "execute_result"
    }
   ],
   "source": [
    "seq = get_uniprot_seq('P04626')\n",
    "mut_seq = mutate(seq,'M1A','E2S')\n",
    "mut_seq"
   ]
  },
  {
   "cell_type": "code",
   "execution_count": null,
   "metadata": {},
   "outputs": [],
   "source": [
    "#| export\n",
    "def compare_seq(original_seq, mutated_seq):\n",
    "    \"Compare original and mutated sequences.\"\n",
    "    \n",
    "    if len(original_seq) != len(mutated_seq): raise ValueError(\"Sequences must be the same length to compare.\")\n",
    "\n",
    "    differences = []\n",
    "    for i, (orig, mut) in enumerate(zip(original_seq, mutated_seq), start=1):\n",
    "        if orig != mut:\n",
    "            differences.append((i, orig, mut))\n",
    "\n",
    "    if not differences: print(\"No differences found. Sequences are identical.\")\n",
    "    else:\n",
    "        print(\"Differences found at positions:\")\n",
    "        for pos, orig, mut in differences:\n",
    "            print(f\"  Position {pos}: {orig} → {mut}\")"
   ]
  },
  {
   "cell_type": "code",
   "execution_count": null,
   "metadata": {},
   "outputs": [
    {
     "name": "stdout",
     "output_type": "stream",
     "text": [
      "Differences found at positions:\n",
      "  Position 1: M → A\n",
      "  Position 2: E → S\n"
     ]
    }
   ],
   "source": [
    "compare_seq(seq,mut_seq)"
   ]
  },
  {
   "cell_type": "markdown",
   "metadata": {},
   "source": [
    "## Compound Datahub"
   ]
  },
  {
   "cell_type": "code",
   "execution_count": null,
   "metadata": {},
   "outputs": [],
   "source": [
    "#| export\n",
    "class Data:\n",
    "    \"A class for fetching various datasets.\"\n",
    "\n",
    "    ANTIBIOTICS_URL = \"https://github.com/sky1ove/kdock/raw/main/dataset/antibiotics_2335.csv\"\n",
    "    G12D_URL = \"https://github.com/sky1ove/kdock/raw/main/dataset/KRASi_g12d.csv\"\n",
    "    G12D_DEDUP_URL = \"https://github.com/sky1ove/kdock/raw/main/dataset/KRASi_g12d_dedup.csv\"\n",
    "    KRAS_SEQ_URL = \"https://github.com/sky1ove/kdock/raw/main/dataset/kras_seq.csv\"\n",
    "\n",
    "    @staticmethod\n",
    "    @lru_cache(maxsize=None)\n",
    "    def fetch_csv(url): return pd.read_csv(url)\n",
    "    \n",
    "    @staticmethod\n",
    "    def get_antibiotics():\n",
    "        \"Deduplicated screening antibiotics dataset; Table S1B from Cell: A Deep Learning Approach to Antibiotic Discovery.\"\n",
    "        return Data.fetch_csv(Data.ANTIBIOTICS_URL)\n",
    "    \n",
    "    @staticmethod\n",
    "    def get_mirati_g12d():\n",
    "        \"Get the deduplicated G12D dataset from the mirati paper and patents.\"\n",
    "        return Data.fetch_csv(Data.G12D_DEDUP_URL)\n",
    "    \n",
    "    @staticmethod\n",
    "    def get_mirati_g12d_raw():\n",
    "        \"Get the raw combined G12D dataset from the paper and patents.\"\n",
    "        return Data.fetch_csv(Data.G12D_URL)\n",
    "    \n",
    "    @staticmethod\n",
    "    def get_kras_seq():\n",
    "        \"Get the sequence of KRAS and its mutations G12D and G12C.\"\n",
    "        return Data.fetch_csv(Data.KRAS_SEQ_URL)"
   ]
  },
  {
   "cell_type": "code",
   "execution_count": null,
   "metadata": {},
   "outputs": [
    {
     "data": {
      "text/html": [
       "<div>\n",
       "<style scoped>\n",
       "    .dataframe tbody tr th:only-of-type {\n",
       "        vertical-align: middle;\n",
       "    }\n",
       "\n",
       "    .dataframe tbody tr th {\n",
       "        vertical-align: top;\n",
       "    }\n",
       "\n",
       "    .dataframe thead th {\n",
       "        text-align: right;\n",
       "    }\n",
       "</style>\n",
       "<table border=\"1\" class=\"dataframe\">\n",
       "  <thead>\n",
       "    <tr style=\"text-align: right;\">\n",
       "      <th></th>\n",
       "      <th>name</th>\n",
       "      <th>SMILES</th>\n",
       "      <th>inhibition</th>\n",
       "      <th>activity</th>\n",
       "    </tr>\n",
       "  </thead>\n",
       "  <tbody>\n",
       "    <tr>\n",
       "      <th>0</th>\n",
       "      <td>CEFPIRAMIDE</td>\n",
       "      <td>Cc1cc(O)c(C(=O)NC(C(=O)NC2C(=O)N3C(C(=O)O)=C(C...</td>\n",
       "      <td>0.041572</td>\n",
       "      <td>1</td>\n",
       "    </tr>\n",
       "    <tr>\n",
       "      <th>1</th>\n",
       "      <td>GEMIFLOXACIN MESYLATE</td>\n",
       "      <td>CON=C1CN(c2nc3c(cc2F)c(=O)c(C(=O)O)cn3C2CC2)CC...</td>\n",
       "      <td>0.041876</td>\n",
       "      <td>1</td>\n",
       "    </tr>\n",
       "    <tr>\n",
       "      <th>2</th>\n",
       "      <td>POLYMYXIN B SULFATE</td>\n",
       "      <td>CCC(C)CCCCC(=O)NC(CCN)C(=O)NC(C(=O)NC(CCN)C(=O...</td>\n",
       "      <td>0.041916</td>\n",
       "      <td>1</td>\n",
       "    </tr>\n",
       "    <tr>\n",
       "      <th>3</th>\n",
       "      <td>PRAXADINE HYDROCHLORIDE</td>\n",
       "      <td>Cl.N=C(N)n1cccn1</td>\n",
       "      <td>0.041964</td>\n",
       "      <td>1</td>\n",
       "    </tr>\n",
       "    <tr>\n",
       "      <th>4</th>\n",
       "      <td>CHLORHEXIDINE DIHYDROCHLORIDE</td>\n",
       "      <td>Cl.Cl.N=C(NCCCCCCNC(=N)NC(=N)Nc1ccc(Cl)cc1)NC(...</td>\n",
       "      <td>0.042295</td>\n",
       "      <td>1</td>\n",
       "    </tr>\n",
       "  </tbody>\n",
       "</table>\n",
       "</div>"
      ],
      "text/plain": [
       "                            name  \\\n",
       "0                    CEFPIRAMIDE   \n",
       "1          GEMIFLOXACIN MESYLATE   \n",
       "2            POLYMYXIN B SULFATE   \n",
       "3        PRAXADINE HYDROCHLORIDE   \n",
       "4  CHLORHEXIDINE DIHYDROCHLORIDE   \n",
       "\n",
       "                                              SMILES  inhibition  activity  \n",
       "0  Cc1cc(O)c(C(=O)NC(C(=O)NC2C(=O)N3C(C(=O)O)=C(C...    0.041572         1  \n",
       "1  CON=C1CN(c2nc3c(cc2F)c(=O)c(C(=O)O)cn3C2CC2)CC...    0.041876         1  \n",
       "2  CCC(C)CCCCC(=O)NC(CCN)C(=O)NC(C(=O)NC(CCN)C(=O...    0.041916         1  \n",
       "3                                   Cl.N=C(N)n1cccn1    0.041964         1  \n",
       "4  Cl.Cl.N=C(NCCCCCCNC(=N)NC(=N)Nc1ccc(Cl)cc1)NC(...    0.042295         1  "
      ]
     },
     "execution_count": null,
     "metadata": {},
     "output_type": "execute_result"
    }
   ],
   "source": [
    "Data.get_antibiotics().head()"
   ]
  },
  {
   "cell_type": "code",
   "execution_count": null,
   "metadata": {},
   "outputs": [
    {
     "data": {
      "text/html": [
       "<div>\n",
       "<style scoped>\n",
       "    .dataframe tbody tr th:only-of-type {\n",
       "        vertical-align: middle;\n",
       "    }\n",
       "\n",
       "    .dataframe tbody tr th {\n",
       "        vertical-align: top;\n",
       "    }\n",
       "\n",
       "    .dataframe thead th {\n",
       "        text-align: right;\n",
       "    }\n",
       "</style>\n",
       "<table border=\"1\" class=\"dataframe\">\n",
       "  <thead>\n",
       "    <tr style=\"text-align: right;\">\n",
       "      <th></th>\n",
       "      <th>ID</th>\n",
       "      <th>SMILES</th>\n",
       "      <th>Kd</th>\n",
       "      <th>IC50</th>\n",
       "      <th>erk_IC50</th>\n",
       "    </tr>\n",
       "  </thead>\n",
       "  <tbody>\n",
       "    <tr>\n",
       "      <th>0</th>\n",
       "      <td>US_1</td>\n",
       "      <td>CN1CCC[C@H]1COc1nc(N2CC3CCC(C2)N3)c2cnc(cc2n1)...</td>\n",
       "      <td>97.7</td>\n",
       "      <td>124.7</td>\n",
       "      <td>3159.1</td>\n",
       "    </tr>\n",
       "    <tr>\n",
       "      <th>1</th>\n",
       "      <td>US_4</td>\n",
       "      <td>Oc1cc(-c2ncc3c(nc(OCCc4ccccn4)nc3c2F)N2CC3CCC(...</td>\n",
       "      <td>155.7</td>\n",
       "      <td>496.2</td>\n",
       "      <td>8530.0</td>\n",
       "    </tr>\n",
       "    <tr>\n",
       "      <th>2</th>\n",
       "      <td>US_5</td>\n",
       "      <td>Cn1nccc1COc1nc(N2CC3CCC(C2)N3)c2cnc(c(F)c2n1)-...</td>\n",
       "      <td>294.8</td>\n",
       "      <td>722.9</td>\n",
       "      <td>8193.8</td>\n",
       "    </tr>\n",
       "    <tr>\n",
       "      <th>3</th>\n",
       "      <td>US_6</td>\n",
       "      <td>Cc1cccnc1CCOc1nc(N2CC3CCC(C2)N3)c2cnc(c(F)c2n1...</td>\n",
       "      <td>442.2</td>\n",
       "      <td>434.1</td>\n",
       "      <td>11518.2</td>\n",
       "    </tr>\n",
       "    <tr>\n",
       "      <th>4</th>\n",
       "      <td>US_7</td>\n",
       "      <td>Oc1cc(-c2ncc3c(nc(OCCc4ncccn4)nc3c2F)N2CC3CCC(...</td>\n",
       "      <td>463.5</td>\n",
       "      <td>1867.3</td>\n",
       "      <td>NaN</td>\n",
       "    </tr>\n",
       "  </tbody>\n",
       "</table>\n",
       "</div>"
      ],
      "text/plain": [
       "     ID                                             SMILES     Kd    IC50  \\\n",
       "0  US_1  CN1CCC[C@H]1COc1nc(N2CC3CCC(C2)N3)c2cnc(cc2n1)...   97.7   124.7   \n",
       "1  US_4  Oc1cc(-c2ncc3c(nc(OCCc4ccccn4)nc3c2F)N2CC3CCC(...  155.7   496.2   \n",
       "2  US_5  Cn1nccc1COc1nc(N2CC3CCC(C2)N3)c2cnc(c(F)c2n1)-...  294.8   722.9   \n",
       "3  US_6  Cc1cccnc1CCOc1nc(N2CC3CCC(C2)N3)c2cnc(c(F)c2n1...  442.2   434.1   \n",
       "4  US_7  Oc1cc(-c2ncc3c(nc(OCCc4ncccn4)nc3c2F)N2CC3CCC(...  463.5  1867.3   \n",
       "\n",
       "   erk_IC50  \n",
       "0    3159.1  \n",
       "1    8530.0  \n",
       "2    8193.8  \n",
       "3   11518.2  \n",
       "4       NaN  "
      ]
     },
     "execution_count": null,
     "metadata": {},
     "output_type": "execute_result"
    }
   ],
   "source": [
    "Data.get_mirati_g12d().head()"
   ]
  },
  {
   "cell_type": "code",
   "execution_count": null,
   "metadata": {},
   "outputs": [
    {
     "data": {
      "text/html": [
       "<div>\n",
       "<style scoped>\n",
       "    .dataframe tbody tr th:only-of-type {\n",
       "        vertical-align: middle;\n",
       "    }\n",
       "\n",
       "    .dataframe tbody tr th {\n",
       "        vertical-align: top;\n",
       "    }\n",
       "\n",
       "    .dataframe thead th {\n",
       "        text-align: right;\n",
       "    }\n",
       "</style>\n",
       "<table border=\"1\" class=\"dataframe\">\n",
       "  <thead>\n",
       "    <tr style=\"text-align: right;\">\n",
       "      <th></th>\n",
       "      <th>ID</th>\n",
       "      <th>SMILES</th>\n",
       "      <th>group</th>\n",
       "      <th>with_3F</th>\n",
       "      <th>racemic_trans</th>\n",
       "      <th>mixture_isomer</th>\n",
       "      <th>trans</th>\n",
       "      <th>Kd</th>\n",
       "      <th>IC50</th>\n",
       "      <th>erk_IC50</th>\n",
       "    </tr>\n",
       "  </thead>\n",
       "  <tbody>\n",
       "    <tr>\n",
       "      <th>0</th>\n",
       "      <td>US_1</td>\n",
       "      <td>CN1CCC[C@H]1COc1nc(N2CC3CCC(C2)N3)c2cnc(cc2n1)...</td>\n",
       "      <td>US</td>\n",
       "      <td>0</td>\n",
       "      <td>0</td>\n",
       "      <td>0</td>\n",
       "      <td>0</td>\n",
       "      <td>97.7</td>\n",
       "      <td>124.7</td>\n",
       "      <td>3159.1</td>\n",
       "    </tr>\n",
       "    <tr>\n",
       "      <th>1</th>\n",
       "      <td>US_2</td>\n",
       "      <td>CN1CCC[C@H]1COc1nc(N2CC3CCC(C2)N3)c2cnc(c(F)c2...</td>\n",
       "      <td>US</td>\n",
       "      <td>1</td>\n",
       "      <td>0</td>\n",
       "      <td>0</td>\n",
       "      <td>0</td>\n",
       "      <td>2.4</td>\n",
       "      <td>2.7</td>\n",
       "      <td>721.4</td>\n",
       "    </tr>\n",
       "    <tr>\n",
       "      <th>2</th>\n",
       "      <td>US_3</td>\n",
       "      <td>Cn1ccnc1CCOc1nc(N2CC3CCC(C2)N3)c2cnc(c(F)c2n1)...</td>\n",
       "      <td>US</td>\n",
       "      <td>0</td>\n",
       "      <td>0</td>\n",
       "      <td>0</td>\n",
       "      <td>0</td>\n",
       "      <td>8.3</td>\n",
       "      <td>9.5</td>\n",
       "      <td>10283.1</td>\n",
       "    </tr>\n",
       "    <tr>\n",
       "      <th>3</th>\n",
       "      <td>US_4</td>\n",
       "      <td>Oc1cc(-c2ncc3c(nc(OCCc4ccccn4)nc3c2F)N2CC3CCC(...</td>\n",
       "      <td>US</td>\n",
       "      <td>0</td>\n",
       "      <td>0</td>\n",
       "      <td>0</td>\n",
       "      <td>0</td>\n",
       "      <td>155.7</td>\n",
       "      <td>496.2</td>\n",
       "      <td>8530.0</td>\n",
       "    </tr>\n",
       "    <tr>\n",
       "      <th>4</th>\n",
       "      <td>US_5</td>\n",
       "      <td>Cn1nccc1COc1nc(N2CC3CCC(C2)N3)c2cnc(c(F)c2n1)-...</td>\n",
       "      <td>US</td>\n",
       "      <td>0</td>\n",
       "      <td>0</td>\n",
       "      <td>0</td>\n",
       "      <td>0</td>\n",
       "      <td>294.8</td>\n",
       "      <td>722.9</td>\n",
       "      <td>8193.8</td>\n",
       "    </tr>\n",
       "  </tbody>\n",
       "</table>\n",
       "</div>"
      ],
      "text/plain": [
       "     ID                                             SMILES group  with_3F  \\\n",
       "0  US_1  CN1CCC[C@H]1COc1nc(N2CC3CCC(C2)N3)c2cnc(cc2n1)...    US        0   \n",
       "1  US_2  CN1CCC[C@H]1COc1nc(N2CC3CCC(C2)N3)c2cnc(c(F)c2...    US        1   \n",
       "2  US_3  Cn1ccnc1CCOc1nc(N2CC3CCC(C2)N3)c2cnc(c(F)c2n1)...    US        0   \n",
       "3  US_4  Oc1cc(-c2ncc3c(nc(OCCc4ccccn4)nc3c2F)N2CC3CCC(...    US        0   \n",
       "4  US_5  Cn1nccc1COc1nc(N2CC3CCC(C2)N3)c2cnc(c(F)c2n1)-...    US        0   \n",
       "\n",
       "   racemic_trans  mixture_isomer  trans     Kd   IC50  erk_IC50  \n",
       "0              0               0      0   97.7  124.7    3159.1  \n",
       "1              0               0      0    2.4    2.7     721.4  \n",
       "2              0               0      0    8.3    9.5   10283.1  \n",
       "3              0               0      0  155.7  496.2    8530.0  \n",
       "4              0               0      0  294.8  722.9    8193.8  "
      ]
     },
     "execution_count": null,
     "metadata": {},
     "output_type": "execute_result"
    }
   ],
   "source": [
    "Data.get_mirati_g12d_raw().head()"
   ]
  },
  {
   "cell_type": "code",
   "execution_count": null,
   "metadata": {},
   "outputs": [
    {
     "data": {
      "text/html": [
       "<div>\n",
       "<style scoped>\n",
       "    .dataframe tbody tr th:only-of-type {\n",
       "        vertical-align: middle;\n",
       "    }\n",
       "\n",
       "    .dataframe tbody tr th {\n",
       "        vertical-align: top;\n",
       "    }\n",
       "\n",
       "    .dataframe thead th {\n",
       "        text-align: right;\n",
       "    }\n",
       "</style>\n",
       "<table border=\"1\" class=\"dataframe\">\n",
       "  <thead>\n",
       "    <tr style=\"text-align: right;\">\n",
       "      <th></th>\n",
       "      <th>ID</th>\n",
       "      <th>WT_sequence</th>\n",
       "      <th>g12d_seq</th>\n",
       "      <th>g12c_seq</th>\n",
       "    </tr>\n",
       "  </thead>\n",
       "  <tbody>\n",
       "    <tr>\n",
       "      <th>0</th>\n",
       "      <td>kras_human</td>\n",
       "      <td>MTEYKLVVVGAGGVGKSALTIQLIQNHFVDEYDPTIEDSYRKQVVI...</td>\n",
       "      <td>MTEYKLVVVGADGVGKSALTIQLIQNHFVDEYDPTIEDSYRKQVVI...</td>\n",
       "      <td>MTEYKLVVVGACGVGKSALTIQLIQNHFVDEYDPTIEDSYRKQVVI...</td>\n",
       "    </tr>\n",
       "    <tr>\n",
       "      <th>1</th>\n",
       "      <td>kras_human_isoform2b</td>\n",
       "      <td>MTEYKLVVVGAGGVGKSALTIQLIQNHFVDEYDPTIEDSYRKQVVI...</td>\n",
       "      <td>MTEYKLVVVGADGVGKSALTIQLIQNHFVDEYDPTIEDSYRKQVVI...</td>\n",
       "      <td>MTEYKLVVVGACGVGKSALTIQLIQNHFVDEYDPTIEDSYRKQVVI...</td>\n",
       "    </tr>\n",
       "  </tbody>\n",
       "</table>\n",
       "</div>"
      ],
      "text/plain": [
       "                     ID                                        WT_sequence  \\\n",
       "0            kras_human  MTEYKLVVVGAGGVGKSALTIQLIQNHFVDEYDPTIEDSYRKQVVI...   \n",
       "1  kras_human_isoform2b  MTEYKLVVVGAGGVGKSALTIQLIQNHFVDEYDPTIEDSYRKQVVI...   \n",
       "\n",
       "                                            g12d_seq  \\\n",
       "0  MTEYKLVVVGADGVGKSALTIQLIQNHFVDEYDPTIEDSYRKQVVI...   \n",
       "1  MTEYKLVVVGADGVGKSALTIQLIQNHFVDEYDPTIEDSYRKQVVI...   \n",
       "\n",
       "                                            g12c_seq  \n",
       "0  MTEYKLVVVGACGVGKSALTIQLIQNHFVDEYDPTIEDSYRKQVVI...  \n",
       "1  MTEYKLVVVGACGVGKSALTIQLIQNHFVDEYDPTIEDSYRKQVVI...  "
      ]
     },
     "execution_count": null,
     "metadata": {},
     "output_type": "execute_result"
    }
   ],
   "source": [
    "Data.get_kras_seq().head()"
   ]
  },
  {
   "cell_type": "markdown",
   "metadata": {},
   "source": [
    "## Copy files"
   ]
  },
  {
   "cell_type": "markdown",
   "metadata": {},
   "source": [
    "Using `list(Path('files').rglob('*.pdb'))` will get all the pdb files of subfolders. Here we define a function that can limit the depth of search."
   ]
  },
  {
   "cell_type": "code",
   "execution_count": null,
   "metadata": {},
   "outputs": [],
   "source": [
    "#| export\n",
    "def rglob(path, pattern, max_depth):\n",
    "    \"Get a file list given folder depths\"\n",
    "    base_path = Path(path).resolve()\n",
    "    for path in base_path.rglob(pattern):\n",
    "        if len(path.relative_to(base_path).parts) <= max_depth:\n",
    "            yield path"
   ]
  },
  {
   "cell_type": "code",
   "execution_count": null,
   "metadata": {},
   "outputs": [
    {
     "data": {
      "text/plain": [
       "[PosixPath('/teamspace/studios/this_studio/kdock/nbs/data/files/7OFF_lig.pdb'),\n",
       " PosixPath('/teamspace/studios/this_studio/kdock/nbs/data/files/7OFF_receptor.pdb'),\n",
       " PosixPath('/teamspace/studios/this_studio/kdock/nbs/data/files/7OFF.pdb')]"
      ]
     },
     "execution_count": null,
     "metadata": {},
     "output_type": "execute_result"
    }
   ],
   "source": [
    "file_list = list(rglob('files','*.pdb',1))\n",
    "file_list"
   ]
  },
  {
   "cell_type": "code",
   "execution_count": null,
   "metadata": {},
   "outputs": [],
   "source": [
    "#| export\n",
    "def copy_files(file_list, dest_dir):\n",
    "    \"Copy a list of files to the destination directory, or zip them if dest_dir ends with .zip.\"\n",
    "    dest_path = Path(dest_dir)\n",
    "\n",
    "    if dest_path.suffix == \".zip\":\n",
    "        with zipfile.ZipFile(dest_path, 'w') as zipf:\n",
    "            for file_path in file_list:\n",
    "                file_path = Path(file_path)\n",
    "                zipf.write(file_path, arcname=file_path.name)\n",
    "        print(f'Zipped {len(file_list)} files to {dest_path}')\n",
    "    else:\n",
    "        dest_path.mkdir(parents=True, exist_ok=True)\n",
    "        for file_path in file_list:\n",
    "            file_path = Path(file_path)\n",
    "            shutil.copy2(file_path, dest_path / file_path.name)\n",
    "        print(f'Copied {len(file_list)} files to {dest_path}')"
   ]
  },
  {
   "cell_type": "code",
   "execution_count": null,
   "metadata": {},
   "outputs": [
    {
     "name": "stdout",
     "output_type": "stream",
     "text": [
      "Zipped 3 files to files/protein.zip\n",
      "Copied 3 files to files/protein\n"
     ]
    }
   ],
   "source": [
    "copy_files(file_list,'files/protein.zip') # support zip\n",
    "copy_files(file_list,'files/protein')"
   ]
  },
  {
   "cell_type": "markdown",
   "metadata": {},
   "source": [
    "## Conformer"
   ]
  },
  {
   "cell_type": "code",
   "execution_count": null,
   "metadata": {},
   "outputs": [],
   "source": [
    "#| export\n",
    "def rdkit_conformer(SMILES, # SMILES string\n",
    "                    output=None, # file \".sdf\" to be saved\n",
    "                    method='ETKDG', # Optimization method, can be 'UFF', 'MMFF' or 'ETKDGv3'\n",
    "                    visualize=True, #whether or not to visualize the compound\n",
    "                    seed = 3,# randomness of the 3D conformation\n",
    "                    ):\n",
    "\n",
    "    \"Gemerate 3D conformers from SMILES\"\n",
    "    \n",
    "    np.random.seed(seed) \n",
    "    mol = Chem.MolFromSmiles(SMILES)\n",
    "    \n",
    "    # Generate a 3D conformation of the molecule\n",
    "    AllChem.EmbedMolecule(mol)\n",
    "    \n",
    "\n",
    "    # Optimize the 3D conformation using the specified force field method\n",
    "    if method == 'UFF':\n",
    "        AllChem.UFFOptimizeMolecule(mol)\n",
    "    elif method == 'MMFF':\n",
    "        AllChem.MMFFOptimizeMolecule(mol)\n",
    "    elif method == 'ETKDG':\n",
    "        AllChem.EmbedMultipleConfs(mol, numConfs=1, useExpTorsionAnglePrefs=True, \n",
    "                                   useBasicKnowledge=True, enforceChirality=True,randomSeed=seed)\n",
    "        AllChem.ETKDGv3()\n",
    "        AllChem.UFFOptimizeMolecule(mol)\n",
    "\n",
    "    else:\n",
    "        raise ValueError('Invalid method specified')\n",
    "        \n",
    "\n",
    "    # Remove hydrogens from the molecule\n",
    "    # mol = Chem.RemoveHs(mol)\n",
    "\n",
    "    if output is not None:\n",
    "        Path(output).parent.mkdir(parents=True,exist_ok=True)\n",
    "    \n",
    "        w = Chem.SDWriter(output)\n",
    "        w.write(mol)\n",
    "        w.close()\n",
    "    return mol"
   ]
  },
  {
   "cell_type": "code",
   "execution_count": null,
   "metadata": {},
   "outputs": [
    {
     "name": "stderr",
     "output_type": "stream",
     "text": [
      "[01:17:18] Molecule does not have explicit Hs. Consider calling AddHs()\n",
      "[01:17:18] Molecule does not have explicit Hs. Consider calling AddHs()\n",
      "[01:17:18] Molecule does not have explicit Hs. Consider calling AddHs()\n"
     ]
    },
    {
     "data": {
      "image/png": "[encoded data removed]",
      "text/plain": [
       "<rdkit.Chem.rdchem.Mol>"
      ]
     },
     "execution_count": null,
     "metadata": {},
     "output_type": "execute_result"
    }
   ],
   "source": [
    "rdkit_conformer('CC1=C(C=CC(=C1)NC2=NC=NC3=CN=C(N=C32)N4CCC(CC4)NC(=O)C=C)OC5=CC6=C(C=C5)N(C=N6)C')"
   ]
  },
  {
   "cell_type": "markdown",
   "metadata": {},
   "source": [
    "## Get receptor and ligand from pdb"
   ]
  },
  {
   "cell_type": "code",
   "execution_count": null,
   "metadata": {},
   "outputs": [],
   "source": [
    "#| export\n",
    "def get_rec_lig(pdb_id: str, # pdb id for download\n",
    "                            lig_id: str, # ligand id shown on the protein page\n",
    "                            out_dir = '.', # directory path to save pdb files\n",
    "                            ):\n",
    "    \"Download pdb and extract receptor and ligand from a PDB ID.\"\n",
    "    out_dir = Path(out_dir).expanduser().resolve()\n",
    "    out_dir.mkdir(parents=True, exist_ok=True)\n",
    "\n",
    "    pdb_file = out_dir / f\"{pdb_id}.pdb\"\n",
    "    rec_file = out_dir / f\"{pdb_id}_receptor.pdb\"\n",
    "    lig_pdb_file = out_dir / f\"{pdb_id}_lig.pdb\"\n",
    "    lig_sdf_file = out_dir / f\"{pdb_id}_lig.sdf\"\n",
    "\n",
    "    # Download if not exists\n",
    "    if not pdb_file.exists():\n",
    "        url = f\"http://files.rcsb.org/download/{pdb_id}.pdb\"\n",
    "        print(f'Downloading pdb: {pdb_id}')\n",
    "        subprocess.run([\"wget\", url, \"-O\", str(pdb_file)], check=True,stdout=subprocess.DEVNULL, stderr=subprocess.DEVNULL)\n",
    "    print(f'{pdb_id}.pdb is detected!')\n",
    "\n",
    "    # Extract protein (all ATOM lines excluding ligand ID)\n",
    "    with open(pdb_file) as infile, open(rec_file, 'w') as out_rec:\n",
    "        for line in infile:\n",
    "            if line.startswith(\"ATOM\") and lig_id not in line:\n",
    "                out_rec.write(line)\n",
    "\n",
    "    # Extract ligand\n",
    "    with open(pdb_file) as infile, open(lig_pdb_file, 'w') as out_lig:\n",
    "        for line in infile:\n",
    "            if lig_id in line and line.startswith((\"HETATM\", \"ATOM\")):\n",
    "                out_lig.write(line)\n",
    "\n",
    "    # Convert ligand PDB to SDF using RDKit\n",
    "    mol = Chem.MolFromPDBFile(str(lig_pdb_file), removeHs=False)\n",
    "    if mol is None:\n",
    "        raise ValueError(\"Failed to parse ligand from PDB.\")\n",
    "    \n",
    "    writer = Chem.SDWriter(str(lig_sdf_file))\n",
    "    writer.write(mol)\n",
    "    writer.close()\n",
    "\n",
    "    return str(rec_file), str(lig_sdf_file)"
   ]
  },
  {
   "cell_type": "code",
   "execution_count": null,
   "metadata": {},
   "outputs": [
    {
     "name": "stdout",
     "output_type": "stream",
     "text": [
      "7OFF.pdb is detected!\n"
     ]
    },
    {
     "data": {
      "text/plain": [
       "('/teamspace/studios/this_studio/kdock/nbs/data/files/7OFF_receptor.pdb',\n",
       " '/teamspace/studios/this_studio/kdock/nbs/data/files/7OFF_lig.sdf')"
      ]
     },
     "execution_count": null,
     "metadata": {},
     "output_type": "execute_result"
    }
   ],
   "source": [
    "rec_path,lig_path = get_rec_lig('7OFF','VCB','files')\n",
    "rec_path,lig_path"
   ]
  },
  {
   "cell_type": "markdown",
   "metadata": {},
   "source": [
    "## Get ligand box"
   ]
  },
  {
   "cell_type": "code",
   "execution_count": null,
   "metadata": {},
   "outputs": [],
   "source": [
    "#| export\n",
    "def get_box(sdf_file, autobox_add=4.0,tolist=False):\n",
    "    \"Get the box coordinates of ligand.sdf; mimic GNINA's --autobox_ligand behavior.\"\n",
    "    mol = Chem.SDMolSupplier(str(sdf_file), removeHs=False)[0]\n",
    "    if mol is None:\n",
    "        raise ValueError(f\"Failed to read molecule from {sdf_file}\")\n",
    "    \n",
    "    conf = mol.GetConformer()\n",
    "    coords = np.array([list(conf.GetAtomPosition(i)) for i in range(mol.GetNumAtoms())])\n",
    "    \n",
    "    min_coords = coords.min(axis=0)\n",
    "    max_coords = coords.max(axis=0)\n",
    "    \n",
    "    center = (min_coords + max_coords) / 2\n",
    "    size = (max_coords - min_coords) + autobox_add\n",
    "\n",
    "    box_dict = {\n",
    "        \"center_x\": round(float(center[0]), 3),\n",
    "        \"center_y\": round(float(center[1]), 3),\n",
    "        \"center_z\": round(float(center[2]), 3),\n",
    "        \"size_x\": round(float(size[0]), 3),\n",
    "        \"size_y\": round(float(size[1]), 3),\n",
    "        \"size_z\": round(float(size[2]), 3)\n",
    "    }\n",
    "    return list(box_dict.values()) if tolist else box_dict"
   ]
  },
  {
   "cell_type": "code",
   "execution_count": null,
   "metadata": {},
   "outputs": [
    {
     "data": {
      "text/plain": [
       "{'center_x': 38.848,\n",
       " 'center_y': -26.77,\n",
       " 'center_z': 10.419,\n",
       " 'size_x': 14.652,\n",
       " 'size_y': 8.942,\n",
       " 'size_z': 12.509}"
      ]
     },
     "execution_count": null,
     "metadata": {},
     "output_type": "execute_result"
    }
   ],
   "source": [
    "box = get_box(lig_path)\n",
    "box"
   ]
  },
  {
   "cell_type": "code",
   "execution_count": null,
   "metadata": {},
   "outputs": [
    {
     "data": {
      "text/plain": [
       "[38.848, -26.77, 10.419, 14.652, 8.942, 12.509]"
      ]
     },
     "execution_count": null,
     "metadata": {},
     "output_type": "execute_result"
    }
   ],
   "source": [
    "box_list = get_box(lig_path,tolist=True)\n",
    "box_list"
   ]
  },
  {
   "cell_type": "code",
   "execution_count": null,
   "metadata": {},
   "outputs": [],
   "source": [
    "#| export\n",
    "def tanimoto(df, # df with SMILES and ID columns\n",
    "             smiles_col='SMILES', # colname of SMILES\n",
    "             id_col='ID', # colname of compound ID\n",
    "             target_col=None, # colname of compound values (e.g., IC50)\n",
    "             radius=2, # radius of the Morgan fingerprint.\n",
    "             ):\n",
    "    \"Calculates the Tanimoto similarity scores between all pairs of molecules in a pandas DataFrame.\"\n",
    "    \n",
    "    df = df.copy()\n",
    "    # Convert SMILES to molecule objects\n",
    "    df['Molecule'] = df[smiles_col].apply(lambda x: Chem.MolFromSmiles(x))\n",
    "\n",
    "    # Calculate fingerprints\n",
    "    df['Fingerprint'] = df['Molecule'].apply(lambda x: AllChem.GetMorganFingerprintAsBitVect(x, radius))\n",
    "\n",
    "    # Calculate similarity scores\n",
    "    similarity_scores = []\n",
    "    for i in range(len(df)):\n",
    "        for j in range(i+1, len(df)):\n",
    "            sim_score = DataStructs.TanimotoSimilarity(df['Fingerprint'][i], df['Fingerprint'][j])\n",
    "            if target_col is not None:\n",
    "                similarity_scores.append((df[id_col][i], df[id_col][j], df[smiles_col][i], df[smiles_col][j], sim_score, df[target_col][i], df[target_col][j]))\n",
    "            else:\n",
    "                similarity_scores.append((df[id_col][i], df[id_col][j], df[smiles_col][i], df[smiles_col][j], sim_score))\n",
    "\n",
    "    # Create a new DataFrame with the similarity scores\n",
    "    if target_col is not None:\n",
    "        result_df = pd.DataFrame(similarity_scores, columns=['ID1', 'ID2', 'SMILES1', 'SMILES2', 'SimilarityScore', 'Target1', 'Target2'])\n",
    "    else:\n",
    "        result_df = pd.DataFrame(similarity_scores, columns=['ID1', 'ID2', 'SMILES1', 'SMILES2', 'SimilarityScore'])\n",
    "\n",
    "    # Sort by similarity score in descending order\n",
    "    result_df.sort_values('SimilarityScore', ascending=False, inplace=True)\n",
    "    result_df = result_df.reset_index(drop=True)\n",
    "\n",
    "    return result_df"
   ]
  },
  {
   "cell_type": "code",
   "execution_count": null,
   "metadata": {},
   "outputs": [],
   "source": [
    "df = Data.get_mirati_g12d_raw()[['ID','SMILES','IC50']]\n",
    "df = df.dropna(subset= 'IC50').reset_index(drop=True)"
   ]
  },
  {
   "cell_type": "code",
   "execution_count": null,
   "metadata": {},
   "outputs": [
    {
     "data": {
      "text/html": [
       "<div>\n",
       "<style scoped>\n",
       "    .dataframe tbody tr th:only-of-type {\n",
       "        vertical-align: middle;\n",
       "    }\n",
       "\n",
       "    .dataframe tbody tr th {\n",
       "        vertical-align: top;\n",
       "    }\n",
       "\n",
       "    .dataframe thead th {\n",
       "        text-align: right;\n",
       "    }\n",
       "</style>\n",
       "<table border=\"1\" class=\"dataframe\">\n",
       "  <thead>\n",
       "    <tr style=\"text-align: right;\">\n",
       "      <th></th>\n",
       "      <th>ID</th>\n",
       "      <th>SMILES</th>\n",
       "      <th>IC50</th>\n",
       "    </tr>\n",
       "  </thead>\n",
       "  <tbody>\n",
       "    <tr>\n",
       "      <th>0</th>\n",
       "      <td>US_1</td>\n",
       "      <td>CN1CCC[C@H]1COc1nc(N2CC3CCC(C2)N3)c2cnc(cc2n1)...</td>\n",
       "      <td>124.7</td>\n",
       "    </tr>\n",
       "    <tr>\n",
       "      <th>1</th>\n",
       "      <td>US_2</td>\n",
       "      <td>CN1CCC[C@H]1COc1nc(N2CC3CCC(C2)N3)c2cnc(c(F)c2...</td>\n",
       "      <td>2.7</td>\n",
       "    </tr>\n",
       "    <tr>\n",
       "      <th>2</th>\n",
       "      <td>US_3</td>\n",
       "      <td>Cn1ccnc1CCOc1nc(N2CC3CCC(C2)N3)c2cnc(c(F)c2n1)...</td>\n",
       "      <td>9.5</td>\n",
       "    </tr>\n",
       "    <tr>\n",
       "      <th>3</th>\n",
       "      <td>US_4</td>\n",
       "      <td>Oc1cc(-c2ncc3c(nc(OCCc4ccccn4)nc3c2F)N2CC3CCC(...</td>\n",
       "      <td>496.2</td>\n",
       "    </tr>\n",
       "    <tr>\n",
       "      <th>4</th>\n",
       "      <td>US_5</td>\n",
       "      <td>Cn1nccc1COc1nc(N2CC3CCC(C2)N3)c2cnc(c(F)c2n1)-...</td>\n",
       "      <td>722.9</td>\n",
       "    </tr>\n",
       "  </tbody>\n",
       "</table>\n",
       "</div>"
      ],
      "text/plain": [
       "     ID                                             SMILES   IC50\n",
       "0  US_1  CN1CCC[C@H]1COc1nc(N2CC3CCC(C2)N3)c2cnc(cc2n1)...  124.7\n",
       "1  US_2  CN1CCC[C@H]1COc1nc(N2CC3CCC(C2)N3)c2cnc(c(F)c2...    2.7\n",
       "2  US_3  Cn1ccnc1CCOc1nc(N2CC3CCC(C2)N3)c2cnc(c(F)c2n1)...    9.5\n",
       "3  US_4  Oc1cc(-c2ncc3c(nc(OCCc4ccccn4)nc3c2F)N2CC3CCC(...  496.2\n",
       "4  US_5  Cn1nccc1COc1nc(N2CC3CCC(C2)N3)c2cnc(c(F)c2n1)-...  722.9"
      ]
     },
     "execution_count": null,
     "metadata": {},
     "output_type": "execute_result"
    }
   ],
   "source": [
    "df.head()"
   ]
  },
  {
   "cell_type": "code",
   "execution_count": null,
   "metadata": {},
   "outputs": [],
   "source": [
    "# result = tanimoto(df.head(), target_col = 'IC50')"
   ]
  },
  {
   "cell_type": "markdown",
   "metadata": {},
   "source": [
    "TODO: modify morgan/ecfp\n",
    "\n",
    "TODO: add more fingerprints"
   ]
  },
  {
   "cell_type": "markdown",
   "metadata": {},
   "source": [
    "## End"
   ]
  },
  {
   "cell_type": "code",
   "execution_count": null,
   "metadata": {},
   "outputs": [],
   "source": [
    "#| hide\n",
    "import nbdev; nbdev.nbdev_export()"
   ]
  },
  {
   "cell_type": "code",
   "execution_count": null,
   "metadata": {},
   "outputs": [],
   "source": []
  }
 ],
 "metadata": {
  "kernelspec": {
   "display_name": "python3",
   "language": "python",
   "name": "python3"
  }
 },
 "nbformat": 4,
 "nbformat_minor": 4
}
