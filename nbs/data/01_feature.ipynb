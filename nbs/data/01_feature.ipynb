{
 "cells": [
  {
   "cell_type": "markdown",
   "metadata": {},
   "source": [
    "# Feature"
   ]
  },
  {
   "cell_type": "markdown",
   "metadata": {},
   "source": [
    "## Setup"
   ]
  },
  {
   "cell_type": "code",
   "execution_count": null,
   "metadata": {},
   "outputs": [],
   "source": [
    "#| default_exp data.feature"
   ]
  },
  {
   "cell_type": "code",
   "execution_count": null,
   "metadata": {},
   "outputs": [],
   "source": [
    "#| export\n",
    "# basics\n",
    "import pandas as pd, numpy as np\n",
    "from tqdm import tqdm\n",
    "import hashlib,numba\n",
    "from tqdm.contrib.concurrent import process_map\n",
    "\n",
    "from skfp.fingerprints import AtomPairFingerprint, ECFPFingerprint, MACCSFingerprint\n",
    "from kdock.data.core import Data\n",
    "\n",
    "from sklearn.decomposition import PCA\n",
    "from sklearn.manifold import TSNE\n",
    "import os\n",
    "os.environ['TF_CPP_MIN_LOG_LEVEL'] = '2' # suppress umap tensorflow warning\n",
    "from umap import UMAP  # import UMAP class properly\n",
    "\n",
    "from rdkit import Chem\n",
    "from rdkit.Chem import Descriptors,Descriptors3D, AllChem"
   ]
  },
  {
   "cell_type": "markdown",
   "metadata": {},
   "source": [
    "## Rdkit feature"
   ]
  },
  {
   "cell_type": "code",
   "execution_count": null,
   "metadata": {},
   "outputs": [],
   "source": [
    "#| export\n",
    "def get_rdkit(SMILES:str):\n",
    "    \"\"\"\n",
    "    Extract chemical features from SMILES\n",
    "    Reference: https://greglandrum.github.io/rdkit-blog/posts/2022-12-23-descriptor-tutorial.html\n",
    "    \"\"\"\n",
    "    mol = Chem.MolFromSmiles(SMILES)\n",
    "    return Descriptors.CalcMolDescriptors(mol)"
   ]
  },
  {
   "cell_type": "code",
   "execution_count": null,
   "metadata": {},
   "outputs": [],
   "source": [
    "#| export\n",
    "def get_rdkit_3d(SMILES:str):\n",
    "    \"Extract 3d features from SMILES\"\n",
    "    mol = Chem.MolFromSmiles(SMILES)\n",
    "    mol = Chem.AddHs(mol)\n",
    "    AllChem.EmbedMolecule(mol, AllChem.ETKDG())\n",
    "    AllChem.UFFOptimizeMolecule(mol)\n",
    "    return Descriptors3D.CalcMolDescriptors3D(mol)"
   ]
  },
  {
   "cell_type": "code",
   "execution_count": null,
   "metadata": {},
   "outputs": [],
   "source": [
    "#| export\n",
    "def get_rdkit_all(SMILES:str):\n",
    "    \"Extract chemical features and 3d features from SMILES\"\n",
    "    feat = get_rdkit(SMILES)\n",
    "    feat_3d = get_rdkit_3d(SMILES)\n",
    "    return feat|feat_3d"
   ]
  },
  {
   "cell_type": "code",
   "execution_count": null,
   "metadata": {},
   "outputs": [],
   "source": [
    "#| export\n",
    "def remove_hi_corr(df: pd.DataFrame, \n",
    "                   thr=0.99 # threshold\n",
    "                   ):\n",
    "    \"Remove highly correlated features in a dataframe given a pearson threshold\"\n",
    "    corr_matrix = df.corr().abs()\n",
    "    upper = corr_matrix.where(np.triu(np.ones(corr_matrix.shape), k=1).astype(bool))\n",
    "    to_drop = [column for column in upper.columns if any(upper[column] > thr)]\n",
    "    return df.drop(to_drop, axis=1), to_drop"
   ]
  },
  {
   "cell_type": "code",
   "execution_count": null,
   "metadata": {},
   "outputs": [],
   "source": [
    "#| export\n",
    "def preprocess(df: pd.DataFrame, thr=0.99):\n",
    "    \"Remove features with no variance, and highly correlated features based on threshold.\"\n",
    "    col_ori = df.columns\n",
    "\n",
    "    # Remove columns with std == 0\n",
    "    std_zero_cols = df.columns[df.std() == 0].tolist()\n",
    "    \n",
    "    if std_zero_cols:\n",
    "        n=len(std_zero_cols)\n",
    "        print(f\"\\n {n} Columns with zero std: {std_zero_cols}\")\n",
    "    df = df.loc[:, df.std() != 0].copy()\n",
    "\n",
    "    # Remove highly correlated columns\n",
    "    df, high_corr_cols = remove_hi_corr(df, thr)\n",
    "    if high_corr_cols:\n",
    "        n=len(high_corr_cols)\n",
    "        print(f\"\\n {n} Columns removed due to high similarity (pearson>{thr}): {high_corr_cols}\")\n",
    "\n",
    "    dropping_col = set(col_ori) - set(df.columns)\n",
    "    n = len(dropping_col)\n",
    "    print(f\"\\n Total removed columns: {n}\")\n",
    "    \n",
    "    return df"
   ]
  },
  {
   "cell_type": "code",
   "execution_count": null,
   "metadata": {},
   "outputs": [],
   "source": [
    "#| export\n",
    "def get_rdkit_df(df: pd.DataFrame,\n",
    "                 include_3d=False,\n",
    "                 col='SMILES',\n",
    "                 postprocess=False,\n",
    "                 chunksize=128, # for parallel process_map \n",
    "                 ):\n",
    "    \"Extract rdkit features (optionally in parallel with 3D) from SMILES in a df\"\n",
    "    func = get_rdkit_all if include_3d else get_rdkit\n",
    "    smiles_list = df[col].tolist()\n",
    "\n",
    "    features = process_map(func, smiles_list,chunksize=chunksize)\n",
    "\n",
    "    out = pd.DataFrame(features)\n",
    "\n",
    "    if postprocess:\n",
    "        out = StandardScaler().fit_transform(out)\n",
    "        out = preprocess(out) # remove redundant\n",
    "\n",
    "    return out"
   ]
  },
  {
   "cell_type": "code",
   "execution_count": null,
   "metadata": {},
   "outputs": [
    {
     "data": {
      "text/html": [
       "<div>\n",
       "<style scoped>\n",
       "    .dataframe tbody tr th:only-of-type {\n",
       "        vertical-align: middle;\n",
       "    }\n",
       "\n",
       "    .dataframe tbody tr th {\n",
       "        vertical-align: top;\n",
       "    }\n",
       "\n",
       "    .dataframe thead th {\n",
       "        text-align: right;\n",
       "    }\n",
       "</style>\n",
       "<table border=\"1\" class=\"dataframe\">\n",
       "  <thead>\n",
       "    <tr style=\"text-align: right;\">\n",
       "      <th></th>\n",
       "      <th>name</th>\n",
       "      <th>SMILES</th>\n",
       "      <th>inhibition</th>\n",
       "      <th>activity</th>\n",
       "    </tr>\n",
       "  </thead>\n",
       "  <tbody>\n",
       "    <tr>\n",
       "      <th>0</th>\n",
       "      <td>CEFPIRAMIDE</td>\n",
       "      <td>Cc1cc(O)c(C(=O)NC(C(=O)NC2C(=O)N3C(C(=O)O)=C(C...</td>\n",
       "      <td>0.041572</td>\n",
       "      <td>1</td>\n",
       "    </tr>\n",
       "    <tr>\n",
       "      <th>1</th>\n",
       "      <td>GEMIFLOXACIN MESYLATE</td>\n",
       "      <td>CON=C1CN(c2nc3c(cc2F)c(=O)c(C(=O)O)cn3C2CC2)CC...</td>\n",
       "      <td>0.041876</td>\n",
       "      <td>1</td>\n",
       "    </tr>\n",
       "    <tr>\n",
       "      <th>2</th>\n",
       "      <td>POLYMYXIN B SULFATE</td>\n",
       "      <td>CCC(C)CCCCC(=O)NC(CCN)C(=O)NC(C(=O)NC(CCN)C(=O...</td>\n",
       "      <td>0.041916</td>\n",
       "      <td>1</td>\n",
       "    </tr>\n",
       "    <tr>\n",
       "      <th>3</th>\n",
       "      <td>PRAXADINE HYDROCHLORIDE</td>\n",
       "      <td>Cl.N=C(N)n1cccn1</td>\n",
       "      <td>0.041964</td>\n",
       "      <td>1</td>\n",
       "    </tr>\n",
       "    <tr>\n",
       "      <th>4</th>\n",
       "      <td>CHLORHEXIDINE DIHYDROCHLORIDE</td>\n",
       "      <td>Cl.Cl.N=C(NCCCCCCNC(=N)NC(=N)Nc1ccc(Cl)cc1)NC(...</td>\n",
       "      <td>0.042295</td>\n",
       "      <td>1</td>\n",
       "    </tr>\n",
       "  </tbody>\n",
       "</table>\n",
       "</div>"
      ],
      "text/plain": [
       "                            name  \\\n",
       "0                    CEFPIRAMIDE   \n",
       "1          GEMIFLOXACIN MESYLATE   \n",
       "2            POLYMYXIN B SULFATE   \n",
       "3        PRAXADINE HYDROCHLORIDE   \n",
       "4  CHLORHEXIDINE DIHYDROCHLORIDE   \n",
       "\n",
       "                                              SMILES  inhibition  activity  \n",
       "0  Cc1cc(O)c(C(=O)NC(C(=O)NC2C(=O)N3C(C(=O)O)=C(C...    0.041572         1  \n",
       "1  CON=C1CN(c2nc3c(cc2F)c(=O)c(C(=O)O)cn3C2CC2)CC...    0.041876         1  \n",
       "2  CCC(C)CCCCC(=O)NC(CCN)C(=O)NC(C(=O)NC(CCN)C(=O...    0.041916         1  \n",
       "3                                   Cl.N=C(N)n1cccn1    0.041964         1  \n",
       "4  Cl.Cl.N=C(NCCCCCCNC(=N)NC(=N)Nc1ccc(Cl)cc1)NC(...    0.042295         1  "
      ]
     },
     "execution_count": null,
     "metadata": {},
     "output_type": "execute_result"
    }
   ],
   "source": [
    "df=Data.get_antibiotics().head(300)\n",
    "df.head()"
   ]
  },
  {
   "cell_type": "code",
   "execution_count": null,
   "metadata": {},
   "outputs": [
    {
     "data": {
      "application/vnd.jupyter.widget-view+json": {
       "model_id": "afb6fe010c3e48328fed2a50dfbd95df",
       "version_major": 2,
       "version_minor": 0
      },
      "text/plain": [
       "  0%|          | 0/2335 [00:00<?, ?it/s]"
      ]
     },
     "metadata": {},
     "output_type": "display_data"
    },
    {
     "name": "stdout",
     "output_type": "stream",
     "text": [
      "CPU times: user 311 ms, sys: 195 ms, total: 506 ms\n",
      "Wall time: 18.7 s\n"
     ]
    },
    {
     "data": {
      "text/html": [
       "<div>\n",
       "<style scoped>\n",
       "    .dataframe tbody tr th:only-of-type {\n",
       "        vertical-align: middle;\n",
       "    }\n",
       "\n",
       "    .dataframe tbody tr th {\n",
       "        vertical-align: top;\n",
       "    }\n",
       "\n",
       "    .dataframe thead th {\n",
       "        text-align: right;\n",
       "    }\n",
       "</style>\n",
       "<table border=\"1\" class=\"dataframe\">\n",
       "  <thead>\n",
       "    <tr style=\"text-align: right;\">\n",
       "      <th></th>\n",
       "      <th>MaxAbsEStateIndex</th>\n",
       "      <th>MaxEStateIndex</th>\n",
       "      <th>MinAbsEStateIndex</th>\n",
       "      <th>MinEStateIndex</th>\n",
       "      <th>qed</th>\n",
       "      <th>SPS</th>\n",
       "      <th>MolWt</th>\n",
       "      <th>HeavyAtomMolWt</th>\n",
       "      <th>ExactMolWt</th>\n",
       "      <th>NumValenceElectrons</th>\n",
       "      <th>...</th>\n",
       "      <th>fr_sulfide</th>\n",
       "      <th>fr_sulfonamd</th>\n",
       "      <th>fr_sulfone</th>\n",
       "      <th>fr_term_acetylene</th>\n",
       "      <th>fr_tetrazole</th>\n",
       "      <th>fr_thiazole</th>\n",
       "      <th>fr_thiocyan</th>\n",
       "      <th>fr_thiophene</th>\n",
       "      <th>fr_unbrch_alkane</th>\n",
       "      <th>fr_urea</th>\n",
       "    </tr>\n",
       "  </thead>\n",
       "  <tbody>\n",
       "    <tr>\n",
       "      <th>0</th>\n",
       "      <td>13.503995</td>\n",
       "      <td>13.503995</td>\n",
       "      <td>0.064423</td>\n",
       "      <td>-1.323430</td>\n",
       "      <td>0.162954</td>\n",
       "      <td>18.619048</td>\n",
       "      <td>612.650</td>\n",
       "      <td>588.458</td>\n",
       "      <td>612.120937</td>\n",
       "      <td>218</td>\n",
       "      <td>...</td>\n",
       "      <td>2</td>\n",
       "      <td>0</td>\n",
       "      <td>0</td>\n",
       "      <td>0</td>\n",
       "      <td>1</td>\n",
       "      <td>0</td>\n",
       "      <td>0</td>\n",
       "      <td>0</td>\n",
       "      <td>0</td>\n",
       "      <td>0</td>\n",
       "    </tr>\n",
       "    <tr>\n",
       "      <th>1</th>\n",
       "      <td>14.874521</td>\n",
       "      <td>14.874521</td>\n",
       "      <td>0.033885</td>\n",
       "      <td>-3.666667</td>\n",
       "      <td>0.398220</td>\n",
       "      <td>19.484848</td>\n",
       "      <td>485.494</td>\n",
       "      <td>461.302</td>\n",
       "      <td>485.138047</td>\n",
       "      <td>180</td>\n",
       "      <td>...</td>\n",
       "      <td>0</td>\n",
       "      <td>0</td>\n",
       "      <td>0</td>\n",
       "      <td>0</td>\n",
       "      <td>0</td>\n",
       "      <td>0</td>\n",
       "      <td>0</td>\n",
       "      <td>0</td>\n",
       "      <td>0</td>\n",
       "      <td>0</td>\n",
       "    </tr>\n",
       "    <tr>\n",
       "      <th>2</th>\n",
       "      <td>14.537562</td>\n",
       "      <td>14.537562</td>\n",
       "      <td>0.017282</td>\n",
       "      <td>-4.666667</td>\n",
       "      <td>0.026232</td>\n",
       "      <td>22.266667</td>\n",
       "      <td>1301.578</td>\n",
       "      <td>1200.778</td>\n",
       "      <td>1300.717307</td>\n",
       "      <td>512</td>\n",
       "      <td>...</td>\n",
       "      <td>0</td>\n",
       "      <td>0</td>\n",
       "      <td>0</td>\n",
       "      <td>0</td>\n",
       "      <td>0</td>\n",
       "      <td>0</td>\n",
       "      <td>0</td>\n",
       "      <td>0</td>\n",
       "      <td>1</td>\n",
       "      <td>0</td>\n",
       "    </tr>\n",
       "    <tr>\n",
       "      <th>3</th>\n",
       "      <td>6.830278</td>\n",
       "      <td>6.830278</td>\n",
       "      <td>0.000000</td>\n",
       "      <td>-0.060185</td>\n",
       "      <td>0.401182</td>\n",
       "      <td>8.000000</td>\n",
       "      <td>146.581</td>\n",
       "      <td>139.525</td>\n",
       "      <td>146.035924</td>\n",
       "      <td>50</td>\n",
       "      <td>...</td>\n",
       "      <td>0</td>\n",
       "      <td>0</td>\n",
       "      <td>0</td>\n",
       "      <td>0</td>\n",
       "      <td>0</td>\n",
       "      <td>0</td>\n",
       "      <td>0</td>\n",
       "      <td>0</td>\n",
       "      <td>0</td>\n",
       "      <td>0</td>\n",
       "    </tr>\n",
       "    <tr>\n",
       "      <th>4</th>\n",
       "      <td>7.856055</td>\n",
       "      <td>7.856055</td>\n",
       "      <td>0.000000</td>\n",
       "      <td>-0.001480</td>\n",
       "      <td>0.113966</td>\n",
       "      <td>9.500000</td>\n",
       "      <td>578.380</td>\n",
       "      <td>546.124</td>\n",
       "      <td>576.156552</td>\n",
       "      <td>198</td>\n",
       "      <td>...</td>\n",
       "      <td>0</td>\n",
       "      <td>0</td>\n",
       "      <td>0</td>\n",
       "      <td>0</td>\n",
       "      <td>0</td>\n",
       "      <td>0</td>\n",
       "      <td>0</td>\n",
       "      <td>0</td>\n",
       "      <td>5</td>\n",
       "      <td>0</td>\n",
       "    </tr>\n",
       "    <tr>\n",
       "      <th>...</th>\n",
       "      <td>...</td>\n",
       "      <td>...</td>\n",
       "      <td>...</td>\n",
       "      <td>...</td>\n",
       "      <td>...</td>\n",
       "      <td>...</td>\n",
       "      <td>...</td>\n",
       "      <td>...</td>\n",
       "      <td>...</td>\n",
       "      <td>...</td>\n",
       "      <td>...</td>\n",
       "      <td>...</td>\n",
       "      <td>...</td>\n",
       "      <td>...</td>\n",
       "      <td>...</td>\n",
       "      <td>...</td>\n",
       "      <td>...</td>\n",
       "      <td>...</td>\n",
       "      <td>...</td>\n",
       "      <td>...</td>\n",
       "      <td>...</td>\n",
       "    </tr>\n",
       "    <tr>\n",
       "      <th>2330</th>\n",
       "      <td>13.573680</td>\n",
       "      <td>13.573680</td>\n",
       "      <td>0.137961</td>\n",
       "      <td>-2.176944</td>\n",
       "      <td>0.467164</td>\n",
       "      <td>51.551724</td>\n",
       "      <td>410.507</td>\n",
       "      <td>376.235</td>\n",
       "      <td>410.230453</td>\n",
       "      <td>164</td>\n",
       "      <td>...</td>\n",
       "      <td>0</td>\n",
       "      <td>0</td>\n",
       "      <td>0</td>\n",
       "      <td>0</td>\n",
       "      <td>0</td>\n",
       "      <td>0</td>\n",
       "      <td>0</td>\n",
       "      <td>0</td>\n",
       "      <td>0</td>\n",
       "      <td>0</td>\n",
       "    </tr>\n",
       "    <tr>\n",
       "      <th>2331</th>\n",
       "      <td>12.138936</td>\n",
       "      <td>12.138936</td>\n",
       "      <td>0.000000</td>\n",
       "      <td>-5.123501</td>\n",
       "      <td>0.093820</td>\n",
       "      <td>11.888889</td>\n",
       "      <td>695.596</td>\n",
       "      <td>679.468</td>\n",
       "      <td>694.969090</td>\n",
       "      <td>216</td>\n",
       "      <td>...</td>\n",
       "      <td>0</td>\n",
       "      <td>0</td>\n",
       "      <td>0</td>\n",
       "      <td>0</td>\n",
       "      <td>0</td>\n",
       "      <td>0</td>\n",
       "      <td>0</td>\n",
       "      <td>0</td>\n",
       "      <td>0</td>\n",
       "      <td>0</td>\n",
       "    </tr>\n",
       "    <tr>\n",
       "      <th>2332</th>\n",
       "      <td>12.174764</td>\n",
       "      <td>12.174764</td>\n",
       "      <td>0.218955</td>\n",
       "      <td>-3.483611</td>\n",
       "      <td>0.791627</td>\n",
       "      <td>11.294118</td>\n",
       "      <td>248.307</td>\n",
       "      <td>236.211</td>\n",
       "      <td>248.061949</td>\n",
       "      <td>88</td>\n",
       "      <td>...</td>\n",
       "      <td>0</td>\n",
       "      <td>0</td>\n",
       "      <td>1</td>\n",
       "      <td>0</td>\n",
       "      <td>0</td>\n",
       "      <td>0</td>\n",
       "      <td>0</td>\n",
       "      <td>0</td>\n",
       "      <td>0</td>\n",
       "      <td>0</td>\n",
       "    </tr>\n",
       "    <tr>\n",
       "      <th>2333</th>\n",
       "      <td>11.869649</td>\n",
       "      <td>11.869649</td>\n",
       "      <td>0.000000</td>\n",
       "      <td>-5.378238</td>\n",
       "      <td>0.045290</td>\n",
       "      <td>12.161290</td>\n",
       "      <td>960.822</td>\n",
       "      <td>936.630</td>\n",
       "      <td>959.982411</td>\n",
       "      <td>302</td>\n",
       "      <td>...</td>\n",
       "      <td>0</td>\n",
       "      <td>0</td>\n",
       "      <td>0</td>\n",
       "      <td>0</td>\n",
       "      <td>0</td>\n",
       "      <td>0</td>\n",
       "      <td>0</td>\n",
       "      <td>0</td>\n",
       "      <td>0</td>\n",
       "      <td>0</td>\n",
       "    </tr>\n",
       "    <tr>\n",
       "      <th>2334</th>\n",
       "      <td>11.526326</td>\n",
       "      <td>11.526326</td>\n",
       "      <td>0.025852</td>\n",
       "      <td>-0.883391</td>\n",
       "      <td>0.224679</td>\n",
       "      <td>13.047619</td>\n",
       "      <td>562.670</td>\n",
       "      <td>528.398</td>\n",
       "      <td>562.258006</td>\n",
       "      <td>214</td>\n",
       "      <td>...</td>\n",
       "      <td>0</td>\n",
       "      <td>0</td>\n",
       "      <td>0</td>\n",
       "      <td>0</td>\n",
       "      <td>0</td>\n",
       "      <td>0</td>\n",
       "      <td>0</td>\n",
       "      <td>0</td>\n",
       "      <td>0</td>\n",
       "      <td>0</td>\n",
       "    </tr>\n",
       "  </tbody>\n",
       "</table>\n",
       "<p>2335 rows × 210 columns</p>\n",
       "</div>"
      ],
      "text/plain": [
       "      MaxAbsEStateIndex  MaxEStateIndex  MinAbsEStateIndex  MinEStateIndex  \\\n",
       "0             13.503995       13.503995           0.064423       -1.323430   \n",
       "1             14.874521       14.874521           0.033885       -3.666667   \n",
       "2             14.537562       14.537562           0.017282       -4.666667   \n",
       "3              6.830278        6.830278           0.000000       -0.060185   \n",
       "4              7.856055        7.856055           0.000000       -0.001480   \n",
       "...                 ...             ...                ...             ...   \n",
       "2330          13.573680       13.573680           0.137961       -2.176944   \n",
       "2331          12.138936       12.138936           0.000000       -5.123501   \n",
       "2332          12.174764       12.174764           0.218955       -3.483611   \n",
       "2333          11.869649       11.869649           0.000000       -5.378238   \n",
       "2334          11.526326       11.526326           0.025852       -0.883391   \n",
       "\n",
       "           qed        SPS     MolWt  HeavyAtomMolWt   ExactMolWt  \\\n",
       "0     0.162954  18.619048   612.650         588.458   612.120937   \n",
       "1     0.398220  19.484848   485.494         461.302   485.138047   \n",
       "2     0.026232  22.266667  1301.578        1200.778  1300.717307   \n",
       "3     0.401182   8.000000   146.581         139.525   146.035924   \n",
       "4     0.113966   9.500000   578.380         546.124   576.156552   \n",
       "...        ...        ...       ...             ...          ...   \n",
       "2330  0.467164  51.551724   410.507         376.235   410.230453   \n",
       "2331  0.093820  11.888889   695.596         679.468   694.969090   \n",
       "2332  0.791627  11.294118   248.307         236.211   248.061949   \n",
       "2333  0.045290  12.161290   960.822         936.630   959.982411   \n",
       "2334  0.224679  13.047619   562.670         528.398   562.258006   \n",
       "\n",
       "      NumValenceElectrons  ...  fr_sulfide  fr_sulfonamd  fr_sulfone  \\\n",
       "0                     218  ...           2             0           0   \n",
       "1                     180  ...           0             0           0   \n",
       "2                     512  ...           0             0           0   \n",
       "3                      50  ...           0             0           0   \n",
       "4                     198  ...           0             0           0   \n",
       "...                   ...  ...         ...           ...         ...   \n",
       "2330                  164  ...           0             0           0   \n",
       "2331                  216  ...           0             0           0   \n",
       "2332                   88  ...           0             0           1   \n",
       "2333                  302  ...           0             0           0   \n",
       "2334                  214  ...           0             0           0   \n",
       "\n",
       "      fr_term_acetylene  fr_tetrazole  fr_thiazole  fr_thiocyan  fr_thiophene  \\\n",
       "0                     0             1            0            0             0   \n",
       "1                     0             0            0            0             0   \n",
       "2                     0             0            0            0             0   \n",
       "3                     0             0            0            0             0   \n",
       "4                     0             0            0            0             0   \n",
       "...                 ...           ...          ...          ...           ...   \n",
       "2330                  0             0            0            0             0   \n",
       "2331                  0             0            0            0             0   \n",
       "2332                  0             0            0            0             0   \n",
       "2333                  0             0            0            0             0   \n",
       "2334                  0             0            0            0             0   \n",
       "\n",
       "      fr_unbrch_alkane  fr_urea  \n",
       "0                    0        0  \n",
       "1                    0        0  \n",
       "2                    1        0  \n",
       "3                    0        0  \n",
       "4                    5        0  \n",
       "...                ...      ...  \n",
       "2330                 0        0  \n",
       "2331                 0        0  \n",
       "2332                 0        0  \n",
       "2333                 0        0  \n",
       "2334                 0        0  \n",
       "\n",
       "[2335 rows x 210 columns]"
      ]
     },
     "execution_count": null,
     "metadata": {},
     "output_type": "execute_result"
    }
   ],
   "source": [
    "# %%time\n",
    "# feat_raw=get_rdkit_df(df)\n",
    "# feat_raw"
   ]
  },
  {
   "cell_type": "code",
   "execution_count": null,
   "metadata": {},
   "outputs": [],
   "source": [
    "# feat = get_rdkit_df(df,postprocess=True)\n",
    "# feat"
   ]
  },
  {
   "cell_type": "markdown",
   "metadata": {},
   "source": [
    "## Morgan fingerprints (ECFP)"
   ]
  },
  {
   "cell_type": "markdown",
   "metadata": {},
   "source": [
    "Reference:\n",
    "1. https://www.kaggle.com/code/michaszafarczyk/molecular-fingerprints-using-scikit-fingerprints\n",
    "2. https://github.com/scikit-fingerprints/scikit-fingerprints\n",
    "3. https://www.kaggle.com/code/towardsentropy/fingerprint-tips-and-tricks"
   ]
  },
  {
   "cell_type": "code",
   "execution_count": null,
   "metadata": {},
   "outputs": [],
   "source": [
    "#| export\n",
    "def get_fp(SMILES, \n",
    "           name='ecfp',\n",
    "           ELEMENTS_PER_WORKER = 1_000_000):\n",
    "    \"Get molecule fingerprints using scikit-fingerprints\"\n",
    "    if name == 'ecfp':\n",
    "        fp_transformer = ECFPFingerprint(fp_size=2048, radius=3, n_jobs=-1)\n",
    "    elif name == 'ap':\n",
    "        fp_transformer = AtomPairFingerprint(fp_size=2048, n_jobs=-1)\n",
    "    elif name == 'maccs':\n",
    "        fp_transformer = MACCSFingerprint(n_jobs=-1)\n",
    "    else:\n",
    "        raise Exception('Wrong fingerprint name!')\n",
    "    \n",
    "    middle_parts = []\n",
    "    k_splits = len(SMILES) // ELEMENTS_PER_WORKER\n",
    "        \n",
    "    for i in tqdm(range(k_splits)):\n",
    "        middle_parts.append(fp_transformer.transform(SMILES[i * ELEMENTS_PER_WORKER: (i + 1) * ELEMENTS_PER_WORKER]))\n",
    "        \n",
    "    if len(SMILES) % ELEMENTS_PER_WORKER > 0:   \n",
    "        middle_parts.append(fp_transformer.transform(SMILES[k_splits * ELEMENTS_PER_WORKER:]))\n",
    "    \n",
    "    return np.concatenate(middle_parts)"
   ]
  },
  {
   "cell_type": "code",
   "execution_count": null,
   "metadata": {},
   "outputs": [
    {
     "name": "stderr",
     "output_type": "stream",
     "text": [
      "0it [00:00, ?it/s]\n"
     ]
    },
    {
     "name": "stdout",
     "output_type": "stream",
     "text": [
      "CPU times: user 39.3 ms, sys: 136 ms, total: 176 ms\n",
      "Wall time: 3.02 s\n"
     ]
    }
   ],
   "source": [
    "# %%time\n",
    "# fp = get_fp(df.SMILES, name='ecfp')\n",
    "# fp"
   ]
  },
  {
   "cell_type": "markdown",
   "metadata": {},
   "source": [
    "## Tanimoto"
   ]
  },
  {
   "cell_type": "markdown",
   "metadata": {},
   "source": [
    "Reference: https://www.kaggle.com/code/towardsentropy/fingerprint-tips-and-tricks/notebook"
   ]
  },
  {
   "cell_type": "markdown",
   "metadata": {},
   "source": [
    "Slow version:"
   ]
  },
  {
   "cell_type": "markdown",
   "metadata": {},
   "source": [
    "Method 1"
   ]
  },
  {
   "cell_type": "code",
   "execution_count": null,
   "metadata": {},
   "outputs": [],
   "source": [
    "from scipy.spatial import distance"
   ]
  },
  {
   "cell_type": "code",
   "execution_count": null,
   "metadata": {},
   "outputs": [],
   "source": [
    "# %%time\n",
    "# tanimotos_scipy = 1-distance.cdist(fp, fp, metric='jaccard')\n",
    "# # 30.4s"
   ]
  },
  {
   "cell_type": "markdown",
   "metadata": {},
   "source": [
    "A little faster with parallel"
   ]
  },
  {
   "cell_type": "code",
   "execution_count": null,
   "metadata": {},
   "outputs": [],
   "source": [
    "from sklearn.metrics import pairwise_distances"
   ]
  },
  {
   "cell_type": "code",
   "execution_count": null,
   "metadata": {},
   "outputs": [],
   "source": [
    "# %%time\n",
    "# tanimotos_sklearn = 1 - pairwise_distances(fp, metric='jaccard', n_jobs=-1)\n",
    "# # 13.1s"
   ]
  },
  {
   "cell_type": "markdown",
   "metadata": {},
   "source": [
    "Method 2"
   ]
  },
  {
   "cell_type": "code",
   "execution_count": null,
   "metadata": {},
   "outputs": [],
   "source": [
    "from rdkit.Chem import DataStructs"
   ]
  },
  {
   "cell_type": "code",
   "execution_count": null,
   "metadata": {},
   "outputs": [],
   "source": [
    "# %%time\n",
    "# tanimotos_rdkit = np.array([DataStructs.BulkTanimotoSimilarity(i, fp) for i in fp])"
   ]
  },
  {
   "cell_type": "markdown",
   "metadata": {},
   "source": [
    "Method 3"
   ]
  },
  {
   "cell_type": "code",
   "execution_count": null,
   "metadata": {},
   "outputs": [],
   "source": [
    "def tanimoto_bitwise(fps_np):\n",
    "    intersection = (fps_np[:,None] & fps_np[None]).sum(-1)\n",
    "    union = (fps_np[:,None] | fps_np[None]).sum(-1)\n",
    "    return intersection / union"
   ]
  },
  {
   "cell_type": "code",
   "execution_count": null,
   "metadata": {},
   "outputs": [],
   "source": [
    "# tanimoto_bitwise(fp)"
   ]
  },
  {
   "cell_type": "markdown",
   "metadata": {},
   "source": [
    "### Numba tanimoto"
   ]
  },
  {
   "cell_type": "code",
   "execution_count": null,
   "metadata": {},
   "outputs": [],
   "source": [
    "#| export\n",
    "@numba.njit(parallel=True)\n",
    "def tanimoto_numba(fps):\n",
    "    n = fps.shape[0]\n",
    "    result = np.zeros((n, n), dtype=np.float32)\n",
    "    \n",
    "    for i in numba.prange(n):\n",
    "        for j in range(i, n):  # only upper triangle\n",
    "            inter = np.bitwise_and(fps[i], fps[j]).sum()\n",
    "            union = np.bitwise_or(fps[i], fps[j]).sum()\n",
    "            sim = inter / union if union > 0 else 0.0\n",
    "            result[i, j] = sim\n",
    "            result[j, i] = sim  # fill symmetric position\n",
    "    return result"
   ]
  },
  {
   "cell_type": "code",
   "execution_count": null,
   "metadata": {},
   "outputs": [
    {
     "name": "stdout",
     "output_type": "stream",
     "text": [
      "CPU times: user 4.65 s, sys: 9.63 ms, total: 4.65 s\n",
      "Wall time: 3.07 s\n"
     ]
    },
    {
     "data": {
      "text/plain": [
       "array([[1.        , 0.11695907, 0.12676056, ..., 0.03225806, 0.05660377,\n",
       "        0.08139535],\n",
       "       [0.11695907, 1.        , 0.13020833, ..., 0.06060606, 0.10687023,\n",
       "        0.09395973],\n",
       "       [0.12676056, 0.13020833, 1.        , ..., 0.04761905, 0.0718232 ,\n",
       "        0.10416666],\n",
       "       ...,\n",
       "       [0.03225806, 0.06060606, 0.04761905, ..., 1.        , 0.12328767,\n",
       "        0.04166667],\n",
       "       [0.05660377, 0.10687023, 0.0718232 , ..., 0.12328767, 1.        ,\n",
       "        0.06060606],\n",
       "       [0.08139535, 0.09395973, 0.10416666, ..., 0.04166667, 0.06060606,\n",
       "        1.        ]], dtype=float32)"
      ]
     },
     "execution_count": null,
     "metadata": {},
     "output_type": "execute_result"
    }
   ],
   "source": [
    "# %%time\n",
    "# tanimoto_numba(fp)"
   ]
  },
  {
   "cell_type": "markdown",
   "metadata": {},
   "source": [
    "## Use np.packbits to save space"
   ]
  },
  {
   "cell_type": "markdown",
   "metadata": {},
   "source": [
    "Packbits will transform binary to decimals, if it is [1, 0, 1, 1, 0, 0, 0, 0, 1, 1], then it will take 8 bits in the sequence, [10110000] and [11000000], for the latter, if not enough for 8 bits length, it will add 0. \n",
    "\n",
    "To transform binary to decimals, take [10110000] for example, calculate through 1*2^7 + 0*2^6 + 1*2^5 + 1*2^4 + 0*2^3 + 0*2^2 + 0*2^1 + 0*2^0=176"
   ]
  },
  {
   "cell_type": "code",
   "execution_count": null,
   "metadata": {},
   "outputs": [],
   "source": [
    "#| export\n",
    "def compress_fp(array):\n",
    "    return np.packbits(array,axis=1)"
   ]
  },
  {
   "cell_type": "code",
   "execution_count": null,
   "metadata": {},
   "outputs": [
    {
     "data": {
      "text/plain": [
       "array([[100,   0,   0, ...,  16,   0,   0],\n",
       "       [  0, 128,   0, ...,   0,   0,   0],\n",
       "       [ 64,   0,   0, ...,   0,  16,   0],\n",
       "       ...,\n",
       "       [  0,   0,   0, ...,   0,   0,   0],\n",
       "       [  0,   0,  32, ...,   0,  16,   0],\n",
       "       [  0, 128,   0, ...,   0,  32,   0]], dtype=uint8)"
      ]
     },
     "execution_count": null,
     "metadata": {},
     "output_type": "execute_result"
    }
   ],
   "source": [
    "# compress_fp(fp)"
   ]
  },
  {
   "cell_type": "markdown",
   "metadata": {},
   "source": [
    "## Merge same molecules\n",
    "> Utilize hash sha256 to encode morgan fp and find same molecule"
   ]
  },
  {
   "cell_type": "code",
   "execution_count": null,
   "metadata": {},
   "outputs": [],
   "source": [
    "#| export\n",
    "def hash_fp(fp_row):\n",
    "    \"Hash a binary fingerprint row using SHA256\"\n",
    "    return hashlib.sha256(fp_row.tobytes()).hexdigest()"
   ]
  },
  {
   "cell_type": "code",
   "execution_count": null,
   "metadata": {},
   "outputs": [
    {
     "data": {
      "text/plain": [
       "'8deb65ba1323d46ca59ebf1206a497761ed2b83a518aa7227a965d5426e25aea'"
      ]
     },
     "execution_count": null,
     "metadata": {},
     "output_type": "execute_result"
    }
   ],
   "source": [
    "# hash_fp(fp[0])"
   ]
  },
  {
   "cell_type": "code",
   "execution_count": null,
   "metadata": {},
   "outputs": [],
   "source": [
    "#| export\n",
    "def get_same_mol_group(df, smi_col='SMILES'):\n",
    "    \"Utilize hash sha256 to encode morgan fp and find same molecule; assign same molecules to the same group number.\"\n",
    "    df = df.copy()\n",
    "    smiles = df[smi_col].tolist()\n",
    "    \n",
    "    # Compute fingerprints using your custom function\n",
    "    fps = get_fp(smiles)\n",
    "    \n",
    "    # Hash each fingerprint\n",
    "    # hashes = [hash_fp(fp) for fp in fps]\n",
    "    hashes = process_map(hash_fp, fps, chunksize=256) # if parallel\n",
    "    \n",
    "    # Assign a group number based on hash buckets\n",
    "    hash_to_group = {}\n",
    "    group_ids = []\n",
    "    group_counter = 0\n",
    "    for h in hashes:\n",
    "        if h not in hash_to_group:\n",
    "            hash_to_group[h] = group_counter\n",
    "            group_counter += 1\n",
    "        group_ids.append(hash_to_group[h])\n",
    "    \n",
    "    df['group'] = group_ids\n",
    "    return df"
   ]
  },
  {
   "cell_type": "code",
   "execution_count": null,
   "metadata": {},
   "outputs": [
    {
     "name": "stderr",
     "output_type": "stream",
     "text": [
      "0it [00:00, ?it/s]\n"
     ]
    },
    {
     "data": {
      "application/vnd.jupyter.widget-view+json": {
       "model_id": "70033e1e2e3a4d879ad81080fcf0e378",
       "version_major": 2,
       "version_minor": 0
      },
      "text/plain": [
       "  0%|          | 0/2335 [00:00<?, ?it/s]"
      ]
     },
     "metadata": {},
     "output_type": "display_data"
    },
    {
     "name": "stdout",
     "output_type": "stream",
     "text": [
      "CPU times: user 73.8 ms, sys: 178 ms, total: 252 ms\n",
      "Wall time: 779 ms\n"
     ]
    }
   ],
   "source": [
    "# %%time\n",
    "# df2 = get_same_mol_group(df)\n",
    "# df2.group.value_counts()"
   ]
  },
  {
   "cell_type": "markdown",
   "metadata": {},
   "source": [
    "## Dimensionality reduction"
   ]
  },
  {
   "cell_type": "code",
   "execution_count": null,
   "metadata": {},
   "outputs": [],
   "source": [
    "#| export\n",
    "def reduce_feature(data, # df or numpy array\n",
    "                   method='pca', # dimensionality reduction method, accept both capital and lower case\n",
    "                   complexity=20, # None for PCA; perfplexity for TSNE, recommend: 30; n_neigbors for UMAP, recommend: 15\n",
    "                   n=2, # n_components\n",
    "                   seed: int=123, # seed for random_state\n",
    "                   **kwargs, # arguments from PCA, TSNE, or UMAP depends on which method to use\n",
    "                  ):\n",
    "    \n",
    "    \"Reduce the dimensionality given a dataframe of values\"\n",
    "    \n",
    "    method = method.lower()\n",
    "    assert method in ['pca','tsne','umap'], \"Please choose a method among PCA, TSNE, and UMAP\"\n",
    "\n",
    "    if method == 'pca':\n",
    "        reducer = PCA(n_components=n, random_state=seed,**kwargs)\n",
    "    elif method == 'tsne':\n",
    "        reducer = TSNE(n_components=n,\n",
    "                       random_state=seed, \n",
    "                       perplexity = complexity, # default from official is 30 \n",
    "                      **kwargs)\n",
    "    elif method == 'umap':\n",
    "        reducer = UMAP(n_components=n, \n",
    "                       random_state=seed, \n",
    "                       n_neighbors=complexity, # default from official is 15, try 15-200\n",
    "                      **kwargs)\n",
    "    else:\n",
    "        raise ValueError('Invalid method specified')\n",
    "\n",
    "    proj = reducer.fit_transform(data)\n",
    "    embedding_df = pd.DataFrame(proj).set_index(data.index) if isinstance(data,pd.DataFrame) else pd.DataFrame(proj)\n",
    "    embedding_df.columns = [f\"{method.upper()}{i}\" for i in range(1, n + 1)]\n",
    "\n",
    "    return embedding_df"
   ]
  },
  {
   "cell_type": "code",
   "execution_count": null,
   "metadata": {},
   "outputs": [],
   "source": [
    "# pca = reduce_feature(fp,'pca',n=10)\n",
    "# pca"
   ]
  },
  {
   "cell_type": "markdown",
   "metadata": {},
   "source": [
    "## End"
   ]
  },
  {
   "cell_type": "code",
   "execution_count": null,
   "metadata": {},
   "outputs": [],
   "source": [
    "#| hide\n",
    "import nbdev; nbdev.nbdev_export()"
   ]
  },
  {
   "cell_type": "markdown",
   "metadata": {},
   "source": [
    "## Old"
   ]
  },
  {
   "cell_type": "code",
   "execution_count": null,
   "metadata": {},
   "outputs": [],
   "source": [
    "#| hide\n",
    "# #| export\n",
    "# def tanimoto(df, # df with SMILES and ID columns\n",
    "#              smiles_col='SMILES', # colname of SMILES\n",
    "#              id_col='ID', # colname of compound ID\n",
    "#              target_col=None, # colname of compound values (e.g., IC50)\n",
    "#              radius=2, # radius of the Morgan fingerprint.\n",
    "#              ):\n",
    "#     \"Calculates the Tanimoto similarity scores between all pairs of molecules in a pandas DataFrame.\"\n",
    "    \n",
    "#     df = df.copy()\n",
    "#     # Convert SMILES to molecule objects\n",
    "#     df['Molecule'] = df[smiles_col].apply(lambda x: Chem.MolFromSmiles(x))\n",
    "\n",
    "#     # Calculate fingerprints\n",
    "#     df['Fingerprint'] = df['Molecule'].apply(lambda x: AllChem.GetMorganFingerprintAsBitVect(x, radius))\n",
    "\n",
    "#     # Calculate similarity scores\n",
    "#     similarity_scores = []\n",
    "#     for i in range(len(df)):\n",
    "#         for j in range(i+1, len(df)):\n",
    "#             sim_score = DataStructs.TanimotoSimilarity(df['Fingerprint'][i], df['Fingerprint'][j])\n",
    "#             if target_col is not None:\n",
    "#                 similarity_scores.append((df[id_col][i], df[id_col][j], df[smiles_col][i], df[smiles_col][j], sim_score, df[target_col][i], df[target_col][j]))\n",
    "#             else:\n",
    "#                 similarity_scores.append((df[id_col][i], df[id_col][j], df[smiles_col][i], df[smiles_col][j], sim_score))\n",
    "\n",
    "#     # Create a new DataFrame with the similarity scores\n",
    "#     if target_col is not None:\n",
    "#         result_df = pd.DataFrame(similarity_scores, columns=['ID1', 'ID2', 'SMILES1', 'SMILES2', 'SimilarityScore', 'Target1', 'Target2'])\n",
    "#     else:\n",
    "#         result_df = pd.DataFrame(similarity_scores, columns=['ID1', 'ID2', 'SMILES1', 'SMILES2', 'SimilarityScore'])\n",
    "\n",
    "#     # Sort by similarity score in descending order\n",
    "#     result_df.sort_values('SimilarityScore', ascending=False, inplace=True)\n",
    "#     result_df = result_df.reset_index(drop=True)\n",
    "\n",
    "#     return result_df\n",
    "\n",
    "# df = Data.get_mirati_g12d_raw()[['ID','SMILES','IC50']]\n",
    "# df = df.dropna(subset= 'IC50').reset_index(drop=True)\n",
    "\n",
    "# df.head()\n",
    "\n",
    "# # result = tanimoto(df.head(), target_col = 'IC50')"
   ]
  },
  {
   "cell_type": "code",
   "execution_count": null,
   "metadata": {},
   "outputs": [],
   "source": []
  }
 ],
 "metadata": {
  "kernelspec": {
   "display_name": "python3",
   "language": "python",
   "name": "python3"
  }
 },
 "nbformat": 4,
 "nbformat_minor": 4
}
