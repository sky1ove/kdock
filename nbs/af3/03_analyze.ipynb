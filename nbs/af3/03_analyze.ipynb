{
 "cells": [
  {
   "cell_type": "markdown",
   "id": "9da71521-d89b-4439-acd3-6534c4494fee",
   "metadata": {},
   "source": [
    "# Analyze"
   ]
  },
  {
   "cell_type": "markdown",
   "id": "b98adf57-e569-42d8-be2a-e4d62685dcfa",
   "metadata": {},
   "source": [
    "## Setup"
   ]
  },
  {
   "cell_type": "code",
   "execution_count": null,
   "id": "77325202-9f60-40ee-b0c2-f485631f52ef",
   "metadata": {},
   "outputs": [],
   "source": [
    "#| default_exp af3.analyze"
   ]
  },
  {
   "cell_type": "code",
   "execution_count": null,
   "id": "bfdd4fae-37c7-4835-afb1-524e5a731add",
   "metadata": {},
   "outputs": [],
   "source": [
    "#| export\n",
    "import json, shutil, pandas as pd\n",
    "from pathlib import Path\n",
    "import plotly.graph_objects as go"
   ]
  },
  {
   "cell_type": "markdown",
   "id": "04201a87-3794-429f-a1d9-12976f818d14",
   "metadata": {},
   "source": [
    "## Read summary confidences json"
   ]
  },
  {
   "cell_type": "code",
   "execution_count": null,
   "id": "7b982142-f161-414b-b893-56234282cfb7",
   "metadata": {},
   "outputs": [],
   "source": [
    "#| export\n",
    "def read_summary_json(json_path):\n",
    "    \"Read json file to dictionary\"\n",
    "    json_path = Path(json_path)\n",
    "    json_data=json.loads(json_path.read_text())\n",
    "        \n",
    "    # Flatten the JSON data into a single row\n",
    "    row = {\"ID\": json_path.stem}\n",
    "    for key, value in json_data.items():\n",
    "        if isinstance(value, list):\n",
    "            for idx, sub_value in enumerate(value):\n",
    "                if isinstance(sub_value, list):\n",
    "                    for sub_idx, sub_sub_value in enumerate(sub_value):\n",
    "                        row[f\"{key}_{idx}_{sub_idx}\"] = sub_sub_value\n",
    "                else:\n",
    "                    row[f\"{key}_{idx}\"] = sub_value\n",
    "        else:\n",
    "            row[key] = value\n",
    "    return row"
   ]
  },
  {
   "cell_type": "code",
   "execution_count": null,
   "id": "b960ec3a-c32f-47e0-af06-9008667beba0",
   "metadata": {},
   "outputs": [
    {
     "data": {
      "text/plain": [
       "{'ID': 'seq_only_summary_confidences',\n",
       " 'chain_iptm_0': None,\n",
       " 'chain_pair_iptm_0_0': 0.72,\n",
       " 'chain_pair_pae_min_0_0': 0.76,\n",
       " 'chain_ptm_0': 0.72,\n",
       " 'fraction_disordered': 0.19,\n",
       " 'has_clash': 0.0,\n",
       " 'iptm': None,\n",
       " 'ptm': 0.72,\n",
       " 'ranking_score': 0.82}"
      ]
     },
     "execution_count": null,
     "metadata": {},
     "output_type": "execute_result"
    }
   ],
   "source": [
    "data = read_summary_json('data/seq_only_summary_confidences.json')\n",
    "data"
   ]
  },
  {
   "cell_type": "code",
   "execution_count": null,
   "id": "6efc38e3-f8d8-4c3c-b068-f5a37a4af057",
   "metadata": {},
   "outputs": [],
   "source": [
    "#| export\n",
    "def get_summary_df(output_dir):\n",
    "    \"Pack the summary json from the output folder to the df\"\n",
    "    \n",
    "    path_list = list(Path(output_dir).rglob('*_summary_confidences.json'))\n",
    "    print(len(path_list),'summary_confidences.json files detected')\n",
    "    return pd.DataFrame(list(map(read_summary_json,path_list)))"
   ]
  },
  {
   "cell_type": "code",
   "execution_count": null,
   "id": "6afb4598-d74f-43fd-bdf1-190e82697da5",
   "metadata": {},
   "outputs": [
    {
     "name": "stdout",
     "output_type": "stream",
     "text": [
      "1 summary_confidences.json files detected\n"
     ]
    },
    {
     "data": {
      "text/html": [
       "<div>\n",
       "<style scoped>\n",
       "    .dataframe tbody tr th:only-of-type {\n",
       "        vertical-align: middle;\n",
       "    }\n",
       "\n",
       "    .dataframe tbody tr th {\n",
       "        vertical-align: top;\n",
       "    }\n",
       "\n",
       "    .dataframe thead th {\n",
       "        text-align: right;\n",
       "    }\n",
       "</style>\n",
       "<table border=\"1\" class=\"dataframe\">\n",
       "  <thead>\n",
       "    <tr style=\"text-align: right;\">\n",
       "      <th></th>\n",
       "      <th>ID</th>\n",
       "      <th>chain_iptm_0</th>\n",
       "      <th>chain_pair_iptm_0_0</th>\n",
       "      <th>chain_pair_pae_min_0_0</th>\n",
       "      <th>chain_ptm_0</th>\n",
       "      <th>fraction_disordered</th>\n",
       "      <th>has_clash</th>\n",
       "      <th>iptm</th>\n",
       "      <th>ptm</th>\n",
       "      <th>ranking_score</th>\n",
       "    </tr>\n",
       "  </thead>\n",
       "  <tbody>\n",
       "    <tr>\n",
       "      <th>0</th>\n",
       "      <td>seq_only_summary_confidences</td>\n",
       "      <td>None</td>\n",
       "      <td>0.72</td>\n",
       "      <td>0.76</td>\n",
       "      <td>0.72</td>\n",
       "      <td>0.19</td>\n",
       "      <td>0.0</td>\n",
       "      <td>None</td>\n",
       "      <td>0.72</td>\n",
       "      <td>0.82</td>\n",
       "    </tr>\n",
       "  </tbody>\n",
       "</table>\n",
       "</div>"
      ],
      "text/plain": [
       "                             ID chain_iptm_0  chain_pair_iptm_0_0  \\\n",
       "0  seq_only_summary_confidences         None                 0.72   \n",
       "\n",
       "   chain_pair_pae_min_0_0  chain_ptm_0  fraction_disordered  has_clash  iptm  \\\n",
       "0                    0.76         0.72                 0.19        0.0  None   \n",
       "\n",
       "    ptm  ranking_score  \n",
       "0  0.72           0.82  "
      ]
     },
     "execution_count": null,
     "metadata": {},
     "output_type": "execute_result"
    }
   ],
   "source": [
    "out = get_summary_df('data')\n",
    "out"
   ]
  },
  {
   "cell_type": "markdown",
   "id": "49307504-29b5-415b-98a8-e1cacd278aa5",
   "metadata": {},
   "source": [
    "## Specific for protein pairs"
   ]
  },
  {
   "cell_type": "code",
   "execution_count": null,
   "id": "2ae7e00d-f285-4fc1-a40c-af0f64d74376",
   "metadata": {},
   "outputs": [],
   "source": [
    "#| export\n",
    "def process_summary_df(df,generate_report=False):\n",
    "    \"Post process the json-converted pandas df; remove redundant columns; available for pairs\"\n",
    "    \n",
    "    df['ID'] = df.ID.str.replace('_summary_confidences','')\n",
    "    df = df.set_index('ID')\n",
    "\n",
    "    # drop zero std columns: usually contains chain_pair_pae_min_0_0 and has_clash\n",
    "    zero_std_cols = df.columns[df.std()<1e-10]\n",
    "    df=df.drop(columns=zero_std_cols)\n",
    "\n",
    "    # drop columns with same values\n",
    "    redundant_columns = []\n",
    "    \n",
    "    # Check for columns equal to `iptm`\n",
    "    for col in ['chain_iptm_0', 'chain_iptm_1', 'chain_pair_iptm_0_1', 'chain_pair_iptm_1_0']:\n",
    "        if df['iptm'].equals(df[col]):\n",
    "            redundant_columns.append(col)\n",
    "    \n",
    "    # Check for columns equal to `chain_ptm_0`\n",
    "    if df['chain_ptm_0'].equals(df['chain_pair_iptm_0_0']):\n",
    "        redundant_columns.append('chain_pair_iptm_0_0')\n",
    "    \n",
    "    # Check for columns equal to `chain_ptm_1`\n",
    "    if df['chain_ptm_1'].equals(df['chain_pair_iptm_1_1']):\n",
    "        redundant_columns.append('chain_pair_iptm_1_1')\n",
    "    \n",
    "    # Drop redundant columns\n",
    "    df = df.drop(columns=redundant_columns)\n",
    "    \n",
    "    if generate_report:\n",
    "        print('Generating pairplot graph report')\n",
    "        sns.pairplot(data=df, corner=True)\n",
    "        plt.savefig(\"af_report.pdf\")\n",
    "        plt.close()\n",
    "        print('Export to af_report.pdf')\n",
    "\n",
    "    # add iptm and ptm\n",
    "    df['iptm_ptm_add'] = df['iptm']+df['ptm']\n",
    "\n",
    "    # inter error add\n",
    "    df['chain_pair_pae_min_add'] = df['chain_pair_pae_min_0_1']+df['chain_pair_pae_min_1_0']\n",
    "\n",
    "    # rank iptm and ptm and add the rank, this method can ignore the different value range between iptm and ptm\n",
    "    df['iptm_rnk'],df['ptm_rnk'] = df.iptm.rank(ascending=False), df.ptm.rank(ascending=False)\n",
    "    df['iptm_ptm_rnk_add'] = df['iptm_rnk']+df['ptm_rnk']\n",
    "\n",
    "    # combine chain_pair_pae_min & iptm rank\n",
    "    df['chain_pair_pae_min_add_rnk'] = df['chain_pair_pae_min_add'].rank()\n",
    "    df['iptm_pae_add_rnk'] = df['chain_pair_pae_min_add_rnk'] + df['iptm_rnk']\n",
    "    \n",
    "    return df"
   ]
  },
  {
   "cell_type": "code",
   "execution_count": null,
   "id": "6b241c20-d2ba-4187-bea7-ab66525e6ec3",
   "metadata": {},
   "outputs": [],
   "source": [
    "# out2 = process_summary_df(out)"
   ]
  },
  {
   "cell_type": "code",
   "execution_count": null,
   "id": "e1af07e2-b86a-492d-b8d7-0fd2f8d90779",
   "metadata": {},
   "outputs": [],
   "source": [
    "#| export\n",
    "def get_top_cases(df,n=30):\n",
    "    \"Get top cases from the metric\"\n",
    "    idxs = set()\n",
    "    \n",
    "    big_cols = ['ranking_score', 'iptm', 'iptm_ptm_add']\n",
    "    small_cols = [\n",
    "        'iptm_ptm_rnk_add', \n",
    "        'chain_pair_pae_min_add', \n",
    "        'chain_pair_pae_min_0_1', \n",
    "        'chain_pair_pae_min_1_0', \n",
    "        'iptm_pae_add_rnk'\n",
    "    ]\n",
    "    \n",
    "    for col in big_cols: idxs.update(df.nlargest(n, col).index)\n",
    "    for col in small_cols: idxs.update(df.nsmallest(n, col).index)\n",
    "\n",
    "    return list(idxs)"
   ]
  },
  {
   "cell_type": "code",
   "execution_count": null,
   "id": "df6c2a35-0167-4a4d-8df1-a150a368beac",
   "metadata": {},
   "outputs": [],
   "source": [
    "# genes = get_top_cases(out2)"
   ]
  },
  {
   "cell_type": "code",
   "execution_count": null,
   "id": "89900087-ff2c-48e3-bbe7-3077de2d1f32",
   "metadata": {},
   "outputs": [],
   "source": [
    "#| export\n",
    "def get_3d_report(df,index_list, x='iptm',y='ptm',z='chain_pair_pae_min_add',save_dir='af_report'):\n",
    "    \"Generate 3d plot html file given case index and x, y, z colname\"\n",
    "    annotation = df.index.where(df.index.isin(index_list),'').str.split('_').str[1]\n",
    "\n",
    "    # Create the 3D scatter plot\n",
    "    fig = go.Figure(data=go.Scatter3d(\n",
    "        x=df[x],\n",
    "        y=df[y],\n",
    "        z=df[z],\n",
    "        mode='markers+text',\n",
    "        text=annotation,  # Annotation using the index\n",
    "        textposition=\"top center\",\n",
    "        marker=dict(size=8, color='blue', opacity=0.8),\n",
    "    ))\n",
    "    \n",
    "    # Customize layout\n",
    "    fig.update_layout(\n",
    "        scene=dict(\n",
    "            xaxis_title=x,\n",
    "            yaxis_title=y,\n",
    "            zaxis_title=z,\n",
    "        ),\n",
    "        title='3D Scatter Plot',\n",
    "        autosize=True,\n",
    "        height=3000,\n",
    "    )\n",
    "    \n",
    "    fig.write_html(Path(save_dir)/'3d_scatter_plot.html',full_html=True)\n",
    "    print('Exported the html to 3d_scatter_plot.html')"
   ]
  },
  {
   "cell_type": "code",
   "execution_count": null,
   "id": "7fffbdf8-1503-4e68-a247-8a17d60ddefc",
   "metadata": {},
   "outputs": [],
   "source": [
    "# get_3d_report(out2,genes)"
   ]
  },
  {
   "cell_type": "code",
   "execution_count": null,
   "id": "02cab7f4-a581-43fb-a0b9-6df5ce6d1d08",
   "metadata": {},
   "outputs": [],
   "source": [
    "#| export\n",
    "def get_report(out_dir,save_dir='af_report'):\n",
    "    \"Generate summary report based on summary_confidences file; return summary df and top cases\"\n",
    "    out = get_summary_df(out_dir)\n",
    "    out = process_summary_df(out)\n",
    "    top_cases = get_top_cases(out)\n",
    "    \n",
    "    Path(save_dir).mkdir(exist_ok=True)\n",
    "    get_3d_report(out,top_cases,save_dir=save_dir)\n",
    "    out.to_csv(Path(save_dir)/'summary_confidences.csv')\n",
    "    \n",
    "    return out, top_cases"
   ]
  },
  {
   "cell_type": "markdown",
   "id": "2d4707a4-8bc4-460e-80b1-bc2ee51177e7",
   "metadata": {},
   "source": [
    "```python\n",
    "df_sum, top_genes = get_report('af_output/data','af_report/proteinA')\n",
    "\n",
    "df_sum.sort_values('iptm_ptm_rnk_add').head(10)\n",
    "```"
   ]
  },
  {
   "cell_type": "code",
   "execution_count": null,
   "id": "11319fd1-0bee-4e8c-b224-9eed52b8cbb2",
   "metadata": {},
   "outputs": [],
   "source": [
    "#| export\n",
    "def copy_file(idx_name, source_dir, dest_dir):\n",
    "    \"Copy all model cif generated by AF3 to the new dest folder\"\n",
    "    source_path = Path(source_dir)/f\"{idx_name}/{idx_name}_model.cif\"\n",
    "    dest_path = Path(dest_dir)/f\"{idx_name}_model.cif\"\n",
    "    shutil.copy(source_path,dest_path)\n",
    "    print(f'Copying {str(source_path)} to {str(dest_path)}')"
   ]
  },
  {
   "cell_type": "markdown",
   "id": "b87f46a7-0b9c-4f3a-adf9-7a639c969a47",
   "metadata": {},
   "source": [
    "```python\n",
    "from fastcore.utils import L\n",
    "copy_file('proA_proB',source_dir='af_output/proA',dest_dir='af_top')\n",
    "# Or \n",
    "L(top_genes).map(copy_file,source_dir='af_output/proA',dest_dir='af_top')\n",
    "```"
   ]
  },
  {
   "cell_type": "code",
   "execution_count": null,
   "id": "12c7ff5a-f5ba-423a-ab6d-c0a0077ee934",
   "metadata": {},
   "outputs": [],
   "source": []
  },
  {
   "cell_type": "markdown",
   "id": "d1558d11-0a11-41f1-af27-bb3011bf9cd9",
   "metadata": {},
   "source": [
    "## End"
   ]
  },
  {
   "cell_type": "code",
   "execution_count": null,
   "id": "e7aa9b3c-f060-402b-ba1d-4811b178b4f8",
   "metadata": {},
   "outputs": [],
   "source": [
    "#| hide\n",
    "import nbdev; nbdev.nbdev_export()"
   ]
  },
  {
   "cell_type": "code",
   "execution_count": null,
   "id": "55c8603f-7f15-425d-8815-7369d9574902",
   "metadata": {},
   "outputs": [],
   "source": []
  }
 ],
 "metadata": {
  "kernelspec": {
   "display_name": "Python 3",
   "language": "python",
   "name": "python3"
  },
  "language_info": {
   "codemirror_mode": {
    "name": "ipython",
    "version": 3
   },
   "file_extension": ".py",
   "mimetype": "text/x-python",
   "name": "python",
   "nbconvert_exporter": "python",
   "pygments_lexer": "ipython3",
   "version": "3.11.12"
  }
 },
 "nbformat": 4,
 "nbformat_minor": 5
}
