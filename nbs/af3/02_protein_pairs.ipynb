{
 "cells": [
  {
   "cell_type": "markdown",
   "id": "20bce610-1a75-4ccf-86d7-4ccad52f4dfb",
   "metadata": {},
   "source": [
    "# Protein pairs & ColabFold pipeline\n",
    "\n",
    "- order: 3"
   ]
  },
  {
   "cell_type": "markdown",
   "id": "f1d6ca49-b63a-47c6-994e-fb40f4206c67",
   "metadata": {},
   "source": [
    "We use ColabFold MSA for protein pairs pipeline, as it takes shorter time"
   ]
  },
  {
   "cell_type": "markdown",
   "id": "44784442-14c2-4e47-8427-9383e16cfc74",
   "metadata": {},
   "source": [
    "## Setup"
   ]
  },
  {
   "cell_type": "code",
   "execution_count": null,
   "id": "865b7294-8e15-4366-80ec-ac93f0191470",
   "metadata": {},
   "outputs": [],
   "source": [
    "#| default_exp af3.protein_pairs"
   ]
  },
  {
   "cell_type": "code",
   "execution_count": 1,
   "id": "92000c0e-6470-423c-9c55-9972a341282b",
   "metadata": {},
   "outputs": [],
   "source": [
    "#| export\n",
    "import os, json, shutil, pandas as pd\n",
    "from tqdm import tqdm\n",
    "from itertools import combinations\n",
    "from pathlib import Path\n",
    "from kdock.af3.json import *\n",
    "from kdock.af3.docker import *"
   ]
  },
  {
   "cell_type": "markdown",
   "id": "3a663ec0-73e8-4ce7-a393-a3d0d5792ffa",
   "metadata": {},
   "source": [
    "## Setup"
   ]
  },
  {
   "cell_type": "markdown",
   "id": "d070ef7a-c2e9-488e-ba79-ab1b83dc4dd2",
   "metadata": {},
   "source": [
    "```sh\n",
    "docker pull sky1ove/alphafold3\n",
    "```"
   ]
  },
  {
   "cell_type": "markdown",
   "id": "29aa8d8a-978f-4962-b940-f35c6887503f",
   "metadata": {},
   "source": [
    "## Protein pairs"
   ]
  },
  {
   "cell_type": "markdown",
   "id": "5434d94b-11d6-4587-89b4-92cd25cd3549",
   "metadata": {},
   "source": [
    "Since protein protein screening involves a lot of proteins, it takes a long time for AF3 default MSA pipeline, so we used colabfold MSA pipeline"
   ]
  },
  {
   "cell_type": "code",
   "execution_count": null,
   "id": "3f3ae31b-287e-4810-9e10-db969c3fcc6b",
   "metadata": {},
   "outputs": [],
   "source": [
    "#| export\n",
    "def get_colabfold_cmd(csv_path,project_name):\n",
    "    print('Run below in terminal:')\n",
    "    print(f'\\n colabfold_batch {csv_path} msa_{project_name} --msa-only')"
   ]
  },
  {
   "cell_type": "code",
   "execution_count": null,
   "id": "19ddb112-ee43-4b6e-bd6f-0cbdece09df0",
   "metadata": {},
   "outputs": [],
   "source": [
    "project_name='sdf'"
   ]
  },
  {
   "cell_type": "code",
   "execution_count": null,
   "id": "c963bafe-9173-42f2-8701-be4e33279d48",
   "metadata": {},
   "outputs": [
    {
     "name": "stdout",
     "output_type": "stream",
     "text": [
      "Run below in terminal:\n",
      "\n",
      " colabfold_batch sdf.csv msa_sdf --msa-only\n"
     ]
    }
   ],
   "source": [
    "get_colabfold_cmd('sdf.csv',project_name)"
   ]
  },
  {
   "cell_type": "markdown",
   "id": "d275e2d7-0704-4077-b461-172ce06543e1",
   "metadata": {},
   "source": [
    "## MSA"
   ]
  },
  {
   "cell_type": "code",
   "execution_count": null,
   "id": "9fb90cd0-3260-4dd1-a169-340a75633ab0",
   "metadata": {},
   "outputs": [],
   "source": [
    "#| export\n",
    "def copy_a3m(a3m_dir: str, # Path to the source directory containing .a3m files.\n",
    "             dest_dir: str, # Path to the destination directory where files will be copied\n",
    "             ):\n",
    "    \"Copies all .a3m files from the source directory to the destination directory.\"\n",
    "    \n",
    "    a3m_dir,dest_dir = Path(a3m_dir),Path(dest_dir)\n",
    "    dest_dir.mkdir(parents=True, exist_ok=True)\n",
    "\n",
    "    files = list(a3m_dir.glob('*.a3m'))\n",
    "\n",
    "    for file in tqdm(files, desc=\"Copying files\", unit=\"file\"):\n",
    "        shutil.copy(file, dest_dir / file.name)\n",
    "\n",
    "    print(f\"Copied {len(files)} a3m files from {a3m_dir} to {dest_dir}\")"
   ]
  },
  {
   "cell_type": "code",
   "execution_count": null,
   "id": "f26306ec-8acc-40dc-ac59-eb419d0afec1",
   "metadata": {},
   "outputs": [
    {
     "name": "stderr",
     "output_type": "stream",
     "text": [
      "Copying files: 100%|██████████| 1/1 [00:00<00:00, 637.53file/s]"
     ]
    },
    {
     "name": "stdout",
     "output_type": "stream",
     "text": [
      "Copied 1 a3m files from data to af_input\n"
     ]
    },
    {
     "name": "stderr",
     "output_type": "stream",
     "text": [
      "\n"
     ]
    }
   ],
   "source": [
    "copy_a3m(a3m_dir='data',dest_dir='af_input')"
   ]
  },
  {
   "cell_type": "markdown",
   "id": "69029291-09f5-4ffb-aada-55e8d2302b2a",
   "metadata": {},
   "source": [
    "## Protein-protein input"
   ]
  },
  {
   "cell_type": "markdown",
   "id": "6963d7d8-71de-49a4-8aee-42b8a82bd0d7",
   "metadata": {},
   "source": [
    ":::{.callout-important}\n",
    "Make sure a3m files are under af_input, otherwise it won't detect the files\n",
    ":::"
   ]
  },
  {
   "cell_type": "code",
   "execution_count": null,
   "id": "def3928f-c895-479f-9e88-093fdf3892da",
   "metadata": {},
   "outputs": [],
   "source": [
    "#| export\n",
    "def a3m_to_seq(file_path:Path):\n",
    "    \"Get protein sequence from a3m file\"\n",
    "    return file_path.read_text().splitlines()[2] # protein sequence is located on line 2"
   ]
  },
  {
   "cell_type": "code",
   "execution_count": null,
   "id": "1e370e84-7160-4812-ab08-eae50fd9e4c4",
   "metadata": {},
   "outputs": [
    {
     "data": {
      "text/plain": [
       "'SQFRVSPLDRTWNLGETVELKCQVLLSNPTSGCSWLFQPRGAAASPTFLLYLSQNKPKAAEGLDTQRFSGKRLGDTFVLTLSDFRRENEGYYFCSALSNSIMYFSHFVPVFLPAKPTTTPAPRPPTPAPTIASQPLSLRPEACRPAAGGAVHTRGLDFACD'"
      ]
     },
     "execution_count": null,
     "metadata": {},
     "output_type": "execute_result"
    }
   ],
   "source": [
    "a3m_to_seq(Path(f'af_input/{project_name}/a3m/CD8A.a3m'))"
   ]
  },
  {
   "cell_type": "code",
   "execution_count": null,
   "id": "03da4db8-60b5-409e-889a-f44b2fb27705",
   "metadata": {},
   "outputs": [],
   "source": [
    "#| export\n",
    "def get_protein_subjson(gene_name, a3m_dir=\".\",idx = 'A',run_template=True):\n",
    "    \"Get subjson (protein part) with colabfold unpairedMSA .a3m path\"\n",
    "    file_path = Path(a3m_dir)/f\"{gene_name}.a3m\"\n",
    "    protein_sequence = a3m_to_seq(file_path)\n",
    "    \n",
    "    json_data = {\n",
    "        'id': idx,\n",
    "        'sequence': protein_sequence, \n",
    "        'modifications': [],\n",
    "        'unpairedMsaPath': str(\"/root\"/file_path), # for docker path, ECD under af_input\n",
    "        'pairedMsa': '',\n",
    "        'templates': None if run_template else []\n",
    "    }\n",
    "\n",
    "    return json_data"
   ]
  },
  {
   "cell_type": "code",
   "execution_count": null,
   "id": "5192fc67-bd82-4be9-8144-9be801721e67",
   "metadata": {},
   "outputs": [],
   "source": [
    "sub_json = get_protein_subjson('CD8A',a3m_dir=f'af_input/{project_name}/a3m')"
   ]
  },
  {
   "cell_type": "code",
   "execution_count": null,
   "id": "74116f5c-712e-4734-94bb-be22caba3f7a",
   "metadata": {},
   "outputs": [
    {
     "data": {
      "text/plain": [
       "{'id': 'A',\n",
       " 'sequence': 'SQFRVSPLDRTWNLGETVELKCQVLLSNPTSGCSWLFQPRGAAASPTFLLYLSQNKPKAAEGLDTQRFSGKRLGDTFVLTLSDFRRENEGYYFCSALSNSIMYFSHFVPVFLPAKPTTTPAPRPPTPAPTIASQPLSLRPEACRPAAGGAVHTRGLDFACD',\n",
       " 'modifications': [],\n",
       " 'unpairedMsaPath': '/root/af_input/sdf/a3m/CD8A.a3m',\n",
       " 'pairedMsa': '',\n",
       " 'templates': None}"
      ]
     },
     "execution_count": null,
     "metadata": {},
     "output_type": "execute_result"
    }
   ],
   "source": [
    "sub_json"
   ]
  },
  {
   "cell_type": "code",
   "execution_count": null,
   "id": "76c918a2-630a-48ac-a682-501cfe4a522f",
   "metadata": {},
   "outputs": [],
   "source": [
    "#| export\n",
    "def dump_json_folder(json_data, folder):\n",
    "    \"Save json under a folder\"\n",
    "    file_path = Path(folder)/f\"{json_data['name']}.json\"\n",
    "    with open(file_path,'w') as f: json.dump(json_data,f,indent=4)"
   ]
  },
  {
   "cell_type": "code",
   "execution_count": null,
   "id": "8e97b4ea-17ec-48dd-bca0-c2f11763205a",
   "metadata": {},
   "outputs": [],
   "source": [
    "#| export\n",
    "def get_multi_protein_json(gene_list,a3m_dir,run_template=True,save_folder=None):\n",
    "    'Get json of multiple proteins, with unpaired MSA path indicated (from colabfold MSA)'\n",
    "    sequences = []\n",
    "    alphabets = 'ABCDEFGHIJKLMNOPQRSTUVWXYZ'\n",
    "    for index, gene in enumerate(gene_list):\n",
    "        sub_json=get_protein_subjson(gene,a3m_dir,idx=alphabets[index],run_template=run_template)\n",
    "        sequences.append({'protein':sub_json})\n",
    "    name = '_'.join(gene_list)\n",
    "    json_data = {\n",
    "            \"name\": name,\n",
    "            \"modelSeeds\": [1],\n",
    "            \"sequences\": sequences,\n",
    "            \"bondedAtomPairs\": [],\n",
    "            \"dialect\": \"alphafold3\",\n",
    "            \"version\": 2\n",
    "        }\n",
    "    if save_folder:\n",
    "        dump_json_folder(json_data,save_folder)\n",
    "    return json_data"
   ]
  },
  {
   "cell_type": "code",
   "execution_count": null,
   "id": "ced6789d-abec-4e52-bbc3-062f8dedf409",
   "metadata": {},
   "outputs": [],
   "source": [
    "AF_input = get_multi_protein_json(['CD8A','CD8A'],\n",
    "                        a3m_dir=f'af_input/{project_name}/a3m',\n",
    "                        save_folder=f'af_input/{project_name}')"
   ]
  },
  {
   "cell_type": "markdown",
   "id": "957e5e4b-9113-4930-8bb2-7428d80c4590",
   "metadata": {},
   "source": [
    "You can generate a list of json files under a folder."
   ]
  },
  {
   "cell_type": "code",
   "execution_count": null,
   "id": "0710f823-7e66-458f-bb14-0081b2faf419",
   "metadata": {},
   "outputs": [
    {
     "data": {
      "text/plain": [
       "(dict_keys(['name', 'modelSeeds', 'sequences', 'bondedAtomPairs', 'dialect', 'version']),\n",
       " 2)"
      ]
     },
     "execution_count": null,
     "metadata": {},
     "output_type": "execute_result"
    }
   ],
   "source": [
    "AF_input.keys(), len(AF_input['sequences'])"
   ]
  },
  {
   "cell_type": "code",
   "execution_count": null,
   "id": "8cc62d64-4643-49a3-a7ed-be7231abb0b9",
   "metadata": {},
   "outputs": [],
   "source": [
    "#| export\n",
    "def generate_pair_df(gene_list,self_pair=True):\n",
    "    \"Unique pair genes in a gene list\"\n",
    "    pairs = list(combinations(gene_list, 2))\n",
    "    pair_df = pd.DataFrame(pairs,columns=[\"Gene1\", \"Gene2\"])\n",
    "    \n",
    "    if self_pair:\n",
    "        self_pair_df = pd.DataFrame({'Gene1':gene_list, 'Gene2':gene_list})\n",
    "        pair_df = pd.concat([pair_df,self_pair_df])\n",
    "\n",
    "    return pair_df.reset_index(drop=True)"
   ]
  },
  {
   "cell_type": "code",
   "execution_count": null,
   "id": "d0978e82-4707-460f-985a-20d649ec3256",
   "metadata": {},
   "outputs": [
    {
     "data": {
      "text/html": [
       "<div>\n",
       "<style scoped>\n",
       "    .dataframe tbody tr th:only-of-type {\n",
       "        vertical-align: middle;\n",
       "    }\n",
       "\n",
       "    .dataframe tbody tr th {\n",
       "        vertical-align: top;\n",
       "    }\n",
       "\n",
       "    .dataframe thead th {\n",
       "        text-align: right;\n",
       "    }\n",
       "</style>\n",
       "<table border=\"1\" class=\"dataframe\">\n",
       "  <thead>\n",
       "    <tr style=\"text-align: right;\">\n",
       "      <th></th>\n",
       "      <th>Gene1</th>\n",
       "      <th>Gene2</th>\n",
       "    </tr>\n",
       "  </thead>\n",
       "  <tbody>\n",
       "    <tr>\n",
       "      <th>0</th>\n",
       "      <td>A</td>\n",
       "      <td>B</td>\n",
       "    </tr>\n",
       "    <tr>\n",
       "      <th>1</th>\n",
       "      <td>A</td>\n",
       "      <td>C</td>\n",
       "    </tr>\n",
       "    <tr>\n",
       "      <th>2</th>\n",
       "      <td>B</td>\n",
       "      <td>C</td>\n",
       "    </tr>\n",
       "    <tr>\n",
       "      <th>3</th>\n",
       "      <td>A</td>\n",
       "      <td>A</td>\n",
       "    </tr>\n",
       "    <tr>\n",
       "      <th>4</th>\n",
       "      <td>B</td>\n",
       "      <td>B</td>\n",
       "    </tr>\n",
       "    <tr>\n",
       "      <th>5</th>\n",
       "      <td>C</td>\n",
       "      <td>C</td>\n",
       "    </tr>\n",
       "  </tbody>\n",
       "</table>\n",
       "</div>"
      ],
      "text/plain": [
       "  Gene1 Gene2\n",
       "0     A     B\n",
       "1     A     C\n",
       "2     B     C\n",
       "3     A     A\n",
       "4     B     B\n",
       "5     C     C"
      ]
     },
     "execution_count": null,
     "metadata": {},
     "output_type": "execute_result"
    }
   ],
   "source": [
    "generate_pair_df(list('ABC'))"
   ]
  },
  {
   "cell_type": "code",
   "execution_count": null,
   "id": "14f73d57-0c8b-498f-882b-25f50bbf3312",
   "metadata": {},
   "outputs": [
    {
     "data": {
      "text/html": [
       "<div>\n",
       "<style scoped>\n",
       "    .dataframe tbody tr th:only-of-type {\n",
       "        vertical-align: middle;\n",
       "    }\n",
       "\n",
       "    .dataframe tbody tr th {\n",
       "        vertical-align: top;\n",
       "    }\n",
       "\n",
       "    .dataframe thead th {\n",
       "        text-align: right;\n",
       "    }\n",
       "</style>\n",
       "<table border=\"1\" class=\"dataframe\">\n",
       "  <thead>\n",
       "    <tr style=\"text-align: right;\">\n",
       "      <th></th>\n",
       "      <th>Gene1</th>\n",
       "      <th>Gene2</th>\n",
       "    </tr>\n",
       "  </thead>\n",
       "  <tbody>\n",
       "    <tr>\n",
       "      <th>0</th>\n",
       "      <td>CD8A</td>\n",
       "      <td>CD8A</td>\n",
       "    </tr>\n",
       "  </tbody>\n",
       "</table>\n",
       "</div>"
      ],
      "text/plain": [
       "  Gene1 Gene2\n",
       "0  CD8A  CD8A"
      ]
     },
     "execution_count": null,
     "metadata": {},
     "output_type": "execute_result"
    }
   ],
   "source": [
    "df = generate_pair_df(['CD8A'])\n",
    "df"
   ]
  },
  {
   "cell_type": "markdown",
   "id": "f261cba4-4529-41bd-b16b-712f5d96f1cb",
   "metadata": {},
   "source": [
    "Generate json files first:"
   ]
  },
  {
   "cell_type": "code",
   "execution_count": null,
   "id": "880c9d88-bfc9-4328-90b9-5fa7e7cfe9f4",
   "metadata": {},
   "outputs": [
    {
     "name": "stderr",
     "output_type": "stream",
     "text": [
      "100%|██████████| 1/1 [00:00<00:00, 147.81it/s]\n"
     ]
    }
   ],
   "source": [
    "for idx, row in tqdm(df.iterrows(),total=len(df)):\n",
    "    json_data = get_multi_protein_json([row['Gene1'], row['Gene2']], \n",
    "                             a3m_dir=f'af_input/{project_name}/a3m', \n",
    "                             save_folder=f'af_input/{project_name}') "
   ]
  },
  {
   "cell_type": "markdown",
   "id": "41674441-cd4d-4c98-9247-7994d61c754a",
   "metadata": {},
   "source": [
    "Split them to subfolder:"
   ]
  },
  {
   "cell_type": "code",
   "execution_count": null,
   "id": "10d6ec2f-9fea-4397-a459-89d447422978",
   "metadata": {},
   "outputs": [
    {
     "name": "stdout",
     "output_type": "stream",
     "text": [
      "Distributed 1 files into 4 folders.\n"
     ]
    }
   ],
   "source": [
    "split_nfolder(f'af_input/{project_name}')"
   ]
  },
  {
   "cell_type": "markdown",
   "id": "e92e7e8a-e914-46c3-be3d-51a6a7ea4d95",
   "metadata": {},
   "source": [
    "## Docker"
   ]
  },
  {
   "cell_type": "markdown",
   "id": "e23eb7bb-57d4-454f-8992-ec75b4d96afa",
   "metadata": {},
   "source": [
    "Todo: Pair proteins"
   ]
  },
  {
   "cell_type": "markdown",
   "id": "c8266124-fd6a-40fa-8e86-c96fde3fe3a6",
   "metadata": {},
   "source": [
    "```python\n",
    "for i in range(4):\n",
    "    get_docker_command(input_dir=f\"af_input/{project_name}/folder_{i}\",\n",
    "                       output_dir=f\"af_output/{project_name}\",\n",
    "                       gpus=i)\n",
    "```"
   ]
  },
  {
   "cell_type": "markdown",
   "id": "0327537b-2993-4f8f-b4cc-c96cd617b32c",
   "metadata": {},
   "source": [
    "## End"
   ]
  },
  {
   "cell_type": "code",
   "execution_count": null,
   "id": "61e9787f-713a-4ae6-9fcf-f7344628bf34",
   "metadata": {},
   "outputs": [],
   "source": [
    "#| hide\n",
    "import nbdev; nbdev.nbdev_export()"
   ]
  },
  {
   "cell_type": "code",
   "execution_count": null,
   "id": "e4043415-07ff-4ba4-90ea-1fdc42fea717",
   "metadata": {},
   "outputs": [],
   "source": []
  },
  {
   "cell_type": "markdown",
   "id": "78a25f47-bad0-4812-904b-2e6fca3a6dd1",
   "metadata": {},
   "source": [
    "## Utils"
   ]
  },
  {
   "cell_type": "code",
   "execution_count": null,
   "id": "d74b636a-4514-40af-a00f-5c9f64673c21",
   "metadata": {},
   "outputs": [],
   "source": [
    "# #| export\n",
    "# def split_files_into_subfolders(input_folder: str, nfolder: int = 4):\n",
    "    \n",
    "#     \"Splits `.a3m` files in a folder into subfolders (folder_0, folder_1, ..., folder_N).\"\n",
    "    \n",
    "#     input_path = Path(input_folder)\n",
    "#     if not input_path.is_dir():\n",
    "#         raise ValueError(f\"Input folder {input_folder} does not exist or is not a directory.\")\n",
    "\n",
    "#     # List all `.a3m` files\n",
    "#     a3m_files = sorted(input_path.glob(\"*.a3m\"))\n",
    "#     if not a3m_files:\n",
    "#         print(\"No `.a3m` files found in the input folder.\")\n",
    "#         return\n",
    "\n",
    "#     # Create the subfolders\n",
    "#     subfolders = [input_path / f\"folder_{i}\" for i in range(nfolder)]\n",
    "#     for folder in subfolders:\n",
    "#         folder.mkdir(exist_ok=True)\n",
    "\n",
    "#     # Distribute the files into the subfolders\n",
    "#     for idx, file in enumerate(a3m_files):\n",
    "#         target_folder = subfolders[idx % nfolder]\n",
    "#         shutil.move(str(file), target_folder / file.name)\n",
    "\n",
    "#     print(f\"Distributed {len(a3m_files)} files into {nfolder} folders.\")\n"
   ]
  },
  {
   "cell_type": "code",
   "execution_count": null,
   "id": "439a668b-ce61-4832-8900-d70b41bc5f78",
   "metadata": {},
   "outputs": [],
   "source": []
  }
 ],
 "metadata": {
  "kernelspec": {
   "display_name": "Python 3",
   "language": "python",
   "name": "python3"
  },
  "language_info": {
   "codemirror_mode": {
    "name": "ipython",
    "version": 3
   },
   "file_extension": ".py",
   "mimetype": "text/x-python",
   "name": "python",
   "nbconvert_exporter": "python",
   "pygments_lexer": "ipython3",
   "version": "3.11.12"
  }
 },
 "nbformat": 4,
 "nbformat_minor": 5
}
