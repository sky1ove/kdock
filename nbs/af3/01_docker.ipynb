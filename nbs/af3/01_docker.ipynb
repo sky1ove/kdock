{
 "cells": [
  {
   "cell_type": "markdown",
   "id": "119e0b61-e197-4401-94ed-5e1328c8e417",
   "metadata": {},
   "source": [
    "# Docker command\n",
    "- order: 2"
   ]
  },
  {
   "cell_type": "code",
   "execution_count": null,
   "id": "58c44dd6-0be9-4b9a-b5ea-d7b5f31c1b8a",
   "metadata": {},
   "outputs": [],
   "source": [
    "#| default_exp af3.docker"
   ]
  },
  {
   "cell_type": "markdown",
   "id": "fc20e142-5deb-4141-b915-e87b03764133",
   "metadata": {},
   "source": [
    "## Setup"
   ]
  },
  {
   "cell_type": "code",
   "execution_count": null,
   "id": "57b6887a-a451-462e-9452-d850d3028317",
   "metadata": {},
   "outputs": [],
   "source": [
    "#| export\n",
    "from fastcore.meta import delegates"
   ]
  },
  {
   "cell_type": "markdown",
   "id": "cada8559-6355-4454-99e5-197306576498",
   "metadata": {},
   "source": [
    "## Command"
   ]
  },
  {
   "cell_type": "markdown",
   "id": "d927f06b-8b96-41c2-a1e6-10d21c68c291",
   "metadata": {},
   "source": [
    "Before running, make sure you have `af_model`, `af_output`, `af_database` folder prepared in the current directory"
   ]
  },
  {
   "cell_type": "code",
   "execution_count": null,
   "id": "10f9c68f-0374-4cb2-b10e-65bb0107844f",
   "metadata": {},
   "outputs": [],
   "source": [
    "#| export\n",
    "def get_docker_command(\n",
    "    input_dir=\"af_input\", # Directory for input data\n",
    "    output_dir=\"af_output\", # Directory for output results\n",
    "    model_dir=\"af_model\", # Directory containing models\n",
    "    db_dir=\"af_database\", # Directory for databases. If None, this option is ommitted\n",
    "    cache_dir=\"af_cache\", # Directory for JAX compilation cache. If None, this option is omitted\n",
    "    gpus=0, # GPU devices to allocate (e.g., 0,1), if None, ommitted\n",
    "    docker_name=\"sky1ove/alphafold3\", # Docker image name\n",
    "    embedding=False, # If True, includes the --save_embeddings=true flag\n",
    "    skip_search=False, # if MSA is precalculated and present in json; If True, includes the --norun_data_pipeline flag\n",
    "    search_only=False, # search MSA only; If True, sets skip_search to False and includes the --norun_inference flag\n",
    "    json_path=None  # Path to JSON file. If not None, uses json_file instead of input_dir\n",
    "):\n",
    "\n",
    "    \"Generate a Docker run command for Alphafold with customizable parameters.\"\n",
    "    \n",
    "    # Start building the Docker command\n",
    "    cmd_parts = [\"docker run --rm \\\\\"]\n",
    "\n",
    "    if json_path:\n",
    "        parent_dir=json_path.split('/')[0]\n",
    "        cmd_parts.append(f'    --volume \"$HOME/{parent_dir}:/root/af_input\" \\\\')\n",
    "    else:\n",
    "        parent_dir = input_dir.split('/')[0]\n",
    "        cmd_parts.append(f'    --volume \"$HOME/{parent_dir}:/root/af_input\" \\\\')\n",
    "\n",
    "    cmd_parts.extend([f'    --volume \"$HOME/{output_dir}:/root/af_output\" \\\\',\n",
    "                      f'    --volume \"$HOME/{model_dir}:/root/models\" \\\\',\n",
    "                     ])\n",
    "    if db_dir:\n",
    "        cmd_parts.append(f'    --volume \"$HOME/{db_dir}:/root/public_databases\" \\\\')\n",
    "\n",
    "    if cache_dir:\n",
    "        cmd_parts.append(f'    --volume \"$HOME/{cache_dir}:/root/cache\" \\\\')\n",
    "\n",
    "    if gpus is not None:\n",
    "        cmd_parts.append(f'    --gpus \"device={gpus}\" \\\\')\n",
    "\n",
    "    cmd_parts.extend([f'    {docker_name} \\\\',\n",
    "                      '    python run_alphafold.py \\\\'])\n",
    "    \n",
    "    if json_path:\n",
    "        mount_path= '/'.join(json_path.split('/')[1:])\n",
    "        cmd_parts.append(f'    --json_path=/root/af_input/{mount_path} \\\\')\n",
    "    else:\n",
    "        len_dir = len(input_dir.split('/')[1:])\n",
    "        if len_dir:\n",
    "            mount_dir= '/'.join(input_dir.split('/')[1:])\n",
    "            cmd_parts.append(f'    --input_dir=/root/af_input/{mount_dir} \\\\')\n",
    "        else:\n",
    "            cmd_parts.append('    --input_dir=/root/af_input \\\\')\n",
    "\n",
    "    cmd_parts.extend(['    --output_dir=/root/af_output \\\\',\n",
    "                      '    --model_dir=/root/models \\\\'])\n",
    "    \n",
    "    if cache_dir:\n",
    "        cmd_parts.append('    --jax_compilation_cache_dir=/root/cache \\\\')\n",
    "\n",
    "    if embedding:\n",
    "        cmd_parts.append('    --save_embeddings=true \\\\')\n",
    "    \n",
    "    if search_only:\n",
    "        skip_search = False\n",
    "        cmd_parts.append('    --norun_inference \\\\')\n",
    "    elif skip_search:\n",
    "        cmd_parts.append('    --norun_data_pipeline \\\\')\n",
    "\n",
    "    if cmd_parts[-1].endswith('\\\\'):\n",
    "        cmd_parts[-1] = cmd_parts[-1].rstrip(' \\\\')\n",
    "\n",
    "    docker_command = \"\\n\".join(cmd_parts)\n",
    "    print(docker_command)"
   ]
  },
  {
   "cell_type": "markdown",
   "id": "c992b810-9de8-4f30-9049-3c519159e786",
   "metadata": {},
   "source": [
    "Single json file:"
   ]
  },
  {
   "cell_type": "code",
   "execution_count": null,
   "id": "6e5622e9-4580-43c5-8edc-3532a80dec97",
   "metadata": {},
   "outputs": [
    {
     "name": "stdout",
     "output_type": "stream",
     "text": [
      "docker run --rm \\\n",
      "    --volume \"$HOME/af_input:/root/af_input\" \\\n",
      "    --volume \"$HOME/af_output/subfolder:/root/af_output\" \\\n",
      "    --volume \"$HOME/af_model:/root/models\" \\\n",
      "    --volume \"$HOME/af_database:/root/public_databases\" \\\n",
      "    --gpus \"device=0\" \\\n",
      "    sky1ove/alphafold3 \\\n",
      "    python run_alphafold.py \\\n",
      "    --json_path=/root/af_input/subfolder/data.json \\\n",
      "    --output_dir=/root/af_output \\\n",
      "    --model_dir=/root/models\n"
     ]
    }
   ],
   "source": [
    "# for single json file, we don't need to cache the model\n",
    "get_docker_command(json_path=f\"af_input/subfolder/data.json\",\n",
    "                   output_dir=\"af_output/subfolder\",\n",
    "                   cache_dir=False)"
   ]
  },
  {
   "cell_type": "markdown",
   "id": "22106715-efef-4198-bfcf-695917f4f320",
   "metadata": {},
   "source": [
    "Input directory with json files:"
   ]
  },
  {
   "cell_type": "code",
   "execution_count": null,
   "id": "a99349e3-6e99-4024-83a0-f86951b3a3db",
   "metadata": {},
   "outputs": [
    {
     "name": "stdout",
     "output_type": "stream",
     "text": [
      "docker run --rm \\\n",
      "    --volume \"$HOME/af_input:/root/af_input\" \\\n",
      "    --volume \"$HOME/af_output/subfolder:/root/af_output\" \\\n",
      "    --volume \"$HOME/af_model:/root/models\" \\\n",
      "    --volume \"$HOME/af_database:/root/public_databases\" \\\n",
      "    --volume \"$HOME/af_cache:/root/cache\" \\\n",
      "    --gpus \"device=0\" \\\n",
      "    sky1ove/alphafold3 \\\n",
      "    python run_alphafold.py \\\n",
      "    --input_dir=/root/af_input/subfolder/folder_0 \\\n",
      "    --output_dir=/root/af_output \\\n",
      "    --model_dir=/root/models \\\n",
      "    --jax_compilation_cache_dir=/root/cache\n"
     ]
    }
   ],
   "source": [
    "# For a number of json files in the input folder\n",
    "get_docker_command(input_dir=\"af_input/subfolder/folder_0\",\n",
    "                   output_dir=\"af_output/subfolder\")"
   ]
  },
  {
   "cell_type": "markdown",
   "id": "38b3c809-0219-4ae3-a4a1-cf4ca02dcda0",
   "metadata": {},
   "source": [
    "## Single json full pipeline"
   ]
  },
  {
   "cell_type": "code",
   "execution_count": null,
   "id": "5e5c9de1-0b4b-433f-90a8-02fa755aafc3",
   "metadata": {},
   "outputs": [],
   "source": [
    "#| export\n",
    "@delegates(get_docker_command)\n",
    "def docker_single_full(json_path,output_dir,cache_dir=False,**kwargs):\n",
    "    \"Single json task with full pipeline.\"\n",
    "    return get_docker_command(\n",
    "        json_path=json_path,\n",
    "        output_dir=output_dir,\n",
    "        cache_dir=cache_dir,\n",
    "        **kwargs)"
   ]
  },
  {
   "cell_type": "code",
   "execution_count": null,
   "id": "cb243bf2-3619-450c-a6ac-462bea8ac457",
   "metadata": {},
   "outputs": [
    {
     "name": "stdout",
     "output_type": "stream",
     "text": [
      "docker run --rm \\\n",
      "    --volume \"$HOME/a.json:/root/af_input\" \\\n",
      "    --volume \"$HOME/output_folder:/root/af_output\" \\\n",
      "    --volume \"$HOME/af_model:/root/models\" \\\n",
      "    --volume \"$HOME/af_database:/root/public_databases\" \\\n",
      "    --gpus \"device=0\" \\\n",
      "    sky1ove/alphafold3 \\\n",
      "    python run_alphafold.py \\\n",
      "    --json_path=/root/af_input/ \\\n",
      "    --output_dir=/root/af_output \\\n",
      "    --model_dir=/root/models\n"
     ]
    }
   ],
   "source": [
    "docker_single_full('a.json','output_folder')"
   ]
  },
  {
   "cell_type": "markdown",
   "id": "04dd5e6c-1b6f-45d9-91ca-7fc35a872266",
   "metadata": {},
   "source": [
    "## Folder input"
   ]
  },
  {
   "cell_type": "markdown",
   "id": "4abb4c88-d926-42d1-ab87-95e9b69ae153",
   "metadata": {},
   "source": [
    "### Full pipeline"
   ]
  },
  {
   "cell_type": "code",
   "execution_count": null,
   "id": "996f65a3-64ee-4288-aed7-3a0acba73175",
   "metadata": {},
   "outputs": [],
   "source": [
    "#| export\n",
    "@delegates(get_docker_command)\n",
    "def docker_multi_full(input_dir,output_dir,**kwargs):\n",
    "    \"Folder of json as input with full pipeline.\"\n",
    "    return get_docker_command(\n",
    "        input_dir=input_dir,\n",
    "        output_dir=output_dir,\n",
    "        **kwargs)"
   ]
  },
  {
   "cell_type": "code",
   "execution_count": null,
   "id": "5fcf2e27-fd8c-479d-94de-c0a4dbf951ad",
   "metadata": {},
   "outputs": [
    {
     "name": "stdout",
     "output_type": "stream",
     "text": [
      "docker run --rm \\\n",
      "    --volume \"$HOME/input_folder:/root/af_input\" \\\n",
      "    --volume \"$HOME/output_folder:/root/af_output\" \\\n",
      "    --volume \"$HOME/af_model:/root/models\" \\\n",
      "    --volume \"$HOME/af_database:/root/public_databases\" \\\n",
      "    --volume \"$HOME/af_cache:/root/cache\" \\\n",
      "    --gpus \"device=0\" \\\n",
      "    sky1ove/alphafold3 \\\n",
      "    python run_alphafold.py \\\n",
      "    --input_dir=/root/af_input \\\n",
      "    --output_dir=/root/af_output \\\n",
      "    --model_dir=/root/models \\\n",
      "    --jax_compilation_cache_dir=/root/cache\n"
     ]
    }
   ],
   "source": [
    "docker_multi_full('input_folder','output_folder')"
   ]
  },
  {
   "cell_type": "markdown",
   "id": "ddba12f2-e62f-491d-9d14-9c0a391d5210",
   "metadata": {},
   "source": [
    "### MSA only"
   ]
  },
  {
   "cell_type": "code",
   "execution_count": null,
   "id": "7512a43c-28c2-41f8-b4c5-4ddf1e56f716",
   "metadata": {},
   "outputs": [],
   "source": [
    "#| export\n",
    "@delegates(get_docker_command)\n",
    "def docker_multi_msa(input_dir,output_dir,search_only=True,**kwargs):\n",
    "    \"MSA search only, without structure inference; CPU only.\"\n",
    "    return get_docker_command(\n",
    "        input_dir=input_dir,\n",
    "        output_dir=output_dir,\n",
    "        search_only=search_only,\n",
    "        **kwargs)"
   ]
  },
  {
   "cell_type": "code",
   "execution_count": null,
   "id": "a588852e-2ad2-4f31-9baa-d93ea0edccea",
   "metadata": {},
   "outputs": [
    {
     "name": "stdout",
     "output_type": "stream",
     "text": [
      "docker run --rm \\\n",
      "    --volume \"$HOME/input_folder:/root/af_input\" \\\n",
      "    --volume \"$HOME/output_folder:/root/af_output\" \\\n",
      "    --volume \"$HOME/af_model:/root/models\" \\\n",
      "    --volume \"$HOME/af_database:/root/public_databases\" \\\n",
      "    --volume \"$HOME/af_cache:/root/cache\" \\\n",
      "    --gpus \"device=0\" \\\n",
      "    sky1ove/alphafold3 \\\n",
      "    python run_alphafold.py \\\n",
      "    --input_dir=/root/af_input \\\n",
      "    --output_dir=/root/af_output \\\n",
      "    --model_dir=/root/models \\\n",
      "    --jax_compilation_cache_dir=/root/cache \\\n",
      "    --norun_inference\n"
     ]
    }
   ],
   "source": [
    "docker_multi_msa('input_folder','output_folder')"
   ]
  },
  {
   "cell_type": "markdown",
   "id": "3ad98f47-9aef-4179-ad55-1e7477694b0c",
   "metadata": {},
   "source": [
    "### Infer only"
   ]
  },
  {
   "cell_type": "code",
   "execution_count": null,
   "id": "403f1d8f-6055-486a-a0f9-bc4b2ca8feaa",
   "metadata": {},
   "outputs": [],
   "source": [
    "#| export\n",
    "@delegates(get_docker_command)\n",
    "def docker_multi_infer(input_dir,output_dir,skip_search=True,**kwargs):\n",
    "    \"Infer only with pre-calculated MSA; GPU is needed.\"\n",
    "    return get_docker_command(\n",
    "        input_dir=input_dir,\n",
    "        output_dir=output_dir,\n",
    "        skip_search=skip_search,\n",
    "        **kwargs)"
   ]
  },
  {
   "cell_type": "code",
   "execution_count": null,
   "id": "5c691e53-2c27-48b1-8ee3-cb8073aada75",
   "metadata": {},
   "outputs": [
    {
     "name": "stdout",
     "output_type": "stream",
     "text": [
      "docker run --rm \\\n",
      "    --volume \"$HOME/input_folder:/root/af_input\" \\\n",
      "    --volume \"$HOME/output_folder:/root/af_output\" \\\n",
      "    --volume \"$HOME/af_model:/root/models\" \\\n",
      "    --volume \"$HOME/af_database:/root/public_databases\" \\\n",
      "    --volume \"$HOME/af_cache:/root/cache\" \\\n",
      "    --gpus \"device=0\" \\\n",
      "    sky1ove/alphafold3 \\\n",
      "    python run_alphafold.py \\\n",
      "    --input_dir=/root/af_input \\\n",
      "    --output_dir=/root/af_output \\\n",
      "    --model_dir=/root/models \\\n",
      "    --jax_compilation_cache_dir=/root/cache \\\n",
      "    --norun_data_pipeline\n"
     ]
    }
   ],
   "source": [
    "docker_multi_infer('input_folder','output_folder')"
   ]
  },
  {
   "cell_type": "markdown",
   "id": "73216a93-bc80-4c70-9f4f-e01d04d72609",
   "metadata": {},
   "source": [
    "## End"
   ]
  },
  {
   "cell_type": "code",
   "execution_count": null,
   "id": "049c2905-4358-4c48-8449-388f5d2a6987",
   "metadata": {},
   "outputs": [],
   "source": [
    "#| hide\n",
    "import nbdev; nbdev.nbdev_export()"
   ]
  },
  {
   "cell_type": "code",
   "execution_count": null,
   "id": "f90e47a2-cb18-4a04-b1b4-e7e58b1aefcc",
   "metadata": {},
   "outputs": [],
   "source": []
  },
  {
   "cell_type": "code",
   "execution_count": null,
   "id": "be9d9611-55a4-48ec-9a90-2bff94ce5e87",
   "metadata": {},
   "outputs": [],
   "source": []
  }
 ],
 "metadata": {
  "kernelspec": {
   "display_name": "Python 3",
   "language": "python",
   "name": "python3"
  },
  "language_info": {
   "codemirror_mode": {
    "name": "ipython",
    "version": 3
   },
   "file_extension": ".py",
   "mimetype": "text/x-python",
   "name": "python",
   "nbconvert_exporter": "python",
   "pygments_lexer": "ipython3",
   "version": "3.11.12"
  }
 },
 "nbformat": 4,
 "nbformat_minor": 5
}
