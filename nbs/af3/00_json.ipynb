{
 "cells": [
  {
   "cell_type": "markdown",
   "id": "171844c7-6e1d-45fe-ad40-fd09c67e141a",
   "metadata": {},
   "source": [
    "# Generate json\n",
    "\n",
    "- order: 1"
   ]
  },
  {
   "cell_type": "code",
   "execution_count": null,
   "id": "961bd4d9-eee0-4a5e-a942-fb66405f6af1",
   "metadata": {},
   "outputs": [],
   "source": [
    "#| default_exp af3.json"
   ]
  },
  {
   "cell_type": "code",
   "execution_count": null,
   "id": "1d0467e3-9fcb-4e07-a59f-58405b640950",
   "metadata": {},
   "outputs": [],
   "source": [
    "#| export\n",
    "import re, shutil, json, pandas as pd, numpy as np\n",
    "from pathlib import Path\n",
    "\n",
    "from rdkit import Chem as rd_chem\n",
    "from rdkit.Chem import AllChem,rdmolfiles\n",
    "from rdkit import Chem\n",
    "\n",
    "from Bio.PDB import PDBParser\n",
    "from kdock.data.core import *"
   ]
  },
  {
   "cell_type": "markdown",
   "id": "55a88fc1-712d-4e0b-9a0d-741541040cce",
   "metadata": {},
   "source": [
    "## Single protein sequence (default)\n",
    "> Default pipeline, will run MSA and template search"
   ]
  },
  {
   "cell_type": "code",
   "execution_count": null,
   "id": "62063f37-32aa-4a12-8e57-29ef4fff1413",
   "metadata": {},
   "outputs": [],
   "source": [
    "#| export\n",
    "def dump_json(data, save_path):\n",
    "    \"Save json data into a file\"\n",
    "    with open(save_path,'w') as f: \n",
    "        json.dump(data,f,indent=4)"
   ]
  },
  {
   "cell_type": "code",
   "execution_count": null,
   "id": "14d9fdb5-7e05-47f6-b596-9d751f9f5618",
   "metadata": {},
   "outputs": [],
   "source": [
    "#| export\n",
    "def get_protein_json(name, # job name\n",
    "                     seq, # aa sequence\n",
    "                     save_path=None, # .json\n",
    "                     seeds=[1]\n",
    "                     ):\n",
    "    \"Generate json of single protein sequence for input of docker command\"\n",
    "    \n",
    "    json_data = {\n",
    "        \"name\": name,\n",
    "        \"modelSeeds\": seeds,\n",
    "        \"sequences\": [\n",
    "            {\n",
    "                \"protein\": {\n",
    "                    \"id\": \"A\",\n",
    "                    \"sequence\": seq,\n",
    "                }\n",
    "            },\n",
    "        ],\n",
    "        \"bondedAtomPairs\": [],\n",
    "        \"dialect\": \"alphafold3\",\n",
    "        \"version\": 3\n",
    "    }\n",
    "    if save_path:\n",
    "        Path(save_path).parent.mkdir(parents=True, exist_ok=True)\n",
    "        dump_json(json_data,save_path)\n",
    "    return json_data"
   ]
  },
  {
   "cell_type": "code",
   "execution_count": null,
   "id": "bfccc623-ebaf-4a10-a597-c0a42e400be7",
   "metadata": {},
   "outputs": [
    {
     "data": {
      "text/plain": [
       "{'name': 'proteinA',\n",
       " 'modelSeeds': [1, 2, 3],\n",
       " 'sequences': [{'protein': {'id': 'A', 'sequence': 'AAA'}}],\n",
       " 'bondedAtomPairs': [],\n",
       " 'dialect': 'alphafold3',\n",
       " 'version': 2}"
      ]
     },
     "execution_count": null,
     "metadata": {},
     "output_type": "execute_result"
    }
   ],
   "source": [
    "data = get_protein_json('proteinA','AAA','data/proteinA.json',seeds=[1,2,3])\n",
    "data"
   ]
  },
  {
   "cell_type": "markdown",
   "id": "3ccf4778-78b0-42e3-b1c1-fc7601ab3c46",
   "metadata": {},
   "source": [
    "## Protein-SMILES"
   ]
  },
  {
   "cell_type": "markdown",
   "id": "3b2eb73f-b4c5-4788-8fe6-cb6ab573da6d",
   "metadata": {},
   "source": [
    "- First run the normal `sequence only` pipeline for the protein\n",
    "- Get the output data.json file, read it, load the `[\"sequences\"][0][\"protein\"]`"
   ]
  },
  {
   "cell_type": "code",
   "execution_count": null,
   "id": "9bb34b3b-e90f-4112-a947-aee8a8610335",
   "metadata": {},
   "outputs": [],
   "source": [
    "#| export\n",
    "def read_json(file_path):\n",
    "    with open(file_path,'r') as f: \n",
    "        data = json.load(f)\n",
    "    return data"
   ]
  },
  {
   "cell_type": "code",
   "execution_count": null,
   "id": "f75a6cc9-8932-451e-b2a4-78993501b163",
   "metadata": {},
   "outputs": [],
   "source": [
    "protein_json = read_json('data/seq_only_data.json')"
   ]
  },
  {
   "cell_type": "code",
   "execution_count": null,
   "id": "b9490613-30cd-4cf9-93a7-0e53a6645932",
   "metadata": {},
   "outputs": [],
   "source": [
    "#| export\n",
    "def get_protein_smiles_json(smi_id:str, \n",
    "                            SMILES:str, \n",
    "                            protein_json, # json type\n",
    "                            save_path=None, # .json\n",
    "                            seeds=[1]\n",
    "                            ):\n",
    "    \n",
    "    \"Get json for protein-ligand docking task\"\n",
    "    raw_smiles = r\"{}\".format(SMILES) # JSON escaping, \\ to \\\\\n",
    "    protein_index = next(i for i, item in enumerate(protein_json[\"sequences\"]) if \"protein\" in item)\n",
    "    json_data = {\n",
    "        \"name\": smi_id,\n",
    "        \"modelSeeds\": seeds,\n",
    "        \"sequences\": [\n",
    "            {\n",
    "                \"ligand\": {\n",
    "                    \"id\": \"L\",\n",
    "                    \"smiles\": raw_smiles,\n",
    "                }\n",
    "            }, \n",
    "            {\n",
    "                \"protein\": protein_json[\"sequences\"][protein_index][\"protein\"]\n",
    "            },\n",
    "        ],\n",
    "        \"bondedAtomPairs\": [],\n",
    "        \"dialect\": \"alphafold3\",\n",
    "        \"version\": 2\n",
    "    }\n",
    "    if save_path:\n",
    "        Path(save_path).parent.mkdir(parents=True, exist_ok=True)\n",
    "        dump_json(json_data,save_path)\n",
    "    return json_data"
   ]
  },
  {
   "cell_type": "code",
   "execution_count": null,
   "id": "1b02bb8e-c65d-4481-9488-4c865575bcea",
   "metadata": {},
   "outputs": [],
   "source": [
    "out = get_protein_smiles_json('smi_name','CCC',protein_json,'data/protein_smi.json',seeds=[1,2,3])"
   ]
  },
  {
   "cell_type": "markdown",
   "id": "fe673aba-7866-4e9c-9642-28b080071a36",
   "metadata": {},
   "source": [
    "Let's take a look for the json:"
   ]
  },
  {
   "cell_type": "code",
   "execution_count": null,
   "id": "1cc39bf3-5ea3-444e-b070-fdc5ab65c5ff",
   "metadata": {},
   "outputs": [
    {
     "data": {
      "text/plain": [
       "\"{'name': 'smi_name', 'modelSeeds': [1, 2, 3], 'sequences': [{'ligand': {'id': 'L', 'smiles': 'CCC'}}\""
      ]
     },
     "execution_count": null,
     "metadata": {},
     "output_type": "execute_result"
    }
   ],
   "source": [
    "str(out)[:100]"
   ]
  },
  {
   "cell_type": "code",
   "execution_count": null,
   "id": "fdd72269-0165-4d2e-bc67-036653c897ad",
   "metadata": {},
   "outputs": [
    {
     "data": {
      "text/html": [
       "<div>\n",
       "<style scoped>\n",
       "    .dataframe tbody tr th:only-of-type {\n",
       "        vertical-align: middle;\n",
       "    }\n",
       "\n",
       "    .dataframe tbody tr th {\n",
       "        vertical-align: top;\n",
       "    }\n",
       "\n",
       "    .dataframe thead th {\n",
       "        text-align: right;\n",
       "    }\n",
       "</style>\n",
       "<table border=\"1\" class=\"dataframe\">\n",
       "  <thead>\n",
       "    <tr style=\"text-align: right;\">\n",
       "      <th></th>\n",
       "      <th>idx</th>\n",
       "      <th>smi</th>\n",
       "    </tr>\n",
       "  </thead>\n",
       "  <tbody>\n",
       "    <tr>\n",
       "      <th>0</th>\n",
       "      <td>a</td>\n",
       "      <td>CCC</td>\n",
       "    </tr>\n",
       "    <tr>\n",
       "      <th>1</th>\n",
       "      <td>b</td>\n",
       "      <td>OCO</td>\n",
       "    </tr>\n",
       "  </tbody>\n",
       "</table>\n",
       "</div>"
      ],
      "text/plain": [
       "  idx  smi\n",
       "0   a  CCC\n",
       "1   b  OCO"
      ]
     },
     "execution_count": null,
     "metadata": {},
     "output_type": "execute_result"
    }
   ],
   "source": [
    "df = pd.DataFrame({'idx':['a','b'],'smi':['CCC','OCO']})\n",
    "df"
   ]
  },
  {
   "cell_type": "code",
   "execution_count": null,
   "id": "ca841b8e-0bdb-41cf-a38c-79e47dda2217",
   "metadata": {},
   "outputs": [],
   "source": [
    "project_name='sdf'\n",
    "for idx, smi in df.values:\n",
    "    _ = get_protein_smiles_json(idx,smi,protein_json,f'af_input/{project_name}/{idx}.json',seeds=[1,2,3])"
   ]
  },
  {
   "cell_type": "markdown",
   "id": "235f663d-4683-4e77-97e8-e6c36b45140b",
   "metadata": {},
   "source": [
    "## Protein-CCDcode"
   ]
  },
  {
   "cell_type": "code",
   "execution_count": null,
   "id": "300bb051-4246-400e-bdc3-dd43e4da47d1",
   "metadata": {},
   "outputs": [],
   "source": [
    "#| export\n",
    "def get_protein_ccdcode_json(protein_json,  # dict with protein sequence\n",
    "                              ccd_code,      # str or list of str\n",
    "                              job_id: str,   # job/task ID\n",
    "                              save_path=None,  # optional output path\n",
    "                              seeds=[1]):      # optional random seeds\n",
    "    \"Create AlphaFold3 docking JSON with CCD code(s).\"\n",
    "    \n",
    "    # Normalize ccd_code to a list\n",
    "    if isinstance(ccd_code, str):\n",
    "        ccd_code = [ccd_code]\n",
    "    elif not isinstance(ccd_code, list):\n",
    "        raise TypeError(\"ccd_code must be a string or a list of strings.\")\n",
    "\n",
    "    protein_index = next(i for i, item in enumerate(protein_json[\"sequences\"]) if \"protein\" in item)\n",
    "\n",
    "    json_data = {\n",
    "        \"name\": job_id,\n",
    "        \"modelSeeds\": seeds,\n",
    "        \"sequences\": [\n",
    "            {\n",
    "                \"ligand\": {\n",
    "                    \"id\": \"L\",\n",
    "                    \"ccdCodes\": ccd_code\n",
    "                }\n",
    "            },\n",
    "            {\n",
    "                \"protein\": protein_json[\"sequences\"][protein_index][\"protein\"]\n",
    "            },\n",
    "        ],\n",
    "        \"dialect\": \"alphafold3\",\n",
    "        \"version\": 3\n",
    "    }\n",
    "\n",
    "    if save_path:\n",
    "        Path(save_path).parent.mkdir(parents=True, exist_ok=True)\n",
    "        dump_json(json_data, save_path)\n",
    "\n",
    "    return json_data"
   ]
  },
  {
   "cell_type": "markdown",
   "id": "fc75e71e-3367-427a-8a7f-39cd06bc944c",
   "metadata": {},
   "source": [
    "## Protein-CCD for covalent"
   ]
  },
  {
   "cell_type": "markdown",
   "id": "35ad4208-dfe3-4283-9db8-e88bbfb32164",
   "metadata": {},
   "source": [
    "### sdf2CCD"
   ]
  },
  {
   "cell_type": "markdown",
   "id": "485b195e-a539-4ce7-985b-9369c398049b",
   "metadata": {},
   "source": [
    "`mol_to_ccd_cif` Reference: https://github.com/google-deepmind/alphafold3/issues/178\n",
    "\n",
    "About hydrogens: https://github.com/google-deepmind/alphafold3/issues/212"
   ]
  },
  {
   "cell_type": "code",
   "execution_count": null,
   "id": "e850527d-826d-4c7f-9a66-bf307c44b809",
   "metadata": {},
   "outputs": [],
   "source": [
    "#| export\n",
    "\n",
    "# Mapping bond types to mmCIF-compatible values\n",
    "_RDKIT_BOND_TYPE_TO_MMCIF = {\n",
    "    rd_chem.BondType.SINGLE: 'SING',\n",
    "    rd_chem.BondType.DOUBLE: 'DOUB',\n",
    "    rd_chem.BondType.TRIPLE: 'TRIP',\n",
    "    rd_chem.BondType.AROMATIC: 'AROM'\n",
    "}\n",
    "\n",
    "def assign_atom_names_from_graph(mol):\n",
    "    for i, atom in enumerate(mol.GetAtoms()):\n",
    "        atom.SetProp('atom_name', f\"{atom.GetSymbol()}{i+1}\")\n",
    "    return mol\n",
    "\n",
    "def mol_to_ccd_text(mol, component_id, pdbx_smiles=None, include_hydrogens=False):\n",
    "    mol = rd_chem.Mol(mol)\n",
    "    if include_hydrogens:\n",
    "        mol = rd_chem.AddHs(mol)\n",
    "    rd_chem.Kekulize(mol, clearAromaticFlags=True)\n",
    "\n",
    "    if mol.GetNumConformers() == 0:\n",
    "        raise ValueError('The molecule has no conformers')\n",
    "    conf = mol.GetConformer()\n",
    "    coords = conf.GetPositions()\n",
    "\n",
    "    mol = assign_atom_names_from_graph(mol)\n",
    "    atom_map = {atom.GetIdx(): atom.GetProp('atom_name') for atom in mol.GetAtoms()}\n",
    "\n",
    "    lines = [\n",
    "        f\"data_{component_id}\",\n",
    "        \"#\",\n",
    "        f\"_chem_comp.id {component_id}\",\n",
    "        f\"_chem_comp.name '{component_id}'\",\n",
    "        \"_chem_comp.type non-polymer\",\n",
    "        \"_chem_comp.formula '?'\",\n",
    "        \"_chem_comp.mon_nstd_parent_comp_id ?\",\n",
    "        \"_chem_comp.pdbx_synonyms ?\",\n",
    "        \"_chem_comp.formula_weight '?'\",\n",
    "    ]\n",
    "    if pdbx_smiles:\n",
    "        lines.append(f\"_chem_comp.pdbx_smiles {pdbx_smiles}\")\n",
    "    lines += [\n",
    "        \"#\",\n",
    "        \"loop_\",\n",
    "        \"_chem_comp_atom.comp_id\",\n",
    "        \"_chem_comp_atom.atom_id\",\n",
    "        \"_chem_comp_atom.type_symbol\",\n",
    "        \"_chem_comp_atom.charge\",\n",
    "        \"_chem_comp_atom.pdbx_leaving_atom_flag\",\n",
    "        \"_chem_comp_atom.pdbx_model_Cartn_x_ideal\",\n",
    "        \"_chem_comp_atom.pdbx_model_Cartn_y_ideal\",\n",
    "        \"_chem_comp_atom.pdbx_model_Cartn_z_ideal\"\n",
    "    ]\n",
    "\n",
    "    for i, atom in enumerate(mol.GetAtoms()):\n",
    "        if not include_hydrogens and atom.GetSymbol() == 'H':\n",
    "            continue\n",
    "        x, y, z = coords[i]\n",
    "        lines.append(f\"{component_id} {atom_map[atom.GetIdx()]} {atom.GetSymbol()} {atom.GetFormalCharge()} N {x:.3f} {y:.3f} {z:.3f}\")\n",
    "\n",
    "    lines += [\n",
    "        \"#\",\n",
    "        \"loop_\",\n",
    "        \"_chem_comp_bond.atom_id_1\",\n",
    "        \"_chem_comp_bond.atom_id_2\",\n",
    "        \"_chem_comp_bond.value_order\",\n",
    "        \"_chem_comp_bond.pdbx_aromatic_flag\"\n",
    "    ]\n",
    "\n",
    "    for bond in mol.GetBonds():\n",
    "        a1, a2 = bond.GetBeginAtomIdx(), bond.GetEndAtomIdx()\n",
    "        if not include_hydrogens and (mol.GetAtomWithIdx(a1).GetSymbol() == 'H' or mol.GetAtomWithIdx(a2).GetSymbol() == 'H'):\n",
    "            continue\n",
    "        bond_type = _RDKIT_BOND_TYPE_TO_MMCIF[bond.GetBondType()]\n",
    "        aromatic_flag = 'Y' if bond.GetIsAromatic() else 'N'\n",
    "        lines.append(f\"{atom_map[a1]} {atom_map[a2]} {bond_type} {aromatic_flag}\")\n",
    "    lines.append(\"#\")\n",
    "\n",
    "    return \"\\n\".join(lines)"
   ]
  },
  {
   "cell_type": "code",
   "execution_count": null,
   "id": "c099dc24-d29e-49a1-9cbb-d14e7bc2a3de",
   "metadata": {},
   "outputs": [],
   "source": [
    "#| export\n",
    "def sdf2ccd(sdf_path,\n",
    "            CCD_name='lig-1', # do not use '_'; use as less letter as possible, 'lig-any' leads to extra ligands\n",
    "            ):\n",
    "\n",
    "    \"Convert the compound to the AF3 required CCD format\"\n",
    "    supplier = Chem.SDMolSupplier(sdf_path)\n",
    "    mol = supplier[0]  # Get the first molecule\n",
    "    return mol_to_ccd_text(mol,CCD_name)"
   ]
  },
  {
   "cell_type": "code",
   "execution_count": null,
   "id": "b0a487e8-3c34-480a-942a-0fbc7f77c8bb",
   "metadata": {},
   "outputs": [
    {
     "data": {
      "text/plain": [
       "\"data_lig-any\\n#\\n_chem_comp.id lig-any\\n_chem_comp.name 'lig-any'\\n_chem_comp.type non-polymer\\n_chem_com\""
      ]
     },
     "execution_count": null,
     "metadata": {},
     "output_type": "execute_result"
    }
   ],
   "source": [
    "sdf2ccd('covalent_test/lig-HKI.sdf')[:100]"
   ]
  },
  {
   "cell_type": "markdown",
   "id": "ae614a84-87f3-4c57-9679-b016de3062ae",
   "metadata": {},
   "source": [
    "### json"
   ]
  },
  {
   "cell_type": "code",
   "execution_count": null,
   "id": "3953bc6b-3bc0-40e5-a87b-08eb640b8fcf",
   "metadata": {},
   "outputs": [],
   "source": [
    "#| export\n",
    "def get_protein_ccd_json(protein_json, # dict with protein sequence\n",
    "                         rec_residue_num:int, # 1-indexed, for bondedAtomPairs, e.g., [\"A\", 145, \"SG\"] \n",
    "                         rec_atom_id:str, # for bondedAtomPairs, e.g., [\"A\", 145, \"SG\"] \n",
    "                         lig_sdf_path, # ccd text\n",
    "                         lig_atom_id:str, # 0-indexed, for bondedAtomPairs, [\"L\", 1, \"C04\"]\n",
    "                         job_id:str, # str, job/task ID\n",
    "                         save_path=None,# optional output path\n",
    "                         seeds=[1], # optional random seeds\n",
    "                         ):               \n",
    "    \"Create AlphaFold3 docking JSON with customized CCD ligand and bondedAtomPairs.\"\n",
    "\n",
    "    # get userCCD\n",
    "    userCCD=sdf2ccd(lig_sdf_path)\n",
    "    ccd_id = re.search(r\"_chem_comp.id\\s+([^\\s#]+)\", userCCD).group(1)\n",
    "    \n",
    "    protein_index = next(i for i, item in enumerate(protein_json[\"sequences\"]) if \"protein\" in item)\n",
    "\n",
    "    json_data = {\n",
    "        \"name\": job_id,\n",
    "        \"modelSeeds\": seeds,\n",
    "        \"sequences\": [\n",
    "            {\n",
    "                \"ligand\": {\n",
    "                    \"id\": \"L\",\n",
    "                    \"ccdCodes\": [ccd_id]\n",
    "                }\n",
    "            },\n",
    "            {\n",
    "                \"protein\": protein_json[\"sequences\"][protein_index][\"protein\"]\n",
    "            },\n",
    "        ],\n",
    "        \"bondedAtomPairs\": [[[\"A\", rec_residue_num, rec_atom_id],[\"L\", 1, lig_atom_id]]],\n",
    "        \"userCCD\": userCCD,\n",
    "        \"dialect\": \"alphafold3\",\n",
    "        \"version\": 3\n",
    "    }\n",
    "\n",
    "    if save_path:\n",
    "        Path(save_path).parent.mkdir(parents=True, exist_ok=True)\n",
    "        dump_json(json_data, save_path)\n",
    "\n",
    "    return json_data"
   ]
  },
  {
   "cell_type": "markdown",
   "id": "65501735-7acc-44fa-b08a-162739b8d7e6",
   "metadata": {},
   "source": [
    "Version 2, with user ccd and pair as input:"
   ]
  },
  {
   "cell_type": "code",
   "execution_count": null,
   "id": "15297ab2-6165-4c13-9557-3c758365d8a6",
   "metadata": {},
   "outputs": [],
   "source": [
    "def get_protein_ccd_json2(protein_json,             # dict with protein sequence\n",
    "                         userCCD,                  # ccd text\n",
    "                         pair1,                    # protein pair e.g., [\"A\", 145, \"SG\"] 1-indexed\n",
    "                         pair2,                    # ligand pair e.g., [\"L\", 1, \"C04\"] 0-indexed\n",
    "                         job_id,                   # str, job/task ID\n",
    "                         save_path=None,           # optional output path\n",
    "                         seeds=[1]):               # optional random seeds\n",
    "    \"Create AlphaFold3 docking JSON with customized CCD ligand and bondedAtomPairs.\"\n",
    "    \n",
    "    ccd_id = re.search(r\"_chem_comp.id\\s+([^\\s#]+)\", ccd_text).group(1)\n",
    "    json_data = {\n",
    "        \"name\": job_id,\n",
    "        \"modelSeeds\": seeds,\n",
    "        \"sequences\": [\n",
    "            {\n",
    "                \"ligand\": {\n",
    "                    \"id\": \"L\",\n",
    "                    \"ccdCodes\": [ccd_id]\n",
    "                }\n",
    "            },\n",
    "            {\n",
    "                \"protein\": protein_json[\"sequences\"][0][\"protein\"]\n",
    "            },\n",
    "        ],\n",
    "        \"bondedAtomPairs\": [[pair1,pair2]],\n",
    "        \"userCCD\": userCCD,\n",
    "        \"dialect\": \"alphafold3\",\n",
    "        \"version\": 3\n",
    "    }\n",
    "\n",
    "    if save_path:\n",
    "        Path(save_path).parent.mkdir(parents=True, exist_ok=True)\n",
    "        dump_json(json_data, save_path)\n",
    "\n",
    "    return json_data"
   ]
  },
  {
   "cell_type": "markdown",
   "id": "733be8ba-c063-49e3-925a-4ad2cdd29514",
   "metadata": {},
   "source": [
    "## Split the files to subfolder\n",
    "> for multi-GPUs"
   ]
  },
  {
   "cell_type": "code",
   "execution_count": null,
   "id": "c7f16eec-082a-4233-b3ed-b96d58ecedb4",
   "metadata": {},
   "outputs": [],
   "source": [
    "#| export\n",
    "def split_nfolder(folder_dir, \n",
    "                  n=4):\n",
    "    \"Move json files from a folder into subfolders (folder_0, folder_1, ..., folder_N).\"\n",
    "    \n",
    "    folder_dir = Path(folder_dir)\n",
    "\n",
    "    files = sorted(folder_dir.glob(\"*.json\"))\n",
    "    # print(len(files))\n",
    "    subfolders = [folder_dir / f\"folder_{i}\" for i in range(n)]\n",
    "    for folder in subfolders:\n",
    "        folder.mkdir(exist_ok=True)\n",
    "\n",
    "    for idx, file in enumerate(files):\n",
    "        target_folder = subfolders[idx % n]\n",
    "        shutil.move(str(file), target_folder / file.name)\n",
    "\n",
    "    print(f\"Distributed {len(files)} files into {n} folders.\")"
   ]
  },
  {
   "cell_type": "code",
   "execution_count": null,
   "id": "23451870-bd63-49ae-9732-6d3c30c677d8",
   "metadata": {},
   "outputs": [
    {
     "name": "stdout",
     "output_type": "stream",
     "text": [
      "Distributed 2 files into 4 folders.\n"
     ]
    }
   ],
   "source": [
    "split_nfolder(f'af_input/{project_name}')"
   ]
  },
  {
   "cell_type": "markdown",
   "id": "6a94c033-c73d-47ea-9d9c-34f62cd155fb",
   "metadata": {},
   "source": [
    "## End"
   ]
  },
  {
   "cell_type": "code",
   "execution_count": null,
   "id": "6b7dd2e2-bfd5-4a60-b815-1a05afd6d880",
   "metadata": {},
   "outputs": [],
   "source": [
    "#| hide\n",
    "import nbdev; nbdev.nbdev_export()"
   ]
  },
  {
   "cell_type": "code",
   "execution_count": null,
   "id": "97d9e75a-1f5b-4ac5-a661-f777bdd0ddb5",
   "metadata": {},
   "outputs": [],
   "source": []
  },
  {
   "cell_type": "markdown",
   "id": "6ec4022f-e60b-41f1-ad5d-9ccec55c172d",
   "metadata": {},
   "source": [
    "### Reference:"
   ]
  },
  {
   "cell_type": "code",
   "execution_count": null,
   "id": "8b992f23-bfe7-400b-8aa2-6ee0f62e9804",
   "metadata": {},
   "outputs": [],
   "source": [
    "# import collections\n",
    "# from collections.abc import Mapping, Sequence\n",
    "\n",
    "# from absl import logging\n",
    "# from alphafold3.cpp import cif_dict\n",
    "# import numpy as np\n",
    "# import rdkit.Chem as rd_chem\n",
    "# from rdkit.Chem import AllChem as rd_all_chem\n",
    "\n",
    "# def mol_to_ccd_cif(\n",
    "#     mol: rd_chem.Mol,\n",
    "#     component_id: str,\n",
    "#     pdbx_smiles: str | None = None,\n",
    "#     include_hydrogens: bool = True,\n",
    "# ) -> cif_dict.CifDict:\n",
    "#   \"\"\"Creates a CCD-like mmcif data block from an rdkit Mol object.\n",
    "\n",
    "#   Only a subset of associated mmcif fields is populated, but that is\n",
    "#   sufficient for further usage, e.g. in featurization code.\n",
    "\n",
    "#   Atom names can be specified via `atom_name` property. For atoms with\n",
    "#   unspecified value of that property, the name is assigned based on element type\n",
    "#   and the order in the Mol object.\n",
    "\n",
    "#   If the Mol object has associated conformers, atom positions from the first of\n",
    "#   them will be populated in the resulting mmcif file.\n",
    "\n",
    "#   Args:\n",
    "#      mol: An rdkit molecule.\n",
    "#      component_id: Name of the molecule to use in the resulting mmcif. That is\n",
    "#        equivalent to CCD code.\n",
    "#      pdbx_smiles: If specified, the value will be used to populate\n",
    "#        `_chem_comp.pdbx_smiles`.\n",
    "#      include_hydrogens: Whether to include atom and bond data involving\n",
    "#        hydrogens.\n",
    "\n",
    "#   Returns:\n",
    "#      An mmcif data block corresponding for the given rdkit molecule.\n",
    "\n",
    "#   Raises:\n",
    "#     UnsupportedMolBond: When a molecule contains a bond that can't be\n",
    "#       represented with mmcif.\n",
    "#   \"\"\"\n",
    "#   mol = rd_chem.Mol(mol)\n",
    "#   if include_hydrogens:\n",
    "#     mol = rd_chem.AddHs(mol)\n",
    "#   rd_chem.Kekulize(mol)\n",
    "\n",
    "#   if mol.GetNumConformers() > 0:\n",
    "#     ideal_conformer = mol.GetConformer(0).GetPositions()\n",
    "#     ideal_conformer = np.vectorize(lambda x: f'{x:.3f}')(ideal_conformer)\n",
    "#   else:\n",
    "#     # No data will be populated in the resulting mmcif if the molecule doesn't\n",
    "#     # have any conformers attached to it.\n",
    "#     ideal_conformer = None\n",
    "\n",
    "#   mol_cif = collections.defaultdict(list)\n",
    "#   mol_cif['data_'] = [component_id]\n",
    "#   mol_cif['_chem_comp.id'] = [component_id]\n",
    "#   if pdbx_smiles:\n",
    "#     mol_cif['_chem_comp.pdbx_smiles'] = [pdbx_smiles]\n",
    "\n",
    "#   mol = assign_atom_names_from_graph(mol, keep_existing_names=True)\n",
    "\n",
    "#   for atom_idx, atom in enumerate(mol.GetAtoms()):\n",
    "#     element = atom.GetSymbol()\n",
    "#     if not include_hydrogens and element in ('H', 'D'):\n",
    "#       continue\n",
    "\n",
    "#     mol_cif['_chem_comp_atom.comp_id'].append(component_id)\n",
    "#     mol_cif['_chem_comp_atom.atom_id'].append(atom.GetProp('atom_name'))\n",
    "#     mol_cif['_chem_comp_atom.type_symbol'].append(atom.GetSymbol().upper())\n",
    "#     mol_cif['_chem_comp_atom.charge'].append(str(atom.GetFormalCharge()))\n",
    "#     if ideal_conformer is not None:\n",
    "#       coords = ideal_conformer[atom_idx]\n",
    "#       mol_cif['_chem_comp_atom.pdbx_model_Cartn_x_ideal'].append(coords[0])\n",
    "#       mol_cif['_chem_comp_atom.pdbx_model_Cartn_y_ideal'].append(coords[1])\n",
    "#       mol_cif['_chem_comp_atom.pdbx_model_Cartn_z_ideal'].append(coords[2])\n",
    "\n",
    "#   for bond in mol.GetBonds():\n",
    "#     atom1 = bond.GetBeginAtom()\n",
    "#     atom2 = bond.GetEndAtom()\n",
    "#     if not include_hydrogens and (\n",
    "#         atom1.GetSymbol() in ('H', 'D') or atom2.GetSymbol() in ('H', 'D')\n",
    "#     ):\n",
    "#       continue\n",
    "#     mol_cif['_chem_comp_bond.comp_id'].append(component_id)\n",
    "#     mol_cif['_chem_comp_bond.atom_id_1'].append(\n",
    "#         bond.GetBeginAtom().GetProp('atom_name')\n",
    "#     )\n",
    "#     mol_cif['_chem_comp_bond.atom_id_2'].append(\n",
    "#         bond.GetEndAtom().GetProp('atom_name')\n",
    "#     )\n",
    "#     try:\n",
    "#       bond_type = bond.GetBondType()\n",
    "#       # Older versions of RDKit did not have a DATIVE bond type. Convert it to\n",
    "#       # SINGLE to match the AF3 training setup.\n",
    "#       if bond_type == rd_chem.BondType.DATIVE:\n",
    "#         bond_type = rd_chem.BondType.SINGLE\n",
    "#       mol_cif['_chem_comp_bond.value_order'].append(\n",
    "#           _RDKIT_BOND_TYPE_TO_MMCIF[bond_type]\n",
    "#       )\n",
    "#       mol_cif['_chem_comp_bond.pdbx_stereo_config'].append(\n",
    "#           _RDKIT_BOND_STEREO_TO_MMCIF[bond.GetStereo()]\n",
    "#       )\n",
    "#     except KeyError as e:\n",
    "#       raise UnsupportedMolBondError from e\n",
    "#     mol_cif['_chem_comp_bond.pdbx_aromatic_flag'].append(\n",
    "#         'Y' if bond.GetIsAromatic() else 'N'\n",
    "#     )\n",
    "\n",
    "#   return cif_dict.CifDict(mol_cif)"
   ]
  }
 ],
 "metadata": {
  "kernelspec": {
   "display_name": "python3",
   "language": "python",
   "name": "python3"
  }
 },
 "nbformat": 4,
 "nbformat_minor": 5
}
