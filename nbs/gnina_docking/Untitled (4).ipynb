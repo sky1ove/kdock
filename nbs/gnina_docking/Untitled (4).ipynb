{
 "cells": [
  {
   "cell_type": "code",
   "execution_count": 1,
   "id": "2cbcbbb3-e1e1-49df-a344-551c07e6bb16",
   "metadata": {},
   "outputs": [],
   "source": [
    "import sys\n",
    "sys.path.append(\"/notebooks/tools\")"
   ]
  },
  {
   "cell_type": "code",
   "execution_count": 12,
   "id": "3788fc84-49fe-4895-8d0f-21bddbb7a118",
   "metadata": {},
   "outputs": [],
   "source": [
    "from tools.binding import *"
   ]
  },
  {
   "cell_type": "code",
   "execution_count": 24,
   "id": "d9627792-1084-4b28-af91-4596aa19caaf",
   "metadata": {},
   "outputs": [],
   "source": [
    "from rdkit import Chem\n",
    "from rdkit.Chem import AllChem\n",
    "import subprocess\n",
    "import os\n",
    "import py3Dmol\n",
    "import re"
   ]
  },
  {
   "cell_type": "code",
   "execution_count": 10,
   "id": "f59c7cf2-5b12-4cdb-bccf-8f5966701eed",
   "metadata": {},
   "outputs": [],
   "source": [
    "from tqdm import tqdm"
   ]
  },
  {
   "cell_type": "code",
   "execution_count": 2,
   "id": "7769bda3-08c7-4137-bc70-e86e6c18f99b",
   "metadata": {},
   "outputs": [],
   "source": [
    "from fastbook import *"
   ]
  },
  {
   "cell_type": "code",
   "execution_count": 31,
   "id": "60d067e2-28d1-4236-97e2-756c14491fd7",
   "metadata": {},
   "outputs": [],
   "source": [
    "df = pd.read_csv('neg2.csv')"
   ]
  },
  {
   "cell_type": "code",
   "execution_count": 32,
   "id": "798bc714-dd28-4457-965b-4196a893b628",
   "metadata": {},
   "outputs": [
    {
     "data": {
      "text/html": [
       "<div>\n",
       "<style scoped>\n",
       "    .dataframe tbody tr th:only-of-type {\n",
       "        vertical-align: middle;\n",
       "    }\n",
       "\n",
       "    .dataframe tbody tr th {\n",
       "        vertical-align: top;\n",
       "    }\n",
       "\n",
       "    .dataframe thead th {\n",
       "        text-align: right;\n",
       "    }\n",
       "</style>\n",
       "<table border=\"1\" class=\"dataframe\">\n",
       "  <thead>\n",
       "    <tr style=\"text-align: right;\">\n",
       "      <th></th>\n",
       "      <th>ID</th>\n",
       "      <th>SMILES</th>\n",
       "    </tr>\n",
       "  </thead>\n",
       "  <tbody>\n",
       "    <tr>\n",
       "      <th>0</th>\n",
       "      <td>RS-0481</td>\n",
       "      <td>CC(NC(=O)C1CSCN1C(=O)c1ccccc1)c1ccccc1</td>\n",
       "    </tr>\n",
       "    <tr>\n",
       "      <th>1</th>\n",
       "      <td>oleuropein</td>\n",
       "      <td>COC(=O)C1=COC(OC2OC(CO)C(O)C(O)C2O)\\C(=C/C)C1CC(=O)OCCc1ccc(O)c(O)c1</td>\n",
       "    </tr>\n",
       "    <tr>\n",
       "      <th>2</th>\n",
       "      <td>isoleucine</td>\n",
       "      <td>CCC(C)C(N)C(O)=O</td>\n",
       "    </tr>\n",
       "    <tr>\n",
       "      <th>3</th>\n",
       "      <td>gepefrine</td>\n",
       "      <td>CC(N)Cc1cccc(O)c1</td>\n",
       "    </tr>\n",
       "    <tr>\n",
       "      <th>4</th>\n",
       "      <td>cloranolol</td>\n",
       "      <td>CC(C)(C)NCC(O)COc1cc(Cl)ccc1Cl</td>\n",
       "    </tr>\n",
       "    <tr>\n",
       "      <th>...</th>\n",
       "      <td>...</td>\n",
       "      <td>...</td>\n",
       "    </tr>\n",
       "    <tr>\n",
       "      <th>94</th>\n",
       "      <td>betamethasone-acetate</td>\n",
       "      <td>C[C@H]1CC2C3CCC4=CC(=O)C=C[C@]4(C)[C@@]3(F)[C@@H](O)C[C@]2(C)[C@@]1(O)C(=O)COC(C)=O</td>\n",
       "    </tr>\n",
       "    <tr>\n",
       "      <th>95</th>\n",
       "      <td>chlorphenesin</td>\n",
       "      <td>OCC(O)COc1ccc(Cl)cc1</td>\n",
       "    </tr>\n",
       "    <tr>\n",
       "      <th>96</th>\n",
       "      <td>prulifloxacin</td>\n",
       "      <td>CC1Sc2c(C(O)=O)c(=O)c3cc(F)c(cc3n12)N1CCN(Cc2oc(=O)oc2C)CC1</td>\n",
       "    </tr>\n",
       "    <tr>\n",
       "      <th>97</th>\n",
       "      <td>mabuprofen</td>\n",
       "      <td>CC(C)Cc1ccc(cc1)C(C)C(=O)NCCO</td>\n",
       "    </tr>\n",
       "    <tr>\n",
       "      <th>98</th>\n",
       "      <td>nuclomedone</td>\n",
       "      <td>Clc1ccc(CC2C(=O)N=C3SCCN3C2=O)cc1</td>\n",
       "    </tr>\n",
       "  </tbody>\n",
       "</table>\n",
       "<p>99 rows × 2 columns</p>\n",
       "</div>"
      ],
      "text/plain": [
       "                       ID  \\\n",
       "0                 RS-0481   \n",
       "1              oleuropein   \n",
       "2              isoleucine   \n",
       "3               gepefrine   \n",
       "4              cloranolol   \n",
       "..                    ...   \n",
       "94  betamethasone-acetate   \n",
       "95          chlorphenesin   \n",
       "96          prulifloxacin   \n",
       "97             mabuprofen   \n",
       "98            nuclomedone   \n",
       "\n",
       "                                                                                 SMILES  \n",
       "0                                                CC(NC(=O)C1CSCN1C(=O)c1ccccc1)c1ccccc1  \n",
       "1                  COC(=O)C1=COC(OC2OC(CO)C(O)C(O)C2O)\\C(=C/C)C1CC(=O)OCCc1ccc(O)c(O)c1  \n",
       "2                                                                      CCC(C)C(N)C(O)=O  \n",
       "3                                                                     CC(N)Cc1cccc(O)c1  \n",
       "4                                                        CC(C)(C)NCC(O)COc1cc(Cl)ccc1Cl  \n",
       "..                                                                                  ...  \n",
       "94  C[C@H]1CC2C3CCC4=CC(=O)C=C[C@]4(C)[C@@]3(F)[C@@H](O)C[C@]2(C)[C@@]1(O)C(=O)COC(C)=O  \n",
       "95                                                                 OCC(O)COc1ccc(Cl)cc1  \n",
       "96                          CC1Sc2c(C(O)=O)c(=O)c3cc(F)c(cc3n12)N1CCN(Cc2oc(=O)oc2C)CC1  \n",
       "97                                                        CC(C)Cc1ccc(cc1)C(C)C(=O)NCCO  \n",
       "98                                                    Clc1ccc(CC2C(=O)N=C3SCCN3C2=O)cc1  \n",
       "\n",
       "[99 rows x 2 columns]"
      ]
     },
     "execution_count": 32,
     "metadata": {},
     "output_type": "execute_result"
    }
   ],
   "source": [
    "df"
   ]
  },
  {
   "cell_type": "code",
   "execution_count": 17,
   "id": "8be2f214-c3d6-4511-be4a-4396f4af87fa",
   "metadata": {
    "collapsed": true,
    "jupyter": {
     "outputs_hidden": true
    },
    "tags": []
   },
   "outputs": [
    {
     "name": "stdout",
     "output_type": "stream",
     "text": [
      "Reading package lists...\n",
      "Building dependency tree...\n",
      "Reading state information...\n",
      "The following additional packages will be installed:\n",
      "  libopenbabel6 libschroedinger-maeparser1\n",
      "The following NEW packages will be installed:\n",
      "  libopenbabel6 libschroedinger-maeparser1 openbabel\n",
      "0 upgraded, 3 newly installed, 0 to remove and 39 not upgraded.\n",
      "Need to get 3784 kB of archives.\n",
      "After this operation, 17.9 MB of additional disk space will be used.\n",
      "Get:1 http://archive.ubuntu.com/ubuntu focal/universe amd64 libschroedinger-maeparser1 amd64 1.2.2-1build1 [89.1 kB]\n",
      "Get:2 http://archive.ubuntu.com/ubuntu focal/universe amd64 libopenbabel6 amd64 3.0.0+dfsg-3ubuntu3 [3568 kB]\n",
      "Get:3 http://archive.ubuntu.com/ubuntu focal/universe amd64 openbabel amd64 3.0.0+dfsg-3ubuntu3 [127 kB]\n",
      "Fetched 3784 kB in 1s (3746 kB/s)\n",
      "\n",
      "\u001b7\u001b[0;23r\u001b8\u001b[1ASelecting previously unselected package libschroedinger-maeparser1:amd64.\n",
      "(Reading database ... 81360 files and directories currently installed.)\n",
      "Preparing to unpack .../libschroedinger-maeparser1_1.2.2-1build1_amd64.deb ...\n",
      "\u001b7\u001b[24;0f\u001b[42m\u001b[30mProgress: [  0%]\u001b[49m\u001b[39m [..........................................................] \u001b8\u001b7\u001b[24;0f\u001b[42m\u001b[30mProgress: [  8%]\u001b[49m\u001b[39m [####......................................................] \u001b8Unpacking libschroedinger-maeparser1:amd64 (1.2.2-1build1) ...\n",
      "\u001b7\u001b[24;0f\u001b[42m\u001b[30mProgress: [ 15%]\u001b[49m\u001b[39m [########..................................................] \u001b8Selecting previously unselected package libopenbabel6.\n",
      "Preparing to unpack .../libopenbabel6_3.0.0+dfsg-3ubuntu3_amd64.deb ...\n",
      "\u001b7\u001b[24;0f\u001b[42m\u001b[30mProgress: [ 23%]\u001b[49m\u001b[39m [#############.............................................] \u001b8Unpacking libopenbabel6 (3.0.0+dfsg-3ubuntu3) ...\n",
      "\u001b7\u001b[24;0f\u001b[42m\u001b[30mProgress: [ 31%]\u001b[49m\u001b[39m [#################.........................................] \u001b8Selecting previously unselected package openbabel.\n",
      "Preparing to unpack .../openbabel_3.0.0+dfsg-3ubuntu3_amd64.deb ...\n",
      "\u001b7\u001b[24;0f\u001b[42m\u001b[30mProgress: [ 38%]\u001b[49m\u001b[39m [######################....................................] \u001b8Unpacking openbabel (3.0.0+dfsg-3ubuntu3) ...\n",
      "\u001b7\u001b[24;0f\u001b[42m\u001b[30mProgress: [ 46%]\u001b[49m\u001b[39m [##########################................................] \u001b8Setting up libschroedinger-maeparser1:amd64 (1.2.2-1build1) ...\n",
      "\u001b7\u001b[24;0f\u001b[42m\u001b[30mProgress: [ 54%]\u001b[49m\u001b[39m [###############################...........................] \u001b8\u001b7\u001b[24;0f\u001b[42m\u001b[30mProgress: [ 62%]\u001b[49m\u001b[39m [###################################.......................] \u001b8Setting up libopenbabel6 (3.0.0+dfsg-3ubuntu3) ...\n",
      "\u001b7\u001b[24;0f\u001b[42m\u001b[30mProgress: [ 69%]\u001b[49m\u001b[39m [########################################..................] \u001b8\u001b7\u001b[24;0f\u001b[42m\u001b[30mProgress: [ 77%]\u001b[49m\u001b[39m [############################################..............] \u001b8Setting up openbabel (3.0.0+dfsg-3ubuntu3) ...\n",
      "\u001b7\u001b[24;0f\u001b[42m\u001b[30mProgress: [ 85%]\u001b[49m\u001b[39m [#################################################.........] \u001b8\u001b7\u001b[24;0f\u001b[42m\u001b[30mProgress: [ 92%]\u001b[49m\u001b[39m [#####################################################.....] \u001b8Processing triggers for libc-bin (2.31-0ubuntu9.7) ...\n",
      "Processing triggers for man-db (2.9.1-1) ...\n",
      "\n",
      "\u001b7\u001b[0;24r\u001b8\u001b[1A\u001b[J"
     ]
    }
   ],
   "source": [
    "!apt install -yq openbabel"
   ]
  },
  {
   "cell_type": "code",
   "execution_count": 18,
   "id": "8b38f253-0351-4b16-af3c-ded7acd8fccd",
   "metadata": {},
   "outputs": [],
   "source": [
    "!chmod +x gnina"
   ]
  },
  {
   "cell_type": "code",
   "execution_count": 29,
   "id": "e64837c0-0318-4012-810f-75e5e1e6cd82",
   "metadata": {
    "collapsed": true,
    "jupyter": {
     "outputs_hidden": true
    },
    "tags": []
   },
   "outputs": [
    {
     "name": "stderr",
     "output_type": "stream",
     "text": [
      "\n",
      "Processing:   0%|          | 0/99 [02:38<?, ?it/s]\u001b[A\n",
      "[21:38:07] Molecule does not have explicit Hs. Consider calling AddHs()\n",
      "[21:38:07] Molecule does not have explicit Hs. Consider calling AddHs()\n",
      "[21:38:07] Molecule does not have explicit Hs. Consider calling AddHs()\n"
     ]
    },
    {
     "data": {
      "application/3dmoljs_load.v0": "<div id=\"3dmolviewer_16864330878322701\"  style=\"position: relative; width: 640px; height: 480px;\">\n        <p id=\"3dmolwarning_16864330878322701\" style=\"background-color:#ffcccc;color:black\">You appear to be running in JupyterLab (or JavaScript failed to load for some other reason).  You need to install the 3dmol extension: <br>\n        <tt>jupyter labextension install jupyterlab_3dmol</tt></p>\n        </div>\n<script>\n\nvar loadScriptAsync = function(uri){\n  return new Promise((resolve, reject) => {\n    //this is to ignore the existence of requirejs amd\n    var savedexports, savedmodule;\n    if (typeof exports !== 'undefined') savedexports = exports;\n    else exports = {}\n    if (typeof module !== 'undefined') savedmodule = module;\n    else module = {}\n\n    var tag = document.createElement('script');\n    tag.src = uri;\n    tag.async = true;\n    tag.onload = () => {\n        exports = savedexports;\n        module = savedmodule;\n        resolve();\n    };\n  var firstScriptTag = document.getElementsByTagName('script')[0];\n  firstScriptTag.parentNode.insertBefore(tag, firstScriptTag);\n});\n};\n\nif(typeof $3Dmolpromise === 'undefined') {\n$3Dmolpromise = null;\n  $3Dmolpromise = loadScriptAsync('https://cdnjs.cloudflare.com/ajax/libs/3Dmol/2.0.3/3Dmol-min.js');\n}\n\nvar viewer_16864330878322701 = null;\nvar warn = document.getElementById(\"3dmolwarning_16864330878322701\");\nif(warn) {\n    warn.parentNode.removeChild(warn);\n}\n$3Dmolpromise.then(function() {\nviewer_16864330878322701 = $3Dmol.createViewer(document.getElementById(\"3dmolviewer_16864330878322701\"),{backgroundColor:\"white\"});\nviewer_16864330878322701.zoomTo();\n\tviewer_16864330878322701.addModel(\"\\n     RDKit          3D\\n\\n 24 26  0  0  0  0  0  0  0  0999 V2000\\n    3.5454   -2.4951   -0.4653 C   0  0  0  0  0  0  0  0  0  0  0  0\\n    2.8896   -1.1327   -0.6243 C   0  0  0  0  0  0  0  0  0  0  0  0\\n    1.8058   -0.9770    0.3368 N   0  0  0  0  0  0  0  0  0  0  0  0\\n    0.5486   -1.6400    0.1956 C   0  0  0  0  0  0  0  0  0  0  0  0\\n    0.3278   -2.3864   -0.7974 O   0  0  0  0  0  0  0  0  0  0  0  0\\n   -0.5038   -1.4381    1.2425 C   0  0  0  0  0  0  0  0  0  0  0  0\\n   -0.7463   -2.7280    2.0007 C   0  0  0  0  0  0  0  0  0  0  0  0\\n   -2.1048   -3.6192    1.1879 S   0  0  0  0  0  0  0  0  0  0  0  0\\n   -2.7823   -2.0658    0.5325 C   0  0  0  0  0  0  0  0  0  0  0  0\\n   -1.7654   -1.0302    0.6393 N   0  0  0  0  0  0  0  0  0  0  0  0\\n   -1.9555    0.3096    0.1394 C   0  0  0  0  0  0  0  0  0  0  0  0\\n   -0.9444    1.0396   -0.0543 O   0  0  0  0  0  0  0  0  0  0  0  0\\n   -3.2969    0.8714   -0.1504 C   0  0  0  0  0  0  0  0  0  0  0  0\\n   -4.4582    0.3324    0.4243 C   0  0  0  0  0  0  0  0  0  0  0  0\\n   -5.7102    0.8954    0.1612 C   0  0  0  0  0  0  0  0  0  0  0  0\\n   -5.8128    2.0104   -0.6738 C   0  0  0  0  0  0  0  0  0  0  0  0\\n   -4.6631    2.5638   -1.2423 C   0  0  0  0  0  0  0  0  0  0  0  0\\n   -3.4118    1.9993   -0.9782 C   0  0  0  0  0  0  0  0  0  0  0  0\\n    3.8961   -0.0408   -0.4517 C   0  0  0  0  0  0  0  0  0  0  0  0\\n    4.5254    0.1789    0.7837 C   0  0  0  0  0  0  0  0  0  0  0  0\\n    5.4649    1.2051    0.9205 C   0  0  0  0  0  0  0  0  0  0  0  0\\n    5.7799    2.0146   -0.1748 C   0  0  0  0  0  0  0  0  0  0  0  0\\n    5.1560    1.7982   -1.4070 C   0  0  0  0  0  0  0  0  0  0  0  0\\n    4.2162    0.7720   -1.5448 C   0  0  0  0  0  0  0  0  0  0  0  0\\n  1  2  1  0\\n  2  3  1  0\\n  3  4  1  0\\n  4  5  2  0\\n  4  6  1  0\\n  6  7  1  0\\n  7  8  1  0\\n  8  9  1  0\\n  9 10  1  0\\n 10 11  1  0\\n 11 12  2  0\\n 11 13  1  0\\n 13 14  2  0\\n 14 15  1  0\\n 15 16  2  0\\n 16 17  1  0\\n 17 18  2  0\\n  2 19  1  0\\n 19 20  2  0\\n 20 21  1  0\\n 21 22  2  0\\n 22 23  1  0\\n 23 24  2  0\\n 10  6  1  0\\n 18 13  1  0\\n 24 19  1  0\\nM  END\\n\");\n\tviewer_16864330878322701.setStyle({\"stick\": {}});\n\tviewer_16864330878322701.zoomTo();\nviewer_16864330878322701.render();\n});\n</script>",
      "text/html": [
       "<div id=\"3dmolviewer_16864330878322701\"  style=\"position: relative; width: 640px; height: 480px;\">\n",
       "        <p id=\"3dmolwarning_16864330878322701\" style=\"background-color:#ffcccc;color:black\">You appear to be running in JupyterLab (or JavaScript failed to load for some other reason).  You need to install the 3dmol extension: <br>\n",
       "        <tt>jupyter labextension install jupyterlab_3dmol</tt></p>\n",
       "        </div>\n",
       "<script>\n",
       "\n",
       "var loadScriptAsync = function(uri){\n",
       "  return new Promise((resolve, reject) => {\n",
       "    //this is to ignore the existence of requirejs amd\n",
       "    var savedexports, savedmodule;\n",
       "    if (typeof exports !== 'undefined') savedexports = exports;\n",
       "    else exports = {}\n",
       "    if (typeof module !== 'undefined') savedmodule = module;\n",
       "    else module = {}\n",
       "\n",
       "    var tag = document.createElement('script');\n",
       "    tag.src = uri;\n",
       "    tag.async = true;\n",
       "    tag.onload = () => {\n",
       "        exports = savedexports;\n",
       "        module = savedmodule;\n",
       "        resolve();\n",
       "    };\n",
       "  var firstScriptTag = document.getElementsByTagName('script')[0];\n",
       "  firstScriptTag.parentNode.insertBefore(tag, firstScriptTag);\n",
       "});\n",
       "};\n",
       "\n",
       "if(typeof $3Dmolpromise === 'undefined') {\n",
       "$3Dmolpromise = null;\n",
       "  $3Dmolpromise = loadScriptAsync('https://cdnjs.cloudflare.com/ajax/libs/3Dmol/2.0.3/3Dmol-min.js');\n",
       "}\n",
       "\n",
       "var viewer_16864330878322701 = null;\n",
       "var warn = document.getElementById(\"3dmolwarning_16864330878322701\");\n",
       "if(warn) {\n",
       "    warn.parentNode.removeChild(warn);\n",
       "}\n",
       "$3Dmolpromise.then(function() {\n",
       "viewer_16864330878322701 = $3Dmol.createViewer(document.getElementById(\"3dmolviewer_16864330878322701\"),{backgroundColor:\"white\"});\n",
       "viewer_16864330878322701.zoomTo();\n",
       "\tviewer_16864330878322701.addModel(\"\\n     RDKit          3D\\n\\n 24 26  0  0  0  0  0  0  0  0999 V2000\\n    3.5454   -2.4951   -0.4653 C   0  0  0  0  0  0  0  0  0  0  0  0\\n    2.8896   -1.1327   -0.6243 C   0  0  0  0  0  0  0  0  0  0  0  0\\n    1.8058   -0.9770    0.3368 N   0  0  0  0  0  0  0  0  0  0  0  0\\n    0.5486   -1.6400    0.1956 C   0  0  0  0  0  0  0  0  0  0  0  0\\n    0.3278   -2.3864   -0.7974 O   0  0  0  0  0  0  0  0  0  0  0  0\\n   -0.5038   -1.4381    1.2425 C   0  0  0  0  0  0  0  0  0  0  0  0\\n   -0.7463   -2.7280    2.0007 C   0  0  0  0  0  0  0  0  0  0  0  0\\n   -2.1048   -3.6192    1.1879 S   0  0  0  0  0  0  0  0  0  0  0  0\\n   -2.7823   -2.0658    0.5325 C   0  0  0  0  0  0  0  0  0  0  0  0\\n   -1.7654   -1.0302    0.6393 N   0  0  0  0  0  0  0  0  0  0  0  0\\n   -1.9555    0.3096    0.1394 C   0  0  0  0  0  0  0  0  0  0  0  0\\n   -0.9444    1.0396   -0.0543 O   0  0  0  0  0  0  0  0  0  0  0  0\\n   -3.2969    0.8714   -0.1504 C   0  0  0  0  0  0  0  0  0  0  0  0\\n   -4.4582    0.3324    0.4243 C   0  0  0  0  0  0  0  0  0  0  0  0\\n   -5.7102    0.8954    0.1612 C   0  0  0  0  0  0  0  0  0  0  0  0\\n   -5.8128    2.0104   -0.6738 C   0  0  0  0  0  0  0  0  0  0  0  0\\n   -4.6631    2.5638   -1.2423 C   0  0  0  0  0  0  0  0  0  0  0  0\\n   -3.4118    1.9993   -0.9782 C   0  0  0  0  0  0  0  0  0  0  0  0\\n    3.8961   -0.0408   -0.4517 C   0  0  0  0  0  0  0  0  0  0  0  0\\n    4.5254    0.1789    0.7837 C   0  0  0  0  0  0  0  0  0  0  0  0\\n    5.4649    1.2051    0.9205 C   0  0  0  0  0  0  0  0  0  0  0  0\\n    5.7799    2.0146   -0.1748 C   0  0  0  0  0  0  0  0  0  0  0  0\\n    5.1560    1.7982   -1.4070 C   0  0  0  0  0  0  0  0  0  0  0  0\\n    4.2162    0.7720   -1.5448 C   0  0  0  0  0  0  0  0  0  0  0  0\\n  1  2  1  0\\n  2  3  1  0\\n  3  4  1  0\\n  4  5  2  0\\n  4  6  1  0\\n  6  7  1  0\\n  7  8  1  0\\n  8  9  1  0\\n  9 10  1  0\\n 10 11  1  0\\n 11 12  2  0\\n 11 13  1  0\\n 13 14  2  0\\n 14 15  1  0\\n 15 16  2  0\\n 16 17  1  0\\n 17 18  2  0\\n  2 19  1  0\\n 19 20  2  0\\n 20 21  1  0\\n 21 22  2  0\\n 22 23  1  0\\n 23 24  2  0\\n 10  6  1  0\\n 18 13  1  0\\n 24 19  1  0\\nM  END\\n\");\n",
       "\tviewer_16864330878322701.setStyle({\"stick\": {}});\n",
       "\tviewer_16864330878322701.zoomTo();\n",
       "viewer_16864330878322701.render();\n",
       "});\n",
       "</script>"
      ]
     },
     "metadata": {},
     "output_type": "display_data"
    },
    {
     "name": "stdout",
     "output_type": "stream",
     "text": [
      "save the docked file as docked/docked_RS-0481.sdf\n",
      "affinity, cnn_pose_score, and cnn_affinity are: None\n"
     ]
    },
    {
     "ename": "TypeError",
     "evalue": "cannot unpack non-iterable NoneType object",
     "output_type": "error",
     "traceback": [
      "\u001b[0;31m---------------------------------------------------------------------------\u001b[0m",
      "\u001b[0;31mTypeError\u001b[0m                                 Traceback (most recent call last)",
      "Input \u001b[0;32mIn [29]\u001b[0m, in \u001b[0;36m<cell line: 8>\u001b[0;34m()\u001b[0m\n\u001b[1;32m      8\u001b[0m \u001b[38;5;28;01mfor\u001b[39;00m i, r \u001b[38;5;129;01min\u001b[39;00m df\u001b[38;5;241m.\u001b[39miterrows():\n\u001b[1;32m      9\u001b[0m     rdkit_conformer(r\u001b[38;5;241m.\u001b[39mSMILES, \u001b[38;5;124mf\u001b[39m\u001b[38;5;124m'\u001b[39m\u001b[38;5;124mligand/\u001b[39m\u001b[38;5;132;01m{\u001b[39;00mr\u001b[38;5;241m.\u001b[39mID\u001b[38;5;132;01m}\u001b[39;00m\u001b[38;5;124m.sdf\u001b[39m\u001b[38;5;124m'\u001b[39m)\n\u001b[0;32m---> 10\u001b[0m     affinity, cnn_pose_score, cnn_affinity \u001b[38;5;241m=\u001b[39m gnina(\u001b[38;5;124m'\u001b[39m\u001b[38;5;124mrec.pdb\u001b[39m\u001b[38;5;124m'\u001b[39m,\u001b[38;5;124mf\u001b[39m\u001b[38;5;124m'\u001b[39m\u001b[38;5;124mligand/\u001b[39m\u001b[38;5;132;01m{\u001b[39;00mr\u001b[38;5;241m.\u001b[39mID\u001b[38;5;132;01m}\u001b[39;00m\u001b[38;5;124m.sdf\u001b[39m\u001b[38;5;124m'\u001b[39m, \u001b[38;5;124m'\u001b[39m\u001b[38;5;124mlig.pdb\u001b[39m\u001b[38;5;124m'\u001b[39m,\u001b[38;5;124mf\u001b[39m\u001b[38;5;124m'\u001b[39m\u001b[38;5;124mdocked/docked_\u001b[39m\u001b[38;5;132;01m{\u001b[39;00mr\u001b[38;5;241m.\u001b[39mID\u001b[38;5;132;01m}\u001b[39;00m\u001b[38;5;124m.sdf\u001b[39m\u001b[38;5;124m'\u001b[39m)\n\u001b[1;32m     12\u001b[0m     affinity_values\u001b[38;5;241m.\u001b[39mappend(affinity)\n\u001b[1;32m     13\u001b[0m     cnn_pose_score_values\u001b[38;5;241m.\u001b[39mappend(cnn_pose_score)\n",
      "\u001b[0;31mTypeError\u001b[0m: cannot unpack non-iterable NoneType object"
     ]
    }
   ],
   "source": [
    "affinity_values = []\n",
    "cnn_pose_score_values = []\n",
    "cnn_affinity_values = []\n",
    "\n",
    "# Create a tqdm progress bar\n",
    "progress_bar = tqdm(total=len(df), desc='Processing')\n",
    "\n",
    "for i, r in df.iterrows():\n",
    "    rdkit_conformer(r.SMILES, f'ligand/{r.ID}.sdf')\n",
    "    affinity, cnn_pose_score, cnn_affinity = gnina('rec.pdb',f'ligand/{r.ID}.sdf', 'lig.pdb',f'docked/docked_{r.ID}.sdf')\n",
    "    \n",
    "    affinity_values.append(affinity)\n",
    "    cnn_pose_score_values.append(cnn_pose_score)\n",
    "    cnn_affinity_values.append(cnn_affinity)\n",
    "    \n",
    "    # Update the progress bar\n",
    "    progress_bar.update(1)\n",
    "    \n",
    "# Close the progress bar\n",
    "progress_bar.close()\n",
    "\n",
    "# Assign the calculated values as new columns in the DataFrame\n",
    "df = df.copy()\n",
    "df['Affinity'] = affinity_values\n",
    "df['CNN_Pose_Score'] = cnn_pose_score_values\n",
    "df['CNN_Affinity'] = cnn_affinity_values\n",
    "df.to_csv('neg_CNNaffinity.csv',index=False)"
   ]
  },
  {
   "cell_type": "code",
   "execution_count": 27,
   "id": "814a7255-2d7d-466b-93f6-1fbbe8738ac7",
   "metadata": {},
   "outputs": [
    {
     "name": "stdout",
     "output_type": "stream",
     "text": [
      "save the docked file as docked/docked_RS-0481.sdf\n",
      "affinity, cnn_pose_score, and cnn_affinity are: None\n"
     ]
    }
   ],
   "source": [
    "gnina('rec.pdb','ligand/RS-0481.sdf', 'lig.pdb',f'docked/docked_RS-0481.sdf')"
   ]
  },
  {
   "cell_type": "code",
   "execution_count": 33,
   "id": "b678ac22-eed6-4110-b88d-5abf660006e4",
   "metadata": {},
   "outputs": [
    {
     "name": "stderr",
     "output_type": "stream",
     "text": [
      "\n",
      "\n",
      "Processing:   0%|          | 0/99 [00:00<?, ?it/s]\u001b[A\u001b[A[21:51:04] Molecule does not have explicit Hs. Consider calling AddHs()\n",
      "[21:51:04] Molecule does not have explicit Hs. Consider calling AddHs()\n",
      "[21:51:04] Molecule does not have explicit Hs. Consider calling AddHs()\n",
      "\n",
      "\n",
      "Processing:   1%|          | 1/99 [00:07<12:50,  7.86s/it]\u001b[A\u001b[A"
     ]
    },
    {
     "name": "stdout",
     "output_type": "stream",
     "text": [
      "save the docked file as docked/docked_RS-0481.sdf\n",
      "affinity, cnn_pose_score, and cnn_affinity are: (-2.9, 0.5738, 4.227)\n"
     ]
    },
    {
     "name": "stderr",
     "output_type": "stream",
     "text": [
      "[21:51:12] Molecule does not have explicit Hs. Consider calling AddHs()\n",
      "[21:51:12] Molecule does not have explicit Hs. Consider calling AddHs()\n",
      "[21:51:12] Molecule does not have explicit Hs. Consider calling AddHs()\n",
      "\n",
      "\n",
      "Processing:   2%|▏         | 2/99 [00:35<31:09, 19.27s/it]\u001b[A\u001b[A"
     ]
    },
    {
     "name": "stdout",
     "output_type": "stream",
     "text": [
      "save the docked file as docked/docked_oleuropein.sdf\n",
      "affinity, cnn_pose_score, and cnn_affinity are: (-7.86, 0.5651, 7.321)\n"
     ]
    },
    {
     "name": "stderr",
     "output_type": "stream",
     "text": [
      "[21:51:39] Molecule does not have explicit Hs. Consider calling AddHs()\n",
      "[21:51:39] Molecule does not have explicit Hs. Consider calling AddHs()\n",
      "[21:51:39] Molecule does not have explicit Hs. Consider calling AddHs()\n",
      "\n",
      "\n",
      "Processing:   3%|▎         | 3/99 [00:37<18:43, 11.71s/it]\u001b[A\u001b[A"
     ]
    },
    {
     "name": "stdout",
     "output_type": "stream",
     "text": [
      "save the docked file as docked/docked_isoleucine.sdf\n",
      "affinity, cnn_pose_score, and cnn_affinity are: (-4.66, 0.6894, 4.539)\n"
     ]
    },
    {
     "name": "stderr",
     "output_type": "stream",
     "text": [
      "[21:51:42] Molecule does not have explicit Hs. Consider calling AddHs()\n",
      "[21:51:42] Molecule does not have explicit Hs. Consider calling AddHs()\n",
      "[21:51:42] Molecule does not have explicit Hs. Consider calling AddHs()\n",
      "\n",
      "\n",
      "Processing:   4%|▍         | 4/99 [00:40<12:53,  8.14s/it]\u001b[A\u001b[A"
     ]
    },
    {
     "name": "stdout",
     "output_type": "stream",
     "text": [
      "save the docked file as docked/docked_gepefrine.sdf\n",
      "affinity, cnn_pose_score, and cnn_affinity are: (-6.85, 0.7675, 5.117)\n"
     ]
    },
    {
     "name": "stderr",
     "output_type": "stream",
     "text": [
      "[21:51:44] Molecule does not have explicit Hs. Consider calling AddHs()\n",
      "[21:51:44] Molecule does not have explicit Hs. Consider calling AddHs()\n",
      "[21:51:44] Molecule does not have explicit Hs. Consider calling AddHs()\n",
      "\n",
      "\n",
      "Processing:   5%|▌         | 5/99 [00:46<11:17,  7.21s/it]\u001b[A\u001b[A"
     ]
    },
    {
     "name": "stdout",
     "output_type": "stream",
     "text": [
      "save the docked file as docked/docked_cloranolol.sdf\n",
      "affinity, cnn_pose_score, and cnn_affinity are: (-7.81, 0.8474, 6.593)\n"
     ]
    },
    {
     "name": "stderr",
     "output_type": "stream",
     "text": [
      "[21:51:50] Molecule does not have explicit Hs. Consider calling AddHs()\n",
      "[21:51:50] Molecule does not have explicit Hs. Consider calling AddHs()\n",
      "[21:51:50] Molecule does not have explicit Hs. Consider calling AddHs()\n",
      "\n",
      "\n",
      "Processing:   6%|▌         | 6/99 [00:49<09:20,  6.03s/it]\u001b[A\u001b[A"
     ]
    },
    {
     "name": "stdout",
     "output_type": "stream",
     "text": [
      "save the docked file as docked/docked_broxaterol.sdf\n",
      "affinity, cnn_pose_score, and cnn_affinity are: (-6.12, 0.5689, 5.64)\n"
     ]
    },
    {
     "name": "stderr",
     "output_type": "stream",
     "text": [
      "[21:51:54] Molecule does not have explicit Hs. Consider calling AddHs()\n",
      "[21:51:54] Molecule does not have explicit Hs. Consider calling AddHs()\n",
      "[21:51:54] Molecule does not have explicit Hs. Consider calling AddHs()\n",
      "\n",
      "\n",
      "Processing:   7%|▋         | 7/99 [00:58<10:41,  6.97s/it]\u001b[A\u001b[A"
     ]
    },
    {
     "name": "stdout",
     "output_type": "stream",
     "text": [
      "save the docked file as docked/docked_SQ-109.sdf\n",
      "affinity, cnn_pose_score, and cnn_affinity are: (-6.55, 0.6284, 6.594)\n"
     ]
    },
    {
     "name": "stderr",
     "output_type": "stream",
     "text": [
      "[21:52:03] Molecule does not have explicit Hs. Consider calling AddHs()\n",
      "[21:52:03] Molecule does not have explicit Hs. Consider calling AddHs()\n",
      "[21:52:03] Molecule does not have explicit Hs. Consider calling AddHs()\n",
      "\n",
      "\n",
      "Processing:   8%|▊         | 8/99 [01:04<10:12,  6.73s/it]\u001b[A\u001b[A"
     ]
    },
    {
     "name": "stdout",
     "output_type": "stream",
     "text": [
      "save the docked file as docked/docked_prolylleucylglycinamide.sdf\n",
      "affinity, cnn_pose_score, and cnn_affinity are: (-6.35, 0.5678, 6.506)\n"
     ]
    },
    {
     "name": "stderr",
     "output_type": "stream",
     "text": [
      "[21:52:09] Molecule does not have explicit Hs. Consider calling AddHs()\n",
      "[21:52:09] Molecule does not have explicit Hs. Consider calling AddHs()\n",
      "[21:52:09] Molecule does not have explicit Hs. Consider calling AddHs()\n",
      "\n",
      "\n",
      "Processing:   9%|▉         | 9/99 [01:11<10:02,  6.70s/it]\u001b[A\u001b[A"
     ]
    },
    {
     "name": "stdout",
     "output_type": "stream",
     "text": [
      "save the docked file as docked/docked_dexamethasone.sdf\n",
      "affinity, cnn_pose_score, and cnn_affinity are: (-4.26, 0.664, 4.651)\n"
     ]
    },
    {
     "name": "stderr",
     "output_type": "stream",
     "text": [
      "[21:52:15] Molecule does not have explicit Hs. Consider calling AddHs()\n",
      "[21:52:15] Molecule does not have explicit Hs. Consider calling AddHs()\n",
      "[21:52:15] Molecule does not have explicit Hs. Consider calling AddHs()\n",
      "\n",
      "\n",
      "Processing:  10%|█         | 10/99 [01:20<11:08,  7.51s/it]\u001b[A\u001b[A"
     ]
    },
    {
     "name": "stdout",
     "output_type": "stream",
     "text": [
      "save the docked file as docked/docked_glycerol-monolaurate.sdf\n",
      "affinity, cnn_pose_score, and cnn_affinity are: (-7.15, 0.6743, 6.213)\n"
     ]
    },
    {
     "name": "stderr",
     "output_type": "stream",
     "text": [
      "[21:52:25] Molecule does not have explicit Hs. Consider calling AddHs()\n",
      "[21:52:25] Molecule does not have explicit Hs. Consider calling AddHs()\n",
      "[21:52:25] Molecule does not have explicit Hs. Consider calling AddHs()\n",
      "\n",
      "\n",
      "Processing:  11%|█         | 11/99 [01:26<10:16,  7.00s/it]\u001b[A\u001b[A"
     ]
    },
    {
     "name": "stdout",
     "output_type": "stream",
     "text": [
      "save the docked file as docked/docked_mabuterol.sdf\n",
      "affinity, cnn_pose_score, and cnn_affinity are: (-8.66, 0.7366, 6.593)\n"
     ]
    },
    {
     "name": "stderr",
     "output_type": "stream",
     "text": [
      "[21:52:31] Molecule does not have explicit Hs. Consider calling AddHs()\n",
      "[21:52:31] Molecule does not have explicit Hs. Consider calling AddHs()\n",
      "[21:52:31] Molecule does not have explicit Hs. Consider calling AddHs()\n",
      "\n",
      "\n",
      "Processing:  12%|█▏        | 12/99 [01:37<11:37,  8.02s/it]\u001b[A\u001b[A"
     ]
    },
    {
     "name": "stdout",
     "output_type": "stream",
     "text": [
      "save the docked file as docked/docked_peficitinib.sdf\n",
      "affinity, cnn_pose_score, and cnn_affinity are: (-0.92, 0.6328, 4.289)\n"
     ]
    },
    {
     "name": "stderr",
     "output_type": "stream",
     "text": [
      "[21:52:41] Molecule does not have explicit Hs. Consider calling AddHs()\n",
      "[21:52:41] Molecule does not have explicit Hs. Consider calling AddHs()\n",
      "[21:52:41] Molecule does not have explicit Hs. Consider calling AddHs()\n",
      "\n",
      "\n",
      "Processing:  13%|█▎        | 13/99 [01:42<10:20,  7.21s/it]\u001b[A\u001b[A"
     ]
    },
    {
     "name": "stdout",
     "output_type": "stream",
     "text": [
      "save the docked file as docked/docked_clofedanol.sdf\n",
      "affinity, cnn_pose_score, and cnn_affinity are: (-6.48, 0.6174, 6.475)\n"
     ]
    },
    {
     "name": "stderr",
     "output_type": "stream",
     "text": [
      "[21:52:46] Molecule does not have explicit Hs. Consider calling AddHs()\n",
      "[21:52:46] Molecule does not have explicit Hs. Consider calling AddHs()\n",
      "[21:52:46] Molecule does not have explicit Hs. Consider calling AddHs()\n",
      "\n",
      "\n",
      "Processing:  14%|█▍        | 14/99 [01:50<10:39,  7.52s/it]\u001b[A\u001b[A"
     ]
    },
    {
     "name": "stdout",
     "output_type": "stream",
     "text": [
      "save the docked file as docked/docked_polythiazide.sdf\n",
      "affinity, cnn_pose_score, and cnn_affinity are: (-1.69, 0.5312, 4.798)\n"
     ]
    },
    {
     "name": "stderr",
     "output_type": "stream",
     "text": [
      "[21:52:55] Molecule does not have explicit Hs. Consider calling AddHs()\n",
      "[21:52:55] Molecule does not have explicit Hs. Consider calling AddHs()\n",
      "[21:52:55] Molecule does not have explicit Hs. Consider calling AddHs()\n",
      "\n",
      "\n",
      "Processing:  15%|█▌        | 15/99 [01:54<08:57,  6.39s/it]\u001b[A\u001b[A"
     ]
    },
    {
     "name": "stdout",
     "output_type": "stream",
     "text": [
      "save the docked file as docked/docked_misonidazole.sdf\n",
      "affinity, cnn_pose_score, and cnn_affinity are: (-5.91, 0.4693, 4.703)\n"
     ]
    },
    {
     "name": "stderr",
     "output_type": "stream",
     "text": [
      "[21:52:58] Molecule does not have explicit Hs. Consider calling AddHs()\n",
      "[21:52:58] Molecule does not have explicit Hs. Consider calling AddHs()\n",
      "[21:52:58] Molecule does not have explicit Hs. Consider calling AddHs()\n",
      "\n",
      "\n",
      "Processing:  16%|█▌        | 16/99 [02:09<12:34,  9.08s/it]\u001b[A\u001b[A"
     ]
    },
    {
     "name": "stdout",
     "output_type": "stream",
     "text": [
      "save the docked file as docked/docked_isavuconazole.sdf\n",
      "affinity, cnn_pose_score, and cnn_affinity are: (-7.0, 0.4579, 7.582)\n"
     ]
    },
    {
     "name": "stderr",
     "output_type": "stream",
     "text": [
      "[21:53:14] Molecule does not have explicit Hs. Consider calling AddHs()\n",
      "[21:53:14] Molecule does not have explicit Hs. Consider calling AddHs()\n",
      "[21:53:14] Molecule does not have explicit Hs. Consider calling AddHs()\n",
      "\n",
      "\n",
      "Processing:  17%|█▋        | 17/99 [03:05<31:32, 23.07s/it]\u001b[A\u001b[A"
     ]
    },
    {
     "name": "stdout",
     "output_type": "stream",
     "text": [
      "save the docked file as docked/docked_lercanidipine.sdf\n",
      "affinity, cnn_pose_score, and cnn_affinity are: (-3.91, 0.3243, 5.737)\n"
     ]
    },
    {
     "name": "stderr",
     "output_type": "stream",
     "text": [
      "[21:54:09] Molecule does not have explicit Hs. Consider calling AddHs()\n",
      "[21:54:09] Molecule does not have explicit Hs. Consider calling AddHs()\n",
      "[21:54:09] Molecule does not have explicit Hs. Consider calling AddHs()\n",
      "\n",
      "\n",
      "Processing:  18%|█▊        | 18/99 [03:09<23:30, 17.41s/it]\u001b[A\u001b[A"
     ]
    },
    {
     "name": "stdout",
     "output_type": "stream",
     "text": [
      "save the docked file as docked/docked_clorotepine.sdf\n",
      "affinity, cnn_pose_score, and cnn_affinity are: (-3.85, 0.4856, 4.686)\n"
     ]
    },
    {
     "name": "stderr",
     "output_type": "stream",
     "text": [
      "[21:54:14] Molecule does not have explicit Hs. Consider calling AddHs()\n",
      "[21:54:14] Molecule does not have explicit Hs. Consider calling AddHs()\n",
      "[21:54:14] Molecule does not have explicit Hs. Consider calling AddHs()\n",
      "\n",
      "\n",
      "Processing:  19%|█▉        | 19/99 [03:12<17:33, 13.17s/it]\u001b[A\u001b[A"
     ]
    },
    {
     "name": "stdout",
     "output_type": "stream",
     "text": [
      "save the docked file as docked/docked_menadione-bisulfite.sdf\n",
      "affinity, cnn_pose_score, and cnn_affinity are: (-9.64, 0.6055, 5.616)\n"
     ]
    },
    {
     "name": "stderr",
     "output_type": "stream",
     "text": [
      "[21:54:17] Molecule does not have explicit Hs. Consider calling AddHs()\n",
      "[21:54:17] Molecule does not have explicit Hs. Consider calling AddHs()\n",
      "[21:54:17] Molecule does not have explicit Hs. Consider calling AddHs()\n",
      "\n",
      "\n",
      "Processing:  20%|██        | 20/99 [03:17<13:46, 10.46s/it]\u001b[A\u001b[A"
     ]
    },
    {
     "name": "stdout",
     "output_type": "stream",
     "text": [
      "save the docked file as docked/docked_nifenalol.sdf\n",
      "affinity, cnn_pose_score, and cnn_affinity are: (-7.36, 0.633, 5.308)\n"
     ]
    },
    {
     "name": "stderr",
     "output_type": "stream",
     "text": [
      "[21:54:21] Molecule does not have explicit Hs. Consider calling AddHs()\n",
      "[21:54:21] Molecule does not have explicit Hs. Consider calling AddHs()\n",
      "[21:54:21] Molecule does not have explicit Hs. Consider calling AddHs()\n",
      "\n",
      "\n",
      "Processing:  21%|██        | 21/99 [03:22<11:46,  9.06s/it]\u001b[A\u001b[A"
     ]
    },
    {
     "name": "stdout",
     "output_type": "stream",
     "text": [
      "save the docked file as docked/docked_xibenolol.sdf\n",
      "affinity, cnn_pose_score, and cnn_affinity are: (-8.21, 0.7831, 6.346)\n"
     ]
    },
    {
     "name": "stderr",
     "output_type": "stream",
     "text": [
      "[21:54:27] Molecule does not have explicit Hs. Consider calling AddHs()\n",
      "[21:54:27] Molecule does not have explicit Hs. Consider calling AddHs()\n",
      "[21:54:27] Molecule does not have explicit Hs. Consider calling AddHs()\n",
      "\n",
      "\n",
      "Processing:  22%|██▏       | 22/99 [03:26<09:32,  7.44s/it]\u001b[A\u001b[A"
     ]
    },
    {
     "name": "stdout",
     "output_type": "stream",
     "text": [
      "save the docked file as docked/docked_methoxyphenamine.sdf\n",
      "affinity, cnn_pose_score, and cnn_affinity are: (-5.84, 0.8299, 5.356)\n"
     ]
    },
    {
     "name": "stderr",
     "output_type": "stream",
     "text": [
      "[21:54:30] Molecule does not have explicit Hs. Consider calling AddHs()\n",
      "[21:54:30] Molecule does not have explicit Hs. Consider calling AddHs()\n",
      "[21:54:30] Molecule does not have explicit Hs. Consider calling AddHs()\n",
      "\n",
      "\n",
      "Processing:  23%|██▎       | 23/99 [03:49<15:13, 12.02s/it]\u001b[A\u001b[A"
     ]
    },
    {
     "name": "stdout",
     "output_type": "stream",
     "text": [
      "save the docked file as docked/docked_pipecuronium.sdf\n",
      "affinity, cnn_pose_score, and cnn_affinity are: (-3.27, 0.4796, 5.93)\n"
     ]
    },
    {
     "name": "stderr",
     "output_type": "stream",
     "text": [
      "[21:54:53] Molecule does not have explicit Hs. Consider calling AddHs()\n",
      "[21:54:53] Molecule does not have explicit Hs. Consider calling AddHs()\n",
      "[21:54:53] Molecule does not have explicit Hs. Consider calling AddHs()\n",
      "\n",
      "\n",
      "Processing:  24%|██▍       | 24/99 [03:54<12:27,  9.96s/it]\u001b[A\u001b[A"
     ]
    },
    {
     "name": "stdout",
     "output_type": "stream",
     "text": [
      "save the docked file as docked/docked_PF-06463922.sdf\n",
      "affinity, cnn_pose_score, and cnn_affinity are: (-3.91, 0.4434, 5.463)\n"
     ]
    },
    {
     "name": "stderr",
     "output_type": "stream",
     "text": [
      "[21:54:58] Molecule does not have explicit Hs. Consider calling AddHs()\n",
      "[21:54:58] Molecule does not have explicit Hs. Consider calling AddHs()\n",
      "[21:54:58] Molecule does not have explicit Hs. Consider calling AddHs()\n",
      "\n",
      "\n",
      "Processing:  25%|██▌       | 25/99 [04:06<13:14, 10.74s/it]\u001b[A\u001b[A"
     ]
    },
    {
     "name": "stdout",
     "output_type": "stream",
     "text": [
      "save the docked file as docked/docked_floctafenine.sdf\n",
      "affinity, cnn_pose_score, and cnn_affinity are: (-10.82, 0.5779, 7.274)\n"
     ]
    },
    {
     "name": "stderr",
     "output_type": "stream",
     "text": [
      "[21:55:11] Molecule does not have explicit Hs. Consider calling AddHs()\n",
      "[21:55:11] Molecule does not have explicit Hs. Consider calling AddHs()\n",
      "[21:55:11] Molecule does not have explicit Hs. Consider calling AddHs()\n",
      "\n",
      "\n",
      "Processing:  26%|██▋       | 26/99 [04:11<10:41,  8.78s/it]\u001b[A\u001b[A"
     ]
    },
    {
     "name": "stdout",
     "output_type": "stream",
     "text": [
      "save the docked file as docked/docked_N-acetyl-tyrosine.sdf\n",
      "affinity, cnn_pose_score, and cnn_affinity are: (-3.66, 0.6189, 3.511)\n"
     ]
    },
    {
     "name": "stderr",
     "output_type": "stream",
     "text": [
      "[21:55:15] Molecule does not have explicit Hs. Consider calling AddHs()\n",
      "[21:55:15] Molecule does not have explicit Hs. Consider calling AddHs()\n",
      "[21:55:15] Molecule does not have explicit Hs. Consider calling AddHs()\n",
      "\n",
      "\n",
      "Processing:  27%|██▋       | 27/99 [04:18<10:02,  8.37s/it]\u001b[A\u001b[A"
     ]
    },
    {
     "name": "stdout",
     "output_type": "stream",
     "text": [
      "save the docked file as docked/docked_chlortetracycline.sdf\n",
      "affinity, cnn_pose_score, and cnn_affinity are: (-1.54, 0.5478, 4.533)\n"
     ]
    },
    {
     "name": "stderr",
     "output_type": "stream",
     "text": [
      "[21:55:22] Molecule does not have explicit Hs. Consider calling AddHs()\n",
      "[21:55:22] Molecule does not have explicit Hs. Consider calling AddHs()\n",
      "[21:55:22] Molecule does not have explicit Hs. Consider calling AddHs()\n",
      "\n",
      "\n",
      "Processing:  28%|██▊       | 28/99 [04:26<09:54,  8.37s/it]\u001b[A\u001b[A"
     ]
    },
    {
     "name": "stdout",
     "output_type": "stream",
     "text": [
      "save the docked file as docked/docked_butofilolol.sdf\n",
      "affinity, cnn_pose_score, and cnn_affinity are: (-7.92, 0.7307, 6.698)\n"
     ]
    },
    {
     "name": "stderr",
     "output_type": "stream",
     "text": [
      "[21:55:31] Molecule does not have explicit Hs. Consider calling AddHs()\n",
      "[21:55:31] Molecule does not have explicit Hs. Consider calling AddHs()\n",
      "[21:55:31] Molecule does not have explicit Hs. Consider calling AddHs()\n",
      "\n",
      "\n",
      "Processing:  29%|██▉       | 29/99 [04:35<09:42,  8.32s/it]\u001b[A\u001b[A"
     ]
    },
    {
     "name": "stdout",
     "output_type": "stream",
     "text": [
      "save the docked file as docked/docked_efinaconazole.sdf\n",
      "affinity, cnn_pose_score, and cnn_affinity are: (-3.79, 0.457, 5.071)\n"
     ]
    },
    {
     "name": "stderr",
     "output_type": "stream",
     "text": [
      "[21:55:39] Molecule does not have explicit Hs. Consider calling AddHs()\n",
      "[21:55:39] Molecule does not have explicit Hs. Consider calling AddHs()\n",
      "[21:55:39] Molecule does not have explicit Hs. Consider calling AddHs()\n",
      "\n",
      "\n",
      "Processing:  30%|███       | 30/99 [05:26<24:32, 21.35s/it]\u001b[A\u001b[A"
     ]
    },
    {
     "name": "stdout",
     "output_type": "stream",
     "text": [
      "save the docked file as docked/docked_capreomycin.sdf\n",
      "affinity, cnn_pose_score, and cnn_affinity are: (-6.05, 0.409, 5.415)\n"
     ]
    },
    {
     "name": "stderr",
     "output_type": "stream",
     "text": [
      "[21:56:31] Molecule does not have explicit Hs. Consider calling AddHs()\n",
      "[21:56:31] Molecule does not have explicit Hs. Consider calling AddHs()\n",
      "[21:56:31] Molecule does not have explicit Hs. Consider calling AddHs()\n",
      "\n",
      "\n",
      "Processing:  31%|███▏      | 31/99 [15:11<3:35:50, 190.45s/it]\u001b[A\u001b[A"
     ]
    },
    {
     "name": "stdout",
     "output_type": "stream",
     "text": [
      "save the docked file as docked/docked_oritavancin.sdf\n",
      "affinity, cnn_pose_score, and cnn_affinity are: (-5.68, 0.3918, 7.921)\n"
     ]
    },
    {
     "name": "stderr",
     "output_type": "stream",
     "text": [
      "[22:06:16] Molecule does not have explicit Hs. Consider calling AddHs()\n",
      "[22:06:16] Molecule does not have explicit Hs. Consider calling AddHs()\n",
      "[22:06:16] Molecule does not have explicit Hs. Consider calling AddHs()\n",
      "\n",
      "\n",
      "Processing:  32%|███▏      | 32/99 [15:18<2:30:56, 135.18s/it]\u001b[A\u001b[A"
     ]
    },
    {
     "name": "stdout",
     "output_type": "stream",
     "text": [
      "save the docked file as docked/docked_terodiline.sdf\n",
      "affinity, cnn_pose_score, and cnn_affinity are: (-2.53, 0.5559, 4.045)\n"
     ]
    },
    {
     "name": "stderr",
     "output_type": "stream",
     "text": [
      "[22:06:22] Molecule does not have explicit Hs. Consider calling AddHs()\n",
      "[22:06:22] Molecule does not have explicit Hs. Consider calling AddHs()\n",
      "[22:06:22] Molecule does not have explicit Hs. Consider calling AddHs()\n",
      "\n",
      "\n",
      "Processing:  33%|███▎      | 33/99 [15:36<1:50:17, 100.27s/it]\u001b[A\u001b[A"
     ]
    },
    {
     "name": "stdout",
     "output_type": "stream",
     "text": [
      "save the docked file as docked/docked_hexoprenaline.sdf\n",
      "affinity, cnn_pose_score, and cnn_affinity are: (-9.07, 0.6625, 6.784)\n"
     ]
    },
    {
     "name": "stderr",
     "output_type": "stream",
     "text": [
      "[22:06:41] Molecule does not have explicit Hs. Consider calling AddHs()\n",
      "[22:06:41] Molecule does not have explicit Hs. Consider calling AddHs()\n",
      "[22:06:41] Molecule does not have explicit Hs. Consider calling AddHs()\n",
      "\n",
      "\n",
      "Processing:  34%|███▍      | 34/99 [15:54<1:21:49, 75.53s/it] \u001b[A\u001b[A"
     ]
    },
    {
     "name": "stdout",
     "output_type": "stream",
     "text": [
      "save the docked file as docked/docked_tropesin.sdf\n",
      "affinity, cnn_pose_score, and cnn_affinity are: (-3.23, 0.4999, 5.166)\n"
     ]
    },
    {
     "name": "stderr",
     "output_type": "stream",
     "text": [
      "[22:06:59] Molecule does not have explicit Hs. Consider calling AddHs()\n",
      "[22:06:59] Molecule does not have explicit Hs. Consider calling AddHs()\n",
      "[22:06:59] Molecule does not have explicit Hs. Consider calling AddHs()\n",
      "\n",
      "\n",
      "Processing:  35%|███▌      | 35/99 [16:01<58:34, 54.91s/it]  \u001b[A\u001b[A"
     ]
    },
    {
     "name": "stdout",
     "output_type": "stream",
     "text": [
      "save the docked file as docked/docked_tetracycline.sdf\n",
      "affinity, cnn_pose_score, and cnn_affinity are: (-4.76, 0.6241, 4.385)\n"
     ]
    },
    {
     "name": "stderr",
     "output_type": "stream",
     "text": [
      "[22:07:05] Molecule does not have explicit Hs. Consider calling AddHs()\n",
      "[22:07:05] Molecule does not have explicit Hs. Consider calling AddHs()\n",
      "[22:07:05] Molecule does not have explicit Hs. Consider calling AddHs()\n",
      "\n",
      "\n",
      "Processing:  36%|███▋      | 36/99 [16:04<41:12, 39.24s/it]\u001b[A\u001b[A"
     ]
    },
    {
     "name": "stdout",
     "output_type": "stream",
     "text": [
      "save the docked file as docked/docked_propylhexedrine.sdf\n",
      "affinity, cnn_pose_score, and cnn_affinity are: (-5.96, 0.7379, 5.439)\n"
     ]
    },
    {
     "name": "stderr",
     "output_type": "stream",
     "text": [
      "[22:07:08] Molecule does not have explicit Hs. Consider calling AddHs()\n",
      "[22:07:08] Molecule does not have explicit Hs. Consider calling AddHs()\n",
      "[22:07:08] Molecule does not have explicit Hs. Consider calling AddHs()\n",
      "\n",
      "\n",
      "Processing:  37%|███▋      | 37/99 [16:10<30:12, 29.24s/it]\u001b[A\u001b[A"
     ]
    },
    {
     "name": "stdout",
     "output_type": "stream",
     "text": [
      "save the docked file as docked/docked_dromostanolone-propionate.sdf\n",
      "affinity, cnn_pose_score, and cnn_affinity are: (-3.28, 0.6627, 4.882)\n"
     ]
    },
    {
     "name": "stderr",
     "output_type": "stream",
     "text": [
      "[22:07:14] Molecule does not have explicit Hs. Consider calling AddHs()\n",
      "[22:07:14] Molecule does not have explicit Hs. Consider calling AddHs()\n",
      "[22:07:14] Molecule does not have explicit Hs. Consider calling AddHs()\n",
      "\n",
      "\n",
      "Processing:  38%|███▊      | 38/99 [16:17<22:54, 22.54s/it]\u001b[A\u001b[A"
     ]
    },
    {
     "name": "stdout",
     "output_type": "stream",
     "text": [
      "save the docked file as docked/docked_A-33903.sdf\n",
      "affinity, cnn_pose_score, and cnn_affinity are: (-2.94, 0.5872, 4.252)\n"
     ]
    },
    {
     "name": "stderr",
     "output_type": "stream",
     "text": [
      "[22:07:21] Molecule does not have explicit Hs. Consider calling AddHs()\n",
      "[22:07:21] Molecule does not have explicit Hs. Consider calling AddHs()\n",
      "[22:07:21] Molecule does not have explicit Hs. Consider calling AddHs()\n",
      "\n",
      "\n",
      "Processing:  39%|███▉      | 39/99 [16:22<17:26, 17.44s/it]\u001b[A\u001b[A"
     ]
    },
    {
     "name": "stdout",
     "output_type": "stream",
     "text": [
      "save the docked file as docked/docked_morinidazole.sdf\n",
      "affinity, cnn_pose_score, and cnn_affinity are: (-1.74, 0.4706, 3.5)\n"
     ]
    },
    {
     "name": "stderr",
     "output_type": "stream",
     "text": [
      "[22:07:26] Molecule does not have explicit Hs. Consider calling AddHs()\n",
      "[22:07:26] Molecule does not have explicit Hs. Consider calling AddHs()\n",
      "[22:07:27] Molecule does not have explicit Hs. Consider calling AddHs()\n",
      "\n",
      "\n",
      "Processing:  40%|████      | 40/99 [16:40<17:10, 17.46s/it]\u001b[A\u001b[A"
     ]
    },
    {
     "name": "stdout",
     "output_type": "stream",
     "text": [
      "save the docked file as docked/docked_bacampicillin.sdf\n",
      "affinity, cnn_pose_score, and cnn_affinity are: (-4.17, 0.3856, 4.881)\n"
     ]
    },
    {
     "name": "stderr",
     "output_type": "stream",
     "text": [
      "[22:07:44] Molecule does not have explicit Hs. Consider calling AddHs()\n",
      "[22:07:44] Molecule does not have explicit Hs. Consider calling AddHs()\n",
      "[22:07:44] Molecule does not have explicit Hs. Consider calling AddHs()\n",
      "\n",
      "\n",
      "Processing:  41%|████▏     | 41/99 [16:47<13:52, 14.35s/it]\u001b[A\u001b[A"
     ]
    },
    {
     "name": "stdout",
     "output_type": "stream",
     "text": [
      "save the docked file as docked/docked_benproperine.sdf\n",
      "affinity, cnn_pose_score, and cnn_affinity are: (-3.86, 0.5056, 4.358)\n"
     ]
    },
    {
     "name": "stderr",
     "output_type": "stream",
     "text": [
      "[22:07:51] Molecule does not have explicit Hs. Consider calling AddHs()\n",
      "[22:07:51] Molecule does not have explicit Hs. Consider calling AddHs()\n",
      "[22:07:51] Molecule does not have explicit Hs. Consider calling AddHs()\n",
      "\n",
      "\n",
      "Processing:  42%|████▏     | 42/99 [16:53<11:22, 11.98s/it]\u001b[A\u001b[A"
     ]
    },
    {
     "name": "stdout",
     "output_type": "stream",
     "text": [
      "save the docked file as docked/docked_cyamemazine.sdf\n",
      "affinity, cnn_pose_score, and cnn_affinity are: (-6.47, 0.6567, 7.274)\n"
     ]
    },
    {
     "name": "stderr",
     "output_type": "stream",
     "text": [
      "[22:07:58] Molecule does not have explicit Hs. Consider calling AddHs()\n",
      "[22:07:58] Molecule does not have explicit Hs. Consider calling AddHs()\n",
      "[22:07:58] Molecule does not have explicit Hs. Consider calling AddHs()\n",
      "\n",
      "\n",
      "Processing:  43%|████▎     | 43/99 [16:58<09:18,  9.98s/it]\u001b[A\u001b[A"
     ]
    },
    {
     "name": "stdout",
     "output_type": "stream",
     "text": [
      "save the docked file as docked/docked_flumecinol.sdf\n",
      "affinity, cnn_pose_score, and cnn_affinity are: (-3.16, 0.609, 3.988)\n"
     ]
    },
    {
     "name": "stderr",
     "output_type": "stream",
     "text": [
      "[22:08:03] Molecule does not have explicit Hs. Consider calling AddHs()\n",
      "[22:08:03] Molecule does not have explicit Hs. Consider calling AddHs()\n",
      "[22:08:03] Molecule does not have explicit Hs. Consider calling AddHs()\n",
      "\n",
      "\n",
      "Processing:  44%|████▍     | 44/99 [17:02<07:17,  7.96s/it]\u001b[A\u001b[A"
     ]
    },
    {
     "name": "stdout",
     "output_type": "stream",
     "text": [
      "save the docked file as docked/docked_AZD1446.sdf\n",
      "affinity, cnn_pose_score, and cnn_affinity are: (-7.8, 0.8773, 6.178)\n"
     ]
    },
    {
     "name": "stderr",
     "output_type": "stream",
     "text": [
      "[22:08:06] Molecule does not have explicit Hs. Consider calling AddHs()\n",
      "[22:08:06] Molecule does not have explicit Hs. Consider calling AddHs()\n",
      "[22:08:06] Molecule does not have explicit Hs. Consider calling AddHs()\n",
      "\n",
      "\n",
      "Processing:  45%|████▌     | 45/99 [18:09<23:15, 25.85s/it]\u001b[A\u001b[A"
     ]
    },
    {
     "name": "stdout",
     "output_type": "stream",
     "text": [
      "save the docked file as docked/docked_ginsenoside-rg3.sdf\n",
      "affinity, cnn_pose_score, and cnn_affinity are: (-5.6, 0.6927, 6.027)\n"
     ]
    },
    {
     "name": "stderr",
     "output_type": "stream",
     "text": [
      "[22:09:14] Molecule does not have explicit Hs. Consider calling AddHs()\n",
      "[22:09:14] Molecule does not have explicit Hs. Consider calling AddHs()\n",
      "[22:09:14] Molecule does not have explicit Hs. Consider calling AddHs()\n",
      "\n",
      "\n",
      "Processing:  46%|████▋     | 46/99 [18:21<19:01, 21.54s/it]\u001b[A\u001b[A"
     ]
    },
    {
     "name": "stdout",
     "output_type": "stream",
     "text": [
      "save the docked file as docked/docked_ODM-201.sdf\n",
      "affinity, cnn_pose_score, and cnn_affinity are: (-10.33, 0.7228, 7.366)\n"
     ]
    },
    {
     "name": "stderr",
     "output_type": "stream",
     "text": [
      "[22:09:25] Molecule does not have explicit Hs. Consider calling AddHs()\n",
      "[22:09:25] Molecule does not have explicit Hs. Consider calling AddHs()\n",
      "[22:09:25] Molecule does not have explicit Hs. Consider calling AddHs()\n",
      "\n",
      "\n",
      "Processing:  47%|████▋     | 47/99 [18:25<14:16, 16.47s/it]\u001b[A\u001b[A"
     ]
    },
    {
     "name": "stdout",
     "output_type": "stream",
     "text": [
      "save the docked file as docked/docked_promethazine.sdf\n",
      "affinity, cnn_pose_score, and cnn_affinity are: (-6.98, 0.6111, 6.58)\n"
     ]
    },
    {
     "name": "stderr",
     "output_type": "stream",
     "text": [
      "[22:09:30] Molecule does not have explicit Hs. Consider calling AddHs()\n",
      "[22:09:30] Molecule does not have explicit Hs. Consider calling AddHs()\n",
      "[22:09:30] Molecule does not have explicit Hs. Consider calling AddHs()\n",
      "\n",
      "\n",
      "Processing:  48%|████▊     | 48/99 [18:34<11:52, 13.98s/it]\u001b[A\u001b[A"
     ]
    },
    {
     "name": "stdout",
     "output_type": "stream",
     "text": [
      "save the docked file as docked/docked_igmesine.sdf\n",
      "affinity, cnn_pose_score, and cnn_affinity are: (-1.91, 0.5417, 4.308)\n"
     ]
    },
    {
     "name": "stderr",
     "output_type": "stream",
     "text": [
      "[22:09:38] Molecule does not have explicit Hs. Consider calling AddHs()\n",
      "[22:09:38] Molecule does not have explicit Hs. Consider calling AddHs()\n",
      "[22:09:38] Molecule does not have explicit Hs. Consider calling AddHs()\n",
      "\n",
      "\n",
      "Processing:  49%|████▉     | 49/99 [18:39<09:30, 11.42s/it]\u001b[A\u001b[A"
     ]
    },
    {
     "name": "stdout",
     "output_type": "stream",
     "text": [
      "save the docked file as docked/docked_bupranolol.sdf\n",
      "affinity, cnn_pose_score, and cnn_affinity are: (-7.95, 0.8588, 6.502)\n"
     ]
    },
    {
     "name": "stderr",
     "output_type": "stream",
     "text": [
      "[22:09:43] Molecule does not have explicit Hs. Consider calling AddHs()\n",
      "[22:09:43] Molecule does not have explicit Hs. Consider calling AddHs()\n",
      "[22:09:43] Molecule does not have explicit Hs. Consider calling AddHs()\n",
      "\n",
      "\n",
      "Processing:  51%|█████     | 50/99 [18:45<07:55,  9.70s/it]\u001b[A\u001b[A"
     ]
    },
    {
     "name": "stdout",
     "output_type": "stream",
     "text": [
      "save the docked file as docked/docked_monoctanoin.sdf\n",
      "affinity, cnn_pose_score, and cnn_affinity are: (-6.78, 0.7029, 5.648)\n"
     ]
    },
    {
     "name": "stderr",
     "output_type": "stream",
     "text": [
      "[22:09:49] Molecule does not have explicit Hs. Consider calling AddHs()\n",
      "[22:09:49] Molecule does not have explicit Hs. Consider calling AddHs()\n",
      "[22:09:49] Molecule does not have explicit Hs. Consider calling AddHs()\n",
      "\n",
      "\n",
      "Processing:  52%|█████▏    | 51/99 [18:51<06:54,  8.63s/it]\u001b[A\u001b[A"
     ]
    },
    {
     "name": "stdout",
     "output_type": "stream",
     "text": [
      "save the docked file as docked/docked_carazolol.sdf\n",
      "affinity, cnn_pose_score, and cnn_affinity are: (-9.29, 0.7248, 6.497)\n"
     ]
    },
    {
     "name": "stderr",
     "output_type": "stream",
     "text": [
      "[22:09:55] Molecule does not have explicit Hs. Consider calling AddHs()\n",
      "[22:09:55] Molecule does not have explicit Hs. Consider calling AddHs()\n",
      "[22:09:55] Molecule does not have explicit Hs. Consider calling AddHs()\n",
      "\n",
      "\n",
      "Processing:  53%|█████▎    | 52/99 [19:03<07:35,  9.69s/it]\u001b[A\u001b[A"
     ]
    },
    {
     "name": "stdout",
     "output_type": "stream",
     "text": [
      "save the docked file as docked/docked_tianeptine.sdf\n",
      "affinity, cnn_pose_score, and cnn_affinity are: (-2.77, 0.5951, 5.015)\n"
     ]
    },
    {
     "name": "stderr",
     "output_type": "stream",
     "text": [
      "[22:10:07] Molecule does not have explicit Hs. Consider calling AddHs()\n",
      "[22:10:07] Molecule does not have explicit Hs. Consider calling AddHs()\n",
      "[22:10:07] Molecule does not have explicit Hs. Consider calling AddHs()\n",
      "\n",
      "\n",
      "Processing:  54%|█████▎    | 53/99 [19:10<06:45,  8.82s/it]\u001b[A\u001b[A"
     ]
    },
    {
     "name": "stdout",
     "output_type": "stream",
     "text": [
      "save the docked file as docked/docked_colforsin.sdf\n",
      "affinity, cnn_pose_score, and cnn_affinity are: (-4.41, 0.7646, 4.519)\n"
     ]
    },
    {
     "name": "stderr",
     "output_type": "stream",
     "text": [
      "[22:10:14] Molecule does not have explicit Hs. Consider calling AddHs()\n",
      "[22:10:14] Molecule does not have explicit Hs. Consider calling AddHs()\n",
      "[22:10:14] Molecule does not have explicit Hs. Consider calling AddHs()\n",
      "\n",
      "\n",
      "Processing:  55%|█████▍    | 54/99 [19:20<06:55,  9.23s/it]\u001b[A\u001b[A"
     ]
    },
    {
     "name": "stdout",
     "output_type": "stream",
     "text": [
      "save the docked file as docked/docked_trimethoquinol.sdf\n",
      "affinity, cnn_pose_score, and cnn_affinity are: (-10.04, 0.8942, 7.255)\n"
     ]
    },
    {
     "name": "stderr",
     "output_type": "stream",
     "text": [
      "[22:10:24] Molecule does not have explicit Hs. Consider calling AddHs()\n",
      "[22:10:24] Molecule does not have explicit Hs. Consider calling AddHs()\n",
      "[22:10:24] Molecule does not have explicit Hs. Consider calling AddHs()\n",
      "\n",
      "\n",
      "Processing:  56%|█████▌    | 55/99 [19:28<06:36,  9.01s/it]\u001b[A\u001b[A"
     ]
    },
    {
     "name": "stdout",
     "output_type": "stream",
     "text": [
      "save the docked file as docked/docked_valethamate.sdf\n",
      "affinity, cnn_pose_score, and cnn_affinity are: (-7.68, 0.6617, 6.881)\n"
     ]
    },
    {
     "name": "stderr",
     "output_type": "stream",
     "text": [
      "[22:10:33] Molecule does not have explicit Hs. Consider calling AddHs()\n",
      "[22:10:33] UFFTYPER: Warning: hybridization set to SP3 for atom 7\n",
      "[22:10:33] Molecule does not have explicit Hs. Consider calling AddHs()\n",
      "[22:10:33] UFFTYPER: Warning: hybridization set to SP3 for atom 7\n",
      "[22:10:33] UFFTYPER: Warning: hybridization set to SP3 for atom 7\n",
      "[22:10:33] Molecule does not have explicit Hs. Consider calling AddHs()\n",
      "\n",
      "\n",
      "Processing:  57%|█████▋    | 56/99 [20:21<15:54, 22.20s/it]\u001b[A\u001b[A"
     ]
    },
    {
     "name": "stdout",
     "output_type": "stream",
     "text": [
      "save the docked file as docked/docked_omeprazole-magnesium.sdf\n",
      "affinity, cnn_pose_score, and cnn_affinity are: (-3.19, 0.3456, 7.115)\n"
     ]
    },
    {
     "name": "stderr",
     "output_type": "stream",
     "text": [
      "[22:11:26] Molecule does not have explicit Hs. Consider calling AddHs()\n",
      "[22:11:26] Molecule does not have explicit Hs. Consider calling AddHs()\n",
      "[22:11:26] Molecule does not have explicit Hs. Consider calling AddHs()\n",
      "\n",
      "\n",
      "Processing:  58%|█████▊    | 57/99 [20:31<12:48, 18.30s/it]\u001b[A\u001b[A"
     ]
    },
    {
     "name": "stdout",
     "output_type": "stream",
     "text": [
      "save the docked file as docked/docked_AMG319.sdf\n",
      "affinity, cnn_pose_score, and cnn_affinity are: (-5.13, 0.3467, 5.682)\n"
     ]
    },
    {
     "name": "stderr",
     "output_type": "stream",
     "text": [
      "[22:11:35] Molecule does not have explicit Hs. Consider calling AddHs()\n",
      "[22:11:35] Molecule does not have explicit Hs. Consider calling AddHs()\n",
      "[22:11:35] Molecule does not have explicit Hs. Consider calling AddHs()\n",
      "\n",
      "\n",
      "Processing:  59%|█████▊    | 58/99 [20:34<09:22, 13.72s/it]\u001b[A\u001b[A"
     ]
    },
    {
     "name": "stdout",
     "output_type": "stream",
     "text": [
      "save the docked file as docked/docked_butylphthalide.sdf\n",
      "affinity, cnn_pose_score, and cnn_affinity are: (-6.48, 0.7692, 5.141)\n"
     ]
    },
    {
     "name": "stderr",
     "output_type": "stream",
     "text": [
      "[22:11:38] Molecule does not have explicit Hs. Consider calling AddHs()\n",
      "[22:11:38] Molecule does not have explicit Hs. Consider calling AddHs()\n",
      "[22:11:38] Molecule does not have explicit Hs. Consider calling AddHs()\n",
      "\n",
      "\n",
      "Processing:  60%|█████▉    | 59/99 [20:57<10:59, 16.49s/it]\u001b[A\u001b[A"
     ]
    },
    {
     "name": "stdout",
     "output_type": "stream",
     "text": [
      "save the docked file as docked/docked_netilmicin.sdf\n",
      "affinity, cnn_pose_score, and cnn_affinity are: (-6.73, 0.4831, 6.65)\n"
     ]
    },
    {
     "name": "stderr",
     "output_type": "stream",
     "text": [
      "[22:12:01] Molecule does not have explicit Hs. Consider calling AddHs()\n",
      "[22:12:01] Molecule does not have explicit Hs. Consider calling AddHs()\n",
      "[22:12:01] Molecule does not have explicit Hs. Consider calling AddHs()\n",
      "\n",
      "\n",
      "Processing:  61%|██████    | 60/99 [21:33<14:34, 22.42s/it]\u001b[A\u001b[A"
     ]
    },
    {
     "name": "stdout",
     "output_type": "stream",
     "text": [
      "save the docked file as docked/docked_BQ-123.sdf\n",
      "affinity, cnn_pose_score, and cnn_affinity are: (-1.92, 0.5082, 5.373)\n"
     ]
    },
    {
     "name": "stderr",
     "output_type": "stream",
     "text": [
      "[22:12:37] Molecule does not have explicit Hs. Consider calling AddHs()\n",
      "[22:12:37] Molecule does not have explicit Hs. Consider calling AddHs()\n",
      "[22:12:37] Molecule does not have explicit Hs. Consider calling AddHs()\n",
      "\n",
      "\n",
      "Processing:  62%|██████▏   | 61/99 [21:44<11:58, 18.90s/it]\u001b[A\u001b[A"
     ]
    },
    {
     "name": "stdout",
     "output_type": "stream",
     "text": [
      "save the docked file as docked/docked_tolamolol.sdf\n",
      "affinity, cnn_pose_score, and cnn_affinity are: (-9.02, 0.7452, 6.484)\n"
     ]
    },
    {
     "name": "stderr",
     "output_type": "stream",
     "text": [
      "[22:12:48] Molecule does not have explicit Hs. Consider calling AddHs()\n",
      "[22:12:48] Molecule does not have explicit Hs. Consider calling AddHs()\n",
      "[22:12:48] Molecule does not have explicit Hs. Consider calling AddHs()\n",
      "\n",
      "\n",
      "Processing:  63%|██████▎   | 62/99 [21:51<09:27, 15.34s/it]\u001b[A\u001b[A"
     ]
    },
    {
     "name": "stdout",
     "output_type": "stream",
     "text": [
      "save the docked file as docked/docked_ulifloxacin.sdf\n",
      "affinity, cnn_pose_score, and cnn_affinity are: (-2.1, 0.6199, 4.463)\n"
     ]
    },
    {
     "name": "stderr",
     "output_type": "stream",
     "text": [
      "[22:12:55] Molecule does not have explicit Hs. Consider calling AddHs()\n",
      "[22:12:55] Molecule does not have explicit Hs. Consider calling AddHs()\n",
      "[22:12:55] Molecule does not have explicit Hs. Consider calling AddHs()\n",
      "\n",
      "\n",
      "Processing:  64%|██████▎   | 63/99 [22:05<09:06, 15.17s/it]\u001b[A\u001b[A"
     ]
    },
    {
     "name": "stdout",
     "output_type": "stream",
     "text": [
      "save the docked file as docked/docked_enciprazine.sdf\n",
      "affinity, cnn_pose_score, and cnn_affinity are: (-8.64, 0.3791, 6.391)\n"
     ]
    },
    {
     "name": "stderr",
     "output_type": "stream",
     "text": [
      "[22:13:10] Molecule does not have explicit Hs. Consider calling AddHs()\n",
      "[22:13:10] Molecule does not have explicit Hs. Consider calling AddHs()\n",
      "[22:13:10] Molecule does not have explicit Hs. Consider calling AddHs()\n",
      "\n",
      "\n",
      "Processing:  65%|██████▍   | 64/99 [22:12<07:17, 12.51s/it]\u001b[A\u001b[A"
     ]
    },
    {
     "name": "stdout",
     "output_type": "stream",
     "text": [
      "save the docked file as docked/docked_sulbactam-pivoxil.sdf\n",
      "affinity, cnn_pose_score, and cnn_affinity are: (-3.92, 0.6495, 4.238)\n"
     ]
    },
    {
     "name": "stderr",
     "output_type": "stream",
     "text": [
      "[22:13:16] Molecule does not have explicit Hs. Consider calling AddHs()\n",
      "[22:13:16] Molecule does not have explicit Hs. Consider calling AddHs()\n",
      "[22:13:16] Molecule does not have explicit Hs. Consider calling AddHs()\n",
      "\n",
      "\n",
      "Processing:  66%|██████▌   | 65/99 [25:45<41:17, 72.87s/it]\u001b[A\u001b[A"
     ]
    },
    {
     "name": "stdout",
     "output_type": "stream",
     "text": [
      "save the docked file as docked/docked_octreotide.sdf\n",
      "affinity, cnn_pose_score, and cnn_affinity are: (-2.61, 0.45, 6.605)\n"
     ]
    },
    {
     "name": "stderr",
     "output_type": "stream",
     "text": [
      "[22:16:50] Molecule does not have explicit Hs. Consider calling AddHs()\n",
      "[22:16:50] Molecule does not have explicit Hs. Consider calling AddHs()\n",
      "[22:16:50] Molecule does not have explicit Hs. Consider calling AddHs()\n",
      "\n",
      "\n",
      "Processing:  67%|██████▋   | 66/99 [26:46<38:02, 69.17s/it]\u001b[A\u001b[A"
     ]
    },
    {
     "name": "stdout",
     "output_type": "stream",
     "text": [
      "save the docked file as docked/docked_solamargine.sdf\n",
      "affinity, cnn_pose_score, and cnn_affinity are: (-8.36, 0.565, 6.226)\n"
     ]
    },
    {
     "name": "stderr",
     "output_type": "stream",
     "text": [
      "[22:17:50] Molecule does not have explicit Hs. Consider calling AddHs()\n",
      "[22:17:50] Molecule does not have explicit Hs. Consider calling AddHs()\n",
      "[22:17:50] Molecule does not have explicit Hs. Consider calling AddHs()\n",
      "\n",
      "\n",
      "Processing:  68%|██████▊   | 67/99 [26:50<26:24, 49.51s/it]\u001b[A\u001b[A"
     ]
    },
    {
     "name": "stdout",
     "output_type": "stream",
     "text": [
      "save the docked file as docked/docked_phenylpiracetam.sdf\n",
      "affinity, cnn_pose_score, and cnn_affinity are: (-8.78, 0.8027, 6.083)\n"
     ]
    },
    {
     "name": "stderr",
     "output_type": "stream",
     "text": [
      "[22:17:54] Molecule does not have explicit Hs. Consider calling AddHs()\n",
      "[22:17:54] Molecule does not have explicit Hs. Consider calling AddHs()\n",
      "[22:17:54] Molecule does not have explicit Hs. Consider calling AddHs()\n",
      "\n",
      "\n",
      "Processing:  69%|██████▊   | 68/99 [26:53<18:22, 35.58s/it]\u001b[A\u001b[A"
     ]
    },
    {
     "name": "stdout",
     "output_type": "stream",
     "text": [
      "save the docked file as docked/docked_toloxatone.sdf\n",
      "affinity, cnn_pose_score, and cnn_affinity are: (-8.24, 0.7769, 5.186)\n"
     ]
    },
    {
     "name": "stderr",
     "output_type": "stream",
     "text": [
      "[22:17:57] Molecule does not have explicit Hs. Consider calling AddHs()\n",
      "[22:17:57] Molecule does not have explicit Hs. Consider calling AddHs()\n",
      "[22:17:57] Molecule does not have explicit Hs. Consider calling AddHs()\n",
      "\n",
      "\n",
      "Processing:  70%|██████▉   | 69/99 [28:29<26:52, 53.76s/it]\u001b[A\u001b[A"
     ]
    },
    {
     "name": "stdout",
     "output_type": "stream",
     "text": [
      "save the docked file as docked/docked_spiramycin.sdf\n",
      "affinity, cnn_pose_score, and cnn_affinity are: (-2.04, 0.4748, 5.29)\n"
     ]
    },
    {
     "name": "stderr",
     "output_type": "stream",
     "text": [
      "[22:19:33] Molecule does not have explicit Hs. Consider calling AddHs()\n",
      "[22:19:33] Molecule does not have explicit Hs. Consider calling AddHs()\n",
      "[22:19:33] Molecule does not have explicit Hs. Consider calling AddHs()\n",
      "\n",
      "\n",
      "Processing:  71%|███████   | 70/99 [28:32<18:41, 38.68s/it]\u001b[A\u001b[A"
     ]
    },
    {
     "name": "stdout",
     "output_type": "stream",
     "text": [
      "save the docked file as docked/docked_picartamide.sdf\n",
      "affinity, cnn_pose_score, and cnn_affinity are: (-6.54, 0.6924, 6.275)\n"
     ]
    },
    {
     "name": "stderr",
     "output_type": "stream",
     "text": [
      "[22:19:37] Molecule does not have explicit Hs. Consider calling AddHs()\n",
      "[22:19:37] Molecule does not have explicit Hs. Consider calling AddHs()\n",
      "[22:19:37] Molecule does not have explicit Hs. Consider calling AddHs()\n",
      "\n",
      "\n",
      "Processing:  72%|███████▏  | 71/99 [28:37<13:18, 28.53s/it]\u001b[A\u001b[A"
     ]
    },
    {
     "name": "stdout",
     "output_type": "stream",
     "text": [
      "save the docked file as docked/docked_ozolinone.sdf\n",
      "affinity, cnn_pose_score, and cnn_affinity are: (-1.49, 0.6186, 3.432)\n"
     ]
    },
    {
     "name": "stderr",
     "output_type": "stream",
     "text": [
      "[22:19:42] Molecule does not have explicit Hs. Consider calling AddHs()\n",
      "[22:19:42] Molecule does not have explicit Hs. Consider calling AddHs()\n",
      "[22:19:42] Molecule does not have explicit Hs. Consider calling AddHs()\n",
      "\n",
      "\n",
      "Processing:  73%|███████▎  | 72/99 [28:51<10:53, 24.22s/it]\u001b[A\u001b[A"
     ]
    },
    {
     "name": "stdout",
     "output_type": "stream",
     "text": [
      "save the docked file as docked/docked_misoprostol.sdf\n",
      "affinity, cnn_pose_score, and cnn_affinity are: (-8.05, 0.6973, 7.03)\n"
     ]
    },
    {
     "name": "stderr",
     "output_type": "stream",
     "text": [
      "[22:19:56] Molecule does not have explicit Hs. Consider calling AddHs()\n",
      "[22:19:56] UFFTYPER: Unrecognized charge state for atom: 20\n",
      "[22:19:56] UFFTYPER: Unrecognized atom type: Gd5+3 (20)\n",
      "[22:19:56] Molecule does not have explicit Hs. Consider calling AddHs()\n",
      "[22:19:56] UFFTYPER: Unrecognized charge state for atom: 20\n",
      "[22:19:56] UFFTYPER: Unrecognized atom type: Gd5+3 (20)\n",
      "[22:19:56] UFFTYPER: Unrecognized charge state for atom: 20\n",
      "[22:19:56] UFFTYPER: Unrecognized atom type: Gd5+3 (20)\n",
      "[22:19:56] Molecule does not have explicit Hs. Consider calling AddHs()\n",
      "\n",
      "\n",
      "Processing:  74%|███████▎  | 73/99 [28:58<08:10, 18.87s/it]\u001b[A\u001b[A"
     ]
    },
    {
     "name": "stdout",
     "output_type": "stream",
     "text": [
      "save the docked file as docked/docked_gadoteridol.sdf\n",
      "affinity, cnn_pose_score, and cnn_affinity are: (-2.8, 0.4981, 3.917)\n"
     ]
    },
    {
     "name": "stderr",
     "output_type": "stream",
     "text": [
      "[22:20:02] Molecule does not have explicit Hs. Consider calling AddHs()\n",
      "[22:20:02] Molecule does not have explicit Hs. Consider calling AddHs()\n",
      "[22:20:02] Molecule does not have explicit Hs. Consider calling AddHs()\n",
      "\n",
      "\n",
      "Processing:  75%|███████▍  | 74/99 [29:02<06:02, 14.49s/it]\u001b[A\u001b[A"
     ]
    },
    {
     "name": "stdout",
     "output_type": "stream",
     "text": [
      "save the docked file as docked/docked_tiaprofenic-acid.sdf\n",
      "affinity, cnn_pose_score, and cnn_affinity are: (-2.4, 0.6278, 3.906)\n"
     ]
    },
    {
     "name": "stderr",
     "output_type": "stream",
     "text": [
      "[22:20:06] Molecule does not have explicit Hs. Consider calling AddHs()\n",
      "[22:20:06] Molecule does not have explicit Hs. Consider calling AddHs()\n",
      "[22:20:06] Molecule does not have explicit Hs. Consider calling AddHs()\n",
      "\n",
      "\n",
      "Processing:  76%|███████▌  | 75/99 [29:08<04:44, 11.84s/it]\u001b[A\u001b[A"
     ]
    },
    {
     "name": "stdout",
     "output_type": "stream",
     "text": [
      "save the docked file as docked/docked_beclomethasone.sdf\n",
      "affinity, cnn_pose_score, and cnn_affinity are: (-3.97, 0.6986, 4.645)\n"
     ]
    },
    {
     "name": "stderr",
     "output_type": "stream",
     "text": [
      "[22:20:12] Molecule does not have explicit Hs. Consider calling AddHs()\n",
      "[22:20:12] Molecule does not have explicit Hs. Consider calling AddHs()\n",
      "[22:20:12] Molecule does not have explicit Hs. Consider calling AddHs()\n",
      "\n",
      "\n",
      "Processing:  77%|███████▋  | 76/99 [29:13<03:47,  9.87s/it]\u001b[A\u001b[A"
     ]
    },
    {
     "name": "stdout",
     "output_type": "stream",
     "text": [
      "save the docked file as docked/docked_tiprenolol.sdf\n",
      "affinity, cnn_pose_score, and cnn_affinity are: (-6.31, 0.8683, 6.42)\n"
     ]
    },
    {
     "name": "stderr",
     "output_type": "stream",
     "text": [
      "[22:20:17] Molecule does not have explicit Hs. Consider calling AddHs()\n",
      "[22:20:17] Molecule does not have explicit Hs. Consider calling AddHs()\n",
      "[22:20:17] Molecule does not have explicit Hs. Consider calling AddHs()\n",
      "\n",
      "\n",
      "Processing:  78%|███████▊  | 77/99 [29:32<04:36, 12.58s/it]\u001b[A\u001b[A"
     ]
    },
    {
     "name": "stdout",
     "output_type": "stream",
     "text": [
      "save the docked file as docked/docked_MK-571.sdf\n",
      "affinity, cnn_pose_score, and cnn_affinity are: (-6.44, 0.4292, 7.693)\n"
     ]
    },
    {
     "name": "stderr",
     "output_type": "stream",
     "text": [
      "[22:20:36] Molecule does not have explicit Hs. Consider calling AddHs()\n",
      "[22:20:36] Molecule does not have explicit Hs. Consider calling AddHs()\n",
      "[22:20:36] Molecule does not have explicit Hs. Consider calling AddHs()\n",
      "\n",
      "\n",
      "Processing:  79%|███████▉  | 78/99 [29:37<03:36, 10.30s/it]\u001b[A\u001b[A"
     ]
    },
    {
     "name": "stdout",
     "output_type": "stream",
     "text": [
      "save the docked file as docked/docked_homatropine.sdf\n",
      "affinity, cnn_pose_score, and cnn_affinity are: (-7.66, 0.7381, 6.369)\n"
     ]
    },
    {
     "name": "stderr",
     "output_type": "stream",
     "text": [
      "[22:20:41] Molecule does not have explicit Hs. Consider calling AddHs()\n",
      "[22:20:41] Molecule does not have explicit Hs. Consider calling AddHs()\n",
      "[22:20:41] Molecule does not have explicit Hs. Consider calling AddHs()\n",
      "\n",
      "\n",
      "Processing:  80%|███████▉  | 79/99 [29:43<03:01,  9.09s/it]\u001b[A\u001b[A"
     ]
    },
    {
     "name": "stdout",
     "output_type": "stream",
     "text": [
      "save the docked file as docked/docked_ibuprofen-piconol.sdf\n",
      "affinity, cnn_pose_score, and cnn_affinity are: (-3.27, 0.6761, 4.201)\n"
     ]
    },
    {
     "name": "stderr",
     "output_type": "stream",
     "text": [
      "[22:20:47] Molecule does not have explicit Hs. Consider calling AddHs()\n",
      "[22:20:47] Molecule does not have explicit Hs. Consider calling AddHs()\n",
      "[22:20:48] Molecule does not have explicit Hs. Consider calling AddHs()\n",
      "\n",
      "\n",
      "Processing:  81%|████████  | 80/99 [30:11<04:37, 14.60s/it]\u001b[A\u001b[A"
     ]
    },
    {
     "name": "stdout",
     "output_type": "stream",
     "text": [
      "save the docked file as docked/docked_bafetinib.sdf\n",
      "affinity, cnn_pose_score, and cnn_affinity are: (-4.28, 0.406, 6.387)\n"
     ]
    },
    {
     "name": "stderr",
     "output_type": "stream",
     "text": [
      "[22:21:15] Molecule does not have explicit Hs. Consider calling AddHs()\n",
      "[22:21:15] Molecule does not have explicit Hs. Consider calling AddHs()\n",
      "[22:21:15] Molecule does not have explicit Hs. Consider calling AddHs()\n",
      "\n",
      "\n",
      "Processing:  82%|████████▏ | 81/99 [30:14<03:25, 11.40s/it]\u001b[A\u001b[A"
     ]
    },
    {
     "name": "stdout",
     "output_type": "stream",
     "text": [
      "save the docked file as docked/docked_lisadimate.sdf\n",
      "affinity, cnn_pose_score, and cnn_affinity are: (-6.8, 0.6468, 4.763)\n"
     ]
    },
    {
     "name": "stderr",
     "output_type": "stream",
     "text": [
      "[22:21:19] Molecule does not have explicit Hs. Consider calling AddHs()\n",
      "[22:21:19] Molecule does not have explicit Hs. Consider calling AddHs()\n",
      "[22:21:19] Molecule does not have explicit Hs. Consider calling AddHs()\n",
      "\n",
      "\n",
      "Processing:  83%|████████▎ | 82/99 [30:24<03:04, 10.86s/it]\u001b[A\u001b[A"
     ]
    },
    {
     "name": "stdout",
     "output_type": "stream",
     "text": [
      "save the docked file as docked/docked_metazosin.sdf\n",
      "affinity, cnn_pose_score, and cnn_affinity are: (-1.0, 0.3654, 6.607)\n"
     ]
    },
    {
     "name": "stderr",
     "output_type": "stream",
     "text": [
      "[22:21:28] Molecule does not have explicit Hs. Consider calling AddHs()\n",
      "[22:21:28] Molecule does not have explicit Hs. Consider calling AddHs()\n",
      "[22:21:28] Molecule does not have explicit Hs. Consider calling AddHs()\n",
      "\n",
      "\n",
      "Processing:  84%|████████▍ | 83/99 [30:44<03:39, 13.71s/it]\u001b[A\u001b[A"
     ]
    },
    {
     "name": "stdout",
     "output_type": "stream",
     "text": [
      "save the docked file as docked/docked_tafenoquine.sdf\n",
      "affinity, cnn_pose_score, and cnn_affinity are: (-2.19, 0.5138, 5.381)\n"
     ]
    },
    {
     "name": "stderr",
     "output_type": "stream",
     "text": [
      "[22:21:49] Molecule does not have explicit Hs. Consider calling AddHs()\n",
      "[22:21:49] Molecule does not have explicit Hs. Consider calling AddHs()\n",
      "[22:21:49] Molecule does not have explicit Hs. Consider calling AddHs()\n",
      "\n",
      "\n",
      "Processing:  85%|████████▍ | 84/99 [30:48<02:41, 10.75s/it]\u001b[A\u001b[A"
     ]
    },
    {
     "name": "stdout",
     "output_type": "stream",
     "text": [
      "save the docked file as docked/docked_SIB-1553A.sdf\n",
      "affinity, cnn_pose_score, and cnn_affinity are: (-7.49, 0.5762, 5.862)\n"
     ]
    },
    {
     "name": "stderr",
     "output_type": "stream",
     "text": [
      "[22:21:53] Molecule does not have explicit Hs. Consider calling AddHs()\n",
      "[22:21:53] Molecule does not have explicit Hs. Consider calling AddHs()\n",
      "[22:21:53] Molecule does not have explicit Hs. Consider calling AddHs()\n",
      "\n",
      "\n",
      "Processing:  86%|████████▌ | 85/99 [30:54<02:08,  9.19s/it]\u001b[A\u001b[A"
     ]
    },
    {
     "name": "stdout",
     "output_type": "stream",
     "text": [
      "save the docked file as docked/docked_AD-5467.sdf\n",
      "affinity, cnn_pose_score, and cnn_affinity are: (-7.24, 0.593, 6.581)\n"
     ]
    },
    {
     "name": "stderr",
     "output_type": "stream",
     "text": [
      "[22:21:58] Molecule does not have explicit Hs. Consider calling AddHs()\n",
      "[22:21:58] Molecule does not have explicit Hs. Consider calling AddHs()\n",
      "[22:21:59] Molecule does not have explicit Hs. Consider calling AddHs()\n",
      "\n",
      "\n",
      "Processing:  87%|████████▋ | 86/99 [32:50<08:55, 41.18s/it]\u001b[A\u001b[A"
     ]
    },
    {
     "name": "stdout",
     "output_type": "stream",
     "text": [
      "save the docked file as docked/docked_ginsenoside-rd.sdf\n",
      "affinity, cnn_pose_score, and cnn_affinity are: (-7.35, 0.4689, 6.238)\n"
     ]
    },
    {
     "name": "stderr",
     "output_type": "stream",
     "text": [
      "[22:23:54] Molecule does not have explicit Hs. Consider calling AddHs()\n",
      "[22:23:54] Molecule does not have explicit Hs. Consider calling AddHs()\n",
      "[22:23:54] Molecule does not have explicit Hs. Consider calling AddHs()\n",
      "\n",
      "\n",
      "Processing:  88%|████████▊ | 87/99 [32:53<05:57, 29.77s/it]\u001b[A\u001b[A"
     ]
    },
    {
     "name": "stdout",
     "output_type": "stream",
     "text": [
      "save the docked file as docked/docked_tiopronin.sdf\n",
      "affinity, cnn_pose_score, and cnn_affinity are: (-3.18, 0.532, 3.345)\n"
     ]
    },
    {
     "name": "stderr",
     "output_type": "stream",
     "text": [
      "[22:23:57] Molecule does not have explicit Hs. Consider calling AddHs()\n",
      "[22:23:57] Molecule does not have explicit Hs. Consider calling AddHs()\n",
      "[22:23:57] Molecule does not have explicit Hs. Consider calling AddHs()\n",
      "\n",
      "\n",
      "Processing:  89%|████████▉ | 88/99 [33:01<04:16, 23.33s/it]\u001b[A\u001b[A"
     ]
    },
    {
     "name": "stdout",
     "output_type": "stream",
     "text": [
      "save the docked file as docked/docked_gabapentin-enacarbil.sdf\n",
      "affinity, cnn_pose_score, and cnn_affinity are: (-2.74, 0.5576, 4.185)\n"
     ]
    },
    {
     "name": "stderr",
     "output_type": "stream",
     "text": [
      "[22:24:05] Molecule does not have explicit Hs. Consider calling AddHs()\n",
      "[22:24:05] Molecule does not have explicit Hs. Consider calling AddHs()\n",
      "[22:24:05] Molecule does not have explicit Hs. Consider calling AddHs()\n",
      "\n",
      "\n",
      "Processing:  90%|████████▉ | 89/99 [33:06<02:56, 17.67s/it]\u001b[A\u001b[A"
     ]
    },
    {
     "name": "stdout",
     "output_type": "stream",
     "text": [
      "save the docked file as docked/docked_albuterol.sdf\n",
      "affinity, cnn_pose_score, and cnn_affinity are: (-2.8, 0.6168, 3.508)\n"
     ]
    },
    {
     "name": "stderr",
     "output_type": "stream",
     "text": [
      "[22:24:10] Molecule does not have explicit Hs. Consider calling AddHs()\n",
      "[22:24:10] Molecule does not have explicit Hs. Consider calling AddHs()\n",
      "[22:24:10] Molecule does not have explicit Hs. Consider calling AddHs()\n",
      "Processing:   6%|▌         | 6/99 [44:53<11:35:43, 448.86s/it]\n"
     ]
    },
    {
     "ename": "ValueError",
     "evalue": "Bad Conformer Id",
     "output_type": "error",
     "traceback": [
      "\u001b[0;31m---------------------------------------------------------------------------\u001b[0m",
      "\u001b[0;31mValueError\u001b[0m                                Traceback (most recent call last)",
      "Input \u001b[0;32mIn [33]\u001b[0m, in \u001b[0;36m<cell line: 1>\u001b[0;34m()\u001b[0m\n\u001b[0;32m----> 1\u001b[0m \u001b[43mgnina_df\u001b[49m\u001b[43m(\u001b[49m\u001b[43mdf\u001b[49m\u001b[43m)\u001b[49m\n",
      "File \u001b[0;32m/notebooks/tools/tools/binding.py:174\u001b[0m, in \u001b[0;36mgnina_df\u001b[0;34m(df, ID_col, smi_col, output_df)\u001b[0m\n\u001b[1;32m    171\u001b[0m os\u001b[38;5;241m.\u001b[39mmakedirs(\u001b[38;5;124m'\u001b[39m\u001b[38;5;124mdocked\u001b[39m\u001b[38;5;124m'\u001b[39m, exist_ok\u001b[38;5;241m=\u001b[39m\u001b[38;5;28;01mTrue\u001b[39;00m)\n\u001b[1;32m    173\u001b[0m \u001b[38;5;28;01mfor\u001b[39;00m i, r \u001b[38;5;129;01min\u001b[39;00m df\u001b[38;5;241m.\u001b[39miterrows():\n\u001b[0;32m--> 174\u001b[0m     \u001b[43mrdkit_conformer\u001b[49m\u001b[43m(\u001b[49m\u001b[43mSMILES\u001b[49m\u001b[38;5;241;43m=\u001b[39;49m\u001b[43mr\u001b[49m\u001b[43m[\u001b[49m\u001b[43msmi_col\u001b[49m\u001b[43m]\u001b[49m\u001b[43m,\u001b[49m\u001b[43m \u001b[49m\u001b[43moutput\u001b[49m\u001b[43m \u001b[49m\u001b[38;5;241;43m=\u001b[39;49m\u001b[43m \u001b[49m\u001b[38;5;124;43mf\u001b[39;49m\u001b[38;5;124;43m'\u001b[39;49m\u001b[38;5;124;43mligand/\u001b[39;49m\u001b[38;5;132;43;01m{\u001b[39;49;00m\u001b[43mr\u001b[49m\u001b[43m[\u001b[49m\u001b[43mID_col\u001b[49m\u001b[43m]\u001b[49m\u001b[38;5;132;43;01m}\u001b[39;49;00m\u001b[38;5;124;43m.sdf\u001b[39;49m\u001b[38;5;124;43m'\u001b[39;49m\u001b[43m,\u001b[49m\u001b[43m \u001b[49m\u001b[43mvisualize\u001b[49m\u001b[38;5;241;43m=\u001b[39;49m\u001b[38;5;28;43;01mFalse\u001b[39;49;00m\u001b[43m)\u001b[49m\n\u001b[1;32m    175\u001b[0m     affinity, cnn_pose_score, cnn_affinity \u001b[38;5;241m=\u001b[39m gnina(\u001b[38;5;124m'\u001b[39m\u001b[38;5;124mrec.pdb\u001b[39m\u001b[38;5;124m'\u001b[39m,\u001b[38;5;124mf\u001b[39m\u001b[38;5;124m'\u001b[39m\u001b[38;5;124mligand/\u001b[39m\u001b[38;5;132;01m{\u001b[39;00mr[ID_col]\u001b[38;5;132;01m}\u001b[39;00m\u001b[38;5;124m.sdf\u001b[39m\u001b[38;5;124m'\u001b[39m, \u001b[38;5;124m'\u001b[39m\u001b[38;5;124mlig.pdb\u001b[39m\u001b[38;5;124m'\u001b[39m,\u001b[38;5;124mf\u001b[39m\u001b[38;5;124m'\u001b[39m\u001b[38;5;124mdocked/docked_\u001b[39m\u001b[38;5;132;01m{\u001b[39;00mr[ID_col]\u001b[38;5;132;01m}\u001b[39;00m\u001b[38;5;124m.sdf\u001b[39m\u001b[38;5;124m'\u001b[39m)\n\u001b[1;32m    177\u001b[0m     affinity_values\u001b[38;5;241m.\u001b[39mappend(affinity)\n",
      "File \u001b[0;32m/notebooks/tools/tools/binding.py:80\u001b[0m, in \u001b[0;36mrdkit_conformer\u001b[0;34m(SMILES, output, method, visualize, seed)\u001b[0m\n\u001b[1;32m     77\u001b[0m         AllChem\u001b[38;5;241m.\u001b[39mEmbedMultipleConfs(mol, numConfs\u001b[38;5;241m=\u001b[39m\u001b[38;5;241m1\u001b[39m, useExpTorsionAnglePrefs\u001b[38;5;241m=\u001b[39m\u001b[38;5;28;01mTrue\u001b[39;00m, \n\u001b[1;32m     78\u001b[0m                                    useBasicKnowledge\u001b[38;5;241m=\u001b[39m\u001b[38;5;28;01mTrue\u001b[39;00m, enforceChirality\u001b[38;5;241m=\u001b[39m\u001b[38;5;28;01mTrue\u001b[39;00m,randomSeed\u001b[38;5;241m=\u001b[39mseed)\n\u001b[1;32m     79\u001b[0m         AllChem\u001b[38;5;241m.\u001b[39mETKDGv3()\n\u001b[0;32m---> 80\u001b[0m         \u001b[43mAllChem\u001b[49m\u001b[38;5;241;43m.\u001b[39;49m\u001b[43mUFFOptimizeMolecule\u001b[49m\u001b[43m(\u001b[49m\u001b[43mmol\u001b[49m\u001b[43m)\u001b[49m\n\u001b[1;32m     82\u001b[0m \u001b[38;5;66;03m#     elif method == 'ETKDG_MMFF':\u001b[39;00m\n\u001b[1;32m     83\u001b[0m \u001b[38;5;66;03m#         AllChem.EmbedMultipleConfs(mol, numConfs=1, useExpTorsionAnglePrefs=True, \u001b[39;00m\n\u001b[1;32m     84\u001b[0m \u001b[38;5;66;03m#                                    useBasicKnowledge=True, enforceChirality=True)\u001b[39;00m\n\u001b[1;32m     85\u001b[0m \u001b[38;5;66;03m#         AllChem.ETKDGv3()\u001b[39;00m\n\u001b[1;32m     86\u001b[0m \u001b[38;5;66;03m#         AllChem.MMFFOptimizeMolecule(mol)\u001b[39;00m\n\u001b[1;32m     87\u001b[0m     \u001b[38;5;28;01melse\u001b[39;00m:\n\u001b[1;32m     88\u001b[0m         \u001b[38;5;28;01mraise\u001b[39;00m \u001b[38;5;167;01mValueError\u001b[39;00m(\u001b[38;5;124m'\u001b[39m\u001b[38;5;124mInvalid method specified\u001b[39m\u001b[38;5;124m'\u001b[39m)\n",
      "\u001b[0;31mValueError\u001b[0m: Bad Conformer Id"
     ]
    }
   ],
   "source": [
    "gnina_df(df)"
   ]
  },
  {
   "cell_type": "code",
   "execution_count": null,
   "id": "f810e2d2-3637-40c3-b4d9-29b38911511c",
   "metadata": {},
   "outputs": [],
   "source": []
  }
 ],
 "metadata": {
  "kernelspec": {
   "display_name": "Python 3",
   "language": "python",
   "name": "python3"
  },
  "language_info": {
   "codemirror_mode": {
    "name": "ipython",
    "version": 3
   },
   "file_extension": ".py",
   "mimetype": "text/x-python",
   "name": "python",
   "nbconvert_exporter": "python",
   "pygments_lexer": "ipython3",
   "version": "3.10.10"
  }
 },
 "nbformat": 4,
 "nbformat_minor": 5
}
