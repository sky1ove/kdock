{
 "cells": [
  {
   "cell_type": "code",
   "execution_count": 1,
   "id": "3bcc3b04-e011-4fcd-b0ea-d741b8f74058",
   "metadata": {},
   "outputs": [],
   "source": [
    "from fastbook import *"
   ]
  },
  {
   "cell_type": "code",
   "execution_count": 2,
   "id": "54f30f62-039f-472d-a7ac-acf5dc96f31f",
   "metadata": {},
   "outputs": [],
   "source": [
    "df = pd.read_csv('gnina_score.csv')"
   ]
  },
  {
   "cell_type": "code",
   "execution_count": 3,
   "id": "a443b32c-db64-4424-a1e9-b3546dcd600a",
   "metadata": {},
   "outputs": [],
   "source": [
    "import seaborn as sns"
   ]
  },
  {
   "cell_type": "code",
   "execution_count": 4,
   "id": "9a59e299-86a6-4dcb-9ae0-9e16cba024a2",
   "metadata": {},
   "outputs": [
    {
     "data": {
      "text/html": [
       "<div>\n",
       "<style scoped>\n",
       "    .dataframe tbody tr th:only-of-type {\n",
       "        vertical-align: middle;\n",
       "    }\n",
       "\n",
       "    .dataframe tbody tr th {\n",
       "        vertical-align: top;\n",
       "    }\n",
       "\n",
       "    .dataframe thead th {\n",
       "        text-align: right;\n",
       "    }\n",
       "</style>\n",
       "<table border=\"1\" class=\"dataframe\">\n",
       "  <thead>\n",
       "    <tr style=\"text-align: right;\">\n",
       "      <th></th>\n",
       "      <th>ID</th>\n",
       "      <th>SMILES</th>\n",
       "      <th>Kd</th>\n",
       "      <th>IC50</th>\n",
       "      <th>erk_IC50</th>\n",
       "      <th>Affinity</th>\n",
       "      <th>CNN_Pose_Score</th>\n",
       "      <th>CNN_Affinity</th>\n",
       "    </tr>\n",
       "  </thead>\n",
       "  <tbody>\n",
       "    <tr>\n",
       "      <th>0</th>\n",
       "      <td>US_1</td>\n",
       "      <td>CN1CCC[C@H]1COc1nc(N2CC3CCC(C2)N3)c2cnc(cc2n1)-c1cc(O)cc2ccccc12</td>\n",
       "      <td>97.7</td>\n",
       "      <td>124.7</td>\n",
       "      <td>3159.1</td>\n",
       "      <td>-11.04</td>\n",
       "      <td>0.8360</td>\n",
       "      <td>8.641</td>\n",
       "    </tr>\n",
       "    <tr>\n",
       "      <th>1</th>\n",
       "      <td>US_4</td>\n",
       "      <td>Oc1cc(-c2ncc3c(nc(OCCc4ccccn4)nc3c2F)N2CC3CCC(C2)N3)c2ccccc2c1</td>\n",
       "      <td>155.7</td>\n",
       "      <td>496.2</td>\n",
       "      <td>8530.0</td>\n",
       "      <td>-10.76</td>\n",
       "      <td>0.5257</td>\n",
       "      <td>8.497</td>\n",
       "    </tr>\n",
       "    <tr>\n",
       "      <th>2</th>\n",
       "      <td>US_5</td>\n",
       "      <td>Cn1nccc1COc1nc(N2CC3CCC(C2)N3)c2cnc(c(F)c2n1)-c1cc(O)cc2ccccc12</td>\n",
       "      <td>294.8</td>\n",
       "      <td>722.9</td>\n",
       "      <td>8193.8</td>\n",
       "      <td>-10.94</td>\n",
       "      <td>0.6343</td>\n",
       "      <td>8.657</td>\n",
       "    </tr>\n",
       "    <tr>\n",
       "      <th>3</th>\n",
       "      <td>US_6</td>\n",
       "      <td>Cc1cccnc1CCOc1nc(N2CC3CCC(C2)N3)c2cnc(c(F)c2n1)-c1cc(O)cc2ccccc12</td>\n",
       "      <td>442.2</td>\n",
       "      <td>434.1</td>\n",
       "      <td>11518.2</td>\n",
       "      <td>-10.70</td>\n",
       "      <td>0.5808</td>\n",
       "      <td>8.573</td>\n",
       "    </tr>\n",
       "    <tr>\n",
       "      <th>4</th>\n",
       "      <td>US_7</td>\n",
       "      <td>Oc1cc(-c2ncc3c(nc(OCCc4ncccn4)nc3c2F)N2CC3CCC(C2)N3)c2ccccc2c1</td>\n",
       "      <td>463.5</td>\n",
       "      <td>1867.3</td>\n",
       "      <td>NaN</td>\n",
       "      <td>-10.58</td>\n",
       "      <td>0.5154</td>\n",
       "      <td>8.531</td>\n",
       "    </tr>\n",
       "    <tr>\n",
       "      <th>...</th>\n",
       "      <td>...</td>\n",
       "      <td>...</td>\n",
       "      <td>...</td>\n",
       "      <td>...</td>\n",
       "      <td>...</td>\n",
       "      <td>...</td>\n",
       "      <td>...</td>\n",
       "      <td>...</td>\n",
       "    </tr>\n",
       "    <tr>\n",
       "      <th>655</th>\n",
       "      <td>paper_23</td>\n",
       "      <td>FC1=C(C2=C(C=CC=C3)C3=CC(O)=C2)N=CC4=C1N=C(OCC56N(CCC6)C(CC5)=O)N=C4N7C[C@@H](CC8)N[C@@H]8C7</td>\n",
       "      <td>NaN</td>\n",
       "      <td>750.5</td>\n",
       "      <td>10000.0</td>\n",
       "      <td>-10.47</td>\n",
       "      <td>0.6446</td>\n",
       "      <td>8.832</td>\n",
       "    </tr>\n",
       "    <tr>\n",
       "      <th>656</th>\n",
       "      <td>paper_22</td>\n",
       "      <td>FC1=C(C2=C(C=CC=C3)C3=CC(O)=C2)N=CC4=C1N=C(OCC5(CCCC6)N6CCC5)N=C4N7C[C@@H](CC8)N[C@@H]8C7</td>\n",
       "      <td>NaN</td>\n",
       "      <td>12.0</td>\n",
       "      <td>650.0</td>\n",
       "      <td>-11.73</td>\n",
       "      <td>0.6263</td>\n",
       "      <td>8.756</td>\n",
       "    </tr>\n",
       "    <tr>\n",
       "      <th>657</th>\n",
       "      <td>paper_35</td>\n",
       "      <td>FC1=C(C2=C(C(F)=C(F)C=C3)C3=CC=C2)N=CC4=C1N=C(OCC56N(CCC6)CCC5)N=C4N7C[C@@H](CC8)N[C@@H]8C7</td>\n",
       "      <td>NaN</td>\n",
       "      <td>7.0</td>\n",
       "      <td>97.0</td>\n",
       "      <td>-11.64</td>\n",
       "      <td>0.7044</td>\n",
       "      <td>9.154</td>\n",
       "    </tr>\n",
       "    <tr>\n",
       "      <th>658</th>\n",
       "      <td>US_56</td>\n",
       "      <td>OC[C@@H](O)COc1nc(N2CC3CCC(C2)N3)c2cnc(c(F)c2n1)-c1cccc2cccc(Cl)c12</td>\n",
       "      <td>13805.3</td>\n",
       "      <td>6024.0</td>\n",
       "      <td>NaN</td>\n",
       "      <td>-10.90</td>\n",
       "      <td>0.7041</td>\n",
       "      <td>8.599</td>\n",
       "    </tr>\n",
       "    <tr>\n",
       "      <th>659</th>\n",
       "      <td>US_66</td>\n",
       "      <td>Fc1c(ncc2c(nc(OC[C@@]34CCCN3C(CCl)CC4)nc12)N1CC2CCC(C1)N2)-c1cccc2cccc(Cl)c12</td>\n",
       "      <td>NaN</td>\n",
       "      <td>273.8</td>\n",
       "      <td>1332.6</td>\n",
       "      <td>-11.45</td>\n",
       "      <td>0.7100</td>\n",
       "      <td>9.030</td>\n",
       "    </tr>\n",
       "  </tbody>\n",
       "</table>\n",
       "<p>660 rows × 8 columns</p>\n",
       "</div>"
      ],
      "text/plain": [
       "           ID  \\\n",
       "0        US_1   \n",
       "1        US_4   \n",
       "2        US_5   \n",
       "3        US_6   \n",
       "4        US_7   \n",
       "..        ...   \n",
       "655  paper_23   \n",
       "656  paper_22   \n",
       "657  paper_35   \n",
       "658     US_56   \n",
       "659     US_66   \n",
       "\n",
       "                                                                                           SMILES  \\\n",
       "0                                CN1CCC[C@H]1COc1nc(N2CC3CCC(C2)N3)c2cnc(cc2n1)-c1cc(O)cc2ccccc12   \n",
       "1                                  Oc1cc(-c2ncc3c(nc(OCCc4ccccn4)nc3c2F)N2CC3CCC(C2)N3)c2ccccc2c1   \n",
       "2                                 Cn1nccc1COc1nc(N2CC3CCC(C2)N3)c2cnc(c(F)c2n1)-c1cc(O)cc2ccccc12   \n",
       "3                               Cc1cccnc1CCOc1nc(N2CC3CCC(C2)N3)c2cnc(c(F)c2n1)-c1cc(O)cc2ccccc12   \n",
       "4                                  Oc1cc(-c2ncc3c(nc(OCCc4ncccn4)nc3c2F)N2CC3CCC(C2)N3)c2ccccc2c1   \n",
       "..                                                                                            ...   \n",
       "655  FC1=C(C2=C(C=CC=C3)C3=CC(O)=C2)N=CC4=C1N=C(OCC56N(CCC6)C(CC5)=O)N=C4N7C[C@@H](CC8)N[C@@H]8C7   \n",
       "656     FC1=C(C2=C(C=CC=C3)C3=CC(O)=C2)N=CC4=C1N=C(OCC5(CCCC6)N6CCC5)N=C4N7C[C@@H](CC8)N[C@@H]8C7   \n",
       "657   FC1=C(C2=C(C(F)=C(F)C=C3)C3=CC=C2)N=CC4=C1N=C(OCC56N(CCC6)CCC5)N=C4N7C[C@@H](CC8)N[C@@H]8C7   \n",
       "658                           OC[C@@H](O)COc1nc(N2CC3CCC(C2)N3)c2cnc(c(F)c2n1)-c1cccc2cccc(Cl)c12   \n",
       "659                 Fc1c(ncc2c(nc(OC[C@@]34CCCN3C(CCl)CC4)nc12)N1CC2CCC(C1)N2)-c1cccc2cccc(Cl)c12   \n",
       "\n",
       "          Kd    IC50  erk_IC50  Affinity  CNN_Pose_Score  CNN_Affinity  \n",
       "0       97.7   124.7    3159.1    -11.04          0.8360         8.641  \n",
       "1      155.7   496.2    8530.0    -10.76          0.5257         8.497  \n",
       "2      294.8   722.9    8193.8    -10.94          0.6343         8.657  \n",
       "3      442.2   434.1   11518.2    -10.70          0.5808         8.573  \n",
       "4      463.5  1867.3       NaN    -10.58          0.5154         8.531  \n",
       "..       ...     ...       ...       ...             ...           ...  \n",
       "655      NaN   750.5   10000.0    -10.47          0.6446         8.832  \n",
       "656      NaN    12.0     650.0    -11.73          0.6263         8.756  \n",
       "657      NaN     7.0      97.0    -11.64          0.7044         9.154  \n",
       "658  13805.3  6024.0       NaN    -10.90          0.7041         8.599  \n",
       "659      NaN   273.8    1332.6    -11.45          0.7100         9.030  \n",
       "\n",
       "[660 rows x 8 columns]"
      ]
     },
     "execution_count": 4,
     "metadata": {},
     "output_type": "execute_result"
    }
   ],
   "source": [
    "df"
   ]
  },
  {
   "cell_type": "code",
   "execution_count": 7,
   "id": "9762781d-1a1e-49cc-afaa-b17e8b1e797f",
   "metadata": {},
   "outputs": [],
   "source": [
    "df2 = df.query('IC50 < 10000')"
   ]
  },
  {
   "cell_type": "code",
   "execution_count": 10,
   "id": "da060033-9258-43d1-9647-9ebb2bf31f9e",
   "metadata": {
    "tags": []
   },
   "outputs": [
    {
     "name": "stderr",
     "output_type": "stream",
     "text": [
      "/usr/local/lib/python3.9/dist-packages/seaborn/_decorators.py:36: FutureWarning: Pass the following variables as keyword args: x, y. From version 0.12, the only valid positional argument will be `data`, and passing other arguments without an explicit keyword will result in an error or misinterpretation.\n",
      "  warnings.warn(\n"
     ]
    },
    {
     "data": {
      "text/plain": [
       "<AxesSubplot:xlabel='CNN_Affinity', ylabel='IC50'>"
      ]
     },
     "execution_count": 10,
     "metadata": {},
     "output_type": "execute_result"
    },
    {
     "data": {
      "image/png": "[encoded data removed]",
      "text/plain": [
       "<Figure size 432x288 with 1 Axes>"
      ]
     },
     "metadata": {
      "needs_background": "light"
     },
     "output_type": "display_data"
    }
   ],
   "source": [
    "sns.scatterplot(np.exp(df2.CNN_Affinity), np.log(df2.IC50))"
   ]
  },
  {
   "cell_type": "code",
   "execution_count": 20,
   "id": "2f73559b-d70d-4d7f-92b4-84746721a337",
   "metadata": {},
   "outputs": [],
   "source": [
    "df3 = df.query('0<Kd<150000')"
   ]
  },
  {
   "cell_type": "code",
   "execution_count": 21,
   "id": "338fe73f-60ef-4413-abd9-708809aff44b",
   "metadata": {},
   "outputs": [
    {
     "name": "stderr",
     "output_type": "stream",
     "text": [
      "/usr/local/lib/python3.9/dist-packages/seaborn/_decorators.py:36: FutureWarning: Pass the following variables as keyword args: x, y. From version 0.12, the only valid positional argument will be `data`, and passing other arguments without an explicit keyword will result in an error or misinterpretation.\n",
      "  warnings.warn(\n"
     ]
    },
    {
     "data": {
      "text/plain": [
       "<AxesSubplot:xlabel='CNN_Affinity', ylabel='Kd'>"
      ]
     },
     "execution_count": 21,
     "metadata": {},
     "output_type": "execute_result"
    },
    {
     "data": {
      "image/png": "[encoded data removed]",
      "text/plain": [
       "<Figure size 432x288 with 1 Axes>"
      ]
     },
     "metadata": {
      "needs_background": "light"
     },
     "output_type": "display_data"
    }
   ],
   "source": [
    "sns.scatterplot(np.exp(df3.CNN_Affinity), np.log(df3.Kd))"
   ]
  },
  {
   "cell_type": "code",
   "execution_count": 27,
   "id": "72402f31-520c-4e86-b1cc-2f3cff039f84",
   "metadata": {},
   "outputs": [],
   "source": [
    "df4 = df.query('erk_IC50 < 16666')"
   ]
  },
  {
   "cell_type": "code",
   "execution_count": 29,
   "id": "62bc152b-070f-4870-8b4a-00ad21abc9fa",
   "metadata": {},
   "outputs": [
    {
     "name": "stderr",
     "output_type": "stream",
     "text": [
      "/usr/local/lib/python3.9/dist-packages/seaborn/_decorators.py:36: FutureWarning: Pass the following variables as keyword args: x, y. From version 0.12, the only valid positional argument will be `data`, and passing other arguments without an explicit keyword will result in an error or misinterpretation.\n",
      "  warnings.warn(\n"
     ]
    },
    {
     "data": {
      "image/png": "[encoded data removed]",
      "text/plain": [
       "<Figure size 432x288 with 1 Axes>"
      ]
     },
     "metadata": {
      "needs_background": "light"
     },
     "output_type": "display_data"
    }
   ],
   "source": [
    "sns.scatterplot(np.exp(df4.CNN_Affinity), np.log(df4.erk_IC50));"
   ]
  },
  {
   "cell_type": "code",
   "execution_count": 11,
   "id": "2c3b1e43-bcf8-41ea-9b35-aa1468186f0f",
   "metadata": {},
   "outputs": [],
   "source": [
    "from scipy.stats import spearmanr"
   ]
  },
  {
   "cell_type": "code",
   "execution_count": 25,
   "id": "ea76d6fc-a5d1-4b41-8db7-70b7e246165e",
   "metadata": {},
   "outputs": [
    {
     "data": {
      "text/plain": [
       "SpearmanrResult(correlation=-0.3085570979044274, pvalue=2.9773466330673846e-15)"
      ]
     },
     "execution_count": 25,
     "metadata": {},
     "output_type": "execute_result"
    }
   ],
   "source": [
    "spearmanr(df2.IC50, df2.CNN_Affinity)"
   ]
  },
  {
   "cell_type": "code",
   "execution_count": 26,
   "id": "b5119736-93dc-4f1f-8852-0b7415cef2ed",
   "metadata": {},
   "outputs": [
    {
     "data": {
      "text/plain": [
       "SpearmanrResult(correlation=-0.28700985870602796, pvalue=2.5160532064864094e-05)"
      ]
     },
     "execution_count": 26,
     "metadata": {},
     "output_type": "execute_result"
    }
   ],
   "source": [
    "spearmanr(df3.Kd, df3.CNN_Affinity)"
   ]
  },
  {
   "cell_type": "code",
   "execution_count": 30,
   "id": "a9266873-e665-4857-8e2e-84525389fa5c",
   "metadata": {},
   "outputs": [
    {
     "data": {
      "text/plain": [
       "SpearmanrResult(correlation=-0.37755900350810656, pvalue=1.8857149598554605e-12)"
      ]
     },
     "execution_count": 30,
     "metadata": {},
     "output_type": "execute_result"
    }
   ],
   "source": [
    "spearmanr(df4.erk_IC50, df4.CNN_Affinity)"
   ]
  },
  {
   "cell_type": "code",
   "execution_count": 34,
   "id": "0c6b4799-d59f-46d4-b89a-eff6540ce89d",
   "metadata": {},
   "outputs": [],
   "source": [
    "from sklearn.metrics import roc_curve, auc"
   ]
  },
  {
   "cell_type": "code",
   "execution_count": 35,
   "id": "e696ec94-3989-48a3-8d20-485a77801c2f",
   "metadata": {},
   "outputs": [
    {
     "data": {
      "text/html": [
       "<div>\n",
       "<style scoped>\n",
       "    .dataframe tbody tr th:only-of-type {\n",
       "        vertical-align: middle;\n",
       "    }\n",
       "\n",
       "    .dataframe tbody tr th {\n",
       "        vertical-align: top;\n",
       "    }\n",
       "\n",
       "    .dataframe thead th {\n",
       "        text-align: right;\n",
       "    }\n",
       "</style>\n",
       "<table border=\"1\" class=\"dataframe\">\n",
       "  <thead>\n",
       "    <tr style=\"text-align: right;\">\n",
       "      <th></th>\n",
       "      <th>ID</th>\n",
       "      <th>SMILES</th>\n",
       "      <th>Kd</th>\n",
       "      <th>IC50</th>\n",
       "      <th>erk_IC50</th>\n",
       "      <th>Affinity</th>\n",
       "      <th>CNN_Pose_Score</th>\n",
       "      <th>CNN_Affinity</th>\n",
       "    </tr>\n",
       "  </thead>\n",
       "  <tbody>\n",
       "    <tr>\n",
       "      <th>0</th>\n",
       "      <td>US_1</td>\n",
       "      <td>CN1CCC[C@H]1COc1nc(N2CC3CCC(C2)N3)c2cnc(cc2n1)-c1cc(O)cc2ccccc12</td>\n",
       "      <td>97.7</td>\n",
       "      <td>124.7</td>\n",
       "      <td>3159.1</td>\n",
       "      <td>-11.04</td>\n",
       "      <td>0.8360</td>\n",
       "      <td>8.641</td>\n",
       "    </tr>\n",
       "    <tr>\n",
       "      <th>1</th>\n",
       "      <td>US_4</td>\n",
       "      <td>Oc1cc(-c2ncc3c(nc(OCCc4ccccn4)nc3c2F)N2CC3CCC(C2)N3)c2ccccc2c1</td>\n",
       "      <td>155.7</td>\n",
       "      <td>496.2</td>\n",
       "      <td>8530.0</td>\n",
       "      <td>-10.76</td>\n",
       "      <td>0.5257</td>\n",
       "      <td>8.497</td>\n",
       "    </tr>\n",
       "    <tr>\n",
       "      <th>2</th>\n",
       "      <td>US_5</td>\n",
       "      <td>Cn1nccc1COc1nc(N2CC3CCC(C2)N3)c2cnc(c(F)c2n1)-c1cc(O)cc2ccccc12</td>\n",
       "      <td>294.8</td>\n",
       "      <td>722.9</td>\n",
       "      <td>8193.8</td>\n",
       "      <td>-10.94</td>\n",
       "      <td>0.6343</td>\n",
       "      <td>8.657</td>\n",
       "    </tr>\n",
       "    <tr>\n",
       "      <th>3</th>\n",
       "      <td>US_6</td>\n",
       "      <td>Cc1cccnc1CCOc1nc(N2CC3CCC(C2)N3)c2cnc(c(F)c2n1)-c1cc(O)cc2ccccc12</td>\n",
       "      <td>442.2</td>\n",
       "      <td>434.1</td>\n",
       "      <td>11518.2</td>\n",
       "      <td>-10.70</td>\n",
       "      <td>0.5808</td>\n",
       "      <td>8.573</td>\n",
       "    </tr>\n",
       "    <tr>\n",
       "      <th>4</th>\n",
       "      <td>US_7</td>\n",
       "      <td>Oc1cc(-c2ncc3c(nc(OCCc4ncccn4)nc3c2F)N2CC3CCC(C2)N3)c2ccccc2c1</td>\n",
       "      <td>463.5</td>\n",
       "      <td>1867.3</td>\n",
       "      <td>NaN</td>\n",
       "      <td>-10.58</td>\n",
       "      <td>0.5154</td>\n",
       "      <td>8.531</td>\n",
       "    </tr>\n",
       "    <tr>\n",
       "      <th>...</th>\n",
       "      <td>...</td>\n",
       "      <td>...</td>\n",
       "      <td>...</td>\n",
       "      <td>...</td>\n",
       "      <td>...</td>\n",
       "      <td>...</td>\n",
       "      <td>...</td>\n",
       "      <td>...</td>\n",
       "    </tr>\n",
       "    <tr>\n",
       "      <th>655</th>\n",
       "      <td>paper_23</td>\n",
       "      <td>FC1=C(C2=C(C=CC=C3)C3=CC(O)=C2)N=CC4=C1N=C(OCC56N(CCC6)C(CC5)=O)N=C4N7C[C@@H](CC8)N[C@@H]8C7</td>\n",
       "      <td>NaN</td>\n",
       "      <td>750.5</td>\n",
       "      <td>10000.0</td>\n",
       "      <td>-10.47</td>\n",
       "      <td>0.6446</td>\n",
       "      <td>8.832</td>\n",
       "    </tr>\n",
       "    <tr>\n",
       "      <th>656</th>\n",
       "      <td>paper_22</td>\n",
       "      <td>FC1=C(C2=C(C=CC=C3)C3=CC(O)=C2)N=CC4=C1N=C(OCC5(CCCC6)N6CCC5)N=C4N7C[C@@H](CC8)N[C@@H]8C7</td>\n",
       "      <td>NaN</td>\n",
       "      <td>12.0</td>\n",
       "      <td>650.0</td>\n",
       "      <td>-11.73</td>\n",
       "      <td>0.6263</td>\n",
       "      <td>8.756</td>\n",
       "    </tr>\n",
       "    <tr>\n",
       "      <th>657</th>\n",
       "      <td>paper_35</td>\n",
       "      <td>FC1=C(C2=C(C(F)=C(F)C=C3)C3=CC=C2)N=CC4=C1N=C(OCC56N(CCC6)CCC5)N=C4N7C[C@@H](CC8)N[C@@H]8C7</td>\n",
       "      <td>NaN</td>\n",
       "      <td>7.0</td>\n",
       "      <td>97.0</td>\n",
       "      <td>-11.64</td>\n",
       "      <td>0.7044</td>\n",
       "      <td>9.154</td>\n",
       "    </tr>\n",
       "    <tr>\n",
       "      <th>658</th>\n",
       "      <td>US_56</td>\n",
       "      <td>OC[C@@H](O)COc1nc(N2CC3CCC(C2)N3)c2cnc(c(F)c2n1)-c1cccc2cccc(Cl)c12</td>\n",
       "      <td>13805.3</td>\n",
       "      <td>6024.0</td>\n",
       "      <td>NaN</td>\n",
       "      <td>-10.90</td>\n",
       "      <td>0.7041</td>\n",
       "      <td>8.599</td>\n",
       "    </tr>\n",
       "    <tr>\n",
       "      <th>659</th>\n",
       "      <td>US_66</td>\n",
       "      <td>Fc1c(ncc2c(nc(OC[C@@]34CCCN3C(CCl)CC4)nc12)N1CC2CCC(C1)N2)-c1cccc2cccc(Cl)c12</td>\n",
       "      <td>NaN</td>\n",
       "      <td>273.8</td>\n",
       "      <td>1332.6</td>\n",
       "      <td>-11.45</td>\n",
       "      <td>0.7100</td>\n",
       "      <td>9.030</td>\n",
       "    </tr>\n",
       "  </tbody>\n",
       "</table>\n",
       "<p>660 rows × 8 columns</p>\n",
       "</div>"
      ],
      "text/plain": [
       "           ID  \\\n",
       "0        US_1   \n",
       "1        US_4   \n",
       "2        US_5   \n",
       "3        US_6   \n",
       "4        US_7   \n",
       "..        ...   \n",
       "655  paper_23   \n",
       "656  paper_22   \n",
       "657  paper_35   \n",
       "658     US_56   \n",
       "659     US_66   \n",
       "\n",
       "                                                                                           SMILES  \\\n",
       "0                                CN1CCC[C@H]1COc1nc(N2CC3CCC(C2)N3)c2cnc(cc2n1)-c1cc(O)cc2ccccc12   \n",
       "1                                  Oc1cc(-c2ncc3c(nc(OCCc4ccccn4)nc3c2F)N2CC3CCC(C2)N3)c2ccccc2c1   \n",
       "2                                 Cn1nccc1COc1nc(N2CC3CCC(C2)N3)c2cnc(c(F)c2n1)-c1cc(O)cc2ccccc12   \n",
       "3                               Cc1cccnc1CCOc1nc(N2CC3CCC(C2)N3)c2cnc(c(F)c2n1)-c1cc(O)cc2ccccc12   \n",
       "4                                  Oc1cc(-c2ncc3c(nc(OCCc4ncccn4)nc3c2F)N2CC3CCC(C2)N3)c2ccccc2c1   \n",
       "..                                                                                            ...   \n",
       "655  FC1=C(C2=C(C=CC=C3)C3=CC(O)=C2)N=CC4=C1N=C(OCC56N(CCC6)C(CC5)=O)N=C4N7C[C@@H](CC8)N[C@@H]8C7   \n",
       "656     FC1=C(C2=C(C=CC=C3)C3=CC(O)=C2)N=CC4=C1N=C(OCC5(CCCC6)N6CCC5)N=C4N7C[C@@H](CC8)N[C@@H]8C7   \n",
       "657   FC1=C(C2=C(C(F)=C(F)C=C3)C3=CC=C2)N=CC4=C1N=C(OCC56N(CCC6)CCC5)N=C4N7C[C@@H](CC8)N[C@@H]8C7   \n",
       "658                           OC[C@@H](O)COc1nc(N2CC3CCC(C2)N3)c2cnc(c(F)c2n1)-c1cccc2cccc(Cl)c12   \n",
       "659                 Fc1c(ncc2c(nc(OC[C@@]34CCCN3C(CCl)CC4)nc12)N1CC2CCC(C1)N2)-c1cccc2cccc(Cl)c12   \n",
       "\n",
       "          Kd    IC50  erk_IC50  Affinity  CNN_Pose_Score  CNN_Affinity  \n",
       "0       97.7   124.7    3159.1    -11.04          0.8360         8.641  \n",
       "1      155.7   496.2    8530.0    -10.76          0.5257         8.497  \n",
       "2      294.8   722.9    8193.8    -10.94          0.6343         8.657  \n",
       "3      442.2   434.1   11518.2    -10.70          0.5808         8.573  \n",
       "4      463.5  1867.3       NaN    -10.58          0.5154         8.531  \n",
       "..       ...     ...       ...       ...             ...           ...  \n",
       "655      NaN   750.5   10000.0    -10.47          0.6446         8.832  \n",
       "656      NaN    12.0     650.0    -11.73          0.6263         8.756  \n",
       "657      NaN     7.0      97.0    -11.64          0.7044         9.154  \n",
       "658  13805.3  6024.0       NaN    -10.90          0.7041         8.599  \n",
       "659      NaN   273.8    1332.6    -11.45          0.7100         9.030  \n",
       "\n",
       "[660 rows x 8 columns]"
      ]
     },
     "execution_count": 35,
     "metadata": {},
     "output_type": "execute_result"
    }
   ],
   "source": [
    "df"
   ]
  },
  {
   "cell_type": "code",
   "execution_count": null,
   "id": "4ddf850f-d876-4aec-a47e-0a6d3c3fcf2a",
   "metadata": {},
   "outputs": [],
   "source": []
  }
 ],
 "metadata": {
  "kernelspec": {
   "display_name": "Python 3",
   "language": "python",
   "name": "python3"
  },
  "language_info": {
   "codemirror_mode": {
    "name": "ipython",
    "version": 3
   },
   "file_extension": ".py",
   "mimetype": "text/x-python",
   "name": "python",
   "nbconvert_exporter": "python",
   "pygments_lexer": "ipython3",
   "version": "3.9.13"
  }
 },
 "nbformat": 4,
 "nbformat_minor": 5
}
