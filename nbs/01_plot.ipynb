{
 "cells": [
  {
   "cell_type": "markdown",
   "metadata": {},
   "source": [
    "# Plot\n",
    "\n",
    "> A collection of plot functions"
   ]
  },
  {
   "cell_type": "code",
   "execution_count": 1,
   "metadata": {},
   "outputs": [],
   "source": [
    "#| default_exp plot"
   ]
  },
  {
   "cell_type": "code",
   "execution_count": 3,
   "metadata": {},
   "outputs": [],
   "source": [
    "#| export\n",
    "import pandas as pd\n",
    "import seaborn as sns\n",
    "\n",
    "#for embeddings\n",
    "from sklearn.decomposition import PCA\n",
    "from sklearn.manifold import TSNE\n",
    "from umap.umap_ import UMAP\n",
    "\n",
    "# kdock\n",
    "from kdock.core import Data"
   ]
  },
  {
   "cell_type": "code",
   "execution_count": 4,
   "metadata": {},
   "outputs": [],
   "source": [
    "#| export\n",
    "def set_sns():\n",
    "    sns.set(rc={\"figure.dpi\":300, 'savefig.dpi':300})\n",
    "    sns.set_context('notebook')\n",
    "    sns.set_style(\"ticks\")"
   ]
  },
  {
   "cell_type": "code",
   "execution_count": 5,
   "metadata": {},
   "outputs": [],
   "source": [
    "#| export\n",
    "def reduce_feature(df: pd.DataFrame, \n",
    "                   method='pca', # dimensionality reduction method, accept both capital and lower case\n",
    "                   complexity=20, # None for PCA; perfplexity for TSNE, recommend: 30; n_neigbors for UMAP, recommend: 15\n",
    "                   n=2, # n_components\n",
    "                   seed: int=123, # seed for random_state\n",
    "                   **kwargs, # arguments from PCA, TSNE, or UMAP depends on which method to use\n",
    "                  ):\n",
    "    \n",
    "    \"Reduce the dimensionality given a dataframe of values\"\n",
    "    \n",
    "    method = method.lower()\n",
    "    assert method in ['pca','tsne','umap'], \"Please choose a method among PCA, TSNE, and UMAP\"\n",
    "    \n",
    "    if load is not None:\n",
    "        reducer = joblib.load(load)\n",
    "    else:\n",
    "        if method == 'pca':\n",
    "            reducer = PCA(n_components=n, random_state=seed,**kwargs)\n",
    "        elif method == 'tsne':\n",
    "            reducer = TSNE(n_components=n,\n",
    "                           random_state=seed, \n",
    "                           perplexity = complexity, # default from official is 30 \n",
    "                          **kwargs)\n",
    "        elif method == 'umap':\n",
    "            reducer = UMAP(n_components=n, \n",
    "                           random_state=seed, \n",
    "                           n_neighbors=complexity, # default from official is 15, try 15-200\n",
    "                          **kwargs)\n",
    "        else:\n",
    "            raise ValueError('Invalid method specified')\n",
    "\n",
    "    proj = reducer.fit_transform(df)\n",
    "    embedding_df = pd.DataFrame(proj).set_index(df.index)\n",
    "    embedding_df.columns = [f\"{method.upper()}{i}\" for i in range(1, n + 1)]\n",
    "\n",
    "    return embedding_df"
   ]
  },
  {
   "cell_type": "code",
   "execution_count": null,
   "metadata": {},
   "outputs": [],
   "source": [
    "#| export\n",
    "@delegates(sns.scatterplot)\n",
    "def plot_2d(X: pd.DataFrame, # a dataframe that has first column to be x, and second column to be y\n",
    "            **kwargs, # arguments for sns.scatterplot\n",
    "            ):\n",
    "    \"Make 2D plot from a dataframe that has first column to be x, and second column to be y\"\n",
    "    plt.figure(figsize=(7,7))\n",
    "    sns.scatterplot(data = X,x=X.columns[0],y=X.columns[1],alpha=0.7,**kwargs)"
   ]
  },
  {
   "cell_type": "code",
   "execution_count": 9,
   "metadata": {},
   "outputs": [],
   "source": [
    "df = Data.get_mirati_g12d()"
   ]
  },
  {
   "cell_type": "code",
   "execution_count": 10,
   "metadata": {},
   "outputs": [
    {
     "data": {
      "text/plain": [
       "(722, 10)"
      ]
     },
     "execution_count": 10,
     "metadata": {},
     "output_type": "execute_result"
    }
   ],
   "source": [
    "df.shape"
   ]
  },
  {
   "cell_type": "code",
   "execution_count": 11,
   "metadata": {},
   "outputs": [],
   "source": [
    "prop_std = get_rdkit_df(df,normalize=True)"
   ]
  },
  {
   "cell_type": "code",
   "execution_count": null,
   "metadata": {},
   "outputs": [],
   "source": [
    "plot_cluster(prop_std,method = 'umap', hue = df.group,legend=True)"
   ]
  },
  {
   "cell_type": "code",
   "execution_count": null,
   "metadata": {},
   "outputs": [],
   "source": [
    "#| export\n",
    "def plot_corr(x,#a column of df\n",
    "              y,#a column of df\n",
    "              xlabel=None,# x axis label\n",
    "              ylabel=None,# y axis label\n",
    "              order=3, # polynomial level, if straight, order=1 \n",
    "             ):\n",
    "    correlation, pvalue = spearmanr(x, y)\n",
    "    sns.regplot(x=x,\n",
    "            y=y,\n",
    "            order=order,\n",
    "            line_kws={'color': 'gray'}\n",
    "           )\n",
    "    \n",
    "    if xlabel is not None:\n",
    "        plt.xlabel(xlabel)\n",
    "        \n",
    "    if ylabel is not None:\n",
    "        plt.ylabel(ylabel)\n",
    "\n",
    "    plt.text(x=0.8, y=0.1, s=f'Spearman: {correlation:.2f}', transform=plt.gca().transAxes, ha='center', va='center');"
   ]
  },
  {
   "cell_type": "code",
   "execution_count": 7,
   "metadata": {},
   "outputs": [],
   "source": [
    "#| hide\n",
    "import nbdev; nbdev.nbdev_export()"
   ]
  },
  {
   "cell_type": "code",
   "execution_count": null,
   "metadata": {},
   "outputs": [],
   "source": []
  }
 ],
 "metadata": {
  "kernelspec": {
   "display_name": "Python 3",
   "language": "python",
   "name": "python3"
  },
  "language_info": {
   "codemirror_mode": {
    "name": "ipython",
    "version": 3
   },
   "file_extension": ".py",
   "mimetype": "text/x-python",
   "name": "python",
   "nbconvert_exporter": "python",
   "pygments_lexer": "ipython3",
   "version": "3.10.10"
  }
 },
 "nbformat": 4,
 "nbformat_minor": 4
}
