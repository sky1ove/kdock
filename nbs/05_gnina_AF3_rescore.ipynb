{
 "cells": [
  {
   "cell_type": "markdown",
   "id": "54bded75-33c7-4813-94ab-d1fd80c64054",
   "metadata": {},
   "source": [
    "# AF3 rescore with gnina"
   ]
  },
  {
   "cell_type": "markdown",
   "id": "82e907ff-6b1b-4565-873e-fac698bbc0c8",
   "metadata": {},
   "source": [
    "## Setup"
   ]
  },
  {
   "cell_type": "code",
   "execution_count": null,
   "id": "e51ec282-de8a-48f3-8e14-3e032cb3912a",
   "metadata": {},
   "outputs": [],
   "source": [
    "#| default_exp gnina_rescore"
   ]
  },
  {
   "cell_type": "code",
   "execution_count": null,
   "id": "37eb344f-6e5c-4350-b0fd-962340a4bf0d",
   "metadata": {},
   "outputs": [],
   "source": [
    "#| export\n",
    "import pandas as pd\n",
    "import re, os, subprocess, py3Dmol\n",
    "from Bio.PDB import MMCIFParser, PDBIO, Select\n",
    "from rdkit import Chem\n",
    "from rdkit.Chem import AllChem\n",
    "from pathlib import Path\n",
    "from fastcore.all import L\n",
    "from tqdm.contrib.concurrent import process_map\n",
    "from functools import partial"
   ]
  },
  {
   "cell_type": "markdown",
   "id": "f9e107bb-2775-4aad-833f-507cbfa33cd2",
   "metadata": {},
   "source": [
    "## Split the AF3 output .cif into protein.pdb and ligand.sdf"
   ]
  },
  {
   "cell_type": "code",
   "execution_count": null,
   "id": "2e53d110-a6a6-4d46-8b04-9e7a76069995",
   "metadata": {},
   "outputs": [],
   "source": [
    "#| export\n",
    "class ChainSelect(Select):\n",
    "    \"Select chain to save\"\n",
    "    def __init__(self, chain_ids):\n",
    "        self.chain_ids = chain_ids\n",
    "    def accept_chain(self, chain):\n",
    "        return chain.get_id() in self.chain_ids"
   ]
  },
  {
   "cell_type": "code",
   "execution_count": null,
   "id": "44e31366-70c4-4b9a-9e27-603442683fed",
   "metadata": {},
   "outputs": [],
   "source": [
    "#| export\n",
    "def rename_residues(structure, chain_id, new_resname='LIG'):\n",
    "    \"Rename residue name from LIG_L to LIG as LIG_L exceeds lengths and leads to error in RDKit\"\n",
    "    for model in structure:\n",
    "        for chain in model:\n",
    "            if chain.id == chain_id:\n",
    "                for residue in chain:\n",
    "                    residue.resname = new_resname"
   ]
  },
  {
   "cell_type": "code",
   "execution_count": null,
   "id": "a760f9d5-7aba-47fc-b47f-593a862587f9",
   "metadata": {},
   "outputs": [],
   "source": [
    "#| export\n",
    "def split_cif(cif_path, chainA_pdb_path, chainL_pdb_path):\n",
    "    \"Split AF3 output CIF to protein and ligand PDBs\"\n",
    "    parser = MMCIFParser(QUIET=True)\n",
    "    structure = parser.get_structure('complex', cif_path)\n",
    "    rename_residues(structure, chain_id='L', new_resname='LIG')\n",
    "    io = PDBIO()\n",
    "    io.set_structure(structure)\n",
    "    io.save(str(chainA_pdb_path), ChainSelect('A'))  # receptor\n",
    "    io.save(str(chainL_pdb_path), ChainSelect('L'))  # ligand"
   ]
  },
  {
   "cell_type": "code",
   "execution_count": null,
   "id": "ecf8c5a3-84e5-4c96-a97a-1f22e1d52b4e",
   "metadata": {},
   "outputs": [],
   "source": [
    "#| export\n",
    "def pdb2sdf(pdb_path, sdf_path):\n",
    "    \"Convert ligand pdb to sdf file\"\n",
    "    mol = Chem.MolFromPDBFile(pdb_path, sanitize=True, removeHs=False)\n",
    "    if mol:\n",
    "        writer = Chem.SDWriter(sdf_path)\n",
    "        writer.write(mol)\n",
    "        writer.close()\n",
    "        return None\n",
    "    else:\n",
    "        print('Conversion failed for:', pdb_path)\n",
    "        return pdb_path"
   ]
  },
  {
   "cell_type": "code",
   "execution_count": null,
   "id": "223e66d6-f08e-4af8-96f9-cf2a78e9dfc1",
   "metadata": {},
   "outputs": [],
   "source": [
    "#| export\n",
    "def prepare_rec_lig(cif_path, chainA_pdb_path, chainL_sdf_path):\n",
    "    \"Split AF3 cif to protein.pdb (chainA) and ligand.sdf (chainL) \"\n",
    "    \n",
    "    tmp_name = Path(cif_path).stem\n",
    "    tmp_path = f'{tmp_name}_lig.pdb'\n",
    "    split_cif(cif_path, chainA_pdb_path, tmp_path)\n",
    "    failed = pdb2sdf(tmp_path, chainL_sdf_path)\n",
    "    try:\n",
    "        os.remove(tmp_path)\n",
    "    except OSError:\n",
    "        pass\n",
    "    return failed"
   ]
  },
  {
   "cell_type": "code",
   "execution_count": null,
   "id": "72f20dcf-b26c-411f-88e1-783168394174",
   "metadata": {},
   "outputs": [],
   "source": [
    "prepare_rec_lig('gnina_test/cif/test.cif','gnina_test/chain_A.pdb','gnina_test/chain_L.sdf')"
   ]
  },
  {
   "cell_type": "markdown",
   "id": "44a592c1-2fc0-485f-8ad1-5552c4cccd04",
   "metadata": {},
   "source": [
    "## gnina score"
   ]
  },
  {
   "cell_type": "markdown",
   "id": "d4ee8443-2f1b-4e46-a521-7fbb7b705a77",
   "metadata": {},
   "source": [
    "According to [gnina doc](https://github.com/gnina/gnina?tab=readme-ov-file):"
   ]
  },
  {
   "cell_type": "markdown",
   "id": "bb3e52d9-3f89-4998-aea7-7d1bef18dc6b",
   "metadata": {},
   "source": [
    "```bash\n",
    "gnina -r chain_A.pdb -l chain_L.sdf --minimize -o minimized.sdf.gz\n",
    "```"
   ]
  },
  {
   "cell_type": "code",
   "execution_count": null,
   "id": "e2d3a635-ce64-4e0a-a235-e659f191121f",
   "metadata": {},
   "outputs": [],
   "source": [
    "#| export\n",
    "def gnina_rescore_local(protein_pdb, # receptor file\n",
    "                  ligand_sdf, # ligand file\n",
    "                  ):\n",
    "    \n",
    "    command = ['./gnina', \n",
    "               '-r', protein_pdb, \n",
    "               '-l', ligand_sdf, \n",
    "               '--minimize']\n",
    "\n",
    "    result = subprocess.run(command, capture_output=True, text=True)\n",
    "    return result.stdout"
   ]
  },
  {
   "cell_type": "code",
   "execution_count": null,
   "id": "b07e9d92-9e4c-4199-9606-c06865d2f8e7",
   "metadata": {},
   "outputs": [
    {
     "name": "stdout",
     "output_type": "stream",
     "text": [
      "CPU times: user 2.42 ms, sys: 417 µs, total: 2.83 ms\n",
      "Wall time: 4.43 s\n"
     ]
    },
    {
     "data": {
      "text/plain": [
       "\"              _             \\n             (_)            \\n   __ _ _ __  _ _ __   __ _ \\n  / _` | '_ \\\\| | '_ \\\\ / _` |\\n | (_| | | | | | | | | (_| |\\n  \\\\__, |_| |_|_|_| |_|\\\\__,_|\\n   __/ |                    \\n  |___/                     \\n\\ngnina v1.1 master:e4cb380+   Built Dec 18 2023.\\ngnina is based on smina and AutoDock Vina.\\nPlease cite appropriately.\\n\\nWARNING: No GPU detected. CNN scoring will be slow.\\nRecommend running with single model (--cnn crossdock_default2018)\\nor without cnn scoring (--cnn_scoring=none).\\n\\nCommandline: ./gnina -r gnina_test/chain_A.pdb -l gnina_test/chain_L.sdf --minimize\\nAffinity: -10.96345  -1.51405 (kcal/mol)\\nRMSD: 1.15404\\nCNNscore: 0.50439 \\nCNNaffinity: 7.30706\\nCNNvariance: 0.17173\\n\""
      ]
     },
     "execution_count": null,
     "metadata": {},
     "output_type": "execute_result"
    }
   ],
   "source": [
    "# %%time\n",
    "# out = gnina_rescore_local('gnina_test/chain_A.pdb','gnina_test/chain_L.sdf')\n",
    "# out"
   ]
  },
  {
   "cell_type": "code",
   "execution_count": null,
   "id": "5c6a343e-e3e8-45be-a9fe-c2f3f8c64b17",
   "metadata": {},
   "outputs": [],
   "source": [
    "#| export\n",
    "def gnina_rescore_docker(protein_pdb, ligand_sdf):\n",
    "    \"\"\"\n",
    "    Run GNINA rescoring using Docker. Supports receptor and ligand in different folders.\n",
    "    \"\"\"\n",
    "    protein_pdb = Path(protein_pdb).resolve()\n",
    "    ligand_sdf = Path(ligand_sdf).resolve()\n",
    "\n",
    "    # Mount points inside the Docker container\n",
    "    rec_mount = '/recdata'\n",
    "    lig_mount = '/ligdata'\n",
    "\n",
    "    command = [\n",
    "        'docker', 'run', '--rm',\n",
    "        '-v', f'{protein_pdb.parent}:{rec_mount}', # mount path separately\n",
    "        '-v', f'{ligand_sdf.parent}:{lig_mount}',\n",
    "        'gnina/gnina',\n",
    "        'gnina',\n",
    "        '-r', f'{rec_mount}/{protein_pdb.name}',\n",
    "        '-l', f'{lig_mount}/{ligand_sdf.name}',\n",
    "        '--minimize',\n",
    "    ]\n",
    "\n",
    "    result = subprocess.run(command, capture_output=True, text=True)\n",
    "    return result.stdout"
   ]
  },
  {
   "cell_type": "code",
   "execution_count": null,
   "id": "f99dc79f-f529-43b6-b034-0f1748524a09",
   "metadata": {},
   "outputs": [],
   "source": [
    "# %%time\n",
    "# out = gnina_rescore_docker('gnina_test/chain_A.pdb','gnina_test/chain_L.sdf')\n",
    "# out"
   ]
  },
  {
   "cell_type": "code",
   "execution_count": null,
   "id": "db6fc5c1-b9f6-4f1b-a917-1178826cf86c",
   "metadata": {},
   "outputs": [],
   "source": [
    "#| export\n",
    "def extract_gnina_rescore(txt):\n",
    "    \"Extract GNINA output text to dictionary.\"\n",
    "    \n",
    "    pattern = re.search(\n",
    "        r\"Affinity:\\s+(?P<binding_energy>[-.\\d]+)\\s+(?P<uncertainty>[-.\\d]+).*?\"\n",
    "        r\"RMSD:\\s+(?P<RMSD>[-.\\d]+).*?\"\n",
    "        r\"CNNscore:\\s+(?P<CNNscore>[-.\\d]+).*?\"\n",
    "        r\"CNNaffinity:\\s+(?P<CNNaffinity>[-.\\d]+).*?\"\n",
    "        r\"CNNvariance:\\s+(?P<CNNvariance>[-.\\d]+)\",\n",
    "        txt,\n",
    "        re.DOTALL)\n",
    "\n",
    "    if not pattern:\n",
    "        print(\"Failed to match GNINA output format.\")\n",
    "    \n",
    "    return {k: float(v) for k, v in pattern.groupdict().items()} # convert values to float"
   ]
  },
  {
   "cell_type": "code",
   "execution_count": null,
   "id": "8dc4180d-dc80-4d62-9b3a-5c9b79b8569a",
   "metadata": {},
   "outputs": [],
   "source": [
    "out = \"              _             \\n             (_)            \\n   __ _ _ __  _ _ __   __ _ \\n  / _` | '_ \\\\| | '_ \\\\ / _` |\\n | (_| | | | | | | | | (_| |\\n  \\\\__, |_| |_|_|_| |_|\\\\__,_|\\n   __/ |                    \\n  |___/                     \\n\\ngnina  master:e9cb230+   Built Feb 11 2023.\\ngnina is based on smina and AutoDock Vina.\\nPlease cite appropriately.\\n\\nWARNING: No GPU detected. CNN scoring will be slow.\\nRecommend running with single model (--cnn crossdock_default2018)\\nor without cnn scoring (--cnn_scoring=none).\\n\\nCommandline: ./gnina -r chain_A.pdb -l chain_L.sdf --minimize\\nAffinity: -10.96345  -1.51405 (kcal/mol)\\nRMSD: 1.15404\\nCNNscore: 0.49978 \\nCNNaffinity: 7.32008\\nCNNvariance: 0.18500\\n\""
   ]
  },
  {
   "cell_type": "code",
   "execution_count": null,
   "id": "c19529e3-3d49-4f72-b397-40a57c4269ee",
   "metadata": {},
   "outputs": [
    {
     "data": {
      "text/plain": [
       "{'binding_energy': -10.96345,\n",
       " 'uncertainty': -1.51405,\n",
       " 'RMSD': 1.15404,\n",
       " 'CNNscore': 0.50439,\n",
       " 'CNNaffinity': 7.30706,\n",
       " 'CNNvariance': 0.17173}"
      ]
     },
     "execution_count": null,
     "metadata": {},
     "output_type": "execute_result"
    }
   ],
   "source": [
    "extract_gnina_rescore(out)"
   ]
  },
  {
   "cell_type": "code",
   "execution_count": null,
   "id": "b21d71d8-a420-4e7b-8882-1caa55e84dc2",
   "metadata": {},
   "outputs": [],
   "source": [
    "#| export\n",
    "def get_gnina_rescore(cif_path,is_local=False):\n",
    "    \"Split the CIF into receptor and ligand folders, then extract the GNINA rescored affinity score\"\n",
    "    cif_path = Path(cif_path).expanduser()\n",
    "    parent,stem = cif_path.parent,cif_path.stem\n",
    "\n",
    "    rec_dir,lig_dir = Path(str(parent) + '_receptor'),Path(str(parent) + '_ligand')\n",
    "    \n",
    "    rec_path,lig_path = rec_dir/f'{stem}.pdb',lig_dir/f'{stem}.sdf'\n",
    "    \n",
    "    rec_dir.mkdir(exist_ok=True)\n",
    "    lig_dir.mkdir(exist_ok=True)\n",
    "    \n",
    "    prepare_rec_lig(cif_path,rec_path,lig_path)\n",
    "    if is_local:\n",
    "        gnina_output = gnina_rescore_local(rec_path,lig_path)\n",
    "    else:\n",
    "        gnina_output = gnina_rescore_docker(rec_path,lig_path)\n",
    "    return extract_gnina_rescore(gnina_output)"
   ]
  },
  {
   "cell_type": "code",
   "execution_count": null,
   "id": "fa42760d-a614-499f-970f-b6603767cd87",
   "metadata": {},
   "outputs": [],
   "source": [
    "# get_gnina_rescore('gnina_test/cif/test.cif',is_local=True)"
   ]
  },
  {
   "cell_type": "markdown",
   "id": "830a17a7-8349-498e-8698-ce8c2bfa34fe",
   "metadata": {},
   "source": [
    "Non-parallel for multiple .cif files:"
   ]
  },
  {
   "cell_type": "code",
   "execution_count": null,
   "id": "a7317afb-2f67-4b77-9c1f-3704d29955ed",
   "metadata": {},
   "outputs": [],
   "source": [
    "# cifs = L(Path('gnina_test/cif').expanduser().glob(\"*.cif\")) # just take cif file\n",
    "\n",
    "# out = {p.stem: get_gnina_rescore(p) for p in tqdm(cifs)}\n",
    "\n",
    "# out_df = pd.DataFrame(out).T"
   ]
  },
  {
   "cell_type": "code",
   "execution_count": null,
   "id": "1e80f250-2c22-45e9-8a97-6f68c2e8514d",
   "metadata": {},
   "outputs": [],
   "source": [
    "#| export\n",
    "def get_gnina_rescore_folder(cif_folder,is_local=False):\n",
    "    \"Parallel processing to get gnina rescore given folder path\"\n",
    "    cifs = L(Path(cif_folder).expanduser().glob(\"*.cif\")) # just take cif file\n",
    "    \n",
    "    func = partial(get_gnina_rescore,is_local=is_local)\n",
    "    results = process_map(func, cifs, max_workers=4)\n",
    "\n",
    "    # use path.stem as df index\n",
    "    results_dict = dict(zip([p.stem for p in cifs], results))\n",
    "    return pd.DataFrame(results_dict).T.reset_index(names='ID')"
   ]
  },
  {
   "cell_type": "code",
   "execution_count": null,
   "id": "a960568d-dea8-4748-a3e7-d2e40a677ddb",
   "metadata": {},
   "outputs": [
    {
     "data": {
      "application/vnd.jupyter.widget-view+json": {
       "model_id": "45ff49d484ad4d8cb4a636723e11f525",
       "version_major": 2,
       "version_minor": 0
      },
      "text/plain": [
       "  0%|          | 0/4 [00:00<?, ?it/s]"
      ]
     },
     "metadata": {},
     "output_type": "display_data"
    },
    {
     "name": "stdout",
     "output_type": "stream",
     "text": [
      "CPU times: user 30.3 ms, sys: 28.8 ms, total: 59.1 ms\n",
      "Wall time: 8.38 s\n"
     ]
    },
    {
     "data": {
      "text/html": [
       "<div>\n",
       "<style scoped>\n",
       "    .dataframe tbody tr th:only-of-type {\n",
       "        vertical-align: middle;\n",
       "    }\n",
       "\n",
       "    .dataframe tbody tr th {\n",
       "        vertical-align: top;\n",
       "    }\n",
       "\n",
       "    .dataframe thead th {\n",
       "        text-align: right;\n",
       "    }\n",
       "</style>\n",
       "<table border=\"1\" class=\"dataframe\">\n",
       "  <thead>\n",
       "    <tr style=\"text-align: right;\">\n",
       "      <th></th>\n",
       "      <th>ID</th>\n",
       "      <th>binding_energy</th>\n",
       "      <th>uncertainty</th>\n",
       "      <th>RMSD</th>\n",
       "      <th>CNNscore</th>\n",
       "      <th>CNNaffinity</th>\n",
       "      <th>CNNvariance</th>\n",
       "    </tr>\n",
       "  </thead>\n",
       "  <tbody>\n",
       "    <tr>\n",
       "      <th>0</th>\n",
       "      <td>test</td>\n",
       "      <td>-10.96345</td>\n",
       "      <td>-1.51405</td>\n",
       "      <td>1.15404</td>\n",
       "      <td>0.50439</td>\n",
       "      <td>7.30706</td>\n",
       "      <td>0.17173</td>\n",
       "    </tr>\n",
       "    <tr>\n",
       "      <th>1</th>\n",
       "      <td>test2</td>\n",
       "      <td>-14.18709</td>\n",
       "      <td>-1.21779</td>\n",
       "      <td>0.51255</td>\n",
       "      <td>0.89946</td>\n",
       "      <td>8.61992</td>\n",
       "      <td>0.02119</td>\n",
       "    </tr>\n",
       "    <tr>\n",
       "      <th>2</th>\n",
       "      <td>test3</td>\n",
       "      <td>-10.35332</td>\n",
       "      <td>-1.34231</td>\n",
       "      <td>0.53057</td>\n",
       "      <td>0.71652</td>\n",
       "      <td>7.61942</td>\n",
       "      <td>0.25805</td>\n",
       "    </tr>\n",
       "    <tr>\n",
       "      <th>3</th>\n",
       "      <td>test4</td>\n",
       "      <td>-14.19527</td>\n",
       "      <td>-1.27426</td>\n",
       "      <td>0.58653</td>\n",
       "      <td>0.92182</td>\n",
       "      <td>8.65907</td>\n",
       "      <td>0.02081</td>\n",
       "    </tr>\n",
       "  </tbody>\n",
       "</table>\n",
       "</div>"
      ],
      "text/plain": [
       "      ID  binding_energy  uncertainty     RMSD  CNNscore  CNNaffinity  \\\n",
       "0   test       -10.96345     -1.51405  1.15404   0.50439      7.30706   \n",
       "1  test2       -14.18709     -1.21779  0.51255   0.89946      8.61992   \n",
       "2  test3       -10.35332     -1.34231  0.53057   0.71652      7.61942   \n",
       "3  test4       -14.19527     -1.27426  0.58653   0.92182      8.65907   \n",
       "\n",
       "   CNNvariance  \n",
       "0      0.17173  \n",
       "1      0.02119  \n",
       "2      0.25805  \n",
       "3      0.02081  "
      ]
     },
     "execution_count": null,
     "metadata": {},
     "output_type": "execute_result"
    }
   ],
   "source": [
    "# %%time\n",
    "# get_gnina_rescore_folder('gnina_test/cif',is_local=True)"
   ]
  },
  {
   "cell_type": "markdown",
   "id": "75d95a4b-e467-4bd9-ac91-3dbf031c0d05",
   "metadata": {},
   "source": [
    "## End"
   ]
  },
  {
   "cell_type": "code",
   "execution_count": null,
   "id": "6e50f214-c85c-4ec8-a54c-7d23dd726b10",
   "metadata": {},
   "outputs": [],
   "source": [
    "#| hide\n",
    "import nbdev; nbdev.nbdev_export()"
   ]
  },
  {
   "cell_type": "code",
   "execution_count": null,
   "id": "1d922e31-a1df-470c-b12d-53178726515b",
   "metadata": {},
   "outputs": [],
   "source": []
  }
 ],
 "metadata": {
  "kernelspec": {
   "display_name": "Python 3",
   "language": "python",
   "name": "python3"
  },
  "language_info": {
   "name": ""
  }
 },
 "nbformat": 4,
 "nbformat_minor": 5
}
