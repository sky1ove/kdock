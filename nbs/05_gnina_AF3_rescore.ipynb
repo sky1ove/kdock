{
 "cells": [
  {
   "cell_type": "markdown",
   "id": "54bded75-33c7-4813-94ab-d1fd80c64054",
   "metadata": {},
   "source": [
    "# AF3 rescore with gnina"
   ]
  },
  {
   "cell_type": "markdown",
   "id": "82e907ff-6b1b-4565-873e-fac698bbc0c8",
   "metadata": {},
   "source": [
    "## Setup"
   ]
  },
  {
   "cell_type": "code",
   "execution_count": null,
   "id": "e51ec282-de8a-48f3-8e14-3e032cb3912a",
   "metadata": {},
   "outputs": [],
   "source": [
    "#| default_exp gnina_af3"
   ]
  },
  {
   "cell_type": "code",
   "execution_count": null,
   "id": "37eb344f-6e5c-4350-b0fd-962340a4bf0d",
   "metadata": {},
   "outputs": [],
   "source": [
    "#| export\n",
    "import pandas as pd\n",
    "import re, os, subprocess, py3Dmol\n",
    "from Bio.PDB import MMCIFParser, PDBIO, Select\n",
    "from rdkit import Chem\n",
    "from rdkit.Chem import AllChem"
   ]
  },
  {
   "cell_type": "markdown",
   "id": "f9e107bb-2775-4aad-833f-507cbfa33cd2",
   "metadata": {},
   "source": [
    "## Split the AF3 output .cif into protein.pdb and ligand.sdf"
   ]
  },
  {
   "cell_type": "code",
   "execution_count": null,
   "id": "2e53d110-a6a6-4d46-8b04-9e7a76069995",
   "metadata": {},
   "outputs": [],
   "source": [
    "#| export\n",
    "class ChainSelect(Select):\n",
    "    \"Select chain to save\"\n",
    "    def __init__(self, chain_ids):\n",
    "        self.chain_ids = chain_ids\n",
    "    def accept_chain(self, chain):\n",
    "        return chain.get_id() in self.chain_ids"
   ]
  },
  {
   "cell_type": "code",
   "execution_count": null,
   "id": "44e31366-70c4-4b9a-9e27-603442683fed",
   "metadata": {},
   "outputs": [],
   "source": [
    "#| export\n",
    "def rename_residues(structure, chain_id, new_resname='LIG'):\n",
    "    \"Rename residue name from LIG_L to LIG as LIG_L exceeds lengths and leads to error in RDKit\"\n",
    "    for model in structure:\n",
    "        for chain in model:\n",
    "            if chain.id == chain_id:\n",
    "                for residue in chain:\n",
    "                    residue.resname = new_resname"
   ]
  },
  {
   "cell_type": "code",
   "execution_count": null,
   "id": "a760f9d5-7aba-47fc-b47f-593a862587f9",
   "metadata": {},
   "outputs": [],
   "source": [
    "#| export\n",
    "def split_cif(cif_path, chainA_pdb_path, chainL_pdb_path):\n",
    "    \"Split AF3 output CIF to protein and ligand PDBs\"\n",
    "    parser = MMCIFParser(QUIET=True)\n",
    "    structure = parser.get_structure('complex', cif_path)\n",
    "    rename_residues(structure, chain_id='L', new_resname='LIG')\n",
    "    io = PDBIO()\n",
    "    io.set_structure(structure)\n",
    "    io.save(chainA_pdb_path, ChainSelect('A'))  # receptor\n",
    "    io.save(chainL_pdb_path, ChainSelect('L'))  # ligand"
   ]
  },
  {
   "cell_type": "code",
   "execution_count": null,
   "id": "ecf8c5a3-84e5-4c96-a97a-1f22e1d52b4e",
   "metadata": {},
   "outputs": [],
   "source": [
    "#| export\n",
    "def pdb2sdf(pdb_path, sdf_path):\n",
    "    \"Convert ligand pdb to sdf file\"\n",
    "    mol = Chem.MolFromPDBFile(pdb_path, sanitize=True, removeHs=False)\n",
    "    if mol:\n",
    "        writer = Chem.SDWriter(sdf_path)\n",
    "        writer.write(mol)\n",
    "        writer.close()\n",
    "        return None\n",
    "    else:\n",
    "        print('Conversion failed for:', pdb_path)\n",
    "        return pdb_path"
   ]
  },
  {
   "cell_type": "code",
   "execution_count": null,
   "id": "223e66d6-f08e-4af8-96f9-cf2a78e9dfc1",
   "metadata": {},
   "outputs": [],
   "source": [
    "#| export\n",
    "def prepare_rec_lig(cif_path, chainA_pdb_path, chainL_sdf_path):\n",
    "    \"Split AF3 cif to protein.pdb (chainA) and ligand.sdf (chainL) \"\n",
    "    tmp = 'tmp_lig.pdb'\n",
    "    split_cif(cif_path, chainA_pdb_path, tmp)\n",
    "    failed = pdb2sdf(tmp, chainL_sdf_path)\n",
    "    try:\n",
    "        os.remove(tmp)\n",
    "    except OSError:\n",
    "        pass\n",
    "    return failed"
   ]
  },
  {
   "cell_type": "code",
   "execution_count": null,
   "id": "72f20dcf-b26c-411f-88e1-783168394174",
   "metadata": {},
   "outputs": [],
   "source": [
    "prepare_rec_lig('test.cif','chain_A.pdb','chain_L.sdf')"
   ]
  },
  {
   "cell_type": "markdown",
   "id": "44a592c1-2fc0-485f-8ad1-5552c4cccd04",
   "metadata": {},
   "source": [
    "## gnina score"
   ]
  },
  {
   "cell_type": "markdown",
   "id": "d4ee8443-2f1b-4e46-a521-7fbb7b705a77",
   "metadata": {},
   "source": [
    "According to [gnina doc](https://github.com/gnina/gnina?tab=readme-ov-file):"
   ]
  },
  {
   "cell_type": "markdown",
   "id": "bb3e52d9-3f89-4998-aea7-7d1bef18dc6b",
   "metadata": {},
   "source": [
    "```bash\n",
    "gnina -r chain_A.pdb -l chain_L.sdf --minimize -o minimized.sdf.gz\n",
    "```"
   ]
  },
  {
   "cell_type": "code",
   "execution_count": null,
   "id": "e2d3a635-ce64-4e0a-a235-e659f191121f",
   "metadata": {},
   "outputs": [],
   "source": [
    "#| export\n",
    "def gnina_rescore(protein_pdb, # receptor file\n",
    "                  ligand_sdf, # ligand file\n",
    "                  ):\n",
    "    \n",
    "    command = ['./gnina', \n",
    "               '-r', protein_pdb, \n",
    "               '-l', ligand_sdf, \n",
    "               '--minimize']\n",
    "\n",
    "    result = subprocess.run(command, capture_output=True, text=True)\n",
    "    return result.stdout"
   ]
  },
  {
   "cell_type": "code",
   "execution_count": null,
   "id": "3fb0cfb0-5dd8-4802-b441-b53c05a18daa",
   "metadata": {},
   "outputs": [],
   "source": [
    "# out = gnina_rescore('chain_A.pdb','chain_L.sdf')"
   ]
  },
  {
   "cell_type": "code",
   "execution_count": null,
   "id": "8feac23b-2d73-42d3-a880-609bc45fbd09",
   "metadata": {},
   "outputs": [
    {
     "data": {
      "text/plain": [
       "\"              _             \\n             (_)            \\n   __ _ _ __  _ _ __   __ _ \\n  / _` | '_ \\\\| | '_ \\\\ / _` |\\n | (_| | | | | | | | | (_| |\\n  \\\\__, |_| |_|_|_| |_|\\\\__,_|\\n   __/ |                    \\n  |___/                     \\n\\ngnina  master:e9cb230+   Built Feb 11 2023.\\ngnina is based on smina and AutoDock Vina.\\nPlease cite appropriately.\\n\\nWARNING: No GPU detected. CNN scoring will be slow.\\nRecommend running with single model (--cnn crossdock_default2018)\\nor without cnn scoring (--cnn_scoring=none).\\n\\nCommandline: ./gnina -r chain_A.pdb -l chain_L.sdf --minimize\\nAffinity: -10.96345  -1.51405 (kcal/mol)\\nRMSD: 1.15404\\nCNNscore: 0.49978 \\nCNNaffinity: 7.32008\\nCNNvariance: 0.18500\\n\""
      ]
     },
     "execution_count": null,
     "metadata": {},
     "output_type": "execute_result"
    }
   ],
   "source": [
    "# out"
   ]
  },
  {
   "cell_type": "code",
   "execution_count": null,
   "id": "db6fc5c1-b9f6-4f1b-a917-1178826cf86c",
   "metadata": {},
   "outputs": [],
   "source": [
    "#| export\n",
    "def extract_gnina_output(txt):\n",
    "    \"Extract GNINA output text to dictionary.\"\n",
    "    \n",
    "    pattern = re.search(\n",
    "        r\"Affinity:\\s+(?P<binding_energy>[-.\\d]+)\\s+(?P<uncertainty>[-.\\d]+).*?\"\n",
    "        r\"RMSD:\\s+(?P<RMSD>[-.\\d]+).*?\"\n",
    "        r\"CNNscore:\\s+(?P<CNNscore>[-.\\d]+).*?\"\n",
    "        r\"CNNaffinity:\\s+(?P<CNNaffinity>[-.\\d]+).*?\"\n",
    "        r\"CNNvariance:\\s+(?P<CNNvariance>[-.\\d]+)\",\n",
    "        txt,\n",
    "        re.DOTALL)\n",
    "\n",
    "    if not pattern:\n",
    "        print(\"Failed to match GNINA output format.\")\n",
    "    \n",
    "    return {k: float(v) for k, v in pattern.groupdict().items()} # convert values to float"
   ]
  },
  {
   "cell_type": "code",
   "execution_count": null,
   "id": "8dc4180d-dc80-4d62-9b3a-5c9b79b8569a",
   "metadata": {},
   "outputs": [],
   "source": [
    "out = \"              _             \\n             (_)            \\n   __ _ _ __  _ _ __   __ _ \\n  / _` | '_ \\\\| | '_ \\\\ / _` |\\n | (_| | | | | | | | | (_| |\\n  \\\\__, |_| |_|_|_| |_|\\\\__,_|\\n   __/ |                    \\n  |___/                     \\n\\ngnina  master:e9cb230+   Built Feb 11 2023.\\ngnina is based on smina and AutoDock Vina.\\nPlease cite appropriately.\\n\\nWARNING: No GPU detected. CNN scoring will be slow.\\nRecommend running with single model (--cnn crossdock_default2018)\\nor without cnn scoring (--cnn_scoring=none).\\n\\nCommandline: ./gnina -r chain_A.pdb -l chain_L.sdf --minimize\\nAffinity: -10.96345  -1.51405 (kcal/mol)\\nRMSD: 1.15404\\nCNNscore: 0.49978 \\nCNNaffinity: 7.32008\\nCNNvariance: 0.18500\\n\""
   ]
  },
  {
   "cell_type": "code",
   "execution_count": null,
   "id": "1a7fe714-e5db-4b55-867d-7626ca606b4b",
   "metadata": {},
   "outputs": [
    {
     "data": {
      "text/plain": [
       "{'binding_energy': -10.96345,\n",
       " 'uncertainty': -1.51405,\n",
       " 'RMSD': 1.15404,\n",
       " 'CNNscore': 0.49978,\n",
       " 'CNNaffinity': 7.32008,\n",
       " 'CNNvariance': 0.185}"
      ]
     },
     "execution_count": null,
     "metadata": {},
     "output_type": "execute_result"
    }
   ],
   "source": [
    "extract_gnina_output(out)"
   ]
  },
  {
   "cell_type": "code",
   "execution_count": null,
   "id": "b21d71d8-a420-4e7b-8882-1caa55e84dc2",
   "metadata": {},
   "outputs": [],
   "source": [
    "#| export\n",
    "def get_gnina_rescore(protein_pdb,ligand_sdf):\n",
    "    out = gnina_rescore('chain_A.pdb','chain_L.sdf')\n",
    "    return extract_gnina_output(out)"
   ]
  },
  {
   "cell_type": "code",
   "execution_count": null,
   "id": "9c3969c1-db54-4f1f-b537-bc058287a09f",
   "metadata": {},
   "outputs": [
    {
     "data": {
      "text/plain": [
       "{'binding_energy': -10.96345,\n",
       " 'uncertainty': -1.51405,\n",
       " 'RMSD': 1.15404,\n",
       " 'CNNscore': 0.49978,\n",
       " 'CNNaffinity': 7.32008,\n",
       " 'CNNvariance': 0.185}"
      ]
     },
     "execution_count": null,
     "metadata": {},
     "output_type": "execute_result"
    }
   ],
   "source": [
    "# get_gnina_rescore('chain_A.pdb','chain_L.sdf')"
   ]
  },
  {
   "cell_type": "markdown",
   "id": "75d95a4b-e467-4bd9-ac91-3dbf031c0d05",
   "metadata": {},
   "source": [
    "## End"
   ]
  },
  {
   "cell_type": "code",
   "execution_count": null,
   "id": "6e50f214-c85c-4ec8-a54c-7d23dd726b10",
   "metadata": {},
   "outputs": [],
   "source": [
    "#| hide\n",
    "import nbdev; nbdev.nbdev_export()"
   ]
  },
  {
   "cell_type": "code",
   "execution_count": null,
   "id": "1d922e31-a1df-470c-b12d-53178726515b",
   "metadata": {},
   "outputs": [],
   "source": []
  }
 ],
 "metadata": {
  "kernelspec": {
   "display_name": "python3",
   "language": "python",
   "name": "python3"
  }
 },
 "nbformat": 4,
 "nbformat_minor": 5
}
