{
 "cells": [
  {
   "cell_type": "raw",
   "metadata": {},
   "source": [
    "---\n",
    "skip_showdoc: true\n",
    "skip_exec: true\n",
    "---"
   ]
  },
  {
   "cell_type": "markdown",
   "metadata": {},
   "source": [
    "# Trainer\n",
    "\n",
    "> In this module, we develop trainers of different models"
   ]
  },
  {
   "cell_type": "markdown",
   "metadata": {},
   "source": [
    "## Setup"
   ]
  },
  {
   "cell_type": "code",
   "execution_count": null,
   "metadata": {},
   "outputs": [],
   "source": [
    "\n",
    "import pandas as pd\n",
    "import xgboost as xgb\n",
    "import matplotlib.pyplot as plt\n",
    "from scipy.stats import spearmanr\n",
    "from sklearn.model_selection import train_test_split\n",
    "\n",
    "from kdock.dataset import Data\n",
    "from kdock.feature import *"
   ]
  },
  {
   "cell_type": "markdown",
   "metadata": {},
   "source": [
    "## xgb"
   ]
  },
  {
   "cell_type": "code",
   "execution_count": null,
   "metadata": {},
   "outputs": [],
   "source": [
    "\n",
    "def xgb_trainer(df,\n",
    "                feature_col,\n",
    "                target_col,\n",
    "                test_index=None,\n",
    "                xgb_params = { \n",
    "                            'max_depth':7, #from 4 to 7\n",
    "                            'learning_rate':0.001, #from 0.001\n",
    "                            'subsample':0.8,\n",
    "                            'colsample_bytree':0.2, # from 0.2 to 1, because need to take position\n",
    "                            'eval_metric':'rmse',\n",
    "                            'objective':'reg:squarederror',\n",
    "                            'tree_method':'gpu_hist',\n",
    "                            'predictor':'gpu_predictor',\n",
    "                            'random_state':123\n",
    "                        }\n",
    "               ):\n",
    "    \n",
    "    X = df[feature_col]\n",
    "    y = df[target_col]\n",
    "    \n",
    "    print(f'xgb params is: {xgb_params}')\n",
    "    \n",
    "    if test_index is None:\n",
    "        X_train, X_test, y_train, y_test = train_test_split(X, y, test_size=0.2, random_state=123)\n",
    "    else:\n",
    "        X_train,y_train = X.loc[~X.index.isin(test_index)],y.loc[~X.index.isin(test_index)]\n",
    "        X_test, y_test = X.loc[test_index],y.loc[test_index]\n",
    "\n",
    "        \n",
    "    print(X_train.shape,y_train.shape,X_test.shape, y_test.shape)\n",
    "    print(y_test.index)\n",
    "    #prepare matrix for xgb\n",
    "    dtrain = xgb.DMatrix(X_train, y_train)\n",
    "    dtest = xgb.DMatrix(X_test, y_test)\n",
    "    \n",
    "    model = xgb.train(xgb_params, \n",
    "            dtrain=dtrain,\n",
    "            evals=[(dtrain,'train'),(dtest,'valid')],\n",
    "            num_boost_round=9999,\n",
    "            early_stopping_rounds=100,\n",
    "            verbose_eval=100,)\n",
    "    \n",
    "    pred = model.predict(dtest)\n",
    "    spearman_corr, _ = spearmanr(y_test, pred)\n",
    "    print(f'Spearman correlation: {spearman_corr:.2f}')\n",
    "    \n",
    "    fig, ax = plt.subplots()\n",
    "    ax.scatter(y_test, pred)\n",
    "    ax.set_xlabel('True values')\n",
    "    ax.set_ylabel('Predicted values')\n",
    "    ax.set_title('Scatter plot of true versus predicted values')\n",
    "    plt.show()\n",
    "    plt.close()\n",
    "    \n",
    "    \n",
    "    dd = model.get_score(importance_type='gain')\n",
    "    gain = pd.DataFrame({'feature':dd.keys(),f'gain_importance':dd.values()})\n",
    "    gain.set_index('feature').sort_values(by = 'gain_importance')[:15].plot.barh(figsize=(10,20))\n",
    "    plt.show()\n",
    "    plt.close()\n",
    "    \n",
    "        \n",
    "    dd = model.get_score(importance_type='weight')\n",
    "    weight = pd.DataFrame({'feature':dd.keys(),f'weight_importance':dd.values()})\n",
    "    weight.set_index('feature').sort_values(by = 'weight_importance')[:15].plot.barh(figsize=(10,20))\n",
    "    plt.show()\n",
    "    plt.close()\n",
    "    \n",
    "    return gain, weight"
   ]
  },
  {
   "cell_type": "markdown",
   "metadata": {},
   "source": [
    "Example"
   ]
  },
  {
   "cell_type": "code",
   "execution_count": null,
   "metadata": {},
   "outputs": [],
   "source": [
    "df = Data.get_g12d()"
   ]
  },
  {
   "cell_type": "code",
   "execution_count": null,
   "metadata": {},
   "outputs": [],
   "source": [
    "df"
   ]
  },
  {
   "cell_type": "markdown",
   "metadata": {},
   "source": [
    "Prepare training df"
   ]
  },
  {
   "cell_type": "code",
   "execution_count": null,
   "metadata": {},
   "outputs": [],
   "source": [
    "smi_feat = get_rdkit_df(df,'SMILES','ID',True,True)"
   ]
  },
  {
   "cell_type": "code",
   "execution_count": null,
   "metadata": {},
   "outputs": [],
   "source": [
    "smi_feat"
   ]
  },
  {
   "cell_type": "code",
   "execution_count": null,
   "metadata": {},
   "outputs": [],
   "source": [
    "df = df.merge(smi_feat)"
   ]
  },
  {
   "cell_type": "code",
   "execution_count": null,
   "metadata": {},
   "outputs": [],
   "source": [
    "df = df.dropna(subset = ['IC50'])\n",
    "df = df.query('IC50<2000').reset_index(drop=True)"
   ]
  },
  {
   "cell_type": "code",
   "execution_count": null,
   "metadata": {},
   "outputs": [],
   "source": [
    "df.shape"
   ]
  },
  {
   "cell_type": "code",
   "execution_count": null,
   "metadata": {},
   "outputs": [],
   "source": [
    "FEATURES = smi_feat.columns[1:]"
   ]
  },
  {
   "cell_type": "code",
   "execution_count": null,
   "metadata": {},
   "outputs": [],
   "source": [
    "df['IC50'].hist();"
   ]
  },
  {
   "cell_type": "code",
   "execution_count": null,
   "metadata": {},
   "outputs": [],
   "source": [
    "df['IC50'].apply(lambda x: -np.log(x)).hist();"
   ]
  },
  {
   "cell_type": "code",
   "execution_count": null,
   "metadata": {},
   "outputs": [],
   "source": [
    "df['pIC50'] = df['IC50'].apply(lambda x: -np.log(x))"
   ]
  },
  {
   "cell_type": "code",
   "execution_count": null,
   "metadata": {},
   "outputs": [],
   "source": [
    "df.group.unique()"
   ]
  },
  {
   "cell_type": "code",
   "execution_count": null,
   "metadata": {},
   "outputs": [],
   "source": [
    "df.query('group == \"31678\"').index"
   ]
  },
  {
   "cell_type": "markdown",
   "metadata": {},
   "source": [
    "## Train"
   ]
  },
  {
   "cell_type": "code",
   "execution_count": null,
   "metadata": {},
   "outputs": [],
   "source": [
    "\n",
    "import pandas as pd\n",
    "import numpy as np\n",
    "import xgboost as xgb\n",
    "import matplotlib.pyplot as plt\n",
    "from scipy.stats import spearmanr\n",
    "from sklearn.model_selection import train_test_split"
   ]
  },
  {
   "cell_type": "code",
   "execution_count": null,
   "metadata": {},
   "outputs": [],
   "source": [
    "df.IC50.sort_values()"
   ]
  },
  {
   "cell_type": "code",
   "execution_count": null,
   "metadata": {},
   "outputs": [],
   "source": [
    "df.pIC50.sort_values()"
   ]
  },
  {
   "cell_type": "code",
   "execution_count": null,
   "metadata": {},
   "outputs": [],
   "source": [
    "xgb_trainer(df=df,\n",
    "            feature_col = FEATURES,\n",
    "            target_col=['pIC50'],\n",
    "           # test_index=df.query('group == \"31678\"').index\n",
    "           )"
   ]
  },
  {
   "cell_type": "code",
   "execution_count": null,
   "metadata": {},
   "outputs": [],
   "source": [
    "xgb_trainer(df=df,\n",
    "            feature_col = FEATURES,\n",
    "            target_col=['pIC50'],\n",
    "           # test_index=df.query('group == \"31678\"').index\n",
    "           )"
   ]
  },
  {
   "cell_type": "code",
   "execution_count": null,
   "metadata": {},
   "outputs": [],
   "source": [
    "# xgb_trainer(df=df,\n",
    "#             feature_col = FEATURES,\n",
    "#             target_col=['pIC50'],\n",
    "#            # test_index=df.query('group == \"31678\"').index\n",
    "#            )"
   ]
  },
  {
   "cell_type": "code",
   "execution_count": null,
   "metadata": {},
   "outputs": [],
   "source": [
    "# xgb_trainer(df=df,\n",
    "#             feature_col = FEATURES,\n",
    "#             target_col=['pIC50'],\n",
    "#            test_index=df.query('group == \"31678\"').index\n",
    "#            )"
   ]
  },
  {
   "cell_type": "code",
   "execution_count": null,
   "metadata": {},
   "outputs": [],
   "source": [
    "# xgb_trainer(df=df,\n",
    "#             feature_col = FEATURES,\n",
    "#             target_col=['IC50_log'],\n",
    "#            test_index=df.query('group == \"646\"').index\n",
    "#            )"
   ]
  },
  {
   "cell_type": "code",
   "execution_count": null,
   "metadata": {},
   "outputs": [],
   "source": []
  },
  {
   "cell_type": "code",
   "execution_count": null,
   "metadata": {},
   "outputs": [],
   "source": [
    "# X_train, X_test, y_train, y_test = train_test_split(X, y, test_size=0.2, random_state=42)\n",
    "\n",
    "# train_size = int(0.8 * train.shape[0])\n",
    "# train_data = train.iloc[:train_size, :]\n",
    "# test_data = train.iloc[train_size:, :]\n",
    "\n",
    "# dtrain = xgb.DMatrix(train_data.drop('IC50', axis=1), label=train_data['IC50'])\n",
    "# dvalid = xgb.DMatrix(test_data.drop('IC50', axis=1), label=test_data['IC50'])\n",
    "\n",
    "# xgb_params = { \n",
    "#     'max_depth':7, #from 4 to 7\n",
    "#     'learning_rate':0.001, #from 0.001\n",
    "#     'subsample':0.8,\n",
    "#     'colsample_bytree':1, # from 0.2 to 1, because need to take position\n",
    "    \n",
    "#     'eval_metric':'rmse',\n",
    "#     'objective':'reg:squarederror',\n",
    "#     'tree_method':'gpu_hist',\n",
    "#     'predictor':'gpu_predictor',\n",
    "#     'random_state':123\n",
    "# }\n",
    "\n",
    "# model = xgb.train(xgb_params, \n",
    "#             dtrain=dtrain,\n",
    "#             evals=[(dtrain,'train'),(dvalid,'valid')],\n",
    "#             num_boost_round=9999,\n",
    "#             early_stopping_rounds=100,\n",
    "#             verbose_eval=100,)\n",
    "\n",
    "# test_data['pred'] = model.predict(dvalid)\n",
    "\n",
    "# spearman_corr, _ = spearmanr(test_data['IC50'], test_data['pred'])\n",
    "\n",
    "# print(f'Spearman correlation: {spearman_corr:.2f}')"
   ]
  },
  {
   "cell_type": "code",
   "execution_count": null,
   "metadata": {},
   "outputs": [],
   "source": [
    "# fig, ax = plt.subplots()\n",
    "# ax.scatter(test_data['IC50'], test_data['pred'])\n",
    "# ax.set_xlabel('True values')\n",
    "# ax.set_ylabel('Predicted values')\n",
    "# ax.set_title('Scatter plot of true versus predicted values')\n",
    "# plt.show()"
   ]
  },
  {
   "cell_type": "code",
   "execution_count": null,
   "metadata": {},
   "outputs": [],
   "source": [
    "# dd = model.get_score(importance_type='gain')\n",
    "# gain = pd.DataFrame({'feature':dd.keys(),f'importance':dd.values()})\n"
   ]
  },
  {
   "cell_type": "code",
   "execution_count": null,
   "metadata": {},
   "outputs": [],
   "source": [
    "# gain.set_index('feature').sort_values(by = 'importance').plot.barh(figsize=(10,30));"
   ]
  },
  {
   "cell_type": "markdown",
   "metadata": {},
   "source": [
    "Concatenate features, prepare training"
   ]
  },
  {
   "cell_type": "code",
   "execution_count": null,
   "metadata": {},
   "outputs": [],
   "source": [
    "# smi_feat"
   ]
  },
  {
   "cell_type": "code",
   "execution_count": null,
   "metadata": {},
   "outputs": [],
   "source": [
    "# # if the sample size is too small, can't use pca to reduce dimension\n",
    "# from sklearn.decomposition import PCA\n",
    "\n",
    "# pca = PCA(n_components=2,random_state = 123)\n",
    "\n",
    "# seq_pca = pca.fit_transform(seq_feat.values)"
   ]
  },
  {
   "cell_type": "code",
   "execution_count": null,
   "metadata": {},
   "outputs": [],
   "source": []
  },
  {
   "cell_type": "code",
   "execution_count": null,
   "metadata": {},
   "outputs": [],
   "source": []
  }
 ],
 "metadata": {
  "kernelspec": {
   "display_name": "python3",
   "language": "python",
   "name": "python3"
  }
 },
 "nbformat": 4,
 "nbformat_minor": 4
}
