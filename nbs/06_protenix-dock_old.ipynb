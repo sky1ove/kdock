{
 "cells": [
  {
   "cell_type": "raw",
   "id": "393fea25-524c-492a-b81e-c106a54dfea6",
   "metadata": {},
   "source": [
    "---\n",
    "skip_showdoc: true\n",
    "skip_exec: true\n",
    "---"
   ]
  },
  {
   "cell_type": "markdown",
   "id": "9d995df7-a09e-48aa-beda-b752b196ef92",
   "metadata": {},
   "source": [
    "# Pipeline"
   ]
  },
  {
   "cell_type": "markdown",
   "id": "5feb8b67",
   "metadata": {},
   "source": [
    "## Setup"
   ]
  },
  {
   "cell_type": "code",
   "execution_count": null,
   "id": "587ec08a-53f6-4358-836b-b4955e564a0d",
   "metadata": {},
   "outputs": [],
   "source": [
    "from pxdock import ProtenixDock"
   ]
  },
  {
   "cell_type": "code",
   "execution_count": null,
   "id": "fe9ce65c",
   "metadata": {},
   "outputs": [],
   "source": [
    "!export LD_LIBRARY_PATH=${CONDA_PREFIX}/lib:$LD_LIBRARY_PATH"
   ]
  },
  {
   "cell_type": "code",
   "execution_count": null,
   "id": "81adf969-9bbe-479f-b32f-7d32dc64a60b",
   "metadata": {},
   "outputs": [
    {
     "ename": "ImportError",
     "evalue": "libboost_python311.so.1.82.0: cannot open shared object file: No such file or directory",
     "output_type": "error",
     "traceback": [
      "\u001b[31m---------------------------------------------------------------------------\u001b[39m",
      "\u001b[31mImportError\u001b[39m                               Traceback (most recent call last)",
      "\u001b[36mCell\u001b[39m\u001b[36m \u001b[39m\u001b[32mIn[1]\u001b[39m\u001b[32m, line 5\u001b[39m\n\u001b[32m      2\u001b[39m \u001b[38;5;28;01mimport\u001b[39;00m\u001b[38;5;250m \u001b[39m\u001b[34;01munittest\u001b[39;00m\n\u001b[32m      4\u001b[39m \u001b[38;5;28;01mimport\u001b[39;00m\u001b[38;5;250m \u001b[39m\u001b[34;01mpytest\u001b[39;00m\n\u001b[32m----> \u001b[39m\u001b[32m5\u001b[39m \u001b[38;5;28;01mfrom\u001b[39;00m\u001b[38;5;250m \u001b[39m\u001b[34;01mpxdock\u001b[39;00m\u001b[38;5;250m \u001b[39m\u001b[38;5;28;01mimport\u001b[39;00m ProtenixDock\n\u001b[32m      6\u001b[39m \u001b[38;5;28;01mfrom\u001b[39;00m\u001b[38;5;250m \u001b[39m\u001b[34;01mpxdock\u001b[39;00m\u001b[34;01m.\u001b[39;00m\u001b[34;01mcommon\u001b[39;00m\u001b[38;5;250m \u001b[39m\u001b[38;5;28;01mimport\u001b[39;00m get_logger\n\u001b[32m      7\u001b[39m \u001b[38;5;28;01mfrom\u001b[39;00m\u001b[38;5;250m \u001b[39m\u001b[34;01mpxdock\u001b[39;00m\u001b[34;01m.\u001b[39;00m\u001b[34;01mdock\u001b[39;00m\u001b[34;01m.\u001b[39;00m\u001b[34;01mutils\u001b[39;00m\u001b[38;5;250m \u001b[39m\u001b[38;5;28;01mimport\u001b[39;00m parse_pocket_config\n",
      "\u001b[36mFile \u001b[39m\u001b[32m/home/zeus/miniconda3/envs/cloudspace/lib/python3.11/site-packages/pxdock-0.0.1-py3.11-linux-x86_64.egg/pxdock/__init__.py:1\u001b[39m\n\u001b[32m----> \u001b[39m\u001b[32m1\u001b[39m \u001b[38;5;28;01mfrom\u001b[39;00m\u001b[38;5;250m \u001b[39m\u001b[34;01m.\u001b[39;00m\u001b[34;01mdock\u001b[39;00m\u001b[34;01m.\u001b[39;00m\u001b[34;01mdocking\u001b[39;00m\u001b[38;5;250m \u001b[39m\u001b[38;5;28;01mimport\u001b[39;00m ProtenixDock\n\u001b[32m      3\u001b[39m __all__ = [\u001b[33m\"\u001b[39m\u001b[33mProtenixDock\u001b[39m\u001b[33m\"\u001b[39m]\n",
      "\u001b[36mFile \u001b[39m\u001b[32m/home/zeus/miniconda3/envs/cloudspace/lib/python3.11/site-packages/pxdock-0.0.1-py3.11-linux-x86_64.egg/pxdock/dock/docking.py:23\u001b[39m\n\u001b[32m     21\u001b[39m \u001b[38;5;28;01mfrom\u001b[39;00m\u001b[38;5;250m \u001b[39m\u001b[34;01mpxdock\u001b[39;00m\u001b[34;01m.\u001b[39;00m\u001b[34;01mcommon\u001b[39;00m\u001b[38;5;250m \u001b[39m\u001b[38;5;28;01mimport\u001b[39;00m kWorkDir, my_random_string\n\u001b[32m     22\u001b[39m \u001b[38;5;28;01mfrom\u001b[39;00m\u001b[38;5;250m \u001b[39m\u001b[34;01mpxdock\u001b[39;00m\u001b[34;01m.\u001b[39;00m\u001b[34;01mdock\u001b[39;00m\u001b[34;01m.\u001b[39;00m\u001b[34;01mutils\u001b[39;00m\u001b[38;5;250m \u001b[39m\u001b[38;5;28;01mimport\u001b[39;00m kScoreConfigFile\n\u001b[32m---> \u001b[39m\u001b[32m23\u001b[39m \u001b[38;5;28;01mfrom\u001b[39;00m\u001b[38;5;250m \u001b[39m\u001b[34;01mpxdock\u001b[39;00m\u001b[34;01m.\u001b[39;00m\u001b[34;01mengine\u001b[39;00m\u001b[38;5;250m \u001b[39m\u001b[38;5;28;01mimport\u001b[39;00m ReusableEngine\n\u001b[32m     24\u001b[39m \u001b[38;5;28;01mfrom\u001b[39;00m\u001b[38;5;250m \u001b[39m\u001b[34;01mpxdock\u001b[39;00m\u001b[34;01m.\u001b[39;00m\u001b[34;01mpipeline\u001b[39;00m\u001b[34;01m.\u001b[39;00m\u001b[34;01mprepare_ligand\u001b[39;00m\u001b[38;5;250m \u001b[39m\u001b[38;5;28;01mimport\u001b[39;00m prepare_ligand\n\u001b[32m     25\u001b[39m \u001b[38;5;28;01mfrom\u001b[39;00m\u001b[38;5;250m \u001b[39m\u001b[34;01mpxdock\u001b[39;00m\u001b[34;01m.\u001b[39;00m\u001b[34;01mpipeline\u001b[39;00m\u001b[34;01m.\u001b[39;00m\u001b[34;01mprepare_receptor\u001b[39;00m\u001b[38;5;250m \u001b[39m\u001b[38;5;28;01mimport\u001b[39;00m prepare_receptor\n",
      "\u001b[36mFile \u001b[39m\u001b[32m/home/zeus/miniconda3/envs/cloudspace/lib/python3.11/site-packages/pxdock-0.0.1-py3.11-linux-x86_64.egg/pxdock/engine.py:16\u001b[39m\n\u001b[32m      1\u001b[39m \u001b[38;5;66;03m# Copyright (C) 2025 ByteDance and/or its affiliates\u001b[39;00m\n\u001b[32m      2\u001b[39m \n\u001b[32m      3\u001b[39m \u001b[38;5;66;03m# This program is free software: you can redistribute it and/or modify\u001b[39;00m\n\u001b[32m   (...)\u001b[39m\u001b[32m     13\u001b[39m \u001b[38;5;66;03m# You should have received a copy of the GNU General Public License\u001b[39;00m\n\u001b[32m     14\u001b[39m \u001b[38;5;66;03m# along with this program.  If not, see <https://www.gnu.org/licenses/>.\u001b[39;00m\n\u001b[32m---> \u001b[39m\u001b[32m16\u001b[39m \u001b[38;5;28;01mfrom\u001b[39;00m\u001b[38;5;250m \u001b[39m\u001b[34;01m.\u001b[39;00m\u001b[34;01m_protenix_dock\u001b[39;00m\u001b[38;5;250m \u001b[39m\u001b[38;5;28;01mimport\u001b[39;00m ReusableEngine, log2file, version\n\u001b[32m     18\u001b[39m LOGGING_LEVEL_DETAIL = \u001b[32m2\u001b[39m\n\u001b[32m     19\u001b[39m LOGGING_LEVEL_NORMAL = \u001b[32m1\u001b[39m\n",
      "\u001b[31mImportError\u001b[39m: libboost_python311.so.1.82.0: cannot open shared object file: No such file or directory"
     ]
    }
   ],
   "source": [
    "import os\n",
    "import unittest\n",
    "\n",
    "import pytest\n",
    "from pxdock import ProtenixDock\n",
    "from pxdock.common import get_logger\n",
    "from pxdock.dock.utils import parse_pocket_config"
   ]
  },
  {
   "cell_type": "code",
   "execution_count": null,
   "id": "c379158a",
   "metadata": {},
   "outputs": [],
   "source": [
    "import os\n",
    "\n",
    "conda_prefix = os.environ.get(\"CONDA_PREFIX\", \"\")\n",
    "existing_path = os.environ.get(\"LD_LIBRARY_PATH\")\n",
    "\n",
    "if existing_path:\n",
    "    os.environ[\"LD_LIBRARY_PATH\"] = f\"{conda_prefix}/lib:{existing_path}\"\n",
    "else:\n",
    "    os.environ[\"LD_LIBRARY_PATH\"] = f\"{conda_prefix}/lib\""
   ]
  },
  {
   "cell_type": "code",
   "execution_count": null,
   "id": "e6e5de3e",
   "metadata": {},
   "outputs": [
    {
     "name": "stdout",
     "output_type": "stream",
     "text": [
      "/home/zeus/miniconda3/envs/cloudspace/lib:/home/zeus/miniconda3/envs/cloudspace/lib:\n"
     ]
    }
   ],
   "source": [
    "import os\n",
    "print(os.environ.get('LD_LIBRARY_PATH'))"
   ]
  },
  {
   "cell_type": "markdown",
   "id": "bc3fbdcd-b6a7-4491-b7a7-5bad3ef1a3e3",
   "metadata": {},
   "source": [
    "## Ligand"
   ]
  },
  {
   "cell_type": "code",
   "execution_count": null,
   "id": "3167ea07-b011-40e5-8c7c-420525372b79",
   "metadata": {},
   "outputs": [],
   "source": [
    "from pxdock.pipeline.prepare_ligand import prepare_ligand\n",
    "from pxdock.pipeline.prepare_receptor import prepare_receptor\n",
    "from pxdock.dock.utils import parse_pocket_config"
   ]
  },
  {
   "cell_type": "code",
   "execution_count": null,
   "id": "4631f8e8",
   "metadata": {},
   "outputs": [],
   "source": [
    "receptor_pdb = \"5s8i_protein_prepared.pdb\"\n",
    "ligand_sdf = \"5s8i_ligand_prepared.sdf\""
   ]
  },
  {
   "cell_type": "code",
   "execution_count": null,
   "id": "75184110",
   "metadata": {},
   "outputs": [
    {
     "name": "stderr",
     "output_type": "stream",
     "text": [
      "0it [00:00, ?it/s]2025-04-18 06:16:15,734 [/home/zeus/miniconda3/envs/cloudspace/lib/python3.11/site-packages/pxdock-0.0.1-py3.11-linux-x86_64.egg/pxdock/parser/ligand.py:156] INFO pxdock.parser.ligand: 1 conformers are read in LigandParser.\n",
      "2025-04-18 06:16:15,769 [/home/zeus/miniconda3/envs/cloudspace/lib/python3.11/site-packages/pxdock-0.0.1-py3.11-linux-x86_64.egg/pxdock/parser/ligand.py:178] INFO pxdock.parser.ligand: 1 rdkit conformer is generated for computing partial charge.\n",
      "2025-04-18 06:16:15,770 [/home/zeus/miniconda3/envs/cloudspace/lib/python3.11/site-packages/pxdock-0.0.1-py3.11-linux-x86_64.egg/pxdock/parser/ligand_ffdata.py:217] INFO pxdock.parser.ligand_ffdata: Using conf 0 to generate partial charges\n",
      "2025-04-18 06:16:16,165 [/home/zeus/miniconda3/envs/cloudspace/lib/python3.11/site-packages/pxdock-0.0.1-py3.11-linux-x86_64.egg/pxdock/parser/ligand.py:221] INFO pxdock.parser.ligand: score_function_json not provided, using bytedock default\n",
      "2025-04-18 06:16:16,166 [/home/zeus/miniconda3/envs/cloudspace/lib/python3.11/site-packages/pxdock-0.0.1-py3.11-linux-x86_64.egg/pxdock/parser/ligand.py:223] INFO pxdock.parser.ligand: user should ensure consistent config in parser and score function, score_function_json: /home/zeus/miniconda3/envs/cloudspace/lib/python3.11/site-packages/pxdock-0.0.1-py3.11-linux-x86_64.egg/pxdock/data/pscore-v7_and_bscore-fake.json\n",
      "2025-04-18 06:16:16,178 [/home/zeus/miniconda3/envs/cloudspace/lib/python3.11/site-packages/pxdock-0.0.1-py3.11-linux-x86_64.egg/pxdock/parser/ligand.py:267] INFO pxdock.parser.ligand: Initialize Done!\n",
      "1it [00:00,  2.06it/s]\n"
     ]
    }
   ],
   "source": [
    "prepared_ligand_jsons = prepare_ligand(ligand_sdf)"
   ]
  },
  {
   "cell_type": "code",
   "execution_count": null,
   "id": "057f42cb",
   "metadata": {},
   "outputs": [],
   "source": [
    "pocket = parse_pocket_config(\"5s8i_pocket.config\")"
   ]
  },
  {
   "cell_type": "code",
   "execution_count": null,
   "id": "7ef91c6a",
   "metadata": {},
   "outputs": [
    {
     "data": {
      "text/plain": [
       "{'center_x': -21.702,\n",
       " 'center_y': 13.751,\n",
       " 'center_z': 27.892,\n",
       " 'size_x': 12.062,\n",
       " 'size_y': 9.51,\n",
       " 'size_z': 12.016}"
      ]
     },
     "execution_count": null,
     "metadata": {},
     "output_type": "execute_result"
    }
   ],
   "source": [
    "pocket"
   ]
  },
  {
   "cell_type": "code",
   "execution_count": null,
   "id": "d89224a5",
   "metadata": {},
   "outputs": [
    {
     "name": "stderr",
     "output_type": "stream",
     "text": [
      "2025-04-18 06:18:43,773 [/home/zeus/miniconda3/envs/cloudspace/lib/python3.11/site-packages/pxdock-0.0.1-py3.11-linux-x86_64.egg/pxdock/common/utilities.py:296] INFO pxdock.parser.ffdata: for pdb4amber, output of ['pdb4amber', '-i', '/tmp/protenix-dock/C29647DB2F/B2C3E2A7E5/step0_cleaned.pdb', '-o', '/tmp/protenix-dock/C29647DB2F/B2C3E2A7E5/step1_amber.pdb', '--nohyd', '--dry', '--no-conect'] written to /tmp/protenix-dock/C29647DB2F/B2C3E2A7E5/pdb4amber_stdout.log and /tmp/protenix-dock/C29647DB2F/B2C3E2A7E5/pdb4amber_stderr.log, working dir is /tmp/protenix-dock/C29647DB2F/B2C3E2A7E5\n"
     ]
    },
    {
     "name": "stderr",
     "output_type": "stream",
     "text": [
      "2025-04-18 06:18:44,385 [/home/zeus/miniconda3/envs/cloudspace/lib/python3.11/site-packages/pxdock-0.0.1-py3.11-linux-x86_64.egg/pxdock/common/utilities.py:296] INFO pxdock.parser.ffdata: for tleap, output of ['tleap', '-f', '/tmp/protenix-dock/C29647DB2F/B2C3E2A7E5/step2_tleap.in', '-I', '/home/zeus/miniconda3/envs/cloudspace/lib/python3.11/site-packages/pxdock-0.0.1-py3.11-linux-x86_64.egg/pxdock/parser/../data/amberff'] written to /tmp/protenix-dock/C29647DB2F/B2C3E2A7E5/tleap_stdout.log and /tmp/protenix-dock/C29647DB2F/B2C3E2A7E5/tleap_stderr.log, working dir is /tmp/protenix-dock/C29647DB2F/B2C3E2A7E5\n",
      "2025-04-18 06:18:45,031 [/home/zeus/miniconda3/envs/cloudspace/lib/python3.11/site-packages/pxdock-0.0.1-py3.11-linux-x86_64.egg/pxdock/parser/receptor.py:281] INFO pxdock.parser.receptor: parsing ffdata and xyz from parmed object\n",
      "2025-04-18 06:18:52,497 [/home/zeus/miniconda3/envs/cloudspace/lib/python3.11/site-packages/pxdock-0.0.1-py3.11-linux-x86_64.egg/pxdock/parser/receptor.py:285] INFO pxdock.parser.receptor: parse ffdata from parmed object finished\n",
      "2025-04-18 06:18:52,520 [/home/zeus/miniconda3/envs/cloudspace/lib/python3.11/site-packages/MDAnalysis/core/universe.py:1691] INFO MDAnalysis.core.universe: attribute types has been guessed successfully.\n",
      "2025-04-18 06:18:52,521 [/home/zeus/miniconda3/envs/cloudspace/lib/python3.11/site-packages/MDAnalysis/core/universe.py:1691] INFO MDAnalysis.core.universe: attribute masses has been guessed successfully.\n",
      "2025-04-18 06:18:53,986 [/home/zeus/miniconda3/envs/cloudspace/lib/python3.11/site-packages/pxdock-0.0.1-py3.11-linux-x86_64.egg/pxdock/pipeline/prepare_receptor.py:71] INFO pxdock.pipeline.prepare_receptor: Saved receptor_data to /teamspace/studios/this_studio/Protenix-Dock/examples/5s8i_protein_prepared-prepared-receptor.json\n"
     ]
    },
    {
     "name": "stdout",
     "output_type": "stream",
     "text": [
      "Initialize Done\n"
     ]
    }
   ],
   "source": [
    "prepared_receptor_json = prepare_receptor(\n",
    "    receptor_pdb,\n",
    "    box_center=[pocket['center_x'], pocket['center_y'], pocket['center_z']],\n",
    "    box_size=[pocket['size_x'], pocket['size_y'], pocket['size_z']]\n",
    ")"
   ]
  },
  {
   "cell_type": "code",
   "execution_count": null,
   "id": "7ef681d3",
   "metadata": {},
   "outputs": [],
   "source": []
  }
 ],
 "metadata": {
  "kernelspec": {
   "display_name": "python3",
   "language": "python",
   "name": "python3"
  }
 },
 "nbformat": 4,
 "nbformat_minor": 5
}
