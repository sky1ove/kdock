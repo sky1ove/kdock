{
 "cells": [
  {
   "cell_type": "markdown",
   "id": "6bbe8f3e-06a3-4818-9968-d3c30547d5aa",
   "metadata": {},
   "source": [
    "# Gnina Tutorial"
   ]
  },
  {
   "cell_type": "markdown",
   "id": "d2930c59-7380-4a6b-91a5-110561c2e0ac",
   "metadata": {},
   "source": [
    "## Docking"
   ]
  },
  {
   "cell_type": "markdown",
   "id": "9e6910cc-7208-4963-ae0a-86bdd4bb5141",
   "metadata": {},
   "source": [
    "## Rescore with docked ligand"
   ]
  },
  {
   "cell_type": "code",
   "execution_count": null,
   "id": "a391142d-1ee5-465b-bf26-78543a398baa",
   "metadata": {},
   "outputs": [],
   "source": []
  }
 ],
 "metadata": {
  "kernelspec": {
   "display_name": "python3",
   "language": "python",
   "name": "python3"
  }
 },
 "nbformat": 4,
 "nbformat_minor": 5
}
