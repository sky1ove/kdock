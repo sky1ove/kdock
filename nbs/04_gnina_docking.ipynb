{
 "cells": [
  {
   "cell_type": "markdown",
   "metadata": {},
   "source": [
    "# gnina docking"
   ]
  },
  {
   "cell_type": "markdown",
   "metadata": {},
   "source": [
    "## Setup"
   ]
  },
  {
   "cell_type": "code",
   "execution_count": null,
   "metadata": {},
   "outputs": [],
   "source": [
    "#| default_exp gnina_dock"
   ]
  },
  {
   "cell_type": "code",
   "execution_count": null,
   "metadata": {},
   "outputs": [],
   "source": [
    "#| export\n",
    "# basics\n",
    "import re,subprocess, py3Dmol\n",
    "from tqdm import tqdm\n",
    "from pathlib import Path\n",
    "import pandas as pd,numpy as np\n",
    "\n",
    "# rdkit\n",
    "from rdkit import Chem\n",
    "from rdkit.Chem import AllChem"
   ]
  },
  {
   "cell_type": "markdown",
   "metadata": {},
   "source": [
    "## Setup gnina"
   ]
  },
  {
   "cell_type": "markdown",
   "metadata": {},
   "source": [
    "Below are the commands to setup"
   ]
  },
  {
   "cell_type": "code",
   "execution_count": null,
   "metadata": {},
   "outputs": [],
   "source": [
    "# !sudo apt install -yq openbabel\n",
    "# !wget https://github.com/gnina/gnina/releases/download/v1.0.3/gnina #check the latest version please\n",
    "# !chmod +x gnina\n",
    "# !./gnina"
   ]
  },
  {
   "cell_type": "markdown",
   "metadata": {},
   "source": [
    "Alternatively, use python script to setup:"
   ]
  },
  {
   "cell_type": "code",
   "execution_count": null,
   "metadata": {},
   "outputs": [],
   "source": [
    "#| export\n",
    "def setup_gnina_local(version='v1.3'):\n",
    "    \"Download and install gnina in the current directory\"\n",
    "    # Check CUDA availability\n",
    "    # try:\n",
    "    #     subprocess.run([\"nvidia-smi\"], check=True, stdout=subprocess.DEVNULL, stderr=subprocess.DEVNULL)\n",
    "    # except subprocess.CalledProcessError:\n",
    "    #     raise EnvironmentError(\"CUDA not detected. Please make sure a CUDA-capable GPU is available and drivers are installed.\")\n",
    "    # except FileNotFoundError:\n",
    "    #     raise EnvironmentError(\"nvidia-smi not found. Make sure NVIDIA drivers and CUDA are installed.\")\n",
    "\n",
    "    subprocess.run([\"sudo\", \"apt-get\", \"update\", \"-yq\"], check=True,stdout=subprocess.DEVNULL, stderr=subprocess.DEVNULL)\n",
    "    subprocess.run([\"sudo\", \"apt-get\", \"install\", \"-yq\", \"openbabel\"], check=True)\n",
    "\n",
    "    gnina_url = f\"https://github.com/gnina/gnina/releases/download/{version}/gnina\"\n",
    "    print(f'Downloading {version} gnina')\n",
    "    subprocess.run([\"wget\",gnina_url], check=True,stdout=subprocess.DEVNULL, stderr=subprocess.DEVNULL)\n",
    "    subprocess.run([\"chmod\", \"+x\", 'gnina'], check=True)\n",
    "    \n",
    "    print('Finish setup!')"
   ]
  },
  {
   "cell_type": "code",
   "execution_count": null,
   "metadata": {},
   "outputs": [
    {
     "name": "stdout",
     "output_type": "stream",
     "text": [
      "Reading package lists...\n",
      "Building dependency tree...\n",
      "Reading state information...\n",
      "openbabel is already the newest version (3.0.0+dfsg-3ubuntu3).\n",
      "0 upgraded, 0 newly installed, 0 to remove and 6 not upgraded.\n",
      "Downloading v1.3 gnina\n",
      "Finish setup!\n"
     ]
    }
   ],
   "source": [
    "# setup_gnina_local()"
   ]
  },
  {
   "cell_type": "code",
   "execution_count": null,
   "metadata": {},
   "outputs": [],
   "source": [
    "def delete_gnina(gnina_path=\"gnina\"):\n",
    "    \"Remove gnina after finish\"\n",
    "    path=Path(gnina_path)\n",
    "    if path.exists() and path.is_file():\n",
    "        path.unlink()\n",
    "        print('Deleted!')\n",
    "    else: print('Not exist!')"
   ]
  },
  {
   "cell_type": "code",
   "execution_count": null,
   "metadata": {},
   "outputs": [
    {
     "name": "stdout",
     "output_type": "stream",
     "text": [
      "Deleted!\n"
     ]
    }
   ],
   "source": [
    "# delete_gnina()"
   ]
  },
  {
   "cell_type": "markdown",
   "metadata": {},
   "source": [
    "If local is not successful, use docker"
   ]
  },
  {
   "cell_type": "code",
   "execution_count": null,
   "metadata": {},
   "outputs": [],
   "source": [
    "#| export\n",
    "def setup_gnina_docker():\n",
    "    \"Pull gnina docker image\"\n",
    "    print(\"Pulling GNINA Docker image: gnina/gnina\")\n",
    "    subprocess.run([\"docker\", \"pull\", \"gnina/gnina\"], check=True,stdout=subprocess.DEVNULL, stderr=subprocess.DEVNULL)\n",
    "    print(\"GNINA Docker image is ready.\")"
   ]
  },
  {
   "cell_type": "code",
   "execution_count": null,
   "metadata": {},
   "outputs": [
    {
     "name": "stdout",
     "output_type": "stream",
     "text": [
      "Pulling GNINA Docker image: gnina/gnina\n",
      "GNINA Docker image is ready.\n"
     ]
    }
   ],
   "source": [
    "# setup_gnina_docker()"
   ]
  },
  {
   "cell_type": "markdown",
   "metadata": {},
   "source": [
    "## Get protein and ligand"
   ]
  },
  {
   "cell_type": "code",
   "execution_count": null,
   "metadata": {},
   "outputs": [],
   "source": [
    "# #nature medicine paper, mrtx\n",
    "# !wget http://files.rcsb.org/download/7T47.pdb\n",
    "\n",
    "# # get ligand\n",
    "# !grep 6IC 7T47.pdb > lig.pdb\n",
    "\n",
    "# # get protein\n",
    "# # !grep ATOM 7T47.pdb > rec.pdb #not as good as the one below\n",
    "\n",
    "# !grep -v 6IC 7T47.pdb > rec.pdb"
   ]
  },
  {
   "cell_type": "markdown",
   "metadata": {},
   "source": [
    "## Conformer generation"
   ]
  },
  {
   "cell_type": "code",
   "execution_count": null,
   "metadata": {},
   "outputs": [],
   "source": [
    "#| export\n",
    "def rdkit_conformer(SMILES, # SMILES string\n",
    "                    output, # file \".sdf\" to be saved\n",
    "                    method='ETKDG', # Optimization method, can be 'UFF', 'MMFF' or 'ETKDGv3'\n",
    "                    visualize=True, #whether or not to visualize the compound\n",
    "                    seed = 3,# randomness of the 3d\n",
    "                    ):\n",
    "    \n",
    "    np.random.seed(seed) \n",
    "    mol = Chem.MolFromSmiles(SMILES)\n",
    "    \n",
    "    # Generate a 3D conformation of the molecule\n",
    "    AllChem.EmbedMolecule(mol)\n",
    "    \n",
    "\n",
    "    # Optimize the 3D conformation using the specified force field method\n",
    "    if method == 'UFF':\n",
    "        AllChem.UFFOptimizeMolecule(mol)\n",
    "    elif method == 'MMFF':\n",
    "        AllChem.MMFFOptimizeMolecule(mol)\n",
    "    elif method == 'ETKDG':\n",
    "        AllChem.EmbedMultipleConfs(mol, numConfs=1, useExpTorsionAnglePrefs=True, \n",
    "                                   useBasicKnowledge=True, enforceChirality=True,randomSeed=seed)\n",
    "        AllChem.ETKDGv3()\n",
    "        AllChem.UFFOptimizeMolecule(mol)\n",
    "        \n",
    "#     elif method == 'ETKDG_MMFF':\n",
    "#         AllChem.EmbedMultipleConfs(mol, numConfs=1, useExpTorsionAnglePrefs=True, \n",
    "#                                    useBasicKnowledge=True, enforceChirality=True)\n",
    "#         AllChem.ETKDGv3()\n",
    "#         AllChem.MMFFOptimizeMolecule(mol)\n",
    "    else:\n",
    "        raise ValueError('Invalid method specified')\n",
    "        \n",
    "\n",
    "    # Remove hydrogens from the molecule\n",
    "    # mol = Chem.RemoveHs(mol)\n",
    "    \n",
    "    Path(output).parent.mkdir(parents=True,exist_ok=True)\n",
    "\n",
    "    w = Chem.SDWriter(output)\n",
    "    w.write(mol)\n",
    "    w.close()\n",
    "    \n",
    "    if visualize:\n",
    "        v = py3Dmol.view()\n",
    "        v.addModel(Chem.MolToMolBlock(mol))\n",
    "        v.setStyle({'stick':{}})\n",
    "        v.zoomTo()\n",
    "        v.show()"
   ]
  },
  {
   "cell_type": "markdown",
   "metadata": {},
   "source": [
    "## Gnina affinity"
   ]
  },
  {
   "cell_type": "code",
   "execution_count": null,
   "metadata": {},
   "outputs": [],
   "source": [
    "#| export\n",
    "def extract_gnina_dock(gnina_output):\n",
    "    \"Extract values from gnina output\"\n",
    "    mode1_line = re.search(r'\\b1\\s+(-?\\d+\\.\\d+)\\s+(-?\\d+\\.\\d+)\\s+(-?\\d+\\.\\d+)\\b', gnina_output)\n",
    "    \n",
    "    if mode1_line:\n",
    "        affinity = float(mode1_line.group(1))\n",
    "        cnn_pose_score = float(mode1_line.group(2))\n",
    "        cnn_affinity = float(mode1_line.group(3))\n",
    "        \n",
    "        return affinity, cnn_pose_score, cnn_affinity\n",
    "    \n",
    "    return None"
   ]
  },
  {
   "cell_type": "code",
   "execution_count": null,
   "metadata": {},
   "outputs": [],
   "source": [
    "#| export\n",
    "def gnina_dock(receptor, # receptor file\n",
    "              ligand, # ligand file\n",
    "              autobox_ligand, # ligand file isolated from the complex\n",
    "              output = 'docked.sdf', # output file (sdf or sdf.gz) to be saved\n",
    "              seed=0, # set seeds\n",
    "              exhaustiveness=None, # number of MC chains, default is 8 if None, the higher the better (16,32); for whole protein, use 64\n",
    "              ):\n",
    "    \n",
    "    command = ['./gnina', \n",
    "               '-r', receptor, \n",
    "               '-l', ligand, \n",
    "               '--autobox_ligand', autobox_ligand,\n",
    "               '-o', output,\n",
    "               '--seed', str(seed)]\n",
    "\n",
    "    if exhaustiveness is not None:\n",
    "        command.extend(['--exhaustiveness', str(exhaustiveness)])\n",
    "\n",
    "    output_txt = subprocess.run(command, capture_output=True, text=True).stdout\n",
    "    \n",
    "    print(f'save the docked file as {output}')\n",
    "    \n",
    "    values = extract_gnina_dock(output_txt)\n",
    "    \n",
    "    print(f'affinity, cnn_pose_score, and cnn_affinity are: {values}')\n",
    "\n",
    "    return values"
   ]
  },
  {
   "cell_type": "code",
   "execution_count": null,
   "metadata": {},
   "outputs": [],
   "source": [
    "# df = Data.get_g12d_dedup()[:10]"
   ]
  },
  {
   "cell_type": "code",
   "execution_count": null,
   "metadata": {},
   "outputs": [],
   "source": [
    "#| export\n",
    "def gnina_dock(df, \n",
    "                 ID_col = 'ID',\n",
    "                 smi_col = 'SMILES',\n",
    "              output_dir = 'gnina_docked'\n",
    "                 ):\n",
    "    affinity_values = []\n",
    "    cnn_pose_score_values = []\n",
    "    cnn_affinity_values = []\n",
    "\n",
    "    \n",
    "    Path(output_dir).mkdir(parents=True,exist_ok=True)\n",
    "\n",
    "    for i, r in tqdm(df.iterrows(),total=len(df),desc='Docking'):\n",
    "        rdkit_conformer(SMILES=r[smi_col], output = f'ligand/{r[ID_col]}.sdf', visualize=False)\n",
    "        affinity, cnn_pose_score, cnn_affinity = gnina_dock('rec.pdb',f'ligand/{r[ID_col]}.sdf', 'lig.pdb',f'docked/docked_{r[ID_col]}.sdf')\n",
    "\n",
    "        affinity_values.append(affinity)\n",
    "        cnn_pose_score_values.append(cnn_pose_score)\n",
    "        cnn_affinity_values.append(cnn_affinity)\n",
    "\n",
    "    df = df.copy()\n",
    "    df['Affinity'] = affinity_values\n",
    "    df['CNN_Pose_Score'] = cnn_pose_score_values\n",
    "    df['CNN_Affinity'] = cnn_affinity_values\n",
    "    \n",
    "    return df"
   ]
  },
  {
   "cell_type": "code",
   "execution_count": null,
   "metadata": {},
   "outputs": [],
   "source": [
    "# out = gnina_dock_df(df)"
   ]
  },
  {
   "cell_type": "markdown",
   "metadata": {},
   "source": [
    "TODO: make it parallel"
   ]
  },
  {
   "cell_type": "markdown",
   "metadata": {},
   "source": [
    "## End"
   ]
  },
  {
   "cell_type": "code",
   "execution_count": null,
   "metadata": {},
   "outputs": [],
   "source": [
    "#| hide\n",
    "import nbdev; nbdev.nbdev_export()"
   ]
  },
  {
   "cell_type": "code",
   "execution_count": null,
   "metadata": {},
   "outputs": [],
   "source": []
  }
 ],
 "metadata": {
  "kernelspec": {
   "display_name": "Python 3",
   "language": "python",
   "name": "python3"
  },
  "language_info": {
   "name": ""
  }
 },
 "nbformat": 4,
 "nbformat_minor": 4
}
