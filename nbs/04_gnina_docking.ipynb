{
 "cells": [
  {
   "cell_type": "markdown",
   "metadata": {},
   "source": [
    "# gnina docking"
   ]
  },
  {
   "cell_type": "markdown",
   "metadata": {},
   "source": [
    "## Setup"
   ]
  },
  {
   "cell_type": "code",
   "execution_count": null,
   "metadata": {},
   "outputs": [],
   "source": [
    "#| default_exp gnina_docking"
   ]
  },
  {
   "cell_type": "code",
   "execution_count": null,
   "metadata": {},
   "outputs": [],
   "source": [
    "#| export\n",
    "from rdkit import Chem\n",
    "from rdkit.Chem import AllChem\n",
    "import subprocess\n",
    "import os\n",
    "import py3Dmol\n",
    "import re\n",
    "# from tools.dataset import Data\n",
    "import pandas as pd\n",
    "import numpy as np\n",
    "from tqdm import tqdm\n",
    "import seaborn as sns"
   ]
  },
  {
   "cell_type": "markdown",
   "metadata": {},
   "source": [
    "### Uncheck below when running a new notebook"
   ]
  },
  {
   "cell_type": "code",
   "execution_count": null,
   "metadata": {},
   "outputs": [],
   "source": [
    "# !sudo apt install -yq openbabel\n",
    "\n",
    "# !wget https://github.com/gnina/gnina/releases/download/v1.0.3/gnina #check the latest version please\n",
    "\n",
    "# !chmod +x gnina\n",
    "\n",
    "# !./gnina"
   ]
  },
  {
   "cell_type": "markdown",
   "metadata": {},
   "source": [
    "## Get protein and ligand"
   ]
  },
  {
   "cell_type": "code",
   "execution_count": null,
   "metadata": {},
   "outputs": [],
   "source": [
    "# #nature medicine paper, mrtx\n",
    "# !wget http://files.rcsb.org/download/7T47.pdb\n",
    "\n",
    "# # get ligand\n",
    "# !grep 6IC 7T47.pdb > lig.pdb\n",
    "\n",
    "# # get protein\n",
    "# # !grep ATOM 7T47.pdb > rec.pdb #not as good as the one below\n",
    "\n",
    "# !grep -v 6IC 7T47.pdb > rec.pdb"
   ]
  },
  {
   "cell_type": "markdown",
   "metadata": {},
   "source": [
    "## Conformer generation"
   ]
  },
  {
   "cell_type": "code",
   "execution_count": null,
   "metadata": {},
   "outputs": [],
   "source": [
    "#| export\n",
    "def rdkit_conformer(SMILES, # SMILES string\n",
    "                    output, # file \".sdf\" to be saved\n",
    "                    method='ETKDG', # Optimization method, can be 'UFF', 'MMFF' or 'ETKDGv3'\n",
    "                    visualize=True, #whether or not to visualize the compound\n",
    "                    seed = 3,# randomness of the 3d\n",
    "                   ):\n",
    "    \n",
    "    np.random.seed(seed) \n",
    "    # Generate a 2D molecule from the SMILES string\n",
    "    mol = Chem.MolFromSmiles(SMILES)\n",
    "    \n",
    "    # Generate a 3D conformation of the molecule\n",
    "    AllChem.EmbedMolecule(mol)\n",
    "    \n",
    "\n",
    "    # Optimize the 3D conformation using the specified force field method\n",
    "    if method == 'UFF':\n",
    "        AllChem.UFFOptimizeMolecule(mol)\n",
    "    elif method == 'MMFF':\n",
    "        AllChem.MMFFOptimizeMolecule(mol)\n",
    "    elif method == 'ETKDG':\n",
    "        AllChem.EmbedMultipleConfs(mol, numConfs=1, useExpTorsionAnglePrefs=True, \n",
    "                                   useBasicKnowledge=True, enforceChirality=True,randomSeed=seed)\n",
    "        AllChem.ETKDGv3()\n",
    "        AllChem.UFFOptimizeMolecule(mol)\n",
    "        \n",
    "#     elif method == 'ETKDG_MMFF':\n",
    "#         AllChem.EmbedMultipleConfs(mol, numConfs=1, useExpTorsionAnglePrefs=True, \n",
    "#                                    useBasicKnowledge=True, enforceChirality=True)\n",
    "#         AllChem.ETKDGv3()\n",
    "#         AllChem.MMFFOptimizeMolecule(mol)\n",
    "    else:\n",
    "        raise ValueError('Invalid method specified')\n",
    "        \n",
    "\n",
    "    # Remove hydrogens from the molecule\n",
    "    # mol = Chem.RemoveHs(mol)\n",
    "    \n",
    "    # create the directory if it does not exist\n",
    "    directory = os.path.dirname(os.path.abspath(output))\n",
    "    os.makedirs(directory, exist_ok=True)\n",
    "\n",
    "    # Write the molecule to an SDF file\n",
    "    w = Chem.SDWriter(output)\n",
    "    w.write(mol)\n",
    "    w.close()\n",
    "    \n",
    "    if visualize:\n",
    "        v = py3Dmol.view()\n",
    "        v.addModel(Chem.MolToMolBlock(mol))\n",
    "        v.setStyle({'stick':{}})\n",
    "        v.zoomTo()\n",
    "        v.show()"
   ]
  },
  {
   "cell_type": "markdown",
   "metadata": {},
   "source": [
    "## Gnina affinity"
   ]
  },
  {
   "cell_type": "code",
   "execution_count": null,
   "metadata": {},
   "outputs": [],
   "source": [
    "#| export\n",
    "def extract_values(gnina_output):\n",
    "    \"Extract values from gnina output\"\n",
    "    # Search for the line containing mode 1\n",
    "    mode1_line = re.search(r'\\b1\\s+(-?\\d+\\.\\d+)\\s+(-?\\d+\\.\\d+)\\s+(-?\\d+\\.\\d+)\\b', gnina_output)\n",
    "    \n",
    "    if mode1_line:\n",
    "        # Extract the values from the matched line\n",
    "        affinity = float(mode1_line.group(1))\n",
    "        cnn_pose_score = float(mode1_line.group(2))\n",
    "        cnn_affinity = float(mode1_line.group(3))\n",
    "        \n",
    "        return affinity, cnn_pose_score, cnn_affinity\n",
    "    \n",
    "    return None"
   ]
  },
  {
   "cell_type": "code",
   "execution_count": null,
   "metadata": {},
   "outputs": [],
   "source": [
    "#| export\n",
    "def run_gnina(receptor, # receptor file\n",
    "              ligand, # ligand file\n",
    "              autobox_ligand, # ligand file isolated from the complex\n",
    "              output = 'docked.sdf', # output file (sdf or sdf.gz) to be saved\n",
    "              seed=0, # set seeds\n",
    "              exhaustiveness=None, # number of MC chains, default is 8 if None, the higher the better (16,32); for whole protein, use 64\n",
    "              ):\n",
    "    \n",
    "    command = ['./gnina', \n",
    "               '-r', receptor, \n",
    "               '-l', ligand, \n",
    "               '--autobox_ligand', autobox_ligand,\n",
    "               '-o', output,\n",
    "               '--seed', str(seed)]\n",
    "\n",
    "    if exhaustiveness is not None:\n",
    "        command.extend(['--exhaustiveness', str(exhaustiveness)])\n",
    "\n",
    "    # Run the command and capture the output\n",
    "    result = subprocess.run(command, capture_output=True, text=True)\n",
    "    \n",
    "    print(f'save the docked file as {output}')\n",
    "    \n",
    "    values = extract_values_from_output(result.stdout)\n",
    "    \n",
    "    print(f'affinity, cnn_pose_score, and cnn_affinity are: {values}')\n",
    "\n",
    "    return values"
   ]
  },
  {
   "cell_type": "code",
   "execution_count": null,
   "metadata": {},
   "outputs": [],
   "source": [
    "# df = Data.get_g12d_dedup()[:10]"
   ]
  },
  {
   "cell_type": "code",
   "execution_count": null,
   "metadata": {},
   "outputs": [],
   "source": [
    "#| export\n",
    "def run_gnina_df(df, \n",
    "                 ID_col = 'ID',\n",
    "                 smi_col = 'SMILES',\n",
    "                 output_df = 'gnina.csv',\n",
    "                 ):\n",
    "    affinity_values = []\n",
    "    cnn_pose_score_values = []\n",
    "    cnn_affinity_values = []\n",
    "\n",
    "    # Create a tqdm progress bar\n",
    "    progress_bar = tqdm(total=len(df), desc='Processing')\n",
    "    \n",
    "    # create the directory if it does not exist\n",
    "    os.makedirs('docked', exist_ok=True)\n",
    "\n",
    "    for i, r in df.iterrows():\n",
    "        rdkit_conformer(SMILES=r[smi_col], output = f'ligand/{r[ID_col]}.sdf', visualize=False)\n",
    "        affinity, cnn_pose_score, cnn_affinity = run_gnina('rec.pdb',f'ligand/{r[ID_col]}.sdf', 'lig.pdb',f'docked/docked_{r[ID_col]}.sdf')\n",
    "\n",
    "        affinity_values.append(affinity)\n",
    "        cnn_pose_score_values.append(cnn_pose_score)\n",
    "        cnn_affinity_values.append(cnn_affinity)\n",
    "\n",
    "        # Update the progress bar\n",
    "        progress_bar.update(1)\n",
    "\n",
    "    # Close the progress bar\n",
    "    progress_bar.close()\n",
    "\n",
    "    # Assign the calculated values as new columns in the DataFrame\n",
    "    df = df.copy()\n",
    "    df['Affinity'] = affinity_values\n",
    "    df['CNN_Pose_Score'] = cnn_pose_score_values\n",
    "    df['CNN_Affinity'] = cnn_affinity_values\n",
    "    \n",
    "    df.to_csv(output_df,index=False)\n",
    "    \n",
    "    return df"
   ]
  },
  {
   "cell_type": "code",
   "execution_count": null,
   "metadata": {},
   "outputs": [],
   "source": [
    "# out = run_gnina_df(df)"
   ]
  },
  {
   "cell_type": "markdown",
   "metadata": {},
   "source": [
    "## End"
   ]
  },
  {
   "cell_type": "code",
   "execution_count": null,
   "metadata": {},
   "outputs": [],
   "source": [
    "#| hide\n",
    "import nbdev; nbdev.nbdev_export()"
   ]
  },
  {
   "cell_type": "code",
   "execution_count": null,
   "metadata": {},
   "outputs": [],
   "source": []
  }
 ],
 "metadata": {
  "kernelspec": {
   "display_name": "python3",
   "language": "python",
   "name": "python3"
  }
 },
 "nbformat": 4,
 "nbformat_minor": 4
}
