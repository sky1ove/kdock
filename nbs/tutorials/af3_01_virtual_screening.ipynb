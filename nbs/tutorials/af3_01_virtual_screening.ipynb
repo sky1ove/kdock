{
 "cells": [
  {
   "cell_type": "markdown",
   "id": "0409bc66-0a13-4743-87a4-d31ec461a72a",
   "metadata": {},
   "source": [
    "# Virtual screening"
   ]
  },
  {
   "cell_type": "markdown",
   "id": "fa143eb7-9a58-4f24-a090-410785dabbfd",
   "metadata": {},
   "source": [
    "## Setup"
   ]
  },
  {
   "cell_type": "code",
   "execution_count": null,
   "id": "ed02cb60-fc5e-4469-92dd-7890bd751057",
   "metadata": {},
   "outputs": [],
   "source": [
    "from kdock.data.core import *\n",
    "from kdock.af3.json import *\n",
    "from kdock.af3.docker import *\n",
    "import pandas as pd"
   ]
  },
  {
   "cell_type": "markdown",
   "id": "f1702e18-f722-4cf8-b56c-5e3eb736f84c",
   "metadata": {},
   "source": [
    "## Run single protein default pipeline"
   ]
  },
  {
   "cell_type": "markdown",
   "id": "816778b0-881b-43f0-a023-9eb4ade907af",
   "metadata": {},
   "source": [
    "### Json:"
   ]
  },
  {
   "cell_type": "code",
   "execution_count": null,
   "id": "86d37f31-6ac2-4e06-96ac-c4daee8a13fb",
   "metadata": {},
   "outputs": [],
   "source": [
    "data = get_protein_json('proteinA','AAA','data/proteinA.json',seeds=[1,2,3])"
   ]
  },
  {
   "cell_type": "code",
   "execution_count": null,
   "id": "567d3037-6420-46df-ae3a-52ec67ec6c56",
   "metadata": {},
   "outputs": [
    {
     "data": {
      "text/plain": [
       "{'name': 'proteinA',\n",
       " 'modelSeeds': [1, 2, 3],\n",
       " 'sequences': [{'protein': {'id': 'A', 'sequence': 'AAA'}}],\n",
       " 'bondedAtomPairs': [],\n",
       " 'dialect': 'alphafold3',\n",
       " 'version': 3}"
      ]
     },
     "execution_count": null,
     "metadata": {},
     "output_type": "execute_result"
    }
   ],
   "source": [
    "data"
   ]
  },
  {
   "cell_type": "markdown",
   "id": "c47e87cb-6f48-4876-bb25-e9b9033a01e0",
   "metadata": {},
   "source": [
    "### Docker command"
   ]
  },
  {
   "cell_type": "markdown",
   "id": "87291c24-5864-48b2-ab28-dd95a2c39d76",
   "metadata": {},
   "source": [
    "Move the generated `proteinA.json` to the `af_input/project_name` folder"
   ]
  },
  {
   "cell_type": "code",
   "execution_count": null,
   "id": "fec189ab-7a9c-437f-9820-e8e2fca9fe0a",
   "metadata": {},
   "outputs": [],
   "source": [
    "project_name='sdf'"
   ]
  },
  {
   "cell_type": "code",
   "execution_count": null,
   "id": "9ff1e647-d870-4336-94c4-95862980369d",
   "metadata": {},
   "outputs": [
    {
     "name": "stdout",
     "output_type": "stream",
     "text": [
      "docker run --rm \\\n",
      "    --volume \"$HOME/af_input:/root/af_input\" \\\n",
      "    --volume \"$HOME/af_output/sdf:/root/af_output\" \\\n",
      "    --volume \"$HOME/af_model:/root/models\" \\\n",
      "    --volume \"$HOME/af_database:/root/public_databases\" \\\n",
      "    --gpus \"device=0\" \\\n",
      "    sky1ove/alphafold3 \\\n",
      "    python run_alphafold.py \\\n",
      "    --json_path=/root/af_input/sdf/proteinA.json \\\n",
      "    --output_dir=/root/af_output \\\n",
      "    --model_dir=/root/models\n"
     ]
    }
   ],
   "source": [
    "docker_single_full(json_path=f\"af_input/{project_name}/proteinA.json\",\n",
    "                               output_dir=f\"af_output/{project_name}\")"
   ]
  },
  {
   "cell_type": "markdown",
   "id": "1edb9e5a-a69f-48e1-87c0-164176e6ddea",
   "metadata": {},
   "source": [
    "## Prepare protein-smiles files"
   ]
  },
  {
   "cell_type": "markdown",
   "id": "4b97ce80-1c7f-41e2-84c1-9f0249c3b772",
   "metadata": {},
   "source": [
    "### Read output json"
   ]
  },
  {
   "cell_type": "code",
   "execution_count": null,
   "id": "e1c64405-aa3a-45f7-ad0d-eb3479db558e",
   "metadata": {},
   "outputs": [],
   "source": [
    "protein_json = read_json('../af3/data/seq_only_data.json')"
   ]
  },
  {
   "cell_type": "code",
   "execution_count": null,
   "id": "8fa10038-b77c-4fab-9f5b-5e7c207b1f80",
   "metadata": {},
   "outputs": [
    {
     "data": {
      "text/plain": [
       "'{\\'dialect\\': \\'alphafold3\\', \\'version\\': 2, \\'name\\': \\'PDCD1_seq_only\\', \\'sequences\\': [{\\'protein\\': {\\'id\\': \\'A\\', \\'sequence\\': \\'LDSPDRPWNPPTFSPALLVVTEGDNATFTCSFSNTSESFVLNWYRMSPSNQTDKLAAFPEDRSQPGQDCRFRVTQLPNGRDFHMSVVRARRNDSGTYLCGAISLAPKAQIKESLRAELRVTERRAEVPTAHPSPSPRPAGQFQTLV\\', \\'modifications\\': [], \\'unpairedMsa\\': \">query\\\\nLDSPDRPWNPPTFSPALLVVTEGDNATFTCSFSNTSESFVLNWYRMSPSNQTDKLAAFPEDRSQPGQDCRFRVTQLPNGRDFHMSVVRARRNDSGTYLCGAISLAPKAQIKESLRAELRVTERRAEVPTAHPSPSPRPAGQFQTLV\\\\n>UniRef90_UPI0009801507/25-167 [subseq from] Programmed cell death protein 1 n=10 Tax=Homo sapiens TaxID=9606 RepID=UPI0009801507\\\\nLDSPDRPWNPPTFSPALLVVTEGDNATFTCSFSNTSESFVLNWYRMSPSNQTDKLAAFPEDRSQPGQDCRFRVTQLPNGRDFHMSVVRARRNDSGTYLCGAISLAPKAQIKESLRAELRVTERRAEVPTAHPSPSPRPAGQFQ---\\\\n>UniRef90_A0A5F7ZCX7/24-168 [subseq from] Programmed cell death 1 n=1 Tax=Macaca mulatta TaxID=9544 RepID=A0A5F7ZCX7_MACMU\\\\n-ESPDRPWNPPTFSPALLLVTEGDNATFTCSFSNASESFVLNWYRMSPSNQTDKLAAFPEDRSQPGRDCRFRVTQLPNGRDFHMSVVRARRNDSGTYLCGAISLAPKAQIKESLRAELRVTERRAEVPTAHPSPSPRP'"
      ]
     },
     "execution_count": null,
     "metadata": {},
     "output_type": "execute_result"
    }
   ],
   "source": [
    "str(protein_json)[:1000]"
   ]
  },
  {
   "cell_type": "markdown",
   "id": "bdcc749c-d279-4aa4-bb5d-5c7d5f5be6c2",
   "metadata": {},
   "source": [
    "### Single protein-smile pair"
   ]
  },
  {
   "cell_type": "code",
   "execution_count": null,
   "id": "130f7be3-fa7f-4be0-839d-3a4fd322154f",
   "metadata": {},
   "outputs": [],
   "source": [
    "out = get_protein_smiles_json('smi_name','CCC',protein_json,'data/protein_smi.json')"
   ]
  },
  {
   "cell_type": "markdown",
   "id": "6b5ce160-f3f5-44a2-80d7-2ab4710a0ccf",
   "metadata": {},
   "source": [
    "### Multiple protein-smile pairs in a df"
   ]
  },
  {
   "cell_type": "code",
   "execution_count": null,
   "id": "64b0217c-b0b8-4f26-8203-80a52d94fe8e",
   "metadata": {},
   "outputs": [
    {
     "data": {
      "text/html": [
       "<div>\n",
       "<style scoped>\n",
       "    .dataframe tbody tr th:only-of-type {\n",
       "        vertical-align: middle;\n",
       "    }\n",
       "\n",
       "    .dataframe tbody tr th {\n",
       "        vertical-align: top;\n",
       "    }\n",
       "\n",
       "    .dataframe thead th {\n",
       "        text-align: right;\n",
       "    }\n",
       "</style>\n",
       "<table border=\"1\" class=\"dataframe\">\n",
       "  <thead>\n",
       "    <tr style=\"text-align: right;\">\n",
       "      <th></th>\n",
       "      <th>idx</th>\n",
       "      <th>smi</th>\n",
       "    </tr>\n",
       "  </thead>\n",
       "  <tbody>\n",
       "    <tr>\n",
       "      <th>0</th>\n",
       "      <td>a</td>\n",
       "      <td>CCC</td>\n",
       "    </tr>\n",
       "    <tr>\n",
       "      <th>1</th>\n",
       "      <td>b</td>\n",
       "      <td>OCO</td>\n",
       "    </tr>\n",
       "  </tbody>\n",
       "</table>\n",
       "</div>"
      ],
      "text/plain": [
       "  idx  smi\n",
       "0   a  CCC\n",
       "1   b  OCO"
      ]
     },
     "execution_count": null,
     "metadata": {},
     "output_type": "execute_result"
    }
   ],
   "source": [
    "df = pd.DataFrame({'idx':['a','b'],'smi':['CCC','OCO']})\n",
    "df"
   ]
  },
  {
   "cell_type": "code",
   "execution_count": null,
   "id": "803200e7-ce1a-4ea7-8508-191674925577",
   "metadata": {},
   "outputs": [],
   "source": [
    "for idx, smi in df.values:\n",
    "    _ = get_protein_smiles_json(idx,smi,protein_json,f'af_input/{project_name}/{idx}.json',seeds=[1,2,3])"
   ]
  },
  {
   "cell_type": "markdown",
   "id": "c3587cd4-bb28-4d64-9c2c-c6083706138c",
   "metadata": {},
   "source": [
    "This will generate many json files in the directory"
   ]
  },
  {
   "cell_type": "markdown",
   "id": "19ed21bd-47b3-4f50-8457-d8e540f40c92",
   "metadata": {},
   "source": [
    "## Split file into multiple subfolder for multi-GPUs"
   ]
  },
  {
   "cell_type": "code",
   "execution_count": null,
   "id": "05118c28-53ea-48a9-b905-1a6d2ec44e17",
   "metadata": {},
   "outputs": [
    {
     "name": "stdout",
     "output_type": "stream",
     "text": [
      "Distributed 2 files into 4 folders.\n"
     ]
    }
   ],
   "source": [
    "split_nfolder(f'af_input/{project_name}')"
   ]
  },
  {
   "cell_type": "markdown",
   "id": "569c4a83-9a09-453d-b118-ce6c0ec8dc39",
   "metadata": {},
   "source": [
    "## Docker"
   ]
  },
  {
   "cell_type": "markdown",
   "id": "857a441e-6c14-4e23-a875-fea9a7502483",
   "metadata": {},
   "source": [
    "```bash\n",
    "docker pull sky1ove/alphafold3\n",
    "```"
   ]
  },
  {
   "cell_type": "code",
   "execution_count": null,
   "id": "e16aa873-ab5b-4247-80f2-704a32fcba04",
   "metadata": {},
   "outputs": [
    {
     "name": "stdout",
     "output_type": "stream",
     "text": [
      "docker run --rm \\\n",
      "    --volume \"$HOME/af_input:/root/af_input\" \\\n",
      "    --volume \"$HOME/af_output/sdf:/root/af_output\" \\\n",
      "    --volume \"$HOME/af_model:/root/models\" \\\n",
      "    --volume \"$HOME/af_database:/root/public_databases\" \\\n",
      "    --volume \"$HOME/af_cache:/root/cache\" \\\n",
      "    --gpus \"device=0\" \\\n",
      "    sky1ove/alphafold3 \\\n",
      "    python run_alphafold.py \\\n",
      "    --input_dir=/root/af_input/sdf/folder_0 \\\n",
      "    --output_dir=/root/af_output \\\n",
      "    --model_dir=/root/models \\\n",
      "    --jax_compilation_cache_dir=/root/cache \\\n",
      "    --norun_data_pipeline\n",
      "docker run --rm \\\n",
      "    --volume \"$HOME/af_input:/root/af_input\" \\\n",
      "    --volume \"$HOME/af_output/sdf:/root/af_output\" \\\n",
      "    --volume \"$HOME/af_model:/root/models\" \\\n",
      "    --volume \"$HOME/af_database:/root/public_databases\" \\\n",
      "    --volume \"$HOME/af_cache:/root/cache\" \\\n",
      "    --gpus \"device=1\" \\\n",
      "    sky1ove/alphafold3 \\\n",
      "    python run_alphafold.py \\\n",
      "    --input_dir=/root/af_input/sdf/folder_1 \\\n",
      "    --output_dir=/root/af_output \\\n",
      "    --model_dir=/root/models \\\n",
      "    --jax_compilation_cache_dir=/root/cache \\\n",
      "    --norun_data_pipeline\n",
      "docker run --rm \\\n",
      "    --volume \"$HOME/af_input:/root/af_input\" \\\n",
      "    --volume \"$HOME/af_output/sdf:/root/af_output\" \\\n",
      "    --volume \"$HOME/af_model:/root/models\" \\\n",
      "    --volume \"$HOME/af_database:/root/public_databases\" \\\n",
      "    --volume \"$HOME/af_cache:/root/cache\" \\\n",
      "    --gpus \"device=2\" \\\n",
      "    sky1ove/alphafold3 \\\n",
      "    python run_alphafold.py \\\n",
      "    --input_dir=/root/af_input/sdf/folder_2 \\\n",
      "    --output_dir=/root/af_output \\\n",
      "    --model_dir=/root/models \\\n",
      "    --jax_compilation_cache_dir=/root/cache \\\n",
      "    --norun_data_pipeline\n",
      "docker run --rm \\\n",
      "    --volume \"$HOME/af_input:/root/af_input\" \\\n",
      "    --volume \"$HOME/af_output/sdf:/root/af_output\" \\\n",
      "    --volume \"$HOME/af_model:/root/models\" \\\n",
      "    --volume \"$HOME/af_database:/root/public_databases\" \\\n",
      "    --volume \"$HOME/af_cache:/root/cache\" \\\n",
      "    --gpus \"device=3\" \\\n",
      "    sky1ove/alphafold3 \\\n",
      "    python run_alphafold.py \\\n",
      "    --input_dir=/root/af_input/sdf/folder_3 \\\n",
      "    --output_dir=/root/af_output \\\n",
      "    --model_dir=/root/models \\\n",
      "    --jax_compilation_cache_dir=/root/cache \\\n",
      "    --norun_data_pipeline\n"
     ]
    }
   ],
   "source": [
    "for i in range(4):\n",
    "    docker_multi_infer(input_dir=f\"af_input/{project_name}/folder_{i}\",\n",
    "                               output_dir=f\"af_output/{project_name}\",\n",
    "                               gpus=i)\n",
    "# norun_data_pipeline means skip template search as we already did in the first step"
   ]
  },
  {
   "cell_type": "code",
   "execution_count": null,
   "id": "8ae37bf9-cc1d-4736-90af-097f212451cd",
   "metadata": {},
   "outputs": [],
   "source": []
  }
 ],
 "metadata": {
  "kernelspec": {
   "display_name": "python3",
   "language": "python",
   "name": "python3"
  }
 },
 "nbformat": 4,
 "nbformat_minor": 5
}
