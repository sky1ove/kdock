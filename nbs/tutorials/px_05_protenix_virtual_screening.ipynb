{
 "cells": [
  {
   "cell_type": "raw",
   "id": "a490493f-6861-4b33-87ce-1b9e294aeaf5",
   "metadata": {},
   "source": [
    "---\n",
    "skip_showdoc: true\n",
    "skip_exec: true\n",
    "---"
   ]
  },
  {
   "cell_type": "markdown",
   "id": "0aea29f3-f425-49a8-8555-6e0cdafc22dc",
   "metadata": {},
   "source": [
    "# Protenix: virtual screening"
   ]
  },
  {
   "cell_type": "markdown",
   "id": "cd084154-586b-47a1-a290-4d4868276cb2",
   "metadata": {},
   "source": [
    "## Install"
   ]
  },
  {
   "cell_type": "markdown",
   "id": "307b6c1c-e799-41ab-acef-1d1799b03237",
   "metadata": {},
   "source": [
    "```bash\n",
    "git clone https://github.com/bytedance/Protenix.git\n",
    "cd Protenix\n",
    "pip install .\n",
    "```"
   ]
  },
  {
   "cell_type": "markdown",
   "id": "6afca4e1-dee9-48a0-afc1-91b94f68176d",
   "metadata": {},
   "source": [
    "## Setup"
   ]
  },
  {
   "cell_type": "code",
   "execution_count": null,
   "id": "283c785c-8c47-41a9-a8aa-a263ad4fe386",
   "metadata": {},
   "outputs": [],
   "source": [
    "from kdock.core import Data\n",
    "from kdock.px import *"
   ]
  },
  {
   "cell_type": "markdown",
   "id": "13d89546-5e31-4aa7-acfc-05e01eb7d207",
   "metadata": {},
   "source": [
    "## Protein sequence"
   ]
  },
  {
   "cell_type": "code",
   "execution_count": null,
   "id": "d7fc61da-7299-43ec-99d0-b56094f480ad",
   "metadata": {},
   "outputs": [
    {
     "data": {
      "text/html": [
       "<div>\n",
       "<style scoped>\n",
       "    .dataframe tbody tr th:only-of-type {\n",
       "        vertical-align: middle;\n",
       "    }\n",
       "\n",
       "    .dataframe tbody tr th {\n",
       "        vertical-align: top;\n",
       "    }\n",
       "\n",
       "    .dataframe thead th {\n",
       "        text-align: right;\n",
       "    }\n",
       "</style>\n",
       "<table border=\"1\" class=\"dataframe\">\n",
       "  <thead>\n",
       "    <tr style=\"text-align: right;\">\n",
       "      <th></th>\n",
       "      <th>ID</th>\n",
       "      <th>WT_sequence</th>\n",
       "      <th>g12d_seq</th>\n",
       "      <th>g12c_seq</th>\n",
       "    </tr>\n",
       "  </thead>\n",
       "  <tbody>\n",
       "    <tr>\n",
       "      <th>0</th>\n",
       "      <td>kras_human</td>\n",
       "      <td>MTEYKLVVVGAGGVGKSALTIQLIQNHFVDEYDPTIEDSYRKQVVI...</td>\n",
       "      <td>MTEYKLVVVGADGVGKSALTIQLIQNHFVDEYDPTIEDSYRKQVVI...</td>\n",
       "      <td>MTEYKLVVVGACGVGKSALTIQLIQNHFVDEYDPTIEDSYRKQVVI...</td>\n",
       "    </tr>\n",
       "    <tr>\n",
       "      <th>1</th>\n",
       "      <td>kras_human_isoform2b</td>\n",
       "      <td>MTEYKLVVVGAGGVGKSALTIQLIQNHFVDEYDPTIEDSYRKQVVI...</td>\n",
       "      <td>MTEYKLVVVGADGVGKSALTIQLIQNHFVDEYDPTIEDSYRKQVVI...</td>\n",
       "      <td>MTEYKLVVVGACGVGKSALTIQLIQNHFVDEYDPTIEDSYRKQVVI...</td>\n",
       "    </tr>\n",
       "  </tbody>\n",
       "</table>\n",
       "</div>"
      ],
      "text/plain": [
       "                     ID                                        WT_sequence  \\\n",
       "0            kras_human  MTEYKLVVVGAGGVGKSALTIQLIQNHFVDEYDPTIEDSYRKQVVI...   \n",
       "1  kras_human_isoform2b  MTEYKLVVVGAGGVGKSALTIQLIQNHFVDEYDPTIEDSYRKQVVI...   \n",
       "\n",
       "                                            g12d_seq  \\\n",
       "0  MTEYKLVVVGADGVGKSALTIQLIQNHFVDEYDPTIEDSYRKQVVI...   \n",
       "1  MTEYKLVVVGADGVGKSALTIQLIQNHFVDEYDPTIEDSYRKQVVI...   \n",
       "\n",
       "                                            g12c_seq  \n",
       "0  MTEYKLVVVGACGVGKSALTIQLIQNHFVDEYDPTIEDSYRKQVVI...  \n",
       "1  MTEYKLVVVGACGVGKSALTIQLIQNHFVDEYDPTIEDSYRKQVVI...  "
      ]
     },
     "execution_count": null,
     "metadata": {},
     "output_type": "execute_result"
    }
   ],
   "source": [
    "kras = Data.get_kras_seq()\n",
    "kras"
   ]
  },
  {
   "cell_type": "code",
   "execution_count": null,
   "id": "1a9bfaf2-1efc-46a3-a61c-2976192fe9de",
   "metadata": {},
   "outputs": [],
   "source": [
    "g12d = kras.iloc[0]['g12d_seq']"
   ]
  },
  {
   "cell_type": "code",
   "execution_count": null,
   "id": "62ffc28b-e20e-4e34-8cc5-4a13586f1a78",
   "metadata": {},
   "outputs": [
    {
     "data": {
      "text/plain": [
       "'MTEYKLVVVGADGVGKSALTIQLIQNHFVDEYDPTIEDSYRKQVVIDGETCLLDILDTAGQEEYSAMRDQYMRTGEGFLCVFAINNTKSFEDIHHYREQIKRVKDSEDVPMVLVGNKCDLPSRTVDTKQAQDLARSYGIPFIETSAKTRQRVEDAFYTLVREIRQYRLKKISKEEKTPGCVKIKKCIIM'"
      ]
     },
     "execution_count": null,
     "metadata": {},
     "output_type": "execute_result"
    }
   ],
   "source": [
    "g12d"
   ]
  },
  {
   "cell_type": "markdown",
   "id": "33243211-fadf-4fe8-b54e-67de487226d3",
   "metadata": {},
   "source": [
    "## Get MSA on server"
   ]
  },
  {
   "cell_type": "markdown",
   "id": "05e7fa35-7890-4c00-85a1-1a1ec3343a37",
   "metadata": {},
   "source": [
    "Submitted on protenix-server to get msa/pairing & unpairing a3m files.\n",
    "\n",
    "Upload and make a folder that contains the two files, use it as `msa_dir`"
   ]
  },
  {
   "cell_type": "markdown",
   "id": "ebb36494-33ab-4aa9-bd9b-0d8486cfc344",
   "metadata": {},
   "source": [
    "## SMILES"
   ]
  },
  {
   "cell_type": "code",
   "execution_count": null,
   "id": "b4d5dca4-334d-4c1b-9ab3-84213acbc782",
   "metadata": {},
   "outputs": [],
   "source": [
    "df = Data.get_mirati_g12d()"
   ]
  },
  {
   "cell_type": "code",
   "execution_count": null,
   "id": "ebe0f9e5-ec40-4421-b7dc-bf3399a64eed",
   "metadata": {},
   "outputs": [
    {
     "data": {
      "text/plain": [
       "0"
      ]
     },
     "execution_count": null,
     "metadata": {},
     "output_type": "execute_result"
    }
   ],
   "source": [
    "df.ID.duplicated(keep=False).sum()"
   ]
  },
  {
   "cell_type": "code",
   "execution_count": null,
   "id": "5a12422a-5576-41a5-8c11-39537351b221",
   "metadata": {},
   "outputs": [
    {
     "data": {
      "text/html": [
       "<div>\n",
       "<style scoped>\n",
       "    .dataframe tbody tr th:only-of-type {\n",
       "        vertical-align: middle;\n",
       "    }\n",
       "\n",
       "    .dataframe tbody tr th {\n",
       "        vertical-align: top;\n",
       "    }\n",
       "\n",
       "    .dataframe thead th {\n",
       "        text-align: right;\n",
       "    }\n",
       "</style>\n",
       "<table border=\"1\" class=\"dataframe\">\n",
       "  <thead>\n",
       "    <tr style=\"text-align: right;\">\n",
       "      <th></th>\n",
       "      <th>ID</th>\n",
       "      <th>SMILES</th>\n",
       "      <th>Kd</th>\n",
       "      <th>IC50</th>\n",
       "      <th>erk_IC50</th>\n",
       "    </tr>\n",
       "  </thead>\n",
       "  <tbody>\n",
       "    <tr>\n",
       "      <th>0</th>\n",
       "      <td>US_1</td>\n",
       "      <td>CN1CCC[C@H]1COc1nc(N2CC3CCC(C2)N3)c2cnc(cc2n1)...</td>\n",
       "      <td>97.7</td>\n",
       "      <td>124.7</td>\n",
       "      <td>3159.1</td>\n",
       "    </tr>\n",
       "    <tr>\n",
       "      <th>1</th>\n",
       "      <td>US_4</td>\n",
       "      <td>Oc1cc(-c2ncc3c(nc(OCCc4ccccn4)nc3c2F)N2CC3CCC(...</td>\n",
       "      <td>155.7</td>\n",
       "      <td>496.2</td>\n",
       "      <td>8530.0</td>\n",
       "    </tr>\n",
       "    <tr>\n",
       "      <th>2</th>\n",
       "      <td>US_5</td>\n",
       "      <td>Cn1nccc1COc1nc(N2CC3CCC(C2)N3)c2cnc(c(F)c2n1)-...</td>\n",
       "      <td>294.8</td>\n",
       "      <td>722.9</td>\n",
       "      <td>8193.8</td>\n",
       "    </tr>\n",
       "    <tr>\n",
       "      <th>3</th>\n",
       "      <td>US_6</td>\n",
       "      <td>Cc1cccnc1CCOc1nc(N2CC3CCC(C2)N3)c2cnc(c(F)c2n1...</td>\n",
       "      <td>442.2</td>\n",
       "      <td>434.1</td>\n",
       "      <td>11518.2</td>\n",
       "    </tr>\n",
       "    <tr>\n",
       "      <th>4</th>\n",
       "      <td>US_7</td>\n",
       "      <td>Oc1cc(-c2ncc3c(nc(OCCc4ncccn4)nc3c2F)N2CC3CCC(...</td>\n",
       "      <td>463.5</td>\n",
       "      <td>1867.3</td>\n",
       "      <td>NaN</td>\n",
       "    </tr>\n",
       "  </tbody>\n",
       "</table>\n",
       "</div>"
      ],
      "text/plain": [
       "     ID                                             SMILES     Kd    IC50  \\\n",
       "0  US_1  CN1CCC[C@H]1COc1nc(N2CC3CCC(C2)N3)c2cnc(cc2n1)...   97.7   124.7   \n",
       "1  US_4  Oc1cc(-c2ncc3c(nc(OCCc4ccccn4)nc3c2F)N2CC3CCC(...  155.7   496.2   \n",
       "2  US_5  Cn1nccc1COc1nc(N2CC3CCC(C2)N3)c2cnc(c(F)c2n1)-...  294.8   722.9   \n",
       "3  US_6  Cc1cccnc1CCOc1nc(N2CC3CCC(C2)N3)c2cnc(c(F)c2n1...  442.2   434.1   \n",
       "4  US_7  Oc1cc(-c2ncc3c(nc(OCCc4ncccn4)nc3c2F)N2CC3CCC(...  463.5  1867.3   \n",
       "\n",
       "   erk_IC50  \n",
       "0    3159.1  \n",
       "1    8530.0  \n",
       "2    8193.8  \n",
       "3   11518.2  \n",
       "4       NaN  "
      ]
     },
     "execution_count": null,
     "metadata": {},
     "output_type": "execute_result"
    }
   ],
   "source": [
    "df.head()"
   ]
  },
  {
   "cell_type": "markdown",
   "id": "74fec532-6b42-4023-8842-89a0dee7c4da",
   "metadata": {},
   "source": [
    "## Test a positive control\n",
    "> MRTX"
   ]
  },
  {
   "cell_type": "code",
   "execution_count": null,
   "id": "f8479bb1-cc35-4fc8-9780-07dda483595a",
   "metadata": {},
   "outputs": [
    {
     "data": {
      "text/plain": [
       "\u001b[0;31mSignature:\u001b[0m\n",
       "\u001b[0mget_single_protein_ligand_json\u001b[0m\u001b[0;34m(\u001b[0m\u001b[0;34m\u001b[0m\n",
       "\u001b[0;34m\u001b[0m    \u001b[0mjob_name\u001b[0m\u001b[0;34m,\u001b[0m\u001b[0;34m\u001b[0m\n",
       "\u001b[0;34m\u001b[0m    \u001b[0mprotein_seq\u001b[0m\u001b[0;34m,\u001b[0m\u001b[0;34m\u001b[0m\n",
       "\u001b[0;34m\u001b[0m    \u001b[0mmsa_dir\u001b[0m\u001b[0;34m,\u001b[0m\u001b[0;34m\u001b[0m\n",
       "\u001b[0;34m\u001b[0m    \u001b[0mSMILES\u001b[0m\u001b[0;34m=\u001b[0m\u001b[0;32mNone\u001b[0m\u001b[0;34m,\u001b[0m\u001b[0;34m\u001b[0m\n",
       "\u001b[0;34m\u001b[0m    \u001b[0mCCD\u001b[0m\u001b[0;34m=\u001b[0m\u001b[0;32mNone\u001b[0m\u001b[0;34m,\u001b[0m\u001b[0;34m\u001b[0m\n",
       "\u001b[0;34m\u001b[0m    \u001b[0mjson_path\u001b[0m\u001b[0;34m=\u001b[0m\u001b[0;32mNone\u001b[0m\u001b[0;34m,\u001b[0m\u001b[0;34m\u001b[0m\n",
       "\u001b[0;34m\u001b[0m\u001b[0;34m)\u001b[0m\u001b[0;34m\u001b[0m\u001b[0;34m\u001b[0m\u001b[0m\n",
       "\u001b[0;31mDocstring:\u001b[0m Generate and optionally save a JSON config for one protein-ligand job.\n",
       "\u001b[0;31mFile:\u001b[0m      /tmp/ipykernel_1724/1197518213.py\n",
       "\u001b[0;31mType:\u001b[0m      function"
      ]
     },
     "metadata": {},
     "output_type": "display_data"
    }
   ],
   "source": [
    "get_single_protein_ligand_json?"
   ]
  },
  {
   "cell_type": "code",
   "execution_count": null,
   "id": "b9f1dbd7-6b4c-4aa1-b68f-ceb19de636d7",
   "metadata": {},
   "outputs": [
    {
     "name": "stdout",
     "output_type": "stream",
     "text": [
      "JSON saved to g12d_mrtx.json\n"
     ]
    }
   ],
   "source": [
    "_ = get_single_protein_ligand_json('kras_g12d_mrtx',\n",
    "                                 g12d,\n",
    "                                 msa_dir='kras_g12d_msa',\n",
    "                                 SMILES=\"C#CC1=C(C=CC2=CC(=CC(=C21)C3=NC=C4C(=C3F)N=C(N=C4N5CC6CCC(C5)N6)OC[C@@]78CCCN7C[C@@H](C8)F)O)F\",\n",
    "                                 json_path='g12d_mrtx.json'\n",
    "                                )"
   ]
  },
  {
   "cell_type": "markdown",
   "id": "d521cf0f-067b-4a96-9cb9-c4219f44b33a",
   "metadata": {},
   "source": [
    "## Protenix command"
   ]
  },
  {
   "cell_type": "markdown",
   "id": "1f0f537f-6af0-4b9f-ae7d-c69a25794b84",
   "metadata": {},
   "source": [
    "```bash\n",
    "protenix predict --input g12d_mrtx.json --out_dir  ./output --seeds 101\n",
    "```"
   ]
  },
  {
   "cell_type": "markdown",
   "id": "1b328fe8-4613-4e72-a22f-c08a79a7dd38",
   "metadata": {},
   "source": [
    "## Run with other SMILES"
   ]
  },
  {
   "cell_type": "code",
   "execution_count": null,
   "id": "a8242136-d8a6-4a02-9783-56c648bd6b26",
   "metadata": {},
   "outputs": [
    {
     "data": {
      "text/plain": [
       "\u001b[0;31mSignature:\u001b[0m\n",
       "\u001b[0mget_virtual_screening_json\u001b[0m\u001b[0;34m(\u001b[0m\u001b[0;34m\u001b[0m\n",
       "\u001b[0;34m\u001b[0m    \u001b[0mdf\u001b[0m\u001b[0;34m,\u001b[0m\u001b[0;34m\u001b[0m\n",
       "\u001b[0;34m\u001b[0m    \u001b[0mprotein_seq\u001b[0m\u001b[0;34m,\u001b[0m\u001b[0;34m\u001b[0m\n",
       "\u001b[0;34m\u001b[0m    \u001b[0mmsa_dir\u001b[0m\u001b[0;34m,\u001b[0m\u001b[0;34m\u001b[0m\n",
       "\u001b[0;34m\u001b[0m    \u001b[0mid_col\u001b[0m\u001b[0;34m,\u001b[0m\u001b[0;34m\u001b[0m\n",
       "\u001b[0;34m\u001b[0m    \u001b[0msmi_col\u001b[0m\u001b[0;34m=\u001b[0m\u001b[0;32mNone\u001b[0m\u001b[0;34m,\u001b[0m\u001b[0;34m\u001b[0m\n",
       "\u001b[0;34m\u001b[0m    \u001b[0mccd_col\u001b[0m\u001b[0;34m=\u001b[0m\u001b[0;32mNone\u001b[0m\u001b[0;34m,\u001b[0m\u001b[0;34m\u001b[0m\n",
       "\u001b[0;34m\u001b[0m    \u001b[0msave_json\u001b[0m\u001b[0;34m=\u001b[0m\u001b[0;32mNone\u001b[0m\u001b[0;34m,\u001b[0m\u001b[0;34m\u001b[0m\n",
       "\u001b[0;34m\u001b[0m\u001b[0;34m)\u001b[0m\u001b[0;34m\u001b[0m\u001b[0;34m\u001b[0m\u001b[0m\n",
       "\u001b[0;31mDocstring:\u001b[0m Get json file of single protein against multiple SMILES in a dataframe.\n",
       "\u001b[0;31mFile:\u001b[0m      /tmp/ipykernel_1724/3782683879.py\n",
       "\u001b[0;31mType:\u001b[0m      function"
      ]
     },
     "metadata": {},
     "output_type": "display_data"
    }
   ],
   "source": [
    "get_virtual_screening_json?"
   ]
  },
  {
   "cell_type": "code",
   "execution_count": null,
   "id": "12e24d84-fa0e-49af-aca1-c4a4e7d2f173",
   "metadata": {},
   "outputs": [
    {
     "name": "stdout",
     "output_type": "stream",
     "text": [
      "JSON saved to kras_g12d_input.json\n"
     ]
    }
   ],
   "source": [
    "_ = get_virtual_screening_json(df,\n",
    "                               g12d,\n",
    "                               'kras_g12d_msa',\n",
    "                               id_col='ID',\n",
    "                               smi_col='SMILES',\n",
    "                               save_json='kras_g12d_input.json')"
   ]
  },
  {
   "cell_type": "markdown",
   "id": "a8bf5b25-43b5-43ea-a743-6146e45e44a3",
   "metadata": {},
   "source": [
    "```bash\n",
    "protenix predict --input kras_g12d_input.json --out_dir  ./output --seeds 101\n",
    "```"
   ]
  },
  {
   "cell_type": "code",
   "execution_count": null,
   "id": "1873ac70-1415-4fdf-9809-b86e6fd5563d",
   "metadata": {},
   "outputs": [],
   "source": []
  }
 ],
 "metadata": {
  "kernelspec": {
   "display_name": "Python 3",
   "language": "python",
   "name": "python3"
  },
  "language_info": {
   "codemirror_mode": {
    "name": "ipython",
    "version": 3
   },
   "file_extension": ".py",
   "mimetype": "text/x-python",
   "name": "python",
   "nbconvert_exporter": "python",
   "pygments_lexer": "ipython3",
   "version": "3.11.12"
  }
 },
 "nbformat": 4,
 "nbformat_minor": 5
}
