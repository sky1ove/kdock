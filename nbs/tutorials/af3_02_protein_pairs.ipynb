{
 "cells": [
  {
   "cell_type": "raw",
   "id": "12f70a5d-3433-4c20-82cd-5dc56e06085d",
   "metadata": {},
   "source": [
    "---\n",
    "skip_showdoc: true\n",
    "skip_exec: true\n",
    "---"
   ]
  },
  {
   "cell_type": "markdown",
   "id": "1a3de40e-33f9-4291-ba26-583d0914b44f",
   "metadata": {},
   "source": [
    "# Protein pairs"
   ]
  },
  {
   "cell_type": "markdown",
   "id": "954fba8b-8459-4847-b64d-25015d63e90f",
   "metadata": {},
   "source": [
    "## Setup"
   ]
  },
  {
   "cell_type": "code",
   "execution_count": null,
   "id": "db025e97-f6b1-42b2-b483-c37d62905945",
   "metadata": {},
   "outputs": [],
   "source": [
    "from af_kit.core import *\n",
    "from af_kit.protein_pairs import *\n",
    "import pandas as pd\n",
    "from tqdm import tqdm"
   ]
  },
  {
   "cell_type": "markdown",
   "id": "3de74602-f53a-4a7f-ad28-af983e2040d9",
   "metadata": {},
   "source": [
    "```bash\n",
    "pip install \"colabfold[alphafold] @ git+https://github.com/sokrypton/ColabFold\""
   ]
  },
  {
   "cell_type": "markdown",
   "id": "d01eafca-5142-44ec-833b-48f3bfe77610",
   "metadata": {},
   "source": [
    "## MSA"
   ]
  },
  {
   "cell_type": "markdown",
   "id": "2bc37321-50ca-44f0-b424-e5d55538a5ad",
   "metadata": {},
   "source": [
    "MSA can be run in cpu only server"
   ]
  },
  {
   "cell_type": "markdown",
   "id": "80810e8e-ea03-48b1-9285-d84903cbdebf",
   "metadata": {},
   "source": [
    "Prepare a csv that have first column `id` and second column `sequence` of amino acid sequence"
   ]
  },
  {
   "cell_type": "code",
   "execution_count": null,
   "id": "0bea2a4a-965d-4107-ad6a-21b5c12a0ad8",
   "metadata": {},
   "outputs": [],
   "source": [
    "project_name='sdf'"
   ]
  },
  {
   "cell_type": "code",
   "execution_count": null,
   "id": "304c0741-05f7-44ed-b68f-7df382c493d3",
   "metadata": {},
   "outputs": [
    {
     "name": "stdout",
     "output_type": "stream",
     "text": [
      "Run below in terminal:\n",
      "\n",
      " colabfold_batch a.csv msa_sdf --msa-only\n"
     ]
    }
   ],
   "source": [
    "get_colabfold_cmd('a.csv',project_name)"
   ]
  },
  {
   "cell_type": "markdown",
   "id": "0d104a50-4aa0-46f1-add3-2c9acdc33977",
   "metadata": {},
   "source": [
    "After finish, copy a3m files to a gpu available place"
   ]
  },
  {
   "cell_type": "code",
   "execution_count": null,
   "id": "844ed46e-4ed9-4947-a747-6a046f36459c",
   "metadata": {},
   "outputs": [],
   "source": [
    "copy_a3m(a3m_dir=f'/teamspace/studios/alphfold3/msa_{project_name}',\n",
    "         dest_dir=f'af_input/{project_name}/msa')"
   ]
  },
  {
   "cell_type": "markdown",
   "id": "28146d20-89b5-42e3-aa9c-f762e5f75d63",
   "metadata": {},
   "source": [
    "## JSON file"
   ]
  },
  {
   "cell_type": "markdown",
   "id": "310a6c6e-7905-4f02-b8e5-ab9fa8b033da",
   "metadata": {},
   "source": [
    "Read the file that contained id and sequence"
   ]
  },
  {
   "cell_type": "code",
   "execution_count": null,
   "id": "9b7a6351-ccf0-4157-a3f8-774784a1dc76",
   "metadata": {},
   "outputs": [],
   "source": [
    "df = pd.read_csv('file.csv')"
   ]
  },
  {
   "cell_type": "code",
   "execution_count": null,
   "id": "06bc3e4a-cd0b-4cd6-9772-ebfc50fa3bb9",
   "metadata": {},
   "outputs": [],
   "source": [
    "protein_list = df['gene_id'].tolist()"
   ]
  },
  {
   "cell_type": "code",
   "execution_count": null,
   "id": "c37ab062-91c7-4dc5-8038-58e14e0ba7b6",
   "metadata": {},
   "outputs": [],
   "source": [
    "df = generate_pair_df(protein_list)"
   ]
  },
  {
   "cell_type": "code",
   "execution_count": null,
   "id": "34558232-c4b6-4ffa-b8b1-1fe178b62c34",
   "metadata": {},
   "outputs": [],
   "source": [
    "for idx, row in tqdm(df.iterrows(),total=len(df)):\n",
    "    json_data = get_multi_protein_json([row['Gene1'], row['Gene2']], \n",
    "                             a3m_dir=f'af_input/{project_name}/a3m', \n",
    "                             save_folder=f'af_input/{project_name}') "
   ]
  },
  {
   "cell_type": "markdown",
   "id": "b872d425-a468-4bf8-989c-6d60b56192f5",
   "metadata": {},
   "source": [
    "This will generate a number of json files in the save_folder. \n",
    "\n",
    "We need to distribute them to nfolders for parallel running when multiple gpus are available."
   ]
  },
  {
   "cell_type": "code",
   "execution_count": null,
   "id": "ba537e36-6998-4dcc-9a42-f3cbd7a75c78",
   "metadata": {},
   "outputs": [],
   "source": [
    "split_nfolder(f'af_input/{project_name}',n=4) # default n is 4"
   ]
  },
  {
   "cell_type": "markdown",
   "id": "67202bd0-df64-4e84-8ae5-67b588f36067",
   "metadata": {},
   "source": [
    "## Docker Command"
   ]
  },
  {
   "cell_type": "markdown",
   "id": "1795551f-c5b4-40fe-bcb2-284d212ba818",
   "metadata": {},
   "source": [
    "```bash\n",
    "docker pull sky1ove/alphafold3\n",
    "```"
   ]
  },
  {
   "cell_type": "code",
   "execution_count": null,
   "id": "3e81c4e9-f2b9-4250-b875-ebd3774b565f",
   "metadata": {},
   "outputs": [],
   "source": [
    "for i in range(4):\n",
    "    docker_multi_full(input_dir=f\"af_input/{project_name}/folder_{i}\",\n",
    "                       output_dir=f\"af_output/{project_name}\",\n",
    "                       gpus=i)"
   ]
  },
  {
   "cell_type": "markdown",
   "id": "39326a0c-db33-490d-be70-b260cfb48bf3",
   "metadata": {},
   "source": [
    "Run the printed command in your terminal"
   ]
  },
  {
   "cell_type": "markdown",
   "id": "d68baa03-e4ec-40f0-800b-8238db028149",
   "metadata": {},
   "source": [
    "## Report for protein pairs"
   ]
  },
  {
   "cell_type": "code",
   "execution_count": null,
   "id": "3a18f83e-6be4-4a74-bfa5-7d3ecba2a3c9",
   "metadata": {},
   "outputs": [],
   "source": [
    "df_sum, top_genes = get_report(f\"af_output/{project_name}\",\n",
    "                               save_dir=f'af_report/{project_name}')\n",
    "\n",
    "df_sum.sort_values('iptm_ptm_rnk_add').head(10)"
   ]
  },
  {
   "cell_type": "markdown",
   "id": "c6b87faa-f279-4d83-93b2-28ece87a39b0",
   "metadata": {},
   "source": [
    "A 3d plot will be generated with x='iptm',y='ptm',z='chain_pair_pae_min_add'"
   ]
  },
  {
   "cell_type": "markdown",
   "id": "2e9d21b2-112e-45bf-8025-7a1c56c0ef8f",
   "metadata": {},
   "source": [
    "Top genes are:\n",
    "- Smallest 30 from 'iptm_ptm_rnk_add', \n",
    "        'chain_pair_pae_min_add', \n",
    "        'chain_pair_pae_min_0_1', \n",
    "        'chain_pair_pae_min_1_0', \n",
    "        'iptm_pae_add_rnk'\n",
    "- Largest 30 from 'ranking_score', 'iptm', 'iptm_ptm_add'"
   ]
  },
  {
   "cell_type": "markdown",
   "id": "5de9c2a6-88c6-4717-ab92-356f49bd3666",
   "metadata": {},
   "source": [
    "df_sum contains the score for each metric"
   ]
  },
  {
   "cell_type": "markdown",
   "id": "0307b292-6bd6-4258-be2d-8ccd4885cfc2",
   "metadata": {},
   "source": [
    "## Copy top protein structures to a local folder"
   ]
  },
  {
   "cell_type": "code",
   "execution_count": null,
   "id": "fb62b9fb-30f6-4025-9850-fbb00e440c7a",
   "metadata": {},
   "outputs": [],
   "source": [
    "from fastcore.utils import L\n",
    "copy_file('proA_proB',source_dir='af_output/proA',dest_dir='af_top')\n",
    "\n",
    "# Or \n",
    "L(top_genes).map(copy_file,source_dir='af_output/proA',dest_dir='af_top')"
   ]
  },
  {
   "cell_type": "markdown",
   "id": "3c1b7b69-683a-45a5-b506-77e3754ac359",
   "metadata": {},
   "source": [
    "## Embeddings"
   ]
  },
  {
   "cell_type": "markdown",
   "id": "a64b1696-104f-4e09-b2f2-15a0aa71083b",
   "metadata": {},
   "source": [
    "To do "
   ]
  }
 ],
 "metadata": {
  "kernelspec": {
   "display_name": "python3",
   "language": "python",
   "name": "python3"
  }
 },
 "nbformat": 4,
 "nbformat_minor": 5
}
