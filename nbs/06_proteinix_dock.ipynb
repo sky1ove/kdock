{
 "cells": [
  {
   "cell_type": "markdown",
   "id": "b07075e1-ceb7-45ea-8f44-54bad727caf5",
   "metadata": {},
   "source": [
    "# Protenix-dock"
   ]
  },
  {
   "cell_type": "code",
   "execution_count": null,
   "id": "30b774a6-1474-4a62-b4dc-457f5897091c",
   "metadata": {},
   "outputs": [],
   "source": [
    "#| default_exp pxdock"
   ]
  },
  {
   "cell_type": "markdown",
   "id": "43f45188-7cfc-4bc0-8431-389d2eea7d7f",
   "metadata": {},
   "source": [
    "TODO: \n",
    "get more conformers in sdf file, and test for virtual screening"
   ]
  },
  {
   "cell_type": "markdown",
   "id": "c1a83bb1-cef9-4cd6-a1de-16384fb1de4c",
   "metadata": {},
   "source": [
    "## Install instruction"
   ]
  },
  {
   "cell_type": "markdown",
   "id": "d43fb9de-ef3f-4878-bf32-f9f0e94e87bc",
   "metadata": {},
   "source": [
    "- [tutorial](https://zhuanlan.zhihu.com/p/1896530309580838652), install protenix-dock accordingly\n",
    "- [official github](https://github.com/bytedance/Protenix-Dock)"
   ]
  },
  {
   "cell_type": "markdown",
   "id": "c892fffb-95e5-4917-84e1-e631432d907a",
   "metadata": {},
   "source": [
    "## After install\n",
    ">Test whether the notebook can import it successfully"
   ]
  },
  {
   "cell_type": "markdown",
   "id": "bce541ae-178d-4404-a507-44600c04549d",
   "metadata": {},
   "source": [
    "if vscode:"
   ]
  },
  {
   "cell_type": "markdown",
   "id": "0806ee2b-7be0-455c-924b-0655b0c6cc98",
   "metadata": {},
   "source": [
    "```bash\n",
    "export LD_LIBRARY_PATH=${CONDA_PREFIX}/lib:$LD_LIBRARY_PATH\n",
    "```"
   ]
  },
  {
   "cell_type": "markdown",
   "id": "f6daf532-a8ea-4c0d-b4b8-c36c8238e7a1",
   "metadata": {},
   "source": [
    "If jupyterlab on a cloud, need to set secrete:"
   ]
  },
  {
   "cell_type": "markdown",
   "id": "31ce6525-aaea-41cd-92d9-414e7df8eacd",
   "metadata": {},
   "source": [
    "```python\n",
    "import os\n",
    "conda_lib_path = os.path.join(os.environ[\"CONDA_PREFIX\"], \"lib\")\n",
    "current_path = os.environ.get(\"LD_LIBRARY_PATH\", \"\")\n",
    "print(conda_lib_path,current_path)\n",
    "\n",
    "# if in cloud, set the secrete according to below\n",
    "os.environ['LD_LIBRARY_PATH'] =\"/home/zeus/miniconda3/envs/cloudspace/lib:/opt/jupyter/envs/main/lib\"\n",
    "print(os.environ['LD_LIBRARY_PATH'])\n",
    "\n",
    "```"
   ]
  },
  {
   "cell_type": "markdown",
   "id": "7593b1c1-b714-47f1-83e4-0b00ba08ca93",
   "metadata": {},
   "source": [
    "## Setup"
   ]
  },
  {
   "cell_type": "code",
   "execution_count": null,
   "id": "97f1b541-c8d4-4d9f-bf5b-a081269a0a70",
   "metadata": {},
   "outputs": [
    {
     "name": "stdout",
     "output_type": "stream",
     "text": [
      "pxdock import failed: libboost_python311.so.1.82.0: cannot open shared object file: No such file or directory\n"
     ]
    }
   ],
   "source": [
    "#| export\n",
    "# kdock\n",
    "from kdock.core import *\n",
    "\n",
    "# basics\n",
    "import json,shutil\n",
    "import os,sys,logging,contextlib\n",
    "from datetime import datetime\n",
    "from pathlib import Path\n",
    "\n",
    "# import protenix-dock\n",
    "try:\n",
    "    from pxdock import ProtenixDock\n",
    "    from pxdock.common.rmsd_calculator import write_ligand_to_sdf\n",
    "\n",
    "    # Prevent multiprocessing-related errors in pxdock\n",
    "    import multiprocessing as mp\n",
    "    mp.set_start_method(\"spawn\", force=True)\n",
    "\n",
    "except ImportError as e:\n",
    "    print(f\"pxdock import failed: {e}\")\n",
    "    ProtenixDock = None\n",
    "    write_ligand_to_sdf = None\n"
   ]
  },
  {
   "cell_type": "markdown",
   "id": "03eaef92-9edf-47b5-a2ad-bbffc6a3adaf",
   "metadata": {},
   "source": [
    "## One-time protenix-dock"
   ]
  },
  {
   "cell_type": "code",
   "execution_count": null,
   "id": "59087177-edaa-438b-96f8-d3640ff253c3",
   "metadata": {},
   "outputs": [
    {
     "name": "stdout",
     "output_type": "stream",
     "text": [
      "7OFF.pdb is detected!\n"
     ]
    },
    {
     "data": {
      "text/plain": [
       "('/teamspace/studios/this_studio/kdock/nbs/protenix_test/7OFF_receptor.pdb',\n",
       " '/teamspace/studios/this_studio/kdock/nbs/protenix_test/7OFF_lig.sdf')"
      ]
     },
     "execution_count": null,
     "metadata": {},
     "output_type": "execute_result"
    }
   ],
   "source": [
    "get_rec_lig('7OFF','VCB','protenix_test')"
   ]
  },
  {
   "cell_type": "code",
   "execution_count": null,
   "id": "6ddd2eca-c21d-4346-9c3e-78910c682abb",
   "metadata": {},
   "outputs": [
    {
     "data": {
      "text/plain": [
       "[38.848, -26.77, 10.419, 14.652, 8.942, 12.509]"
      ]
     },
     "execution_count": null,
     "metadata": {},
     "output_type": "execute_result"
    }
   ],
   "source": [
    "box = get_box('protenix_test/7OFF_lig.sdf',tolist=True)\n",
    "box"
   ]
  },
  {
   "cell_type": "code",
   "execution_count": null,
   "id": "b885d4cd-7783-4595-8803-a74fbeb24a38",
   "metadata": {},
   "outputs": [],
   "source": [
    "#| export\n",
    "@contextlib.contextmanager\n",
    "def capture_output(log_path):\n",
    "    with open(log_path, 'a') as log_file:  # Append mode prevents overwriting\n",
    "        # Redirect stdout/stderr\n",
    "        old_stdout_fd = os.dup(1)\n",
    "        old_stderr_fd = os.dup(2)\n",
    "        os.dup2(log_file.fileno(), 1)\n",
    "        os.dup2(log_file.fileno(), 2)\n",
    "\n",
    "        # Setup Python logger\n",
    "        logger = logging.getLogger()\n",
    "        logger.setLevel(logging.INFO)\n",
    "        logger.handlers = [h for h in logger.handlers if not isinstance(h, logging.StreamHandler)]\n",
    "\n",
    "        file_handler = logging.FileHandler(log_path)\n",
    "        formatter = logging.Formatter('%(asctime)s - %(levelname)s - %(message)s')\n",
    "        file_handler.setFormatter(formatter)\n",
    "        logger.addHandler(file_handler)\n",
    "\n",
    "        try:\n",
    "            yield\n",
    "        finally:\n",
    "            os.dup2(old_stdout_fd, 1)\n",
    "            os.dup2(old_stderr_fd, 2)\n",
    "            os.close(old_stdout_fd)\n",
    "            os.close(old_stderr_fd)"
   ]
  },
  {
   "cell_type": "code",
   "execution_count": null,
   "id": "77c25ec1-7edd-4e18-8a64-61bff5071f3a",
   "metadata": {},
   "outputs": [],
   "source": [
    "#| export\n",
    "def get_protenix_dock(receptor_pdb, # pdb path\n",
    "                      ligand_sdf, # sdf path\n",
    "                      box:list, # center xyz + size xyz\n",
    "                      out_dir='.', # output directory\n",
    "                      num_walker=20, # number of Monte Carlo threads, the more walkers the more space to explore\n",
    "                      mc_prune_energy_threshold=500, # maximum allowed energy for a pose; if exceeds, skipped\n",
    "                      include_affinity=True, # include bscore\n",
    "                      **kwargs):\n",
    "    \"Use protenix-dock to dock ligand sdf to receptor pdb using protenix-dock\"\n",
    "    Path(out_dir).mkdir(parents=True,exist_ok=True)\n",
    "    \n",
    "    dock_instance = ProtenixDock(receptor_pdb)\n",
    "    box_center,box_size=box[:3],box[3:]\n",
    "    dock_instance.set_box(box_center, box_size)\n",
    "    \n",
    "    log_path = Path(out_dir)/f'{datetime.now():%Y%m%d_%H%M%S}.log'\n",
    "    with capture_output(log_path):\n",
    "        # cache_dir = dock_instance.generate_cache_maps(spacing=0.175)\n",
    "        result_dir = dock_instance.run_docking(ligand_sdf,out_dir=out_dir,num_walker=num_walker,mc_prune_energy_threshold=mc_prune_energy_threshold,include_affinity=include_affinity,**kwargs)\n",
    "        # dock_instance.drop_cache_maps()\n",
    "    \n",
    "    print(f'Docking complete. Results in: {result_dir}')\n",
    "    print('Cache dir:', cache_dir)"
   ]
  },
  {
   "cell_type": "markdown",
   "id": "3c2c4cfc-0671-4456-b05b-518852904496",
   "metadata": {},
   "source": [
    "The function will output `-prepared-ligand/receptor.json` in the same directory as the receptor & ligand files\n",
    "\n",
    "And output a `out.json` and log in the `out_dir`"
   ]
  },
  {
   "cell_type": "code",
   "execution_count": null,
   "id": "1ad32502-62d3-4e9a-9736-6287d8b0db8e",
   "metadata": {},
   "outputs": [],
   "source": [
    "# %%time\n",
    "# get_protenix_dock('protenix_test/7OFF_receptor.pdb',\n",
    "#                   'protenix_test/7OFF_lig.sdf',\n",
    "#                   box,\n",
    "#                   out_dir='protenix_test/dock_result',\n",
    "#                   num_walker=20\n",
    "#                  )"
   ]
  },
  {
   "cell_type": "markdown",
   "id": "0155b0e9-765f-4472-8387-cbe0ddb59ca0",
   "metadata": {},
   "source": [
    "## Protenix-vina\n",
    "> Vina function in protenix-dock repository"
   ]
  },
  {
   "cell_type": "code",
   "execution_count": null,
   "id": "59033dc5-d02c-4a1c-a4ef-f56ef9364ff8",
   "metadata": {},
   "outputs": [],
   "source": [
    "#| export\n",
    "def get_protenix_vina_dock(receptor_pdb, # pdb path\n",
    "                      ligand_sdf, # sdf path\n",
    "                      box:list, # center xyz + size xyz\n",
    "                      out_dir='.', # output directory\n",
    "                      **kwargs):\n",
    "    \"Dock ligand sdf to receptor pdb using protenix-dock\"\n",
    "    Path(out_dir).mkdir(parents=True,exist_ok=True)\n",
    "    \n",
    "    dock_instance = ProtenixDock(receptor_pdb)\n",
    "    box_center,box_size=box[:3],box[3:]\n",
    "    dock_instance.set_box(box_center, box_size)\n",
    "    \n",
    "    log_path = Path(out_dir)/f'{datetime.now():%Y%m%d_%H%M%S}.log'\n",
    "    with capture_output(log_path):\n",
    "        result_dir = dock_instance.run_pose_opt(ligand_sdf,out_dir=out_dir,**kwargs)\n",
    "\n",
    "    print(f'Docking complete. Results in: {result_dir}')"
   ]
  },
  {
   "cell_type": "code",
   "execution_count": null,
   "id": "5e7b4f4b-fb93-4c50-9d15-2e079549a9c8",
   "metadata": {},
   "outputs": [],
   "source": [
    "# %%time\n",
    "# get_protenix_vina_dock('protenix_test/7OFF_receptor.pdb',\n",
    "#                   'protenix_test/7OFF_lig.sdf',\n",
    "#                   box,\n",
    "#                   out_dir='protenix_test/vina_result',\n",
    "#                  )"
   ]
  },
  {
   "cell_type": "markdown",
   "id": "ea84778f-7b90-49e7-9e4c-6b46abeb09b5",
   "metadata": {},
   "source": [
    "## Output to sdf"
   ]
  },
  {
   "cell_type": "code",
   "execution_count": null,
   "id": "ce3d018b-6762-450f-b2aa-bcdb942445c8",
   "metadata": {},
   "outputs": [],
   "source": [
    "#| export\n",
    "def json2sdf(json_path,\n",
    "             sdf_path=None, # .sdf to be saved\n",
    "             ):\n",
    "    with open(json_path, \"r\") as f:\n",
    "        json_out_data = json.load(f)\n",
    "\n",
    "    best_pose = json_out_data[\"best_pose\"]\n",
    "    best_id = best_pose[\"index\"]\n",
    "    bscore = best_pose[\"bscore\"]\n",
    "    best_lig = json_out_data[\"poses\"][best_id]\n",
    "    xyz=best_lig[\"ligand\"][\"xyz\"]\n",
    "    if sdf_path is not None:\n",
    "        write_ligand_to_sdf(json_out_data[\"mapped_smiles\"], [xyz], sdf_path)\n",
    "    return {'energy':best_lig[\"energy\"],'pscore':best_lig[\"pscore\"],'bscore':bscore}"
   ]
  },
  {
   "cell_type": "code",
   "execution_count": null,
   "id": "31670cb0-aaaa-4420-893e-332d2805f805",
   "metadata": {},
   "outputs": [
    {
     "data": {
      "text/plain": [
       "[PosixPath('protenix_test/dock_result/7OFF_lig-prepared-ligand-0_out.json')]"
      ]
     },
     "execution_count": null,
     "metadata": {},
     "output_type": "execute_result"
    }
   ],
   "source": [
    "list(Path('protenix_test/dock_result').glob('*_out.json'))"
   ]
  },
  {
   "cell_type": "code",
   "execution_count": null,
   "id": "0d7ee076-e8c6-4add-9645-7a5998908b71",
   "metadata": {},
   "outputs": [],
   "source": [
    "# json2sdf('protenix_test/dock_result/7OFF_lig-prepared-ligand-0_out.json',\n",
    "#          sdf_path='protenix_test/predicted.sdf')"
   ]
  },
  {
   "cell_type": "markdown",
   "id": "e1824ef5-5407-45bd-a7f9-6133b86c519c",
   "metadata": {},
   "source": [
    "## End"
   ]
  },
  {
   "cell_type": "code",
   "execution_count": null,
   "id": "99055f7e-74b9-405c-aea6-11a736cf8312",
   "metadata": {},
   "outputs": [],
   "source": [
    "#| hide\n",
    "import nbdev; nbdev.nbdev_export()"
   ]
  },
  {
   "cell_type": "code",
   "execution_count": null,
   "id": "36263b77-b2e9-4a6c-9b49-cb781d1721de",
   "metadata": {},
   "outputs": [],
   "source": []
  }
 ],
 "metadata": {
  "kernelspec": {
   "display_name": "python3",
   "language": "python",
   "name": "python3"
  }
 },
 "nbformat": 4,
 "nbformat_minor": 5
}
